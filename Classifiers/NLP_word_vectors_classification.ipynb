{
  "nbformat": 4,
  "nbformat_minor": 0,
  "metadata": {
    "kernelspec": {
      "display_name": "Python 3",
      "language": "python",
      "name": "python3"
    },
    "language_info": {
      "codemirror_mode": {
        "name": "ipython",
        "version": 3
      },
      "file_extension": ".py",
      "mimetype": "text/x-python",
      "name": "python",
      "nbconvert_exporter": "python",
      "pygments_lexer": "ipython3",
      "version": "3.5.2"
    },
    "colab": {
      "provenance": []
    },
    "accelerator": "GPU"
  },
  "cells": [
    {
      "cell_type": "markdown",
      "metadata": {
        "deletable": true,
        "editable": true,
        "id": "ExbNueiSrQvr"
      },
      "source": [
        "## Text classification using Neural Networks\n",
        "\n",
        "The goal of this notebook is to learn to Machine Learning for text classification.\n",
        "\n",
        "However keep in mind:\n",
        "- Deep Learning can be better on text classification that simpler ML techniques, but only on very large datasets and well designed/tuned models.\n",
        "- We won't be using the most efficient (in terms of computing) techniques, as Keras is good for prototyping but rather inefficient for training small embedding models on text.\n",
        "- The following projects can replicate similar word embedding models much more efficiently: [word2vec](https://github.com/dav/word2vec) and [gensim's word2vec](https://radimrehurek.com/gensim/models/word2vec.html)   (self-supervised learning only), [fastText](https://github.com/facebookresearch/fastText) (both supervised and self-supervised learning), [Vowpal Wabbit](https://github.com/JohnLangford/vowpal_wabbit/wiki) (supervised learning).\n",
        "- Plain shallow sparse TF-IDF bigrams features without any embedding and Logistic Regression or Multinomial Naive Bayes is often competitive in small to medium datasets.\n",
        "\n",
        "\n",
        "### Sentipolc 2016\n",
        "\n",
        "It is the intention of the organizers to promote the construction of a shared dataset for both Sentipolc and the Named Entity rEcognition and Linking in Italian Tweets (NEEL-IT) Evalita 2016 task. Indeed, interest in entity-liking in Twitter is gaining increasing attention, as well as aspect-based sentiment analysis. In a world where e-commerce is part of our everyday life and social media platforms are regarded as new channels for marketing and for fostering trust of potential customers, such great interest in opinion mining from Twitter isn’t surprising. In this scenario, it is crucial to be able to mine opinions about specific aspects of objects and named entities. Therefore, we believe that besides the traditional task on message-level polarity classification, in the future editions of Evalita special focus should be given to entity-based sentiment analysis.\n",
        "The use of common data for the Sentipolc and NEEL-IT is a first step towards the long-term goal of enabling participants to develop end-to-end system from entity linking to entity-based sentiment analysis. http://www.di.unito.it/~tutreeb/sentipolc-evalita16/data.html"
      ]
    },
    {
      "cell_type": "code",
      "metadata": {
        "deletable": true,
        "editable": true,
        "id": "uksPu2sRrQvt"
      },
      "source": [
        "import numpy as np\n",
        "import pandas as pd\n",
        "\n",
        "train= pd.read_csv('sentipolc16_train.csv')\n",
        "test = pd.read_csv('sentipolc16_test.csv')"
      ],
      "execution_count": 1,
      "outputs": []
    },
    {
      "cell_type": "code",
      "metadata": {
        "deletable": true,
        "editable": true,
        "id": "Ukd0b5mrrQv0",
        "colab": {
          "base_uri": "https://localhost:8080/"
        },
        "outputId": "a5d7376c-1a48-4579-f2f7-33a3e5509395"
      },
      "source": [
        "sample_idx = 1000\n",
        "print(train[\"text\"][sample_idx])"
      ],
      "execution_count": 2,
      "outputs": [
        {
          "output_type": "stream",
          "name": "stdout",
          "text": [
            "L'abuso della parola super per i ministri del governo #Monti è il segno di quanto in Italia si fosse(sia) persa la concezione del normale \n"
          ]
        }
      ]
    },
    {
      "cell_type": "code",
      "metadata": {
        "deletable": true,
        "editable": true,
        "id": "J2qz0burrQv7",
        "colab": {
          "base_uri": "https://localhost:8080/"
        },
        "outputId": "8fed42cc-7d48-4106-df6f-0bb2c769f6f0"
      },
      "source": [
        "target_classes = train[\"opos\"]\n",
        "\n",
        "target_id = train[\"opos\"][sample_idx]\n",
        "print(\"Class of previous message:\", target_id)"
      ],
      "execution_count": 3,
      "outputs": [
        {
          "output_type": "stream",
          "name": "stdout",
          "text": [
            "Class of previous message: 0\n"
          ]
        }
      ]
    },
    {
      "cell_type": "markdown",
      "metadata": {
        "deletable": true,
        "editable": true,
        "id": "ZXRSh7XMrQwA"
      },
      "source": [
        "Here are all the possible classes:"
      ]
    },
    {
      "cell_type": "code",
      "metadata": {
        "deletable": true,
        "editable": true,
        "id": "4-ziROzGrQwB",
        "colab": {
          "base_uri": "https://localhost:8080/"
        },
        "outputId": "3128c041-b6d9-429e-8f40-61409e2853fa"
      },
      "source": [
        "target_classes"
      ],
      "execution_count": 4,
      "outputs": [
        {
          "output_type": "execute_result",
          "data": {
            "text/plain": [
              "0       0\n",
              "1       0\n",
              "2       0\n",
              "3       0\n",
              "4       0\n",
              "       ..\n",
              "7405    1\n",
              "7406    1\n",
              "7407    0\n",
              "7408    1\n",
              "7409    1\n",
              "Name: opos, Length: 7410, dtype: int64"
            ]
          },
          "metadata": {},
          "execution_count": 4
        }
      ]
    },
    {
      "cell_type": "markdown",
      "metadata": {
        "deletable": true,
        "editable": true,
        "id": "FAsr1e6mrQwI"
      },
      "source": [
        "### Preprocessing text for the (supervised) CBOW model\n",
        "\n",
        "We will implement a simple classification model in Keras. Raw text requires (sometimes a lot of) preprocessing.\n",
        "\n",
        "The following cells uses Keras to preprocess text:\n",
        "- using a tokenizer. You may use different tokenizers (from scikit-learn, NLTK, custom Python function etc.). This converts the texts into sequences of indices representing the `20000` most frequent words\n",
        "- sequences have different lengths, so we pad them (add 0s at the end until the sequence is of length `1000`)\n",
        "- we convert the output classes as 1-hot encodings"
      ]
    },
    {
      "cell_type": "code",
      "metadata": {
        "deletable": true,
        "editable": true,
        "id": "WO8Raa-CrQwJ",
        "colab": {
          "base_uri": "https://localhost:8080/"
        },
        "outputId": "856937ca-592e-4a06-b4d4-aee08b7e0c56"
      },
      "source": [
        "from tensorflow.keras.preprocessing.text import Tokenizer\n",
        "\n",
        "MAX_NB_WORDS = 20000\n",
        "\n",
        "# get the raw text data\n",
        "texts_train = train[\"text\"]\n",
        "texts_test =test[\"text\"]\n",
        "\n",
        "# finally, vectorize the text samples into a 2D integer tensor\n",
        "tokenizer = Tokenizer(nb_words=MAX_NB_WORDS, char_level=False)\n",
        "tokenizer.fit_on_texts(texts_train)\n",
        "\n",
        "sequences = tokenizer.texts_to_sequences(texts_train)\n",
        "sequences_test = tokenizer.texts_to_sequences(texts_test)\n",
        "\n",
        "word_index = tokenizer.word_index\n",
        "print('Found %s unique tokens.' % len(word_index))"
      ],
      "execution_count": 5,
      "outputs": [
        {
          "output_type": "stream",
          "name": "stderr",
          "text": [
            "/usr/local/lib/python3.8/dist-packages/keras/preprocessing/text.py:246: UserWarning: The `nb_words` argument in `Tokenizer` has been renamed `num_words`.\n",
            "  warnings.warn(\n"
          ]
        },
        {
          "output_type": "stream",
          "name": "stdout",
          "text": [
            "Found 21234 unique tokens.\n"
          ]
        }
      ]
    },
    {
      "cell_type": "markdown",
      "metadata": {
        "deletable": true,
        "editable": true,
        "id": "nuoLwWfsrQwP"
      },
      "source": [
        "Tokenized sequences are converted to list of token ids (with an integer code):"
      ]
    },
    {
      "cell_type": "code",
      "metadata": {
        "deletable": true,
        "editable": true,
        "scrolled": true,
        "id": "v14-T1htrQwP"
      },
      "source": [
        "sequences[0]"
      ],
      "execution_count": null,
      "outputs": []
    },
    {
      "cell_type": "markdown",
      "metadata": {
        "deletable": true,
        "editable": true,
        "id": "he3oRoNLrQwX"
      },
      "source": [
        "The tokenizer object stores a mapping (vocabulary) from word strings to token ids that can be inverted to reconstruct the original message (without formatting):"
      ]
    },
    {
      "cell_type": "code",
      "metadata": {
        "deletable": true,
        "editable": true,
        "id": "HWv9H-y3rQwZ",
        "colab": {
          "base_uri": "https://localhost:8080/"
        },
        "outputId": "1bc9a11e-daf3-420d-b45c-32f5e3156783"
      },
      "source": [
        "type(tokenizer.word_index), len(tokenizer.word_index)"
      ],
      "execution_count": 10,
      "outputs": [
        {
          "output_type": "execute_result",
          "data": {
            "text/plain": [
              "(dict, 21234)"
            ]
          },
          "metadata": {},
          "execution_count": 10
        }
      ]
    },
    {
      "cell_type": "code",
      "metadata": {
        "deletable": true,
        "editable": true,
        "id": "7Whhbl7urQwd"
      },
      "source": [
        "index_to_word = dict((i, w) for w, i in tokenizer.word_index.items())"
      ],
      "execution_count": 6,
      "outputs": []
    },
    {
      "cell_type": "code",
      "metadata": {
        "deletable": true,
        "editable": true,
        "id": "r3Y-rvEkrQwh",
        "colab": {
          "base_uri": "https://localhost:8080/",
          "height": 53
        },
        "outputId": "ae035051-86d2-427e-c322-3af7e6a8af6f"
      },
      "source": [
        "\" \".join([index_to_word[i] for i in sequences[0]])"
      ],
      "execution_count": 12,
      "outputs": [
        {
          "output_type": "execute_result",
          "data": {
            "text/plain": [
              "'intanto la partita per via nazionale si complica saccomanni dice che mica tutti sono mario monti http t co xptnz4x7 via linkiesta'"
            ],
            "application/vnd.google.colaboratory.intrinsic+json": {
              "type": "string"
            }
          },
          "metadata": {},
          "execution_count": 12
        }
      ]
    },
    {
      "cell_type": "markdown",
      "metadata": {
        "deletable": true,
        "editable": true,
        "id": "XifL5FgKrQwl"
      },
      "source": [
        "Let's have a closer look at the tokenized sequences:"
      ]
    },
    {
      "cell_type": "code",
      "metadata": {
        "deletable": true,
        "editable": true,
        "id": "Apr3ZqnhrQwm",
        "colab": {
          "base_uri": "https://localhost:8080/"
        },
        "outputId": "a8ea2223-e2c2-415f-8b5f-dce0bef1b55e"
      },
      "source": [
        "seq_lens = [len(s) for s in sequences]\n",
        "print(\"average length: %0.1f\" % np.mean(seq_lens))\n",
        "print(\"max length: %d\" % max(seq_lens))"
      ],
      "execution_count": 7,
      "outputs": [
        {
          "output_type": "stream",
          "name": "stdout",
          "text": [
            "average length: 16.0\n",
            "max length: 40\n"
          ]
        }
      ]
    },
    {
      "cell_type": "code",
      "metadata": {
        "deletable": true,
        "editable": true,
        "id": "U6Hp4pXwrQwq",
        "colab": {
          "base_uri": "https://localhost:8080/",
          "height": 265
        },
        "outputId": "578ce9bd-bf5b-4c7e-a78a-3488703ccd03"
      },
      "source": [
        "%matplotlib inline\n",
        "import matplotlib.pyplot as plt\n",
        "\n",
        "plt.hist(seq_lens, bins=50);"
      ],
      "execution_count": 14,
      "outputs": [
        {
          "output_type": "display_data",
          "data": {
            "text/plain": [
              "<Figure size 432x288 with 1 Axes>"
            ],
            "image/png": "[encoded data removed]"
          },
          "metadata": {
            "needs_background": "light"
          }
        }
      ]
    },
    {
      "cell_type": "markdown",
      "metadata": {
        "deletable": true,
        "editable": true,
        "id": "GfCRWAGirQwv"
      },
      "source": [
        "Let's zoom on the distribution of regular sized posts. The vast majority of the posts have less than 30 symbols:"
      ]
    },
    {
      "cell_type": "markdown",
      "metadata": {
        "deletable": true,
        "editable": true,
        "id": "5W6QRDcprQw0"
      },
      "source": [
        "Let's truncate and pad all the sequences to 25 symbols to build the training set:"
      ]
    },
    {
      "cell_type": "code",
      "metadata": {
        "deletable": true,
        "editable": true,
        "id": "3DC-Ysi-rQw0",
        "colab": {
          "base_uri": "https://localhost:8080/"
        },
        "outputId": "65b22ab7-5580-47ff-88d8-6520ec11f16c"
      },
      "source": [
        "from tensorflow.keras.preprocessing.sequence import pad_sequences\n",
        "\n",
        "MAX_SEQUENCE_LENGTH = 25\n",
        "\n",
        "# pad sequences with 0s\n",
        "x_train = pad_sequences(sequences, maxlen=MAX_SEQUENCE_LENGTH,padding='post')\n",
        "x_test = pad_sequences(sequences_test, maxlen=MAX_SEQUENCE_LENGTH,padding='post')\n",
        "\n",
        "print('Shape of data tensor:', x_train.shape)\n",
        "print('Shape of data test tensor:', x_test.shape)"
      ],
      "execution_count": 8,
      "outputs": [
        {
          "output_type": "stream",
          "name": "stdout",
          "text": [
            "Shape of data tensor: (7410, 25)\n",
            "Shape of data test tensor: (2000, 25)\n"
          ]
        }
      ]
    },
    {
      "cell_type": "code",
      "metadata": {
        "colab": {
          "base_uri": "https://localhost:8080/"
        },
        "id": "Yij15CxGZxmE",
        "outputId": "2e39250f-0312-419e-8520-4a4ba2ed267b"
      },
      "source": [
        "x_train[0]"
      ],
      "execution_count": 9,
      "outputs": [
        {
          "output_type": "execute_result",
          "data": {
            "text/plain": [
              "array([ 557,   11, 1081,   14,   47,  651,   22, 6520, 4070,  111,   10,\n",
              "        904,   34,   33,   15,    1,    7,    5,    6, 6521,   47,  977,\n",
              "          0,    0,    0], dtype=int32)"
            ]
          },
          "metadata": {},
          "execution_count": 9
        }
      ]
    },
    {
      "cell_type": "code",
      "metadata": {
        "deletable": true,
        "editable": true,
        "id": "77rTAOV3rQw6",
        "colab": {
          "base_uri": "https://localhost:8080/"
        },
        "outputId": "1f339220-9aeb-4921-f614-b52ab8261cbc"
      },
      "source": [
        "from keras.utils.np_utils import to_categorical\n",
        "y_train = train[\"opos\"]\n",
        "y_test = test[\"opos\"]\n",
        "\n",
        "y_train = to_categorical(np.asarray(y_train))\n",
        "print('Shape of label tensor:', y_train.shape)"
      ],
      "execution_count": 10,
      "outputs": [
        {
          "output_type": "stream",
          "name": "stdout",
          "text": [
            "Shape of label tensor: (7410, 2)\n"
          ]
        }
      ]
    },
    {
      "cell_type": "code",
      "metadata": {
        "colab": {
          "base_uri": "https://localhost:8080/"
        },
        "id": "wSeAYSbF2ku4",
        "outputId": "129134ae-c75f-46c7-9f92-eac648b4228b"
      },
      "source": [
        "y_train"
      ],
      "execution_count": 11,
      "outputs": [
        {
          "output_type": "execute_result",
          "data": {
            "text/plain": [
              "array([[1., 0.],\n",
              "       [1., 0.],\n",
              "       [1., 0.],\n",
              "       ...,\n",
              "       [1., 0.],\n",
              "       [0., 1.],\n",
              "       [0., 1.]], dtype=float32)"
            ]
          },
          "metadata": {},
          "execution_count": 11
        }
      ]
    },
    {
      "cell_type": "markdown",
      "source": [
        "##A simple ScikitLearn Model"
      ],
      "metadata": {
        "id": "8jrmILoGPQ9K"
      }
    },
    {
      "cell_type": "code",
      "source": [
        "import gensim.downloader as api\n",
        "\n",
        "# Download the models (1660MB)\n",
        "word2vec_model300 = api.load('word2vec-google-news-300')"
      ],
      "metadata": {
        "colab": {
          "base_uri": "https://localhost:8080/"
        },
        "id": "WpEfOS3qPUtU",
        "outputId": "2cec956b-5226-4933-a7f1-7da8ae77a24f"
      },
      "execution_count": 19,
      "outputs": [
        {
          "output_type": "stream",
          "name": "stdout",
          "text": [
            "[==================================================] 100.0% 1662.8/1662.8MB downloaded\n"
          ]
        }
      ]
    },
    {
      "cell_type": "code",
      "source": [
        "x_train_emb = []\n",
        "for sentence in x_train:\n",
        "  sent_emb = [0 for k in range(300)] \n",
        "  num_tok = 0\n",
        "  for tok in sentence:\n",
        "    if tok != 0:\n",
        "      word=list(word_index.keys())[list(word_index.values()).index(tok)]\n",
        "      try:\n",
        "          emb = word2vec_model300.wv[word]\n",
        "          sent_emb = [x + y for x, y in zip(sent_emb, emb)]\n",
        "          num_tok = num_tok +1\n",
        "      except:\n",
        "          pass\n",
        "  if num_tok != 0:\n",
        "    final_sent_emb = [x / num_tok for x in sent_emb]         \n",
        "  x_train_emb.append(final_sent_emb)  \n",
        "\n",
        "x_train_emb = np.array(x_train_emb)"
      ],
      "metadata": {
        "colab": {
          "base_uri": "https://localhost:8080/"
        },
        "id": "xE65AbBKSggq",
        "outputId": "66b43839-d001-49d4-eab0-635a6ca74035"
      },
      "execution_count": 68,
      "outputs": [
        {
          "output_type": "stream",
          "name": "stderr",
          "text": [
            "<ipython-input-68-af7c387085e2>:9: DeprecationWarning: Call to deprecated `wv` (Attribute will be removed in 4.0.0, use self instead).\n",
            "  emb = word2vec_model300.wv[word]\n"
          ]
        }
      ]
    },
    {
      "cell_type": "code",
      "source": [
        "x_train_emb.shape"
      ],
      "metadata": {
        "colab": {
          "base_uri": "https://localhost:8080/"
        },
        "id": "DwKieOm1Vg1n",
        "outputId": "44e7c7b0-77a3-4784-9cfb-47c8491d03ae"
      },
      "execution_count": 35,
      "outputs": [
        {
          "output_type": "execute_result",
          "data": {
            "text/plain": [
              "(7410, 300)"
            ]
          },
          "metadata": {},
          "execution_count": 35
        }
      ]
    },
    {
      "cell_type": "code",
      "source": [
        "#Import Gaussian Naive Bayes model\n",
        "from sklearn.naive_bayes import GaussianNB\n",
        "\n",
        "#Create a Gaussian Classifier\n",
        "model = GaussianNB()\n",
        "\n",
        "# Train the model using the training sets\n",
        "model = model.fit(x_train_emb,np.array(train[\"opos\"]))"
      ],
      "metadata": {
        "id": "6n3LlvjzSH8L"
      },
      "execution_count": 69,
      "outputs": []
    },
    {
      "cell_type": "code",
      "source": [
        "x_test_emb = []\n",
        "for sentence in x_test:\n",
        "  sent_emb = [0 for k in range(300)] \n",
        "  num_tok = 0\n",
        "  for tok in sentence:\n",
        "    if tok != 0:\n",
        "      word=list(word_index.keys())[list(word_index.values()).index(tok)]\n",
        "      try:\n",
        "          emb = word2vec_model300.wv[word]\n",
        "          sent_emb = [x + y for x, y in zip(sent_emb, emb)]\n",
        "          num_tok = num_tok +1\n",
        "      except:\n",
        "          pass\n",
        "  if num_tok != 0:\n",
        "    final_sent_emb = [x / num_tok for x in sent_emb]     \n",
        "  else:\n",
        "    final_sent_emb = sent_emb  \n",
        "\n",
        "  x_test_emb.append(final_sent_emb)  \n",
        "\n",
        "x_test_emb = np.array(x_test_emb)"
      ],
      "metadata": {
        "colab": {
          "base_uri": "https://localhost:8080/"
        },
        "id": "uNqtp0_3bFT8",
        "outputId": "341da0f7-fa77-426a-fcb0-5d6b3ba9b355"
      },
      "execution_count": 65,
      "outputs": [
        {
          "output_type": "stream",
          "name": "stderr",
          "text": [
            "<ipython-input-65-b3d4e5236a1a>:9: DeprecationWarning: Call to deprecated `wv` (Attribute will be removed in 4.0.0, use self instead).\n",
            "  emb = word2vec_model300.wv[word]\n"
          ]
        }
      ]
    },
    {
      "cell_type": "code",
      "source": [
        "x_test_emb[3]"
      ],
      "metadata": {
        "colab": {
          "base_uri": "https://localhost:8080/"
        },
        "id": "UkkgFpiZc4Ae",
        "outputId": "5065a7d9-c511-4c21-8281-f04f25217c3a"
      },
      "execution_count": 67,
      "outputs": [
        {
          "output_type": "execute_result",
          "data": {
            "text/plain": [
              "array([-0.10583496,  0.17346191, -0.04200963,  0.10374233, -0.11962891,\n",
              "        0.17735073,  0.00624738, -0.02585275,  0.06591797,  0.05543736,\n",
              "       -0.14481027, -0.13745117, -0.23883929, -0.02305385, -0.08729771,\n",
              "        0.2122661 ,  0.10132708,  0.24436733,  0.0561894 ,  0.03029088,\n",
              "       -0.14454869, -0.08150809,  0.21833147,  0.05906459, -0.11914062,\n",
              "       -0.13428824, -0.06111363,  0.19949777, -0.15171596, -0.03703526,\n",
              "        0.0246582 ,  0.13567243,  0.02382551, -0.11489432, -0.10062081,\n",
              "        0.01499721, -0.15104893,  0.16149902,  0.17180525, -0.06269182,\n",
              "       -0.05664062, -0.09280831,  0.05502755,  0.08325195,  0.01702009,\n",
              "       -0.13068499, -0.04554967,  0.00729806, -0.16492571,  0.16476004,\n",
              "       -0.23479353,  0.26789202,  0.05348424,  0.21290806, -0.15265765,\n",
              "        0.09912109, -0.13092913, -0.15757533, -0.00468227, -0.11165946,\n",
              "       -0.18324498,  0.21424648, -0.04246303, -0.06439645,  0.03559658,\n",
              "       -0.17328753, -0.11858259, -0.10718209,  0.10501535,  0.1940918 ,\n",
              "       -0.0304827 ,  0.00620161, -0.00155204,  0.06408691, -0.0811942 ,\n",
              "       -0.01611328,  0.11429269,  0.125     , -0.04999651,  0.00324358,\n",
              "       -0.06643677, -0.02709961,  0.0617327 , -0.15499442,  0.10367257,\n",
              "        0.09556362, -0.03619385,  0.24093192, -0.04998779, -0.03272356,\n",
              "       -0.11314174, -0.05684989, -0.08872768, -0.14456613,  0.22251674,\n",
              "       -0.0275007 , -0.08393206, -0.03839983,  0.21747698, -0.04820251,\n",
              "       -0.15910993, -0.03703962, -0.07495117,  0.05378069, -0.13874163,\n",
              "        0.22719029, -0.1104126 ,  0.03381348, -0.06801496,  0.20574079,\n",
              "        0.00896781, -0.27887835,  0.14805385, -0.09953962,  0.03843471,\n",
              "        0.05746896, -0.04042271, -0.19907924,  0.09866769,  0.03251866,\n",
              "        0.0125558 , -0.10243443, -0.09441267,  0.04166085,  0.20204381,\n",
              "       -0.24899728, -0.18289621,  0.01946967, -0.0118103 ,  0.12106759,\n",
              "       -0.17131696,  0.05911691,  0.11784581,  0.03515625, -0.07042585,\n",
              "        0.00548335, -0.01719448, -0.09526716,  0.23964146,  0.04893276,\n",
              "        0.19482422, -0.16810826, -0.05540248,  0.105399  , -0.03512137,\n",
              "       -0.03018624, -0.07366943,  0.09895543, -0.05186244, -0.17499651,\n",
              "        0.05833217, -0.19614955,  0.03297642, -0.04069301,  0.00925991,\n",
              "       -0.12146868,  0.06866455,  0.43631417,  0.08989607, -0.09449986,\n",
              "        0.01828875,  0.09329224, -0.07139369,  0.06321498,  0.02243478,\n",
              "       -0.1472168 ,  0.09986006,  0.0507115 , -0.14937919,  0.17480469,\n",
              "       -0.16071429, -0.03088379,  0.01919665, -0.0325579 ,  0.05747768,\n",
              "        0.08932059,  0.19719587, -0.22987584,  0.06905692, -0.12172154,\n",
              "        0.01834542,  0.04117257,  0.05412946,  0.01886858,  0.11056083,\n",
              "        0.16420201, -0.04700579,  0.02995954, -0.01350621,  0.00351279,\n",
              "        0.05452183,  0.0105678 , -0.17224121,  0.00613403,  0.05681501,\n",
              "        0.04377093, -0.04272461, -0.05208915,  0.08025251,  0.12300764,\n",
              "        0.01978847,  0.09887586, -0.14679609, -0.09399414,  0.24776786,\n",
              "       -0.16179548,  0.01048061,  0.02165876, -0.17872184,  0.09737723,\n",
              "        0.12461635, -0.04927717, -0.21735491,  0.19538225, -0.08909171,\n",
              "        0.00913783,  0.02613177, -0.11317662, -0.16850063,  0.03834752,\n",
              "        0.03041295,  0.07179478,  0.10229492,  0.04261126,  0.04912022,\n",
              "       -0.19841657,  0.0884661 ,  0.09952218, -0.04483468, -0.04119001,\n",
              "       -0.07039097, -0.125     , -0.12629046, -0.05934361,  0.02265276,\n",
              "       -0.00700678, -0.06773158,  0.05564662,  0.01810128,  0.01599121,\n",
              "        0.03941127, -0.16929408,  0.15961565,  0.0359933 , -0.00821359,\n",
              "        0.05639648, -0.03177316,  0.14668492, -0.01342991, -0.14906529,\n",
              "        0.1267613 ,  0.07773481,  0.0871582 , -0.03111485,  0.03998675,\n",
              "       -0.09615653, -0.12737165, -0.04998779, -0.03076172,  0.09807478,\n",
              "        0.0194615 ,  0.12970407,  0.253976  , -0.06217739, -0.01262556,\n",
              "       -0.10667419, -0.06371198,  0.02252633, -0.05449568, -0.130576  ,\n",
              "       -0.00340925, -0.13546317,  0.00619943,  0.03491211,  0.18181501,\n",
              "        0.00975691, -0.25010463, -0.1517007 , -0.11615862,  0.09938921,\n",
              "       -0.15611049,  0.21556963, -0.04493059,  0.03945487,  0.1527601 ,\n",
              "        0.06169782,  0.0385328 ,  0.03353446, -0.06347656, -0.00550188,\n",
              "       -0.06938825, -0.02317592,  0.00556728,  0.25027902,  0.04858398,\n",
              "       -0.09026228, -0.03674316, -0.09139579, -0.12196568,  0.12163435])"
            ]
          },
          "metadata": {},
          "execution_count": 67
        }
      ]
    },
    {
      "cell_type": "code",
      "source": [
        "x_test_emb.shape"
      ],
      "metadata": {
        "colab": {
          "base_uri": "https://localhost:8080/"
        },
        "id": "6K_HRCp6bybw",
        "outputId": "4135f7a7-89f1-483c-8119-a0d4dabf6ea9"
      },
      "execution_count": 43,
      "outputs": [
        {
          "output_type": "execute_result",
          "data": {
            "text/plain": [
              "(2000, 300)"
            ]
          },
          "metadata": {},
          "execution_count": 43
        }
      ]
    },
    {
      "cell_type": "code",
      "source": [
        "predictions = model.predict(x_test_emb)"
      ],
      "metadata": {
        "id": "5FXgZRTlbNrY"
      },
      "execution_count": 70,
      "outputs": []
    },
    {
      "cell_type": "code",
      "source": [
        "predictions"
      ],
      "metadata": {
        "colab": {
          "base_uri": "https://localhost:8080/"
        },
        "id": "cQE1wzKIb30p",
        "outputId": "c1bec281-6b9a-408e-b9ea-e3425bfdb493"
      },
      "execution_count": 71,
      "outputs": [
        {
          "output_type": "execute_result",
          "data": {
            "text/plain": [
              "array([1, 0, 0, ..., 0, 1, 0])"
            ]
          },
          "metadata": {},
          "execution_count": 71
        }
      ]
    },
    {
      "cell_type": "code",
      "source": [
        "#Evaluation\n",
        "from sklearn.metrics import classification_report\n",
        "print(classification_report(np.array(test[\"opos\"]),predictions,digits=5))"
      ],
      "metadata": {
        "colab": {
          "base_uri": "https://localhost:8080/"
        },
        "id": "zmZG7RV5bSgn",
        "outputId": "bc249dc4-9d9c-422c-b79a-23bad3204850"
      },
      "execution_count": 72,
      "outputs": [
        {
          "output_type": "stream",
          "name": "stdout",
          "text": [
            "              precision    recall  f1-score   support\n",
            "\n",
            "           0    0.85818   0.78944   0.82238      1648\n",
            "           1    0.28306   0.38920   0.32775       352\n",
            "\n",
            "    accuracy                        0.71900      2000\n",
            "   macro avg    0.57062   0.58932   0.57506      2000\n",
            "weighted avg    0.75696   0.71900   0.73532      2000\n",
            "\n"
          ]
        }
      ]
    },
    {
      "cell_type": "code",
      "source": [
        "from sklearn.neighbors import KNeighborsClassifier\n",
        "\n",
        "model = KNeighborsClassifier(10)\n",
        "\n",
        "# Train the model using the training sets\n",
        "model = model.fit(x_train_emb,np.array(train[\"opos\"]))"
      ],
      "metadata": {
        "id": "w0xJQ9mDffiI"
      },
      "execution_count": 73,
      "outputs": []
    },
    {
      "cell_type": "code",
      "source": [
        "predictions = model.predict(x_test_emb)"
      ],
      "metadata": {
        "id": "j5H9BCxofuJ6"
      },
      "execution_count": 74,
      "outputs": []
    },
    {
      "cell_type": "code",
      "source": [
        "#Evaluation\n",
        "from sklearn.metrics import classification_report\n",
        "print(classification_report(np.array(test[\"opos\"]),predictions,digits=5))"
      ],
      "metadata": {
        "colab": {
          "base_uri": "https://localhost:8080/"
        },
        "id": "WEOhEkEafvi6",
        "outputId": "821a729e-e3be-4f60-cfb8-11338f755c2f"
      },
      "execution_count": 75,
      "outputs": [
        {
          "output_type": "stream",
          "name": "stdout",
          "text": [
            "              precision    recall  f1-score   support\n",
            "\n",
            "           0    0.83221   0.97816   0.89930      1648\n",
            "           1    0.42857   0.07670   0.13012       352\n",
            "\n",
            "    accuracy                        0.81950      2000\n",
            "   macro avg    0.63039   0.52743   0.51471      2000\n",
            "weighted avg    0.76117   0.81950   0.76393      2000\n",
            "\n"
          ]
        }
      ]
    },
    {
      "cell_type": "code",
      "source": [
        "from sklearn.svm import SVC\n",
        "\n",
        "model = SVC()\n",
        "\n",
        "# Train the model using the training sets\n",
        "model = model.fit(x_train_emb,np.array(train[\"opos\"]))"
      ],
      "metadata": {
        "id": "mfN_emwwfx8C"
      },
      "execution_count": 76,
      "outputs": []
    },
    {
      "cell_type": "code",
      "source": [
        "predictions = model.predict(x_test_emb)"
      ],
      "metadata": {
        "id": "2F-2YE2Jf7R7"
      },
      "execution_count": 77,
      "outputs": []
    },
    {
      "cell_type": "code",
      "source": [
        "#Evaluation\n",
        "from sklearn.metrics import classification_report\n",
        "print(classification_report(np.array(test[\"opos\"]),predictions,digits=5))"
      ],
      "metadata": {
        "colab": {
          "base_uri": "https://localhost:8080/"
        },
        "id": "0qoVT--lf8cM",
        "outputId": "9723d8b0-6edc-46ee-8589-e75e350272ed"
      },
      "execution_count": 78,
      "outputs": [
        {
          "output_type": "stream",
          "name": "stdout",
          "text": [
            "              precision    recall  f1-score   support\n",
            "\n",
            "           0    0.83207   0.99818   0.90759      1648\n",
            "           1    0.86957   0.05682   0.10667       352\n",
            "\n",
            "    accuracy                        0.83250      2000\n",
            "   macro avg    0.85082   0.52750   0.50713      2000\n",
            "weighted avg    0.83867   0.83250   0.76662      2000\n",
            "\n"
          ]
        }
      ]
    },
    {
      "cell_type": "markdown",
      "metadata": {
        "deletable": true,
        "editable": true,
        "id": "oShKBBdVrQxD"
      },
      "source": [
        "### A simple supervised model in Keras\n",
        "\n",
        "The following computes a very simple model:\n",
        "\n",
        "<img src=\"https://m2dsupsdlclass.github.io/lectures-labs/slides/06_deep_nlp/images/fasttext.svg\" style=\"width: 600px;\" />\n",
        "\n",
        "- Build an embedding layer mapping each word to a vector representation\n",
        "- Compute the vector representation of all words in each sequence and average them\n",
        "- Add a dense layer to output 20 classes (+ softmax)"
      ]
    },
    {
      "cell_type": "code",
      "metadata": {
        "deletable": true,
        "editable": true,
        "id": "6lnA30CarQxE"
      },
      "source": [
        "from keras.layers import Dense, Input, Flatten\n",
        "from keras.layers import GlobalAveragePooling1D, Embedding\n",
        "from keras.models import Model\n",
        "\n",
        "EMBEDDING_DIM = 50\n",
        "N_CLASSES = 2\n",
        "\n",
        "# input: a sequence of MAX_SEQUENCE_LENGTH integers\n",
        "sequence_input = Input(shape=(MAX_SEQUENCE_LENGTH,), dtype='int32')\n",
        "\n",
        "embedded_sequences = Embedding(MAX_NB_WORDS, EMBEDDING_DIM,\n",
        "                            input_length=MAX_SEQUENCE_LENGTH,\n",
        "                            trainable=True)(sequence_input)\n",
        "\n",
        "average = GlobalAveragePooling1D()(embedded_sequences)\n",
        "predictions = Dense(N_CLASSES, activation='softmax')(average)\n",
        "\n",
        "model = Model(sequence_input, predictions)\n",
        "model.compile(loss='categorical_crossentropy',\n",
        "              optimizer='adam', metrics=['acc'])"
      ],
      "execution_count": 79,
      "outputs": []
    },
    {
      "cell_type": "code",
      "metadata": {
        "deletable": true,
        "editable": true,
        "id": "59y4Uv5UrQxP",
        "colab": {
          "base_uri": "https://localhost:8080/"
        },
        "outputId": "d472568d-b2e4-4136-bbfc-cc64815a9755"
      },
      "source": [
        "history=model.fit(x_train, y_train, validation_split=0.1,\n",
        "          epochs=10, batch_size=128, verbose=2)"
      ],
      "execution_count": 80,
      "outputs": [
        {
          "output_type": "stream",
          "name": "stdout",
          "text": [
            "Epoch 1/10\n",
            "53/53 - 14s - loss: 0.6481 - acc: 0.6907 - val_loss: 0.5568 - val_acc: 0.7989 - 14s/epoch - 272ms/step\n",
            "Epoch 2/10\n",
            "53/53 - 5s - loss: 0.5848 - acc: 0.7149 - val_loss: 0.5122 - val_acc: 0.7989 - 5s/epoch - 87ms/step\n",
            "Epoch 3/10\n",
            "53/53 - 4s - loss: 0.5534 - acc: 0.7151 - val_loss: 0.5144 - val_acc: 0.7989 - 4s/epoch - 74ms/step\n",
            "Epoch 4/10\n",
            "53/53 - 3s - loss: 0.5210 - acc: 0.7232 - val_loss: 0.5173 - val_acc: 0.8084 - 3s/epoch - 47ms/step\n",
            "Epoch 5/10\n",
            "53/53 - 2s - loss: 0.4874 - acc: 0.7506 - val_loss: 0.5115 - val_acc: 0.8084 - 2s/epoch - 41ms/step\n",
            "Epoch 6/10\n",
            "53/53 - 1s - loss: 0.4505 - acc: 0.7809 - val_loss: 0.5137 - val_acc: 0.7922 - 736ms/epoch - 14ms/step\n",
            "Epoch 7/10\n",
            "53/53 - 1s - loss: 0.4101 - acc: 0.8156 - val_loss: 0.5271 - val_acc: 0.7692 - 1s/epoch - 28ms/step\n",
            "Epoch 8/10\n",
            "53/53 - 1s - loss: 0.3700 - acc: 0.8519 - val_loss: 0.5137 - val_acc: 0.7719 - 1s/epoch - 24ms/step\n",
            "Epoch 9/10\n",
            "53/53 - 2s - loss: 0.3312 - acc: 0.8817 - val_loss: 0.5043 - val_acc: 0.7733 - 2s/epoch - 29ms/step\n",
            "Epoch 10/10\n",
            "53/53 - 1s - loss: 0.2960 - acc: 0.9013 - val_loss: 0.5238 - val_acc: 0.7530 - 544ms/epoch - 10ms/step\n"
          ]
        }
      ]
    },
    {
      "cell_type": "code",
      "metadata": {
        "deletable": true,
        "editable": true,
        "id": "K-MqP7zSrQxW",
        "colab": {
          "base_uri": "https://localhost:8080/"
        },
        "outputId": "35b8fdc9-1151-4f18-f990-3a539621dab3"
      },
      "source": [
        "output_test = model.predict(x_test)\n",
        "test_casses = np.argmax(output_test, axis=-1)"
      ],
      "execution_count": 81,
      "outputs": [
        {
          "output_type": "stream",
          "name": "stdout",
          "text": [
            "63/63 [==============================] - 0s 1ms/step\n"
          ]
        }
      ]
    },
    {
      "cell_type": "code",
      "source": [
        "test_casses"
      ],
      "metadata": {
        "colab": {
          "base_uri": "https://localhost:8080/"
        },
        "id": "7ESQJVKkgPMz",
        "outputId": "df560e21-c781-4e86-f556-81b78b6bcc54"
      },
      "execution_count": 82,
      "outputs": [
        {
          "output_type": "execute_result",
          "data": {
            "text/plain": [
              "array([0, 0, 0, ..., 0, 0, 0])"
            ]
          },
          "metadata": {},
          "execution_count": 82
        }
      ]
    },
    {
      "cell_type": "code",
      "source": [
        "from sklearn.metrics import classification_report\n",
        "print(classification_report(np.array(test[\"opos\"]),test_casses,digits=5))"
      ],
      "metadata": {
        "colab": {
          "base_uri": "https://localhost:8080/"
        },
        "id": "yAfzIUsDgODs",
        "outputId": "a5fda119-6eef-4042-bc5b-484aacb0adf8"
      },
      "execution_count": 83,
      "outputs": [
        {
          "output_type": "stream",
          "name": "stdout",
          "text": [
            "              precision    recall  f1-score   support\n",
            "\n",
            "           0    0.86512   0.94964   0.90541      1648\n",
            "           1    0.56545   0.30682   0.39779       352\n",
            "\n",
            "    accuracy                        0.83650      2000\n",
            "   macro avg    0.71528   0.62823   0.65160      2000\n",
            "weighted avg    0.81238   0.83650   0.81607      2000\n",
            "\n"
          ]
        }
      ]
    },
    {
      "cell_type": "markdown",
      "metadata": {
        "deletable": true,
        "editable": true,
        "id": "ecciDY9arQxe"
      },
      "source": [
        "### Building more complex models\n",
        "\n",
        "**Exercise**\n",
        "- From the previous template, build more complex models using:\n",
        "  - 1d convolution and 1d maxpooling. Note that you will still need a GloabalAveragePooling or Flatten after the convolutions\n",
        "  - Recurrent neural networks through LSTM (you will need to reduce sequence length before)\n",
        "  \n",
        "  \n",
        "<img src=\"https://m2dsupsdlclass.github.io/lectures-labs/slides/06_deep_nlp/images/unrolled_rnn_one_output_2.svg\" style=\"width: 600px;\" />\n",
        "\n",
        "**Bonus**\n",
        "- You may try different architectures with:\n",
        "  - more intermediate layers, combination of dense, conv, recurrent\n",
        "  - different recurrent (GRU, RNN)\n",
        "  - bidirectional LSTMs\n",
        "\n",
        "Note: The goal is to build working models rather than getting better test accuracy. To achieve much better results, we'd need more computation time and data quantity. Build your model, and verify that they converge to OK results."
      ]
    },
    {
      "cell_type": "code",
      "metadata": {
        "id": "8XXisPg6ND8Y"
      },
      "source": [
        "# solutions lstm.py\n",
        "from keras.layers import LSTM, Conv1D, MaxPooling1D, Embedding, Flatten, Dense, Dropout\n",
        "EMBEDDING_DIM = 300"
      ],
      "execution_count": 84,
      "outputs": []
    },
    {
      "cell_type": "code",
      "metadata": {
        "deletable": true,
        "editable": true,
        "id": "YuumzzWZrQxf"
      },
      "source": [
        "# input: a sequence of MAX_SEQUENCE_LENGTH integers\n",
        "sequence_input = Input(shape=(MAX_SEQUENCE_LENGTH,), dtype='int32')\n",
        "embedded_sequences = Embedding(MAX_NB_WORDS, EMBEDDING_DIM,\n",
        "                            input_length=MAX_SEQUENCE_LENGTH,\n",
        "                            trainable=True) (sequence_input)\n",
        "\n",
        "# LSTM layer with a hidden size of 64\n",
        "x = LSTM(64,dropout=0.2)(embedded_sequences)\n",
        "x = Dense(30) (x)\n",
        "predictions = Dense(2, activation='softmax')(x)\n",
        "\n",
        "model = Model(sequence_input, predictions)\n",
        "model.compile(loss='categorical_crossentropy',\n",
        "              optimizer='adam',\n",
        "              metrics=['acc'])\n",
        "\n",
        "# You will get large speedups with these models by using a GPU\n",
        "# The model might take a lot of time to converge, and even more\n",
        "# if you add dropout (needed to prevent overfitting)\n"
      ],
      "execution_count": 85,
      "outputs": []
    },
    {
      "cell_type": "code",
      "metadata": {
        "colab": {
          "base_uri": "https://localhost:8080/"
        },
        "id": "FdrNvZ5D8ojO",
        "outputId": "6fdcb7d0-953d-45c7-f74c-eea5b98c1246"
      },
      "source": [
        "model.summary()"
      ],
      "execution_count": 86,
      "outputs": [
        {
          "output_type": "stream",
          "name": "stdout",
          "text": [
            "Model: \"model_1\"\n",
            "_________________________________________________________________\n",
            " Layer (type)                Output Shape              Param #   \n",
            "=================================================================\n",
            " input_2 (InputLayer)        [(None, 25)]              0         \n",
            "                                                                 \n",
            " embedding_1 (Embedding)     (None, 25, 300)           6000000   \n",
            "                                                                 \n",
            " lstm (LSTM)                 (None, 64)                93440     \n",
            "                                                                 \n",
            " dense_1 (Dense)             (None, 30)                1950      \n",
            "                                                                 \n",
            " dense_2 (Dense)             (None, 2)                 62        \n",
            "                                                                 \n",
            "=================================================================\n",
            "Total params: 6,095,452\n",
            "Trainable params: 6,095,452\n",
            "Non-trainable params: 0\n",
            "_________________________________________________________________\n"
          ]
        }
      ]
    },
    {
      "cell_type": "code",
      "metadata": {
        "colab": {
          "base_uri": "https://localhost:8080/"
        },
        "id": "9Jtm2uIB30v0",
        "outputId": "af25a356-9136-4214-aa8a-63da316cfd7f"
      },
      "source": [
        "model.fit(x_train,y_train,epochs=4, validation_split=0.1,\n",
        "          batch_size=128)"
      ],
      "execution_count": 87,
      "outputs": [
        {
          "output_type": "stream",
          "name": "stdout",
          "text": [
            "Epoch 1/4\n",
            "53/53 [==============================] - 15s 162ms/step - loss: 0.5920 - acc: 0.7142 - val_loss: 0.5240 - val_acc: 0.7800\n",
            "Epoch 2/4\n",
            "53/53 [==============================] - 6s 106ms/step - loss: 0.3813 - acc: 0.8339 - val_loss: 0.5805 - val_acc: 0.7395\n",
            "Epoch 3/4\n",
            "53/53 [==============================] - 5s 88ms/step - loss: 0.1365 - acc: 0.9499 - val_loss: 0.5605 - val_acc: 0.7679\n",
            "Epoch 4/4\n",
            "53/53 [==============================] - 4s 71ms/step - loss: 0.0530 - acc: 0.9828 - val_loss: 0.9357 - val_acc: 0.6910\n"
          ]
        },
        {
          "output_type": "execute_result",
          "data": {
            "text/plain": [
              "<keras.callbacks.History at 0x7f511ebb87f0>"
            ]
          },
          "metadata": {},
          "execution_count": 87
        }
      ]
    },
    {
      "cell_type": "code",
      "metadata": {
        "colab": {
          "base_uri": "https://localhost:8080/"
        },
        "id": "IkBlX7d-3y-p",
        "outputId": "97e0bda7-d2ae-4199-a481-449e31def4f8"
      },
      "source": [
        "output_test = model.predict(x_test)\n",
        "test_casses = np.argmax(output_test, axis=-1)\n",
        "\n",
        "from sklearn.metrics import classification_report\n",
        "print(classification_report(np.array(test[\"opos\"]),test_casses,digits=5))"
      ],
      "execution_count": 88,
      "outputs": [
        {
          "output_type": "stream",
          "name": "stdout",
          "text": [
            "63/63 [==============================] - 0s 2ms/step\n",
            "              precision    recall  f1-score   support\n",
            "\n",
            "           0    0.87129   0.74757   0.80470      1648\n",
            "           1    0.29010   0.48295   0.36247       352\n",
            "\n",
            "    accuracy                        0.70100      2000\n",
            "   macro avg    0.58069   0.61526   0.58359      2000\n",
            "weighted avg    0.76900   0.70100   0.72687      2000\n",
            "\n"
          ]
        }
      ]
    },
    {
      "cell_type": "code",
      "metadata": {
        "deletable": true,
        "editable": true,
        "id": "ewXMxJv5rQxh"
      },
      "source": [
        "from keras.layers import Conv1D, MaxPooling1D, Flatten\n",
        "\n",
        "sequence_input = Input(shape=(MAX_SEQUENCE_LENGTH,), dtype='int32')\n",
        "embedded_sequences = Embedding(MAX_NB_WORDS, EMBEDDING_DIM,\n",
        "                            input_length=MAX_SEQUENCE_LENGTH,\n",
        "                            trainable=True) (sequence_input)\n",
        "\n",
        "# A 1D convolution with 128 output channels\n",
        "x = Conv1D(128, 2, activation='relu')(embedded_sequences)\n",
        "# MaxPool divides the length of the sequence by 5\n",
        "x = MaxPooling1D(2)(x)\n",
        "# A 1D convolution with 64 output channels\n",
        "x = Conv1D(64, 2, activation='relu')(x)\n",
        "# MaxPool divides the length of the sequence by 5\n",
        "x = MaxPooling1D(2)(x)\n",
        "x = Flatten()(x)\n",
        "\n",
        "predictions = Dense(2, activation='softmax')(x)\n",
        "\n",
        "model = Model(sequence_input, predictions)\n",
        "model.compile(loss='categorical_crossentropy',\n",
        "              optimizer='adam',\n",
        "              metrics=['acc'])\n"
      ],
      "execution_count": 89,
      "outputs": []
    },
    {
      "cell_type": "code",
      "metadata": {
        "colab": {
          "base_uri": "https://localhost:8080/"
        },
        "id": "3GicNxZ65Vj_",
        "outputId": "583e31ab-7229-4c8b-ed14-28212f77b3c9"
      },
      "source": [
        "model.fit(x_train,y_train,epochs=4, validation_split=0.1,\n",
        "          batch_size=128)"
      ],
      "execution_count": 90,
      "outputs": [
        {
          "output_type": "stream",
          "name": "stdout",
          "text": [
            "Epoch 1/4\n",
            "53/53 [==============================] - 13s 137ms/step - loss: 0.5898 - acc: 0.7076 - val_loss: 0.5262 - val_acc: 0.7989\n",
            "Epoch 2/4\n",
            "53/53 [==============================] - 4s 66ms/step - loss: 0.4532 - acc: 0.7751 - val_loss: 0.5586 - val_acc: 0.6923\n",
            "Epoch 3/4\n",
            "53/53 [==============================] - 4s 77ms/step - loss: 0.1605 - acc: 0.9468 - val_loss: 0.6593 - val_acc: 0.6734\n",
            "Epoch 4/4\n",
            "53/53 [==============================] - 3s 48ms/step - loss: 0.0317 - acc: 0.9937 - val_loss: 0.7621 - val_acc: 0.6991\n"
          ]
        },
        {
          "output_type": "execute_result",
          "data": {
            "text/plain": [
              "<keras.callbacks.History at 0x7f511f61b940>"
            ]
          },
          "metadata": {},
          "execution_count": 90
        }
      ]
    },
    {
      "cell_type": "code",
      "metadata": {
        "colab": {
          "base_uri": "https://localhost:8080/"
        },
        "id": "YiNX-sUr5WJb",
        "outputId": "6287a7ba-1cbb-4d07-bf9e-eab5d5755daf"
      },
      "source": [
        "output_test = model.predict(x_test)\n",
        "test_casses = np.argmax(output_test, axis=-1)\n",
        "\n",
        "from sklearn.metrics import classification_report\n",
        "print(classification_report(np.array(test[\"opos\"]),test_casses,digits=5))"
      ],
      "execution_count": 91,
      "outputs": [
        {
          "output_type": "stream",
          "name": "stdout",
          "text": [
            "63/63 [==============================] - 0s 3ms/step\n",
            "              precision    recall  f1-score   support\n",
            "\n",
            "           0    0.86738   0.83738   0.85211      1648\n",
            "           1    0.34474   0.40057   0.37057       352\n",
            "\n",
            "    accuracy                        0.76050      2000\n",
            "   macro avg    0.60606   0.61897   0.61134      2000\n",
            "weighted avg    0.77540   0.76050   0.76736      2000\n",
            "\n"
          ]
        }
      ]
    },
    {
      "cell_type": "code",
      "metadata": {
        "id": "M2mbEd2MMyde"
      },
      "source": [
        "from keras.layers import LSTM, Conv1D, MaxPooling1D\n",
        "\n",
        "# input: a sequence of MAX_SEQUENCE_LENGTH integers\n",
        "sequence_input = Input(shape=(MAX_SEQUENCE_LENGTH,), dtype='int32')\n",
        "embedded_sequences = Embedding(MAX_NB_WORDS, EMBEDDING_DIM,\n",
        "                            input_length=MAX_SEQUENCE_LENGTH,\n",
        "                            trainable=True) (sequence_input)\n",
        "\n",
        "# 1D convolution with 64 output channels\n",
        "x = Conv1D(128, 2)(embedded_sequences)\n",
        "# MaxPool divides the length of the sequence by 5\n",
        "x = MaxPooling1D(2)(x)\n",
        "# LSTM layer with a hidden size of 64\n",
        "x = LSTM(64)(x)\n",
        "x = Dense(30) (x)\n",
        "predictions = Dense(2, activation='softmax')(x)\n",
        "\n",
        "model = Model(sequence_input, predictions)\n",
        "model.compile(loss='categorical_crossentropy',\n",
        "              optimizer='adam',\n",
        "              metrics=['acc'])\n"
      ],
      "execution_count": 92,
      "outputs": []
    },
    {
      "cell_type": "code",
      "metadata": {
        "deletable": true,
        "editable": true,
        "id": "d_DgldjvrQxk",
        "colab": {
          "base_uri": "https://localhost:8080/"
        },
        "outputId": "b4a42480-4630-4eaa-fab2-e6e8c1ca0135"
      },
      "source": [
        "model.fit(x_train, y_train, validation_split=0.1,\n",
        "          epochs=5, batch_size=128)"
      ],
      "execution_count": 93,
      "outputs": [
        {
          "output_type": "stream",
          "name": "stdout",
          "text": [
            "Epoch 1/5\n",
            "53/53 [==============================] - 10s 131ms/step - loss: 0.6002 - acc: 0.7085 - val_loss: 0.5481 - val_acc: 0.7962\n",
            "Epoch 2/5\n",
            "53/53 [==============================] - 4s 79ms/step - loss: 0.4143 - acc: 0.8166 - val_loss: 0.6651 - val_acc: 0.6721\n",
            "Epoch 3/5\n",
            "53/53 [==============================] - 3s 51ms/step - loss: 0.1458 - acc: 0.9492 - val_loss: 0.5957 - val_acc: 0.7530\n",
            "Epoch 4/5\n",
            "53/53 [==============================] - 3s 55ms/step - loss: 0.0416 - acc: 0.9889 - val_loss: 0.9453 - val_acc: 0.7233\n",
            "Epoch 5/5\n",
            "53/53 [==============================] - 2s 42ms/step - loss: 0.0122 - acc: 0.9969 - val_loss: 1.1004 - val_acc: 0.7449\n"
          ]
        },
        {
          "output_type": "execute_result",
          "data": {
            "text/plain": [
              "<keras.callbacks.History at 0x7f5121271c10>"
            ]
          },
          "metadata": {},
          "execution_count": 93
        }
      ]
    },
    {
      "cell_type": "code",
      "metadata": {
        "deletable": true,
        "editable": true,
        "id": "Nu2QveWRtQNb",
        "colab": {
          "base_uri": "https://localhost:8080/"
        },
        "outputId": "0f5f98a4-84ca-4525-d486-891bb4e7496d"
      },
      "source": [
        "output_test = model.predict(x_test)\n",
        "test_casses = np.argmax(output_test, axis=-1)\n",
        "\n",
        "from sklearn.metrics import classification_report\n",
        "print(classification_report(np.array(test[\"opos\"]),test_casses,digits=5))\n"
      ],
      "execution_count": 94,
      "outputs": [
        {
          "output_type": "stream",
          "name": "stdout",
          "text": [
            "63/63 [==============================] - 0s 3ms/step\n",
            "              precision    recall  f1-score   support\n",
            "\n",
            "           0    0.86361   0.86833   0.86596      1648\n",
            "           1    0.36735   0.35795   0.36259       352\n",
            "\n",
            "    accuracy                        0.77850      2000\n",
            "   macro avg    0.61548   0.61314   0.61428      2000\n",
            "weighted avg    0.77627   0.77850   0.77737      2000\n",
            "\n"
          ]
        }
      ]
    },
    {
      "cell_type": "markdown",
      "metadata": {
        "deletable": true,
        "editable": true,
        "id": "Yg5PujZArQxp"
      },
      "source": [
        "### Loading pre-trained embeddings\n",
        "\n"
      ]
    },
    {
      "cell_type": "code",
      "metadata": {
        "id": "HDwTwcG3QZiK",
        "colab": {
          "base_uri": "https://localhost:8080/"
        },
        "outputId": "401b9829-cf84-442d-ec67-09132093bf18"
      },
      "source": [
        "import os.path as op\n",
        "import gzip\n",
        "import shutil\n",
        "from urllib.request import urlretrieve\n",
        "# Get pretrained FastText Embeddings\n",
        "URL_REPRESENTATIONS = \"https://dl.fbaipublicfiles.com/fasttext/vectors-crawl/cc.it.300.vec.gz\"\n",
        "ZIP_REPRESENTATIONS = \"cc.it.300.vec.gz\"\n",
        "FILE_REPRESENTATIONS = \"cc.it.300.vec\"\n",
        "\n",
        "if not op.exists(ZIP_REPRESENTATIONS):\n",
        "    print('Downloading from %s to %s...' % (URL_REPRESENTATIONS, ZIP_REPRESENTATIONS))\n",
        "    urlretrieve(URL_REPRESENTATIONS, './' + ZIP_REPRESENTATIONS)\n",
        "    \n",
        "with gzip.open(ZIP_REPRESENTATIONS, 'rb') as f_in:\n",
        "    with open(FILE_REPRESENTATIONS, 'wb') as f_out:\n",
        "        shutil.copyfileobj(f_in, f_out)"
      ],
      "execution_count": 95,
      "outputs": [
        {
          "output_type": "stream",
          "name": "stdout",
          "text": [
            "Downloading from https://dl.fbaipublicfiles.com/fasttext/vectors-crawl/cc.it.300.vec.gz to cc.it.300.vec.gz...\n"
          ]
        }
      ]
    },
    {
      "cell_type": "code",
      "metadata": {
        "deletable": true,
        "editable": true,
        "id": "s2ruhdN7rQxp",
        "colab": {
          "base_uri": "https://localhost:8080/"
        },
        "outputId": "e23fa607-3a88-4424-c345-cc8fd19372ac"
      },
      "source": [
        "embeddings_index = {}\n",
        "embeddings_vectors = []\n",
        "f = open('cc.it.300.vec', 'rb')\n",
        "\n",
        "word_idx = 0\n",
        "i = 0\n",
        "for line in f:\n",
        "    if i != 0:\n",
        "      values = line.decode('utf-8').split()\n",
        "      word = values[0]\n",
        "      vector = np.asarray(values[1:], dtype='float32')\n",
        "      embeddings_index[word] = word_idx\n",
        "      embeddings_vectors.append(vector)\n",
        "      word_idx = word_idx + 1\n",
        "    i = i+1\n",
        "f.close()\n",
        "\n",
        "inv_index = {v: k for k, v in embeddings_index.items()}\n",
        "print(\"found %d different words in the file\" % word_idx)"
      ],
      "execution_count": 12,
      "outputs": [
        {
          "output_type": "stream",
          "name": "stdout",
          "text": [
            "found 2000000 different words in the file\n"
          ]
        }
      ]
    },
    {
      "cell_type": "code",
      "metadata": {
        "deletable": true,
        "editable": true,
        "id": "155s4vaVrQxt",
        "colab": {
          "base_uri": "https://localhost:8080/"
        },
        "outputId": "9cc993f8-dbb9-449b-a09f-53ff069cd2bd"
      },
      "source": [
        "# Stack all embeddings in a large numpy array\n",
        "embeddings = np.vstack(embeddings_vectors)\n",
        "\n",
        "print(embeddings.shape)"
      ],
      "execution_count": 13,
      "outputs": [
        {
          "output_type": "stream",
          "name": "stdout",
          "text": [
            "(2000000, 300)\n"
          ]
        }
      ]
    },
    {
      "cell_type": "code",
      "metadata": {
        "deletable": true,
        "editable": true,
        "id": "GL_Hxg5RrQxv"
      },
      "source": [
        "def get_emb(word):\n",
        "    idx = embeddings_index.get(word)\n",
        "    if idx is None:\n",
        "        return None\n",
        "    else:\n",
        "        return embeddings[idx]"
      ],
      "execution_count": 14,
      "outputs": []
    },
    {
      "cell_type": "markdown",
      "metadata": {
        "deletable": true,
        "editable": true,
        "id": "wPLE9E9ZrQys"
      },
      "source": [
        "### Using pre-trained embeddings in our model\n",
        "\n",
        "We want to use these pre-trained embeddings for transfer learning. This process is rather similar than transfer learning in image recognition: the features learnt on words might help us bootstrap the learning process, and increase performance if we don't have enough training data.\n",
        "- We initialize embedding matrix from the model with embeddings:\n",
        " - take all words from our 20 Newgroup vocabulary (`MAX_NB_WORDS = 20000`), and look up their embedding \n",
        " - place the Glove embedding at the corresponding index in the matrix\n",
        " - if the word is not in the vocabulary, we only place zeros in the matrix\n",
        "- We may fix these embeddings or fine-tune them"
      ]
    },
    {
      "cell_type": "code",
      "metadata": {
        "deletable": true,
        "editable": true,
        "id": "OgMfL-eZrQys",
        "colab": {
          "base_uri": "https://localhost:8080/"
        },
        "outputId": "545b3b9a-d562-4c00-edef-f4b711ce374f"
      },
      "source": [
        "EMBEDDING_DIM = 300\n",
        "\n",
        "# prepare embedding matrix\n",
        "nb_words_in_matrix = 0\n",
        "nb_words = min(MAX_NB_WORDS, len(word_index))\n",
        "embedding_matrix = np.zeros((nb_words, EMBEDDING_DIM))\n",
        "\n",
        "for word, i in word_index.items():\n",
        "    if i >= MAX_NB_WORDS:\n",
        "        continue\n",
        "    embedding_vector = get_emb(word)\n",
        "    if embedding_vector is not None:\n",
        "        # words not found in embedding index will be all-zeros.\n",
        "        embedding_matrix[i] = embedding_vector\n",
        "        nb_words_in_matrix = nb_words_in_matrix + 1\n",
        "        \n",
        "print(\"added %d words in the embedding matrix\" % nb_words_in_matrix)"
      ],
      "execution_count": 15,
      "outputs": [
        {
          "output_type": "stream",
          "name": "stdout",
          "text": [
            "added 13368 words in the embedding matrix\n"
          ]
        }
      ]
    },
    {
      "cell_type": "code",
      "metadata": {
        "id": "YxHcT5YfajuG",
        "colab": {
          "base_uri": "https://localhost:8080/"
        },
        "outputId": "4fa14b49-4258-45f2-f9c7-7585fe0dfe75"
      },
      "source": [
        "print(embedding_matrix.shape)"
      ],
      "execution_count": 16,
      "outputs": [
        {
          "output_type": "stream",
          "name": "stdout",
          "text": [
            "(20000, 300)\n"
          ]
        }
      ]
    },
    {
      "cell_type": "markdown",
      "metadata": {
        "deletable": true,
        "editable": true,
        "id": "V93Ik4QWrQyv"
      },
      "source": [
        "Build a layer with pre-trained embeddings:"
      ]
    },
    {
      "cell_type": "code",
      "metadata": {
        "deletable": true,
        "editable": true,
        "id": "MhZZdW72rQyy"
      },
      "source": [
        "from keras.layers import Embedding\n",
        "pretrained_embedding_layer = Embedding(\n",
        "    MAX_NB_WORDS, EMBEDDING_DIM,\n",
        "    weights=[embedding_matrix],\n",
        "    input_length=MAX_SEQUENCE_LENGTH\n",
        ")"
      ],
      "execution_count": 19,
      "outputs": []
    },
    {
      "cell_type": "markdown",
      "metadata": {
        "deletable": true,
        "editable": true,
        "id": "8Y7iUkbwrQzE"
      },
      "source": [
        "### A model with pre-trained Embeddings\n",
        "\n",
        "Average word embeddings pre-trained with Glove / Word2Vec usually works suprisingly well. However, when averaging more than `10-15` words, the resulting vector becomes too noisy and classification performance is degraded."
      ]
    },
    {
      "cell_type": "code",
      "metadata": {
        "deletable": true,
        "editable": true,
        "id": "gG9dWAhorQzH"
      },
      "source": [
        "from keras.layers import LSTM, Conv1D, MaxPooling1D, Flatten, Input, Dense\n",
        "from keras.models import Model\n",
        "sequence_input = Input(shape=(MAX_SEQUENCE_LENGTH,), dtype='int32')\n",
        "emb = Embedding(MAX_NB_WORDS, EMBEDDING_DIM,weights=[embedding_matrix],input_length=MAX_SEQUENCE_LENGTH)(sequence_input)\n",
        "\n",
        "rec = LSTM(units=128,return_sequences = True)(emb)\n",
        "flat = Flatten()(rec)\n",
        "dense = Dense(200,activation='sigmoid') (flat)\n",
        "predictions = Dense(2, activation='softmax')(dense)\n",
        "\n",
        "model = Model(sequence_input, predictions)\n",
        "\n",
        "# We don't want to fine-tune embeddings\n",
        "model.layers[1].trainable=False\n",
        "\n",
        "model.compile(loss='categorical_crossentropy',\n",
        "              optimizer='adam', metrics=['acc'])"
      ],
      "execution_count": 24,
      "outputs": []
    },
    {
      "cell_type": "code",
      "metadata": {
        "id": "C_eSJiYdd_q6"
      },
      "source": [
        "from keras.utils import plot_model\n",
        "#plot_model(model)\n",
        "model.summary()"
      ],
      "execution_count": null,
      "outputs": []
    },
    {
      "cell_type": "code",
      "metadata": {
        "deletable": true,
        "editable": true,
        "id": "lMt5THcJrQza",
        "colab": {
          "base_uri": "https://localhost:8080/"
        },
        "outputId": "ef9b2aaf-e338-4e4a-8dba-6744926d0f7a"
      },
      "source": [
        "model.fit(x_train, y_train, validation_split=0.1,\n",
        "          epochs=10, batch_size=128)\n",
        "\n",
        "# Note, on this type of task, this technique will \n",
        "# degrade results as we train much less parameters\n",
        "# and we average a large number pre-trained embeddings.\n",
        "# You will notice much less overfitting then!\n",
        "# Using convolutions / LSTM will help\n",
        "# It is also advisable to treat seperately pre-trained\n",
        "# embeddings and words out of vocabulary."
      ],
      "execution_count": 26,
      "outputs": [
        {
          "output_type": "stream",
          "name": "stdout",
          "text": [
            "Epoch 1/10\n",
            "53/53 [==============================] - 10s 17ms/step - loss: 0.5981 - acc: 0.6961 - val_loss: 0.5842 - val_acc: 0.6910\n",
            "Epoch 2/10\n",
            "53/53 [==============================] - 0s 8ms/step - loss: 0.5244 - acc: 0.7523 - val_loss: 0.4527 - val_acc: 0.8124\n",
            "Epoch 3/10\n",
            "53/53 [==============================] - 0s 7ms/step - loss: 0.4959 - acc: 0.7716 - val_loss: 0.4863 - val_acc: 0.7827\n",
            "Epoch 4/10\n",
            "53/53 [==============================] - 0s 7ms/step - loss: 0.4757 - acc: 0.7799 - val_loss: 0.6217 - val_acc: 0.6896\n",
            "Epoch 5/10\n",
            "53/53 [==============================] - 0s 6ms/step - loss: 0.4570 - acc: 0.7925 - val_loss: 0.5556 - val_acc: 0.7409\n",
            "Epoch 6/10\n",
            "53/53 [==============================] - 0s 7ms/step - loss: 0.4368 - acc: 0.8033 - val_loss: 0.5512 - val_acc: 0.7598\n",
            "Epoch 7/10\n",
            "53/53 [==============================] - 0s 6ms/step - loss: 0.4184 - acc: 0.8154 - val_loss: 0.4863 - val_acc: 0.7881\n",
            "Epoch 8/10\n",
            "53/53 [==============================] - 0s 7ms/step - loss: 0.4127 - acc: 0.8118 - val_loss: 0.4955 - val_acc: 0.7800\n",
            "Epoch 9/10\n",
            "53/53 [==============================] - 0s 7ms/step - loss: 0.3891 - acc: 0.8334 - val_loss: 0.6746 - val_acc: 0.7072\n",
            "Epoch 10/10\n",
            "53/53 [==============================] - 0s 6ms/step - loss: 0.3728 - acc: 0.8357 - val_loss: 0.6871 - val_acc: 0.6896\n"
          ]
        },
        {
          "output_type": "execute_result",
          "data": {
            "text/plain": [
              "<keras.callbacks.History at 0x7f61b3f86580>"
            ]
          },
          "metadata": {},
          "execution_count": 26
        }
      ]
    },
    {
      "cell_type": "code",
      "metadata": {
        "id": "0WKZdqUlXHle",
        "colab": {
          "base_uri": "https://localhost:8080/"
        },
        "outputId": "c7640d1c-86c8-4f47-ac72-6f47cf7ceeea"
      },
      "source": [
        "output_test = model.predict(x_test)\n",
        "test_casses = np.argmax(output_test, axis=-1)\n",
        "\n",
        "from sklearn.metrics import classification_report\n",
        "print(classification_report(np.array(test[\"opos\"]),test_casses,digits=5))"
      ],
      "execution_count": 27,
      "outputs": [
        {
          "output_type": "stream",
          "name": "stdout",
          "text": [
            "63/63 [==============================] - 1s 3ms/step\n",
            "              precision    recall  f1-score   support\n",
            "\n",
            "           0    0.87435   0.71359   0.78583      1648\n",
            "           1    0.27939   0.51989   0.36346       352\n",
            "\n",
            "    accuracy                        0.67950      2000\n",
            "   macro avg    0.57687   0.61674   0.57464      2000\n",
            "weighted avg    0.76964   0.67950   0.71150      2000\n",
            "\n"
          ]
        }
      ]
    }
  ]
}