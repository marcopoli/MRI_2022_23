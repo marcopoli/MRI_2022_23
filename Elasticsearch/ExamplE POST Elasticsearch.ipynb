{
 "cells": [
  {
   "cell_type": "markdown",
   "metadata": {},
   "source": [
    "<h1>Basic Elastic Test!</h1>"
   ]
  },
  {
   "cell_type": "code",
   "execution_count": 1,
   "metadata": {},
   "outputs": [
    {
     "name": "stdout",
     "output_type": "stream",
     "text": [
      "Requirement already satisfied: requests in ./opt/anaconda3/envs/scrapy/lib/python3.6/site-packages (2.27.1)\n",
      "Requirement already satisfied: certifi>=2017.4.17 in ./opt/anaconda3/envs/scrapy/lib/python3.6/site-packages (from requests) (2021.5.30)\n",
      "Requirement already satisfied: idna<4,>=2.5 in ./opt/anaconda3/envs/scrapy/lib/python3.6/site-packages (from requests) (3.4)\n",
      "Requirement already satisfied: charset-normalizer~=2.0.0 in ./opt/anaconda3/envs/scrapy/lib/python3.6/site-packages (from requests) (2.0.12)\n",
      "Requirement already satisfied: urllib3<1.27,>=1.21.1 in ./opt/anaconda3/envs/scrapy/lib/python3.6/site-packages (from requests) (1.26.13)\n"
     ]
    }
   ],
   "source": [
    "!pip3 install requests"
   ]
  },
  {
   "cell_type": "code",
   "execution_count": 2,
   "metadata": {},
   "outputs": [],
   "source": [
    "import requests\n",
    "import json \n",
    "#MY ELASTICSEARCH URL\n",
    "URL = \"http://127.0.0.1:9200/\""
   ]
  },
  {
   "cell_type": "code",
   "execution_count": 3,
   "metadata": {},
   "outputs": [],
   "source": [
    "#Request URL\n",
    "R_URL = URL+\"shakespeare/_doc/38249\""
   ]
  },
  {
   "cell_type": "code",
   "execution_count": 4,
   "metadata": {},
   "outputs": [
    {
     "name": "stdout",
     "output_type": "stream",
     "text": [
      "The response is:{\"_index\":\"shakespeare\",\"_type\":\"_doc\",\"_id\":\"38249\",\"_version\":1,\"_seq_no\":37967,\"_primary_term\":1,\"found\":true,\"_source\":{\"line_id\":38250,\"play_name\":\"Henry V\",\"speech_number\":26,\"line_number\":\"3.6.96\",\"speaker\":\"FLUELLEN\",\"text_entry\":\"prave man.\"}}\n"
     ]
    }
   ],
   "source": [
    "# sending post request and saving response as response object \n",
    "r = requests.get(url = R_URL) \n",
    "  \n",
    "# extracting response text  \n",
    "response = r.text \n",
    "print(\"The response is:%s\"%response) "
   ]
  },
  {
   "cell_type": "code",
   "execution_count": 5,
   "metadata": {},
   "outputs": [],
   "source": [
    "y = json.loads(response)"
   ]
  },
  {
   "cell_type": "code",
   "execution_count": 6,
   "metadata": {},
   "outputs": [
    {
     "name": "stdout",
     "output_type": "stream",
     "text": [
      "Henry V\n"
     ]
    }
   ],
   "source": [
    "# the result is a Python dictionary:\n",
    "print(y[\"_source\"][\"play_name\"]) "
   ]
  },
  {
   "cell_type": "code",
   "execution_count": 7,
   "metadata": {},
   "outputs": [
    {
     "name": "stdout",
     "output_type": "stream",
     "text": [
      "{'_index': 'shakespeare', '_type': '_doc', '_id': '38249', '_version': 1, '_seq_no': 37967, '_primary_term': 1, 'found': True, '_source': {'line_id': 38250, 'play_name': 'Henry V', 'speech_number': 26, 'line_number': '3.6.96', 'speaker': 'FLUELLEN', 'text_entry': 'prave man.'}}\n"
     ]
    }
   ],
   "source": [
    "print(y)"
   ]
  },
  {
   "cell_type": "code",
   "execution_count": 8,
   "metadata": {},
   "outputs": [
    {
     "name": "stdout",
     "output_type": "stream",
     "text": [
      "{\n",
      "    \"_index\": \"shakespeare\",\n",
      "    \"_type\": \"_doc\",\n",
      "    \"_id\": \"38249\",\n",
      "    \"_version\": 1,\n",
      "    \"_seq_no\": 37967,\n",
      "    \"_primary_term\": 1,\n",
      "    \"found\": true,\n",
      "    \"_source\": {\n",
      "        \"line_id\": 38250,\n",
      "        \"play_name\": \"Henry V\",\n",
      "        \"speech_number\": 26,\n",
      "        \"line_number\": \"3.6.96\",\n",
      "        \"speaker\": \"FLUELLEN\",\n",
      "        \"text_entry\": \"prave man.\"\n",
      "    }\n",
      "}\n"
     ]
    }
   ],
   "source": [
    "# pretty printing data\n",
    "pretty_data = json.dumps(y, indent=4)\n",
    " \n",
    "print(pretty_data)"
   ]
  },
  {
   "cell_type": "markdown",
   "metadata": {},
   "source": [
    "<h1>Let's try a search request</h1>"
   ]
  },
  {
   "cell_type": "code",
   "execution_count": 9,
   "metadata": {},
   "outputs": [],
   "source": [
    "#Request URL\n",
    "R_URL = URL+\"shakespeare/_search\""
   ]
  },
  {
   "cell_type": "code",
   "execution_count": 10,
   "metadata": {},
   "outputs": [],
   "source": [
    "#PAYLOAD\n",
    "R_data =\"{\\\"query\\\": { \\\"match\\\" : { \\\"text_entry\\\" : {\\\"query\\\" : \\\"knife war edge\\\",\\\"operator\\\" : \\\"and\\\"}}} }\"\n",
    "JSON_DATA = y = json.loads(R_data)"
   ]
  },
  {
   "cell_type": "code",
   "execution_count": 11,
   "metadata": {},
   "outputs": [],
   "source": [
    "response = requests.post(url = R_URL, json = JSON_DATA)"
   ]
  },
  {
   "cell_type": "code",
   "execution_count": 12,
   "metadata": {},
   "outputs": [
    {
     "name": "stdout",
     "output_type": "stream",
     "text": [
      "The response is:{\"took\":8,\"timed_out\":false,\"_shards\":{\"total\":1,\"successful\":1,\"skipped\":0,\"failed\":0},\"hits\":{\"total\":{\"value\":1,\"relation\":\"eq\"},\"max_score\":20.073416,\"hits\":[{\"_index\":\"shakespeare\",\"_type\":\"_doc\",\"_id\":\"19\",\"_score\":20.073416,\"_source\":{\"line_id\":20,\"play_name\":\"Henry IV\",\"speech_number\":1,\"line_number\":\"1.1.17\",\"speaker\":\"KING HENRY IV\",\"text_entry\":\"The edge of war, like an ill-sheathed knife,\"}}]}}\n"
     ]
    }
   ],
   "source": [
    "response  = response.text \n",
    "print(\"The response is:%s\"%response) "
   ]
  },
  {
   "cell_type": "code",
   "execution_count": 13,
   "metadata": {},
   "outputs": [
    {
     "name": "stdout",
     "output_type": "stream",
     "text": [
      "{'took': 8, 'timed_out': False, '_shards': {'total': 1, 'successful': 1, 'skipped': 0, 'failed': 0}, 'hits': {'total': {'value': 1, 'relation': 'eq'}, 'max_score': 20.073416, 'hits': [{'_index': 'shakespeare', '_type': '_doc', '_id': '19', '_score': 20.073416, '_source': {'line_id': 20, 'play_name': 'Henry IV', 'speech_number': 1, 'line_number': '1.1.17', 'speaker': 'KING HENRY IV', 'text_entry': 'The edge of war, like an ill-sheathed knife,'}}]}}\n",
      "{\n",
      "    \"took\": 8,\n",
      "    \"timed_out\": false,\n",
      "    \"_shards\": {\n",
      "        \"total\": 1,\n",
      "        \"successful\": 1,\n",
      "        \"skipped\": 0,\n",
      "        \"failed\": 0\n",
      "    },\n",
      "    \"hits\": {\n",
      "        \"total\": {\n",
      "            \"value\": 1,\n",
      "            \"relation\": \"eq\"\n",
      "        },\n",
      "        \"max_score\": 20.073416,\n",
      "        \"hits\": [\n",
      "            {\n",
      "                \"_index\": \"shakespeare\",\n",
      "                \"_type\": \"_doc\",\n",
      "                \"_id\": \"19\",\n",
      "                \"_score\": 20.073416,\n",
      "                \"_source\": {\n",
      "                    \"line_id\": 20,\n",
      "                    \"play_name\": \"Henry IV\",\n",
      "                    \"speech_number\": 1,\n",
      "                    \"line_number\": \"1.1.17\",\n",
      "                    \"speaker\": \"KING HENRY IV\",\n",
      "                    \"text_entry\": \"The edge of war, like an ill-sheathed knife,\"\n",
      "                }\n",
      "            }\n",
      "        ]\n",
      "    }\n",
      "}\n"
     ]
    }
   ],
   "source": [
    "#Convert to JSON\n",
    "y = json.loads(response)\n",
    "print(y)\n",
    "# pretty printing data\n",
    "pretty_data = json.dumps(y, indent=4)\n",
    " \n",
    "print(pretty_data)"
   ]
  },
  {
   "cell_type": "code",
   "execution_count": 14,
   "metadata": {},
   "outputs": [
    {
     "name": "stdout",
     "output_type": "stream",
     "text": [
      "The edge of war, like an ill-sheathed knife,\n"
     ]
    }
   ],
   "source": [
    "#Print the specific field\n",
    "print(y[\"hits\"][\"hits\"][0][\"_source\"][\"text_entry\"])"
   ]
  },
  {
   "cell_type": "markdown",
   "metadata": {},
   "source": [
    "<h1>Lercio Crawling</h1>"
   ]
  },
  {
   "cell_type": "code",
   "execution_count": 15,
   "metadata": {},
   "outputs": [],
   "source": [
    "#Define requests object\n",
    "import requests\n",
    "import json \n",
    "#MY ELASTICSEARCH URL\n",
    "URL = \"http://127.0.0.1:9200/\""
   ]
  },
  {
   "cell_type": "code",
   "execution_count": 16,
   "metadata": {},
   "outputs": [
    {
     "name": "stdout",
     "output_type": "stream",
     "text": [
      "{\n",
      "    \"acknowledged\": true,\n",
      "    \"shards_acknowledged\": true,\n",
      "    \"index\": \"lercio\"\n",
      "}\n"
     ]
    }
   ],
   "source": [
    "#New Lercio Index\n",
    "index = \"{ \\\"mappings\\\":{\\\"properties\\\":{\\\"title\\\" : {\\\"type\\\": \\\"text\\\" }, \\\"url\\\" : {\\\"type\\\": \\\"keyword\\\" },  \\\"author\\\" : { \\\"type\\\" : \\\"text\\\" }, \\\"abstract\\\" : { \\\"type\\\" : \\\"text\\\" }}}}\"\n",
    "JSON_DATA = json.loads(index)\n",
    "\n",
    "#Request URL\n",
    "R_URL = URL+\"lercio\"\n",
    "RINS_URL = URL+\"lercio/_doc/\"\n",
    "\n",
    "response = requests.put(url = R_URL, json = JSON_DATA)\n",
    "response  = response.text \n",
    "\n",
    "#Convert to JSON\n",
    "y = json.loads(response)\n",
    "# pretty printing data\n",
    "pretty_data = json.dumps(y, indent=4)\n",
    "print(pretty_data)"
   ]
  },
  {
   "cell_type": "code",
   "execution_count": 17,
   "metadata": {},
   "outputs": [
    {
     "name": "stdout",
     "output_type": "stream",
     "text": [
      "Requirement already satisfied: scrapy==2.6.2 in ./opt/anaconda3/envs/scrapy/lib/python3.6/site-packages (2.6.2)\n",
      "Requirement already satisfied: PyDispatcher>=2.0.5 in ./opt/anaconda3/envs/scrapy/lib/python3.6/site-packages (from scrapy==2.6.2) (2.0.6)\n",
      "Requirement already satisfied: queuelib>=1.4.2 in ./opt/anaconda3/envs/scrapy/lib/python3.6/site-packages (from scrapy==2.6.2) (1.6.2)\n",
      "Requirement already satisfied: tldextract in ./opt/anaconda3/envs/scrapy/lib/python3.6/site-packages (from scrapy==2.6.2) (3.1.2)\n",
      "Requirement already satisfied: pyOpenSSL>=16.2.0 in ./opt/anaconda3/envs/scrapy/lib/python3.6/site-packages (from scrapy==2.6.2) (22.0.0)\n",
      "Requirement already satisfied: lxml>=3.5.0 in ./opt/anaconda3/envs/scrapy/lib/python3.6/site-packages (from scrapy==2.6.2) (4.9.1)\n",
      "Requirement already satisfied: cryptography>=2.0 in ./opt/anaconda3/envs/scrapy/lib/python3.6/site-packages (from scrapy==2.6.2) (38.0.4)\n",
      "Requirement already satisfied: itemloaders>=1.0.1 in ./opt/anaconda3/envs/scrapy/lib/python3.6/site-packages (from scrapy==2.6.2) (1.0.6)\n",
      "Requirement already satisfied: protego>=0.1.15 in ./opt/anaconda3/envs/scrapy/lib/python3.6/site-packages (from scrapy==2.6.2) (0.2.1)\n",
      "Requirement already satisfied: service-identity>=16.0.0 in ./opt/anaconda3/envs/scrapy/lib/python3.6/site-packages (from scrapy==2.6.2) (21.1.0)\n",
      "Requirement already satisfied: Twisted>=17.9.0 in ./opt/anaconda3/envs/scrapy/lib/python3.6/site-packages (from scrapy==2.6.2) (22.4.0)\n",
      "Requirement already satisfied: cssselect>=0.9.1 in ./opt/anaconda3/envs/scrapy/lib/python3.6/site-packages (from scrapy==2.6.2) (1.1.0)\n",
      "Requirement already satisfied: w3lib>=1.17.0 in ./opt/anaconda3/envs/scrapy/lib/python3.6/site-packages (from scrapy==2.6.2) (2.0.1)\n",
      "Requirement already satisfied: itemadapter>=0.1.0 in ./opt/anaconda3/envs/scrapy/lib/python3.6/site-packages (from scrapy==2.6.2) (0.7.0)\n",
      "Requirement already satisfied: setuptools in ./opt/anaconda3/envs/scrapy/lib/python3.6/site-packages (from scrapy==2.6.2) (58.0.4)\n",
      "Requirement already satisfied: zope.interface>=4.1.3 in ./opt/anaconda3/envs/scrapy/lib/python3.6/site-packages (from scrapy==2.6.2) (5.5.2)\n",
      "Requirement already satisfied: parsel>=1.5.0 in ./opt/anaconda3/envs/scrapy/lib/python3.6/site-packages (from scrapy==2.6.2) (1.6.0)\n",
      "Requirement already satisfied: cffi>=1.12 in ./opt/anaconda3/envs/scrapy/lib/python3.6/site-packages (from cryptography>=2.0->scrapy==2.6.2) (1.14.6)\n",
      "Requirement already satisfied: pycparser in ./opt/anaconda3/envs/scrapy/lib/python3.6/site-packages (from cffi>=1.12->cryptography>=2.0->scrapy==2.6.2) (2.21)\n",
      "Requirement already satisfied: jmespath>=0.9.5 in ./opt/anaconda3/envs/scrapy/lib/python3.6/site-packages (from itemloaders>=1.0.1->scrapy==2.6.2) (0.10.0)\n",
      "Requirement already satisfied: six>=1.6.0 in ./opt/anaconda3/envs/scrapy/lib/python3.6/site-packages (from parsel>=1.5.0->scrapy==2.6.2) (1.16.0)\n",
      "Requirement already satisfied: attrs>=19.1.0 in ./opt/anaconda3/envs/scrapy/lib/python3.6/site-packages (from service-identity>=16.0.0->scrapy==2.6.2) (21.4.0)\n",
      "Requirement already satisfied: pyasn1-modules in ./opt/anaconda3/envs/scrapy/lib/python3.6/site-packages (from service-identity>=16.0.0->scrapy==2.6.2) (0.2.8)\n",
      "Requirement already satisfied: pyasn1 in ./opt/anaconda3/envs/scrapy/lib/python3.6/site-packages (from service-identity>=16.0.0->scrapy==2.6.2) (0.4.8)\n",
      "Requirement already satisfied: constantly>=15.1 in ./opt/anaconda3/envs/scrapy/lib/python3.6/site-packages (from Twisted>=17.9.0->scrapy==2.6.2) (15.1.0)\n",
      "Requirement already satisfied: incremental>=21.3.0 in ./opt/anaconda3/envs/scrapy/lib/python3.6/site-packages (from Twisted>=17.9.0->scrapy==2.6.2) (22.10.0)\n",
      "Requirement already satisfied: typing-extensions>=3.6.5 in ./opt/anaconda3/envs/scrapy/lib/python3.6/site-packages (from Twisted>=17.9.0->scrapy==2.6.2) (4.1.1)\n",
      "Requirement already satisfied: hyperlink>=17.1.1 in ./opt/anaconda3/envs/scrapy/lib/python3.6/site-packages (from Twisted>=17.9.0->scrapy==2.6.2) (21.0.0)\n",
      "Requirement already satisfied: Automat>=0.8.0 in ./opt/anaconda3/envs/scrapy/lib/python3.6/site-packages (from Twisted>=17.9.0->scrapy==2.6.2) (22.10.0)\n",
      "Requirement already satisfied: idna>=2.5 in ./opt/anaconda3/envs/scrapy/lib/python3.6/site-packages (from hyperlink>=17.1.1->Twisted>=17.9.0->scrapy==2.6.2) (3.4)\n",
      "Requirement already satisfied: filelock>=3.0.8 in ./opt/anaconda3/envs/scrapy/lib/python3.6/site-packages (from tldextract->scrapy==2.6.2) (3.4.1)\n",
      "Requirement already satisfied: requests-file>=1.4 in ./opt/anaconda3/envs/scrapy/lib/python3.6/site-packages (from tldextract->scrapy==2.6.2) (1.5.1)\n",
      "Requirement already satisfied: requests>=2.1.0 in ./opt/anaconda3/envs/scrapy/lib/python3.6/site-packages (from tldextract->scrapy==2.6.2) (2.27.1)\n",
      "Requirement already satisfied: certifi>=2017.4.17 in ./opt/anaconda3/envs/scrapy/lib/python3.6/site-packages (from requests>=2.1.0->tldextract->scrapy==2.6.2) (2021.5.30)\n",
      "Requirement already satisfied: urllib3<1.27,>=1.21.1 in ./opt/anaconda3/envs/scrapy/lib/python3.6/site-packages (from requests>=2.1.0->tldextract->scrapy==2.6.2) (1.26.13)\n",
      "Requirement already satisfied: charset-normalizer~=2.0.0 in ./opt/anaconda3/envs/scrapy/lib/python3.6/site-packages (from requests>=2.1.0->tldextract->scrapy==2.6.2) (2.0.12)\n"
     ]
    }
   ],
   "source": [
    "import sys\n",
    "!pip3 install scrapy==2.6.2\n",
    "import attrs"
   ]
  },
  {
   "cell_type": "code",
   "execution_count": 18,
   "metadata": {},
   "outputs": [],
   "source": [
    "#!pip3 install pyopenssl==22.0.0"
   ]
  },
  {
   "cell_type": "code",
   "execution_count": 19,
   "metadata": {},
   "outputs": [
    {
     "name": "stderr",
     "output_type": "stream",
     "text": [
      "/Users/uniba/opt/anaconda3/envs/scrapy/lib/python3.6/site-packages/OpenSSL/crypto.py:8: CryptographyDeprecationWarning: Python 3.6 is no longer supported by the Python core team. Therefore, support for it is deprecated in cryptography and will be removed in a future release.\n",
      "  from cryptography import utils, x509\n"
     ]
    }
   ],
   "source": [
    "import scrapy"
   ]
  },
  {
   "cell_type": "code",
   "execution_count": 20,
   "metadata": {},
   "outputs": [
    {
     "name": "stderr",
     "output_type": "stream",
     "text": [
      "2022-12-12 18:27:22 [scrapy.utils.log] INFO: Scrapy 2.6.2 started (bot: scrapybot)\n",
      "2022-12-12 18:27:22 [scrapy.utils.log] INFO: Versions: lxml 4.9.1.0, libxml2 2.9.14, cssselect 1.1.0, parsel 1.6.0, w3lib 2.0.1, Twisted 22.4.0, Python 3.6.13 |Anaconda, Inc.| (default, Feb 23 2021, 12:58:59) - [GCC Clang 10.0.0 ], pyOpenSSL 22.0.0 (OpenSSL 3.0.7 1 Nov 2022), cryptography 38.0.4, Platform Darwin-21.1.0-x86_64-i386-64bit\n",
      "2022-12-12 18:27:22 [scrapy.crawler] INFO: Overridden settings:\n",
      "{}\n",
      "2022-12-12 18:27:22 [scrapy.utils.log] DEBUG: Using reactor: twisted.internet.selectreactor.SelectReactor\n",
      "2022-12-12 18:27:22 [scrapy.extensions.telnet] INFO: Telnet Password: 1264998751eee6b7\n",
      "2022-12-12 18:27:22 [scrapy.middleware] INFO: Enabled extensions:\n",
      "['scrapy.extensions.corestats.CoreStats',\n",
      " 'scrapy.extensions.telnet.TelnetConsole',\n",
      " 'scrapy.extensions.memusage.MemoryUsage',\n",
      " 'scrapy.extensions.logstats.LogStats']\n",
      "2022-12-12 18:27:23 [scrapy.middleware] INFO: Enabled downloader middlewares:\n",
      "['scrapy.downloadermiddlewares.httpauth.HttpAuthMiddleware',\n",
      " 'scrapy.downloadermiddlewares.downloadtimeout.DownloadTimeoutMiddleware',\n",
      " 'scrapy.downloadermiddlewares.defaultheaders.DefaultHeadersMiddleware',\n",
      " 'scrapy.downloadermiddlewares.useragent.UserAgentMiddleware',\n",
      " 'scrapy.downloadermiddlewares.retry.RetryMiddleware',\n",
      " 'scrapy.downloadermiddlewares.redirect.MetaRefreshMiddleware',\n",
      " 'scrapy.downloadermiddlewares.httpcompression.HttpCompressionMiddleware',\n",
      " 'scrapy.downloadermiddlewares.redirect.RedirectMiddleware',\n",
      " 'scrapy.downloadermiddlewares.cookies.CookiesMiddleware',\n",
      " 'scrapy.downloadermiddlewares.httpproxy.HttpProxyMiddleware',\n",
      " 'scrapy.downloadermiddlewares.stats.DownloaderStats']\n",
      "2022-12-12 18:27:23 [scrapy.middleware] INFO: Enabled spider middlewares:\n",
      "['scrapy.spidermiddlewares.httperror.HttpErrorMiddleware',\n",
      " 'scrapy.spidermiddlewares.offsite.OffsiteMiddleware',\n",
      " 'scrapy.spidermiddlewares.referer.RefererMiddleware',\n",
      " 'scrapy.spidermiddlewares.urllength.UrlLengthMiddleware',\n",
      " 'scrapy.spidermiddlewares.depth.DepthMiddleware']\n",
      "2022-12-12 18:27:23 [scrapy.middleware] INFO: Enabled item pipelines:\n",
      "[]\n",
      "2022-12-12 18:27:23 [scrapy.core.engine] INFO: Spider opened\n",
      "2022-12-12 18:27:23 [scrapy.extensions.logstats] INFO: Crawled 0 pages (at 0 pages/min), scraped 0 items (at 0 items/min)\n",
      "2022-12-12 18:27:23 [scrapy.extensions.telnet] INFO: Telnet console listening on 127.0.0.1:6023\n",
      "2022-12-12 18:27:23 [scrapy.core.engine] DEBUG: Crawled (200) <GET https://www.lercio.it/category/politica/> (referer: None)\n",
      "2022-12-12 18:27:23 [urllib3.connectionpool] DEBUG: Starting new HTTP connection (1): 127.0.0.1:9200\n",
      "2022-12-12 18:27:23 [urllib3.connectionpool] DEBUG: http://127.0.0.1:9200 \"POST /lercio/_doc/ HTTP/1.1\" 201 162\n",
      "2022-12-12 18:27:23 [urllib3.connectionpool] DEBUG: Starting new HTTP connection (1): 127.0.0.1:9200\n",
      "2022-12-12 18:27:23 [urllib3.connectionpool] DEBUG: http://127.0.0.1:9200 \"POST /lercio/_doc/ HTTP/1.1\" 201 161\n",
      "2022-12-12 18:27:23 [urllib3.connectionpool] DEBUG: Starting new HTTP connection (1): 127.0.0.1:9200\n",
      "2022-12-12 18:27:23 [urllib3.connectionpool] DEBUG: http://127.0.0.1:9200 \"POST /lercio/_doc/ HTTP/1.1\" 201 163\n",
      "2022-12-12 18:27:23 [urllib3.connectionpool] DEBUG: Starting new HTTP connection (1): 127.0.0.1:9200\n"
     ]
    },
    {
     "name": "stdout",
     "output_type": "stream",
     "text": [
      " Napoli – Dopo le recenti uscite di Alessandro Orsini sull’invas... sull’operazione speciale in corso in Ucraina, un gruppo…\n",
      "{'title': 'Ritrovato appunto di Orsini sui Mondiali ‘82:  Contro il Brasile l’Italia deve arrendersi subito”', 'url': 'https://www.lercio.it/ritrovato-appunto-di-orsini-sui-mondiali-82-contro-il-brasile-litalia-deve-arrendersi-subito/', 'author': 'Augusto Rasori', 'abstract': ' Napoli – Dopo le recenti uscite di Alessandro Orsini sull’invas... sull’operazione speciale in corso in Ucraina, un gruppo…'}\n",
      " ROMA – Sono ore febbrili quelle che si stanno vivendo al palazzo del Viminale, dove Matteo Salvini si…\n",
      "{'title': 'Salvini:  Mia figlia ha quasi finito di disegnare il progetto per il Ponte sullo Stretto ', 'url': 'https://www.lercio.it/salvini-mia-figlia-ha-quasi-finito-di-disegnare-il-progetto-per-il-ponte-sullo-stretto/', 'author': 'Augusto Rasori', 'abstract': ' ROMA – Sono ore febbrili quelle che si stanno vivendo al palazzo del Viminale, dove Matteo Salvini si…'}\n",
      " Fabio Corigliano\n",
      "{'title': ' Ha fatto tanto per la destra italiana . Ignazio La Russa mette un busto di Soumahoro in casa', 'url': 'https://www.lercio.it/ha-fatto-tanto-per-la-destra-italiana-ignazio-la-russa-mette-un-busto-di-soumahoro-in-casa/', 'author': 'Fabio Corigliano', 'abstract': ' Fabio Corigliano'}\n",
      " Milano/Cortina 2026 – Mentre il taxi mi portava al convegno di Confesercenti Lombardia dedicato alle gonadi di Elon…\n",
      "{'title': 'Stop all obbligo del POS sotto i 60€. La rabbia degli evasori:  Così diventa troppo semplice ', 'url': 'https://www.lercio.it/stop-allobbligo-del-pos-sotto-i-60e-la-rabbia-degli-evasori-cosi-diventa-troppo-semplice/', 'author': 'Andrea H. Sesta', 'abstract': ' Milano/Cortina 2026 – Mentre il taxi mi portava al convegno di Confesercenti Lombardia dedicato alle gonadi di Elon…'}\n"
     ]
    },
    {
     "name": "stderr",
     "output_type": "stream",
     "text": [
      "2022-12-12 18:27:23 [urllib3.connectionpool] DEBUG: http://127.0.0.1:9200 \"POST /lercio/_doc/ HTTP/1.1\" 201 162\n",
      "2022-12-12 18:27:23 [urllib3.connectionpool] DEBUG: Starting new HTTP connection (1): 127.0.0.1:9200\n",
      "2022-12-12 18:27:23 [urllib3.connectionpool] DEBUG: http://127.0.0.1:9200 \"POST /lercio/_doc/ HTTP/1.1\" 201 163\n",
      "2022-12-12 18:27:23 [urllib3.connectionpool] DEBUG: Starting new HTTP connection (1): 127.0.0.1:9200\n",
      "2022-12-12 18:27:23 [urllib3.connectionpool] DEBUG: http://127.0.0.1:9200 \"POST /lercio/_doc/ HTTP/1.1\" 201 163\n",
      "2022-12-12 18:27:23 [urllib3.connectionpool] DEBUG: Starting new HTTP connection (1): 127.0.0.1:9200\n",
      "2022-12-12 18:27:23 [urllib3.connectionpool] DEBUG: http://127.0.0.1:9200 \"POST /lercio/_doc/ HTTP/1.1\" 201 164\n",
      "2022-12-12 18:27:23 [urllib3.connectionpool] DEBUG: Starting new HTTP connection (1): 127.0.0.1:9200\n"
     ]
    },
    {
     "name": "stdout",
     "output_type": "stream",
     "text": [
      " Fabio Corigliano\n",
      "{'title': 'Vaticano. Spunta un audio choc del Papa:  Forse sarebbe giusto iniziare a pagare l IMU ', 'url': 'https://www.lercio.it/vaticano-spunta-un-audio-choc-del-papa-forse-sarebbe-giusto-iniziare-a-pagare-limu/', 'author': 'Fabio Corigliano', 'abstract': ' Fabio Corigliano'}\n",
      " Andrea Sesta\n",
      "{'title': 'Legge di Bilancio, il Governo introduce i numeri immaginari per far quadrare i conti', 'url': 'https://www.lercio.it/legge-di-bilancio-il-governo-introduce-i-numeri-immaginari-per-far-quadrare-i-conti/', 'author': 'Andrea H. Sesta', 'abstract': ' Andrea Sesta'}\n",
      " Francesco Conte\n",
      "{'title': ' Evviva l umiliazione , il Ministro Valditara esulta per le migliaia di insulti ricevuti', 'url': 'https://www.lercio.it/evviva-lumiliazione-il-ministro-valditara-esulta-per-le-migliaia-di-insulti-ricevuti/', 'author': 'Il Democritico', 'abstract': ' Francesco Conte'}\n",
      " Andrea Sesta\n",
      "{'title': '\\xa0Bonus Matrimoni, controproposta di Forza Italia:  20mila euro a chi sposa Silvio Berlusconi ', 'url': 'https://www.lercio.it/bonus-matrimoni-controproposta-di-forza-italia-20mila-euro-a-chi-sposa-silvio-berlusconi/', 'author': 'Andrea H. Sesta', 'abstract': ' Andrea Sesta'}\n"
     ]
    },
    {
     "name": "stderr",
     "output_type": "stream",
     "text": [
      "2022-12-12 18:27:24 [urllib3.connectionpool] DEBUG: http://127.0.0.1:9200 \"POST /lercio/_doc/ HTTP/1.1\" 201 164\n",
      "2022-12-12 18:27:24 [urllib3.connectionpool] DEBUG: Starting new HTTP connection (1): 127.0.0.1:9200\n",
      "2022-12-12 18:27:24 [urllib3.connectionpool] DEBUG: http://127.0.0.1:9200 \"POST /lercio/_doc/ HTTP/1.1\" 201 163\n"
     ]
    },
    {
     "name": "stdout",
     "output_type": "stream",
     "text": [
      " Alessandro Cai\n",
      "{'title': 'Emergenza sbarchi, Governo italiano punta ad abolire il principio di Archimede', 'url': 'https://www.lercio.it/emergenza-sbarchi-governo-italiano-punta-ad-abolire-il-principio-di-archimede/', 'author': 'lercio', 'abstract': ' Alessandro Cai'}\n"
     ]
    },
    {
     "name": "stderr",
     "output_type": "stream",
     "text": [
      "2022-12-12 18:27:24 [scrapy.core.engine] DEBUG: Crawled (200) <GET https://www.lercio.it/category/politica/page/2/> (referer: https://www.lercio.it/category/politica/)\n",
      "2022-12-12 18:27:24 [urllib3.connectionpool] DEBUG: Starting new HTTP connection (1): 127.0.0.1:9200\n",
      "2022-12-12 18:27:24 [urllib3.connectionpool] DEBUG: http://127.0.0.1:9200 \"POST /lercio/_doc/ HTTP/1.1\" 201 163\n",
      "2022-12-12 18:27:24 [urllib3.connectionpool] DEBUG: Starting new HTTP connection (1): 127.0.0.1:9200\n",
      "2022-12-12 18:27:24 [urllib3.connectionpool] DEBUG: http://127.0.0.1:9200 \"POST /lercio/_doc/ HTTP/1.1\" 201 163\n",
      "2022-12-12 18:27:24 [urllib3.connectionpool] DEBUG: Starting new HTTP connection (1): 127.0.0.1:9200\n",
      "2022-12-12 18:27:24 [urllib3.connectionpool] DEBUG: http://127.0.0.1:9200 \"POST /lercio/_doc/ HTTP/1.1\" 201 162\n",
      "2022-12-12 18:27:24 [urllib3.connectionpool] DEBUG: Starting new HTTP connection (1): 127.0.0.1:9200\n"
     ]
    },
    {
     "name": "stdout",
     "output_type": "stream",
     "text": [
      " ROMA (Vaticano) – La svolta a destra degli italiani inizia a mostrarsi concretamente, ma senza esagerare. Giorgia Meloni…\n",
      "{'title': 'Gasparri rilancia:  Per contrastare l aborto faremo il reddito di cittadinanza per i feti ', 'url': 'https://www.lercio.it/gasparri-rilancia-per-contrastare-laborto-faremo-il-reddito-di-cittadinanza-per-i-feti/', 'author': 'Federico Graziani', 'abstract': ' ROMA (Vaticano) – La svolta a destra degli italiani inizia a mostrarsi concretamente, ma senza esagerare. Giorgia Meloni…'}\n",
      " Federico Graziani\n",
      "{'title': 'Meloni al G20 di Bali con la figlia Ginevra: “Ho il diritto di fare il madre come ritengo opportuno”\\xa0', 'url': 'https://www.lercio.it/meloni-al-g20-di-bali-con-la-figlia-ginevra-ho-il-diritto-di-fare-il-madre-come-ritengo-opportuno/', 'author': 'Federico Graziani', 'abstract': ' Federico Graziani'}\n",
      " MOSCA – Gesto di distensione da parte del presidente russo Vladimir Putin nei confronti di Alexander Dugin, il…\n",
      "{'title': 'Tweet contro il regime, Putin perdona Dugin e gli regala un appartamento al ventesimo piano', 'url': 'https://www.lercio.it/tweet-contro-il-regime-putin-perdona-dugin-e-gli-regala-un-appartamento-al-ventesimo-piano/', 'author': 'Gianni Zoccheddu', 'abstract': ' MOSCA – Gesto di distensione da parte del presidente russo Vladimir Putin nei confronti di Alexander Dugin, il…'}\n",
      " Federico Simoncini Ulivelli\n",
      "{'title': 'Lombardia, Letizia Moratti candidata col Terzo Polo: “Felice di restare nel centrodestra”', 'url': 'https://www.lercio.it/lombardia-letizia-moratti-candidata-col-terzo-polo-felice-di-restare-nel-centrodestra/', 'author': 'lercio', 'abstract': ' Federico Simoncini Ulivelli'}\n"
     ]
    },
    {
     "name": "stderr",
     "output_type": "stream",
     "text": [
      "2022-12-12 18:27:24 [urllib3.connectionpool] DEBUG: http://127.0.0.1:9200 \"POST /lercio/_doc/ HTTP/1.1\" 201 163\n",
      "2022-12-12 18:27:24 [urllib3.connectionpool] DEBUG: Starting new HTTP connection (1): 127.0.0.1:9200\n",
      "2022-12-12 18:27:24 [urllib3.connectionpool] DEBUG: http://127.0.0.1:9200 \"POST /lercio/_doc/ HTTP/1.1\" 201 162\n",
      "2022-12-12 18:27:24 [urllib3.connectionpool] DEBUG: Starting new HTTP connection (1): 127.0.0.1:9200\n",
      "2022-12-12 18:27:24 [urllib3.connectionpool] DEBUG: http://127.0.0.1:9200 \"POST /lercio/_doc/ HTTP/1.1\" 201 163\n",
      "2022-12-12 18:27:24 [urllib3.connectionpool] DEBUG: Starting new HTTP connection (1): 127.0.0.1:9200\n"
     ]
    },
    {
     "name": "stdout",
     "output_type": "stream",
     "text": [
      " Eddie Settembrini\n",
      "{'title': 'Decreto anti-rave, arrivano in 51 al raduno dei masochisti per farsi manganellare dalla Polizia', 'url': 'https://www.lercio.it/decreto-anti-rave-arrivano-in-51-al-raduno-dei-masochisti-per-farsi-manganellare-dalla-polizia/', 'author': 'Eddie Settembrini', 'abstract': ' Eddie Settembrini'}\n",
      " ROMA – La prolungata assenza in pubblico del sindaco di Roma Roberto Gualtieri, e la pressoché totale mancanza…\n",
      "{'title': 'Gualtieri guarda il TG Regione e scopre di essere lui il sindaco di Roma', 'url': 'https://www.lercio.it/gualtieri-guarda-il-tg-regione-e-scopre-di-essere-lui-il-sindaco-di-roma/', 'author': 'Eddie Settembrini', 'abstract': ' ROMA – La prolungata assenza in pubblico del sindaco di Roma Roberto Gualtieri, e la pressoché totale mancanza…'}\n",
      " Davide Marzorati\n",
      "{'title': 'PD, Letta suona la carica:  Rialzarsi subito per riperdere il prima possibile ', 'url': 'https://www.lercio.it/pd-letta-suona-la-carica-rialzarsi-subito-per-riperdere-il-prima-possibile/', 'author': 'lercio', 'abstract': ' Davide Marzorati'}\n"
     ]
    },
    {
     "name": "stderr",
     "output_type": "stream",
     "text": [
      "2022-12-12 18:27:24 [urllib3.connectionpool] DEBUG: http://127.0.0.1:9200 \"POST /lercio/_doc/ HTTP/1.1\" 201 162\n",
      "2022-12-12 18:27:24 [urllib3.connectionpool] DEBUG: Starting new HTTP connection (1): 127.0.0.1:9200\n",
      "2022-12-12 18:27:24 [urllib3.connectionpool] DEBUG: http://127.0.0.1:9200 \"POST /lercio/_doc/ HTTP/1.1\" 201 162\n",
      "2022-12-12 18:27:24 [urllib3.connectionpool] DEBUG: Starting new HTTP connection (1): 127.0.0.1:9200\n",
      "2022-12-12 18:27:25 [urllib3.connectionpool] DEBUG: http://127.0.0.1:9200 \"POST /lercio/_doc/ HTTP/1.1\" 201 164\n",
      "2022-12-12 18:27:25 [urllib3.connectionpool] DEBUG: Starting new HTTP connection (1): 127.0.0.1:9200\n"
     ]
    },
    {
     "name": "stdout",
     "output_type": "stream",
     "text": [
      " Chat di WhatsApp – Regno Unito / Belgio – Erano passati giusto 30 minuti dall’ultima volta che la…\n",
      "{'title': 'Il premier inglese chiama ubriaco l Europa alle quattro del mattino:  Per favore, torniamo insieme! ', 'url': 'https://www.lercio.it/il-premier-inglese-chiama-ubriaco-leuropa-alle-quattro-del-mattino-per-favore-torniamo-insieme/', 'author': 'lercio', 'abstract': ' Chat di WhatsApp – Regno Unito / Belgio – Erano passati giusto 30 minuti dall’ultima volta che la…'}\n",
      " ROMA – Sono passati vent’anni dal famigerato editto bulgaro con il quale Berlusconi preannunciava la cacciata dalla tv…\n",
      "{'title': 'Raitre, Orsini lancia accorato appello contro la censura di Orsini su Raitre', 'url': 'https://www.lercio.it/raitre-orsini-lancia-accorato-appello-contro-la-censura-di-orsini-su-raitre/', 'author': 'Gianni Zoccheddu', 'abstract': ' ROMA – Sono passati vent’anni dal famigerato editto bulgaro con il quale Berlusconi preannunciava la cacciata dalla tv…'}\n",
      " Leggere la lista dei ministri si è rivelato rassicurante, dato che chi aveva pessime aspettative non è rimasto…\n",
      "{'title': 'Salvini:  Appena finisco di togliere le accise sulla benzina inizio a occuparmi del ponte sullo Stretto ', 'url': 'https://www.lercio.it/salvini-appena-finisco-di-togliere-le-accise-sulla-benzina-inizio-a-occuparmi-del-ponte-sullo-stretto/', 'author': 'Augusto Rasori', 'abstract': ' Leggere la lista dei ministri si è rivelato rassicurante, dato che chi aveva pessime aspettative non è rimasto…'}\n"
     ]
    },
    {
     "name": "stderr",
     "output_type": "stream",
     "text": [
      "2022-12-12 18:27:25 [urllib3.connectionpool] DEBUG: http://127.0.0.1:9200 \"POST /lercio/_doc/ HTTP/1.1\" 201 163\n",
      "2022-12-12 18:27:25 [scrapy.core.engine] DEBUG: Crawled (200) <GET https://www.lercio.it/category/politica/page/3/> (referer: https://www.lercio.it/category/politica/page/2/)\n",
      "2022-12-12 18:27:25 [urllib3.connectionpool] DEBUG: Starting new HTTP connection (1): 127.0.0.1:9200\n",
      "2022-12-12 18:27:25 [urllib3.connectionpool] DEBUG: http://127.0.0.1:9200 \"POST /lercio/_doc/ HTTP/1.1\" 201 162\n",
      "2022-12-12 18:27:25 [urllib3.connectionpool] DEBUG: Starting new HTTP connection (1): 127.0.0.1:9200\n",
      "2022-12-12 18:27:25 [urllib3.connectionpool] DEBUG: http://127.0.0.1:9200 \"POST /lercio/_doc/ HTTP/1.1\" 201 163\n",
      "2022-12-12 18:27:25 [urllib3.connectionpool] DEBUG: Starting new HTTP connection (1): 127.0.0.1:9200\n",
      "2022-12-12 18:27:25 [urllib3.connectionpool] DEBUG: http://127.0.0.1:9200 \"POST /lercio/_doc/ HTTP/1.1\" 201 162\n"
     ]
    },
    {
     "name": "stdout",
     "output_type": "stream",
     "text": [
      " Rignano sull’Arno (UAE) – Matteo Renzi, auto-fondatore, ghostmastermind e leader di Italia Viva, è tornato alla ribalta della…\n",
      "{'title': 'Renzi non riesce a dire la verità nemmeno al dentista e si fa curare un dente sano', 'url': 'https://www.lercio.it/renzi-non-riesce-a-dire-la-verita-nemmeno-al-dentista-e-si-fa-curare-un-dente-sano/', 'author': 'Vittorio Lattanzi', 'abstract': ' Rignano sull’Arno (UAE) – Matteo Renzi, auto-fondatore, ghostmastermind e leader di Italia Viva, è tornato alla ribalta della…'}\n",
      " Sergio Marinelli\n",
      "{'title': 'Berlusconi contro un politico dell opposizione:  La suggerirò per il ruolo di Zelensky in un film ', 'url': 'https://www.lercio.it/berlusconi-contro-un-politico-dellopposizione-la-suggeriro-per-il-ruolo-di-zelensky-in-un-film/', 'author': 'Sergio Marinelli', 'abstract': ' Sergio Marinelli'}\n",
      " Alessandro Cai\n",
      "{'title': 'Governo, Forza Italia smentisce le prossime quindici dichiarazioni di Berlusconi', 'url': 'https://www.lercio.it/governo-forza-italia-smentisce-le-prossime-quindici-dichiarazioni-di-berlusconi/', 'author': 'lercio', 'abstract': ' Alessandro Cai'}\n",
      " Federico Simoncini Ulivelli\n",
      "{'title': 'Mise tranquillizza: “Tolta la foto di Mussolini per far spazio a una sua gigantografia”', 'url': 'https://www.lercio.it/mise-tranquillizza-tolta-la-foto-di-mussolini-per-far-spazio-a-una-sua-gigantografia/', 'author': 'lercio', 'abstract': ' Federico Simoncini Ulivelli'}\n"
     ]
    },
    {
     "name": "stderr",
     "output_type": "stream",
     "text": [
      "2022-12-12 18:27:25 [urllib3.connectionpool] DEBUG: Starting new HTTP connection (1): 127.0.0.1:9200\n",
      "2022-12-12 18:27:25 [urllib3.connectionpool] DEBUG: http://127.0.0.1:9200 \"POST /lercio/_doc/ HTTP/1.1\" 201 162\n",
      "2022-12-12 18:27:25 [urllib3.connectionpool] DEBUG: Starting new HTTP connection (1): 127.0.0.1:9200\n",
      "2022-12-12 18:27:25 [urllib3.connectionpool] DEBUG: http://127.0.0.1:9200 \"POST /lercio/_doc/ HTTP/1.1\" 201 162\n",
      "2022-12-12 18:27:25 [urllib3.connectionpool] DEBUG: Starting new HTTP connection (1): 127.0.0.1:9200\n",
      "2022-12-12 18:27:25 [urllib3.connectionpool] DEBUG: http://127.0.0.1:9200 \"POST /lercio/_doc/ HTTP/1.1\" 201 163\n",
      "2022-12-12 18:27:25 [urllib3.connectionpool] DEBUG: Starting new HTTP connection (1): 127.0.0.1:9200\n",
      "2022-12-12 18:27:25 [urllib3.connectionpool] DEBUG: http://127.0.0.1:9200 \"POST /lercio/_doc/ HTTP/1.1\" 201 162\n",
      "2022-12-12 18:27:25 [urllib3.connectionpool] DEBUG: Starting new HTTP connection (1): 127.0.0.1:9200\n"
     ]
    },
    {
     "name": "stdout",
     "output_type": "stream",
     "text": [
      " Augusto Rasori\n",
      "{'title': 'Berlusconi scatenato:  Ho riallacciato con Mubarak ', 'url': 'https://www.lercio.it/berlusconi-scatenato-ho-riallacciato-con-mubarak/', 'author': 'Augusto Rasori', 'abstract': ' Augusto Rasori'}\n",
      " ROMA – Il nuovo governo non è ancora nato ma già lo scontro politico si è fatto aspro…\n",
      "{'title': 'Maurizio Gasparri shock: “Non solo aborto, vieteremo alle donne di andare in menopausa”', 'url': 'https://www.lercio.it/maurizio-gasparri-shock-non-solo-aborto-vieteremo-alle-donne-di-andare-in-menopausa/', 'author': 'Eddie Settembrini', 'abstract': ' ROMA – Il nuovo governo non è ancora nato ma già lo scontro politico si è fatto aspro…'}\n",
      " Andrea Di Chiara\n",
      "{'title': 'Compagna di Mentana si candida alle prossime elezioni per farsi cagare un po  da lui', 'url': 'https://www.lercio.it/compagna-di-mentana-si-candida-alle-prossime-europee-per-essere-cagata-dal-marito/', 'author': 'lercio', 'abstract': ' Andrea Di Chiara'}\n",
      " Eddie Settembrini\n",
      "{'title': 'Camera, eletto Fontana. Per la vicepresidenza spunta il nome di Jeffrey Dahmer', 'url': 'https://www.lercio.it/camera-eletto-fontana-per-la-vicepresidenza-spunta-il-nome-di-jeffrey-dahmer/', 'author': 'Eddie Settembrini', 'abstract': ' Eddie Settembrini'}\n"
     ]
    },
    {
     "name": "stderr",
     "output_type": "stream",
     "text": [
      "2022-12-12 18:27:25 [urllib3.connectionpool] DEBUG: http://127.0.0.1:9200 \"POST /lercio/_doc/ HTTP/1.1\" 201 164\n",
      "2022-12-12 18:27:25 [urllib3.connectionpool] DEBUG: Starting new HTTP connection (1): 127.0.0.1:9200\n",
      "2022-12-12 18:27:25 [urllib3.connectionpool] DEBUG: http://127.0.0.1:9200 \"POST /lercio/_doc/ HTTP/1.1\" 201 162\n",
      "2022-12-12 18:27:25 [urllib3.connectionpool] DEBUG: Starting new HTTP connection (1): 127.0.0.1:9200\n",
      "2022-12-12 18:27:25 [urllib3.connectionpool] DEBUG: http://127.0.0.1:9200 \"POST /lercio/_doc/ HTTP/1.1\" 201 163\n"
     ]
    },
    {
     "name": "stdout",
     "output_type": "stream",
     "text": [
      " ARCORE (Gemellata con Corinaldo): – Berlusconi: “Vi ho invitati nel mio shcopatoio, ehm nella mia umile dimora perché…\n",
      "{'title': 'Governo, Meloni ammette:  Da casa sembrava più facile ', 'url': 'https://www.lercio.it/governo-meloni-ammette-da-casa-sembrava-piu-facile/', 'author': 'Augusto Rasori', 'abstract': ' ARCORE (Gemellata con Corinaldo): – Berlusconi: “Vi ho invitati nel mio shcopatoio, ehm nella mia umile dimora perché…'}\n",
      " ROMA – “Porca puttana che paura! Appena abbiamo sentito la sirena suonare siamo scappati pensando che l’avesse attivata…\n",
      "{'title': 'Scatta l allarme alla sede del PD ma era solo un operaio che si era avvicinato a meno di 50 metri', 'url': 'https://www.lercio.it/scatta-lallarme-alla-sede-del-pd-ma-era-solo-un-operaio-che-si-era-avvicinato-a-meno-di-50-metri/', 'author': 'Augusto Rasori', 'abstract': ' ROMA – “Porca puttana che paura! Appena abbiamo sentito la sirena suonare siamo scappati pensando che l’avesse attivata…'}\n"
     ]
    },
    {
     "name": "stderr",
     "output_type": "stream",
     "text": [
      "2022-12-12 18:27:26 [scrapy.core.engine] DEBUG: Crawled (200) <GET https://www.lercio.it/category/politica/page/4/> (referer: https://www.lercio.it/category/politica/page/3/)\n",
      "2022-12-12 18:27:26 [urllib3.connectionpool] DEBUG: Starting new HTTP connection (1): 127.0.0.1:9200\n",
      "2022-12-12 18:27:26 [urllib3.connectionpool] DEBUG: http://127.0.0.1:9200 \"POST /lercio/_doc/ HTTP/1.1\" 201 164\n",
      "2022-12-12 18:27:26 [urllib3.connectionpool] DEBUG: Starting new HTTP connection (1): 127.0.0.1:9200\n"
     ]
    },
    {
     "name": "stdout",
     "output_type": "stream",
     "text": [
      " Domenico Pecere\n",
      "{'title': 'Calenda si candida ad amministratore del suo condominio per il gusto di farsi odiare ancora di più', 'url': 'https://www.lercio.it/calenda-si-candida-ad-amministratore-del-suo-condominio-per-il-gusto-di-farsi-odiare-ancora-di-piu/', 'author': 'lercio', 'abstract': ' Domenico Pecere'}\n",
      " Mercurio Di Maio\n",
      "{'title': 'Elezioni, Samantha Cristoforetti decide di restare in orbita per altri 5 anni', 'url': 'https://www.lercio.it/elezioni-samantha-cristoforetti-decide-di-restare-in-orbita-per-altri-5-anni/', 'author': 'lercio', 'abstract': ' Mercurio Di Maio'}\n"
     ]
    },
    {
     "name": "stderr",
     "output_type": "stream",
     "text": [
      "2022-12-12 18:27:26 [urllib3.connectionpool] DEBUG: http://127.0.0.1:9200 \"POST /lercio/_doc/ HTTP/1.1\" 201 164\n",
      "2022-12-12 18:27:26 [urllib3.connectionpool] DEBUG: Starting new HTTP connection (1): 127.0.0.1:9200\n",
      "2022-12-12 18:27:26 [urllib3.connectionpool] DEBUG: http://127.0.0.1:9200 \"POST /lercio/_doc/ HTTP/1.1\" 201 163\n",
      "2022-12-12 18:27:26 [urllib3.connectionpool] DEBUG: Starting new HTTP connection (1): 127.0.0.1:9200\n"
     ]
    },
    {
     "name": "stdout",
     "output_type": "stream",
     "text": [
      " Augusto Rasori\n",
      "{'title': 'USA, Biden si dice pronto a rispondere all attacco di Pearl Harbor', 'url': 'https://www.lercio.it/usa-biden-si-dice-pronto-a-rispondere-allattacco-di-pearl-harbor/', 'author': 'Augusto Rasori', 'abstract': ' Augusto Rasori'}\n",
      " Francesco Conte\n",
      "{'title': 'Effetto flipper. Dopo Bossi, eletto a sorpresa anche un tale che non era candidato\\xa0', 'url': 'https://www.lercio.it/effetto-flipper-dopo-bossi-eletto-a-sorpresa-anche-un-tale-che-non-era-candidato/', 'author': 'Il Democritico', 'abstract': ' Francesco Conte'}\n"
     ]
    },
    {
     "name": "stderr",
     "output_type": "stream",
     "text": [
      "2022-12-12 18:27:26 [urllib3.connectionpool] DEBUG: http://127.0.0.1:9200 \"POST /lercio/_doc/ HTTP/1.1\" 201 165\n",
      "2022-12-12 18:27:26 [urllib3.connectionpool] DEBUG: Starting new HTTP connection (1): 127.0.0.1:9200\n",
      "2022-12-12 18:27:26 [urllib3.connectionpool] DEBUG: http://127.0.0.1:9200 \"POST /lercio/_doc/ HTTP/1.1\" 201 161\n",
      "2022-12-12 18:27:26 [urllib3.connectionpool] DEBUG: Starting new HTTP connection (1): 127.0.0.1:9200\n",
      "2022-12-12 18:27:26 [urllib3.connectionpool] DEBUG: http://127.0.0.1:9200 \"POST /lercio/_doc/ HTTP/1.1\" 201 163\n",
      "2022-12-12 18:27:26 [urllib3.connectionpool] DEBUG: Starting new HTTP connection (1): 127.0.0.1:9200\n"
     ]
    },
    {
     "name": "stdout",
     "output_type": "stream",
     "text": [
      " Roma – Tutto si può dire del PD – tipo che ha contribuito alla deriva neo-liberista del Paese,…\n",
      "{'title': 'PD, via alla rivoluzione: “Cambieremo leggermente il font del logo”', 'url': 'https://www.lercio.it/pd-via-alla-rivoluzione-cambieremo-leggermente-il-font-del-logo/', 'author': 'Augusto Rasori', 'abstract': ' Roma – Tutto si può dire del PD – tipo che ha contribuito alla deriva neo-liberista del Paese,…'}\n",
      " Roma – Sono passate poche ore dalla roboante affermazione elettorale di Giorgia Meloni e già in Italia si…\n",
      "{'title': '“Non mi piace quell accento sudamericano”. Giorgia Meloni farà doppiare il Papa da Pino Insegno', 'url': 'https://www.lercio.it/non-mi-piace-quellaccento-sudamericano-giorgia-meloni-fara-doppiare-il-papa-da-pino-insegno/', 'author': 'Eddie Settembrini', 'abstract': ' Roma – Sono passate poche ore dalla roboante affermazione elettorale di Giorgia Meloni e già in Italia si…'}\n",
      " Rrrrrroma – “Abbiamo creduto, obbedito e combatt…, no, questo al momento è meglio non dirlo. È giunta l’ora…\n",
      "{'title': 'Pfizer Italia interrompe la produzione di vaccini e inaugura quella di olio di ricino', 'url': 'https://www.lercio.it/pfizer-italia-interrompe-la-produzione-di-vaccini-e-inaugura-quella-di-olio-di-ricino/', 'author': 'Augusto Rasori', 'abstract': ' Rrrrrroma – “Abbiamo creduto, obbedito e combatt…, no, questo al momento è meglio non dirlo. È giunta l’ora…'}\n"
     ]
    },
    {
     "name": "stderr",
     "output_type": "stream",
     "text": [
      "2022-12-12 18:27:26 [urllib3.connectionpool] DEBUG: http://127.0.0.1:9200 \"POST /lercio/_doc/ HTTP/1.1\" 201 163\n",
      "2022-12-12 18:27:26 [urllib3.connectionpool] DEBUG: Starting new HTTP connection (1): 127.0.0.1:9200\n",
      "2022-12-12 18:27:27 [urllib3.connectionpool] DEBUG: http://127.0.0.1:9200 \"POST /lercio/_doc/ HTTP/1.1\" 201 163\n",
      "2022-12-12 18:27:27 [urllib3.connectionpool] DEBUG: Starting new HTTP connection (1): 127.0.0.1:9200\n",
      "2022-12-12 18:27:27 [urllib3.connectionpool] DEBUG: http://127.0.0.1:9200 \"POST /lercio/_doc/ HTTP/1.1\" 201 165\n",
      "2022-12-12 18:27:27 [urllib3.connectionpool] DEBUG: Starting new HTTP connection (1): 127.0.0.1:9200\n",
      "2022-12-12 18:27:27 [urllib3.connectionpool] DEBUG: http://127.0.0.1:9200 \"POST /lercio/_doc/ HTTP/1.1\" 201 166\n"
     ]
    },
    {
     "name": "stdout",
     "output_type": "stream",
     "text": [
      " Catsiama (RI) – Con le urne ancora aperte e nel pieno del silenzio elettorale, sui canali Telegram dei…\n",
      "{'title': 'Elezioni, in aumento gli indecisi su quale insulto scrivere sulla scheda', 'url': 'https://www.lercio.it/elezioni-in-aumento-gli-indecisi-su-quale-insulto-scrivere-sulla-scheda/', 'author': 'Il Democritico', 'abstract': ' Catsiama (RI) – Con le urne ancora aperte e nel pieno del silenzio elettorale, sui canali Telegram dei…'}\n",
      " Russia (Tra Bielorussia e Alaska – ma c’è un po’ di dibattito sui suoi confini) – Quando il…\n",
      "{'title': 'Putin minaccia di usare il nucleare. Calenda:  Ok, purché sia quello di nuova generazione ', 'url': 'https://www.lercio.it/putin-minaccia-di-usare-il-nucleare-calenda-ok-purche-sia-quello-di-nuova-generazione/', 'author': 'Andrea H. Sesta', 'abstract': ' Russia (Tra Bielorussia e Alaska – ma c’è un po’ di dibattito sui suoi confini) – Quando il…'}\n",
      " Sergio Marinelli\n",
      "{'title': 'Meloni:  Non siamo fascisti! . Elettore di destra le crede e decide di non votarla', 'url': 'https://www.lercio.it/meloni-non-siamo-fascisti-elettore-di-destra-le-crede-e-decide-di-non-votarla/', 'author': 'Sergio Marinelli', 'abstract': ' Sergio Marinelli'}\n"
     ]
    },
    {
     "name": "stderr",
     "output_type": "stream",
     "text": [
      "2022-12-12 18:27:27 [scrapy.core.engine] DEBUG: Crawled (200) <GET https://www.lercio.it/category/politica/page/5/> (referer: https://www.lercio.it/category/politica/page/4/)\n",
      "2022-12-12 18:27:27 [urllib3.connectionpool] DEBUG: Starting new HTTP connection (1): 127.0.0.1:9200\n",
      "2022-12-12 18:27:27 [urllib3.connectionpool] DEBUG: http://127.0.0.1:9200 \"POST /lercio/_doc/ HTTP/1.1\" 201 163\n",
      "2022-12-12 18:27:27 [urllib3.connectionpool] DEBUG: Starting new HTTP connection (1): 127.0.0.1:9200\n",
      "2022-12-12 18:27:27 [urllib3.connectionpool] DEBUG: http://127.0.0.1:9200 \"POST /lercio/_doc/ HTTP/1.1\" 201 163\n",
      "2022-12-12 18:27:27 [urllib3.connectionpool] DEBUG: Starting new HTTP connection (1): 127.0.0.1:9200\n",
      "2022-12-12 18:27:27 [urllib3.connectionpool] DEBUG: http://127.0.0.1:9200 \"POST /lercio/_doc/ HTTP/1.1\" 201 162\n",
      "2022-12-12 18:27:27 [urllib3.connectionpool] DEBUG: Starting new HTTP connection (1): 127.0.0.1:9200\n"
     ]
    },
    {
     "name": "stdout",
     "output_type": "stream",
     "text": [
      " Roma – Si sta avvicinando l’inverno peggiore della storia del dopoguerra italiano. Alle porte ci sono una minaccia…\n",
      "{'title': 'Crisi energetica, le linee guida del Governo per risparmiare:  Lavatevi con la lingua come i gatti ', 'url': 'https://www.lercio.it/crisi-energetica-le-linee-guida-del-governo-per-risparmiare-lavatevi-con-la-lingua-come-i-gatti/', 'author': 'Eddie Settembrini', 'abstract': ' Roma – Si sta avvicinando l’inverno peggiore della storia del dopoguerra italiano. Alle porte ci sono una minaccia…'}\n",
      " Andrea Bonechi\n",
      "{'title': 'Fondi russi ai partiti, Potere al Popolo si smarca:  Avete visto come ci vestiamo? ', 'url': 'https://www.lercio.it/fondi-russi-ai-partiti-potere-al-popolo-si-smarca-avete-visto-come-ci-vestiamo/', 'author': 'Chiorbaciov', 'abstract': ' Andrea Bonechi'}\n",
      " Joshua H.O’Stee\n",
      "{'title': 'Fratelli d Italia incalza:  Heidi e Clara chiariscano la natura del loro legame ', 'url': 'https://www.lercio.it/fratelli-ditalia-incalza-heidi-e-clara-chiariscano-la-natura-del-loro-legame/', 'author': 'lercio', 'abstract': ' Joshua H.O’Stee'}\n",
      " “Siamo indignati, noi con certa gente non prendiamo neanche un caffè col polonio”. È indignato e non usa…\n",
      "{'title': 'Putin, nuove minacce all Italia:  Querele per chi mi associa a Salvini ', 'url': 'https://www.lercio.it/putin-nuove-minacce-allitalia-querele-per-chi-ci-associa-a-salvini/', 'author': 'lercio', 'abstract': ' “Siamo indignati, noi con certa gente non prendiamo neanche un caffè col polonio”. È indignato e non usa…'}\n"
     ]
    },
    {
     "name": "stderr",
     "output_type": "stream",
     "text": [
      "2022-12-12 18:27:27 [urllib3.connectionpool] DEBUG: http://127.0.0.1:9200 \"POST /lercio/_doc/ HTTP/1.1\" 201 163\n",
      "2022-12-12 18:27:27 [urllib3.connectionpool] DEBUG: Starting new HTTP connection (1): 127.0.0.1:9200\n",
      "2022-12-12 18:27:27 [urllib3.connectionpool] DEBUG: http://127.0.0.1:9200 \"POST /lercio/_doc/ HTTP/1.1\" 201 162\n",
      "2022-12-12 18:27:27 [urllib3.connectionpool] DEBUG: Starting new HTTP connection (1): 127.0.0.1:9200\n",
      "2022-12-12 18:27:27 [urllib3.connectionpool] DEBUG: http://127.0.0.1:9200 \"POST /lercio/_doc/ HTTP/1.1\" 201 162\n",
      "2022-12-12 18:27:27 [urllib3.connectionpool] DEBUG: Starting new HTTP connection (1): 127.0.0.1:9200\n"
     ]
    },
    {
     "name": "stdout",
     "output_type": "stream",
     "text": [
      " Salvini ha dichiarato che grazie alle sanzioni i russi si stanno arricchendo a quelle parole Vladimir ha cominciato…\n",
      "{'title': 'Russia, disguido burocratico: Putin promette 10 rubli alle madri con un milione di figli', 'url': 'https://www.lercio.it/russia-disguido-burocratico-putin-promette-10-rubli-alle-madri-con-un-milione-di-figli/', 'author': 'Augusto Rasori', 'abstract': ' Salvini ha dichiarato che grazie alle sanzioni i russi si stanno arricchendo a quelle parole Vladimir ha cominciato…'}\n",
      " Patrizio Smiraglia\n",
      "{'title': 'Meloni invita la Rai a trasmettere l episodio di Peppa Pig in cui viene violentata da uno straniero', 'url': 'https://www.lercio.it/meloni-invita-la-rai-a-trasmettere-lepisodio-di-peppa-pig-in-cui-viene-violentata-da-uno-straniero/', 'author': 'Patrizio', 'abstract': ' Patrizio Smiraglia'}\n",
      " Paola Franceschetti\n",
      "{'title': 'Social, il PD inaugura il suo profilo e poche ore dopo Tik si separa da Tok', 'url': 'https://www.lercio.it/social-il-pd-inaugura-il-suo-profilo-e-poche-ore-dopo-tik-si-separa-da-tok/', 'author': 'lercio', 'abstract': ' Paola Franceschetti'}\n"
     ]
    },
    {
     "name": "stderr",
     "output_type": "stream",
     "text": [
      "2022-12-12 18:27:27 [urllib3.connectionpool] DEBUG: http://127.0.0.1:9200 \"POST /lercio/_doc/ HTTP/1.1\" 201 163\n",
      "2022-12-12 18:27:27 [urllib3.connectionpool] DEBUG: Starting new HTTP connection (1): 127.0.0.1:9200\n",
      "2022-12-12 18:27:28 [urllib3.connectionpool] DEBUG: http://127.0.0.1:9200 \"POST /lercio/_doc/ HTTP/1.1\" 201 164\n",
      "2022-12-12 18:27:28 [urllib3.connectionpool] DEBUG: Starting new HTTP connection (1): 127.0.0.1:9200\n"
     ]
    },
    {
     "name": "stdout",
     "output_type": "stream",
     "text": [
      " BiSCEGLIe (PD) – Alla vigilia delle elezioni politiche il segretario del Pd Enrico Letta lancia un grave allarme:…\n",
      "{'title': 'Allarme del PD: hacker russi favoriscono la destra rilanciando dichiarazioni del PD', 'url': 'https://www.lercio.it/allarme-del-pd-hacker-russi-favoriscono-la-destra-rilanciando-dichiarazioni-del-pd/', 'author': 'Andrea Michielotto', 'abstract': ' BiSCEGLIe (PD) – Alla vigilia delle elezioni politiche il segretario del Pd Enrico Letta lancia un grave allarme:…'}\n",
      " Joshua H. O’Stee\n",
      "{'title': 'Riscaldamento nelle scuole. Sì ai falò in classe con i banchi a rotelle', 'url': 'https://www.lercio.it/riscaldamento-nelle-scuole-si-ai-falo-in-classe-con-i-banchi-a-rotelle/', 'author': 'lercio', 'abstract': ' Joshua H. O’Stee'}\n"
     ]
    },
    {
     "name": "stderr",
     "output_type": "stream",
     "text": [
      "2022-12-12 18:27:28 [urllib3.connectionpool] DEBUG: http://127.0.0.1:9200 \"POST /lercio/_doc/ HTTP/1.1\" 201 165\n",
      "2022-12-12 18:27:28 [urllib3.connectionpool] DEBUG: Starting new HTTP connection (1): 127.0.0.1:9200\n",
      "2022-12-12 18:27:28 [urllib3.connectionpool] DEBUG: http://127.0.0.1:9200 \"POST /lercio/_doc/ HTTP/1.1\" 201 164\n"
     ]
    },
    {
     "name": "stdout",
     "output_type": "stream",
     "text": [
      " Tanto dal 25 settembre qualunque italiano, anche se non esce a piedi, sarà travolto da quell infernale baccano vocale.\n",
      "{'title': 'Motori troppo silenziosi, alle auto elettriche sarà aggiunta la voce di Giorgia Meloni', 'url': 'https://www.lercio.it/motori-troppo-silenziosi-alle-auto-elettriche-sara-aggiunta-la-voce-di-giorgia-meloni/', 'author': 'Augusto Rasori', 'abstract': ' Tanto dal 25 settembre qualunque italiano, anche se non esce a piedi, sarà travolto da quell infernale baccano vocale.'}\n"
     ]
    },
    {
     "name": "stderr",
     "output_type": "stream",
     "text": [
      "2022-12-12 18:27:28 [scrapy.core.engine] DEBUG: Crawled (200) <GET https://www.lercio.it/category/politica/page/6/> (referer: https://www.lercio.it/category/politica/page/5/)\n",
      "2022-12-12 18:27:28 [urllib3.connectionpool] DEBUG: Starting new HTTP connection (1): 127.0.0.1:9200\n",
      "2022-12-12 18:27:28 [urllib3.connectionpool] DEBUG: http://127.0.0.1:9200 \"POST /lercio/_doc/ HTTP/1.1\" 201 163\n",
      "2022-12-12 18:27:28 [urllib3.connectionpool] DEBUG: Starting new HTTP connection (1): 127.0.0.1:9200\n",
      "2022-12-12 18:27:28 [urllib3.connectionpool] DEBUG: http://127.0.0.1:9200 \"POST /lercio/_doc/ HTTP/1.1\" 201 164\n",
      "2022-12-12 18:27:28 [urllib3.connectionpool] DEBUG: Starting new HTTP connection (1): 127.0.0.1:9200\n"
     ]
    },
    {
     "name": "stdout",
     "output_type": "stream",
     "text": [
      " Fabio Corigliano\n",
      "{'title': 'Monica Cirinnà fa montare 200 cucce in cortile per finanziare la sua campagna elettorale', 'url': 'https://www.lercio.it/monica-cirinna-fa-montare-200-cucce-in-cortile-per-finanziare-la-sua-campagna-elettorale/', 'author': 'Fabio Corigliano', 'abstract': ' Fabio Corigliano'}\n",
      " ROMA – Giorgia Meloni ha diffuso oggi un messaggio in lingua Klingon destinato a rassicurare la stampa del…\n",
      "{'title': ' ma eH! , Giorgia Meloni fa un nuovo video in lingua Klingon per rassicurare la stampa aliena', 'url': 'https://www.lercio.it/maeh-giorgia-meloni-fa-un-nuovo-video-in-lingua-klingon-per-rassicurare-la-stampa-aliena/', 'author': 'Stefano Pisani', 'abstract': ' ROMA – Giorgia Meloni ha diffuso oggi un messaggio in lingua Klingon destinato a rassicurare la stampa del…'}\n",
      " Francesco Conte\n",
      "{'title': 'Emergenza caldo. Meloni promette abbassamento delle temperature entro i primi 100 giorni di governo', 'url': 'https://www.lercio.it/emergenza-caldo-meloni-promette-abbassamento-delle-temperature-entro-i-primi-100-giorni-di-governo/', 'author': 'Il Democritico', 'abstract': ' Francesco Conte'}\n"
     ]
    },
    {
     "name": "stderr",
     "output_type": "stream",
     "text": [
      "2022-12-12 18:27:28 [urllib3.connectionpool] DEBUG: http://127.0.0.1:9200 \"POST /lercio/_doc/ HTTP/1.1\" 201 163\n",
      "2022-12-12 18:27:28 [urllib3.connectionpool] DEBUG: Starting new HTTP connection (1): 127.0.0.1:9200\n",
      "2022-12-12 18:27:28 [urllib3.connectionpool] DEBUG: http://127.0.0.1:9200 \"POST /lercio/_doc/ HTTP/1.1\" 201 164\n",
      "2022-12-12 18:27:28 [urllib3.connectionpool] DEBUG: Starting new HTTP connection (1): 127.0.0.1:9200\n"
     ]
    },
    {
     "name": "stdout",
     "output_type": "stream",
     "text": [
      " Fabio Corigliano\n",
      "{'title': 'Elezioni. Berlusconi:  Se governeremo noi le sentenze di colpevolezza non saranno più valide ', 'url': 'https://www.lercio.it/elezioni-berlusconi-se-governeremo-noi-le-sentenze-di-colpevolezza-non-saranno-piu-valide/', 'author': 'Fabio Corigliano', 'abstract': ' Fabio Corigliano'}\n",
      " Patrizio Smiraglia\n",
      "{'title': 'Crisi di Governo. Draghi di nuovo al Colle per convincere Mattarella a scendere dal cornicione', 'url': 'https://www.lercio.it/crisi-di-governo-draghi-di-nuovo-al-colle-per-convincere-mattarella-a-scendere-dal-cornicione/', 'author': 'Patrizio', 'abstract': ' Patrizio Smiraglia'}\n"
     ]
    },
    {
     "name": "stderr",
     "output_type": "stream",
     "text": [
      "2022-12-12 18:27:28 [urllib3.connectionpool] DEBUG: http://127.0.0.1:9200 \"POST /lercio/_doc/ HTTP/1.1\" 201 164\n",
      "2022-12-12 18:27:28 [urllib3.connectionpool] DEBUG: Starting new HTTP connection (1): 127.0.0.1:9200\n",
      "2022-12-12 18:27:29 [urllib3.connectionpool] DEBUG: http://127.0.0.1:9200 \"POST /lercio/_doc/ HTTP/1.1\" 201 164\n",
      "2022-12-12 18:27:29 [urllib3.connectionpool] DEBUG: Starting new HTTP connection (1): 127.0.0.1:9200\n",
      "2022-12-12 18:27:29 [urllib3.connectionpool] DEBUG: http://127.0.0.1:9200 \"POST /lercio/_doc/ HTTP/1.1\" 201 165\n",
      "2022-12-12 18:27:29 [urllib3.connectionpool] DEBUG: Starting new HTTP connection (1): 127.0.0.1:9200\n"
     ]
    },
    {
     "name": "stdout",
     "output_type": "stream",
     "text": [
      " Pavia – Non c’è stato nulla da fare per Stefanos Sparacazzadas, giornalista 38enne milanese di origini greche. Il…\n",
      "{'title': '“Il riscaldamento globale non esiste”, cronista di Libero si tuffa nel Po e muore sfracellato', 'url': 'https://www.lercio.it/il-riscaldamento-globale-non-esiste-cronista-di-libero-si-tuffa-nel-po-e-muore-sfracellato/', 'author': 'Gianni Zoccheddu', 'abstract': ' Pavia – Non c’è stato nulla da fare per Stefanos Sparacazzadas, giornalista 38enne milanese di origini greche. Il…'}\n",
      " Davide Paolino\n",
      "{'title': 'Troppi casi covid, governo propone soluzione:  Stia a casa solo chi non ce l ha ', 'url': 'https://www.lercio.it/troppi-casi-covid-governo-propone-soluzione-stia-a-casa-solo-chi-non-ce-lha/', 'author': 'Davide Paolino', 'abstract': ' Davide Paolino'}\n",
      " Poltro (NA) – Dopo la clamorosa rottura con il M5s e la nascita di Insieme per il (mio)…\n",
      "{'title': 'Di Maio introduce il limite delle due scissioni', 'url': 'https://www.lercio.it/di-maio-introduce-il-limite-delle-due-scissioni/', 'author': 'Andrea Michielotto', 'abstract': ' Poltro (NA) – Dopo la clamorosa rottura con il M5s e la nascita di Insieme per il (mio)…'}\n"
     ]
    },
    {
     "name": "stderr",
     "output_type": "stream",
     "text": [
      "2022-12-12 18:27:29 [urllib3.connectionpool] DEBUG: http://127.0.0.1:9200 \"POST /lercio/_doc/ HTTP/1.1\" 201 164\n",
      "2022-12-12 18:27:29 [urllib3.connectionpool] DEBUG: Starting new HTTP connection (1): 127.0.0.1:9200\n",
      "2022-12-12 18:27:29 [urllib3.connectionpool] DEBUG: http://127.0.0.1:9200 \"POST /lercio/_doc/ HTTP/1.1\" 201 164\n",
      "2022-12-12 18:27:29 [urllib3.connectionpool] DEBUG: Starting new HTTP connection (1): 127.0.0.1:9200\n",
      "2022-12-12 18:27:29 [urllib3.connectionpool] DEBUG: http://127.0.0.1:9200 \"POST /lercio/_doc/ HTTP/1.1\" 201 164\n"
     ]
    },
    {
     "name": "stdout",
     "output_type": "stream",
     "text": [
      " – Portu Cunnu(Ts) Non accenna a placarsi la polemica politica sul provvedimento che prevede l’acquisizione del diritto di…\n",
      "{'title': 'Salvini attacca ancora lo Ius Scholae: “I veri italiani sono analfabeti ', 'url': 'https://www.lercio.it/salvini-attacca-ancora-lo-ius-scholae-i-veri-italiani-sono-sono-analfabeti/', 'author': 'Gianni Zoccheddu', 'abstract': ' – Portu Cunnu(Ts) Non accenna a placarsi la polemica politica sul provvedimento che prevede l’acquisizione del diritto di…'}\n",
      " di Fabio Corigliano, Francesco Conte e Stefano Pisani\n",
      "{'title': 'Immigrazione, nasce lo Ius TikTok:  Cittadinanza a chi supera 5 milioni di follower ', 'url': 'https://www.lercio.it/immigrazione-nasce-lo-ius-tiktok-cittadinanza-a-chi-supera-5-milioni-di-follower/', 'author': 'lercio', 'abstract': ' di Fabio Corigliano, Francesco Conte e Stefano Pisani'}\n"
     ]
    },
    {
     "name": "stderr",
     "output_type": "stream",
     "text": [
      "2022-12-12 18:27:29 [scrapy.core.engine] DEBUG: Crawled (200) <GET https://www.lercio.it/category/politica/page/7/> (referer: https://www.lercio.it/category/politica/page/6/)\n",
      "2022-12-12 18:27:29 [urllib3.connectionpool] DEBUG: Starting new HTTP connection (1): 127.0.0.1:9200\n",
      "2022-12-12 18:27:29 [urllib3.connectionpool] DEBUG: http://127.0.0.1:9200 \"POST /lercio/_doc/ HTTP/1.1\" 201 162\n",
      "2022-12-12 18:27:29 [urllib3.connectionpool] DEBUG: Starting new HTTP connection (1): 127.0.0.1:9200\n",
      "2022-12-12 18:27:29 [urllib3.connectionpool] DEBUG: http://127.0.0.1:9200 \"POST /lercio/_doc/ HTTP/1.1\" 201 164\n",
      "2022-12-12 18:27:29 [urllib3.connectionpool] DEBUG: Starting new HTTP connection (1): 127.0.0.1:9200\n"
     ]
    },
    {
     "name": "stdout",
     "output_type": "stream",
     "text": [
      " di Patrizio Smiraglia\n",
      "{'title': 'Conte rimane solo: anche Grillo passa con Di Maio', 'url': 'https://www.lercio.it/conte-rimane-solo-anche-grillo-passa-con-di-maio/', 'author': 'Patrizio', 'abstract': ' di Patrizio Smiraglia'}\n",
      " [Washington, D.C.] A pochi giorni dalla notizia della cancellazione del diritto costituzionale all’aborto a livello federale da parte…\n",
      "{'title': 'Renzi: “Quello della Corte suprema americana è un nuovo Rinascimento”', 'url': 'https://www.lercio.it/renzi-quello-della-corte-suprema-americana-e-un-nuovo-rinascimento/', 'author': 'Mattia Pappalardo', 'abstract': ' [Washington, D.C.] A pochi giorni dalla notizia della cancellazione del diritto costituzionale all’aborto a livello federale da parte…'}\n",
      " Den (IS) – “Oh ragazzi, non diciamole neanche per scherzo, queste cose! S’è trattato d’un malinteso, ovvìa!” È…\n",
      "{'title': 'Ballottaggi: Renzi si distrae e appoggia un candidato di centro-sinistra', 'url': 'https://www.lercio.it/ballottaggi-renzi-si-distrae-e-appoggia-un-candidato-di-centro-sinistra/', 'author': 'Augusto Rasori', 'abstract': ' Den (IS) – “Oh ragazzi, non diciamole neanche per scherzo, queste cose! S’è trattato d’un malinteso, ovvìa!” È…'}\n"
     ]
    },
    {
     "name": "stderr",
     "output_type": "stream",
     "text": [
      "2022-12-12 18:27:29 [urllib3.connectionpool] DEBUG: http://127.0.0.1:9200 \"POST /lercio/_doc/ HTTP/1.1\" 201 163\n",
      "2022-12-12 18:27:29 [urllib3.connectionpool] DEBUG: Starting new HTTP connection (1): 127.0.0.1:9200\n",
      "2022-12-12 18:27:29 [urllib3.connectionpool] DEBUG: http://127.0.0.1:9200 \"POST /lercio/_doc/ HTTP/1.1\" 201 164\n",
      "2022-12-12 18:27:29 [urllib3.connectionpool] DEBUG: Starting new HTTP connection (1): 127.0.0.1:9200\n",
      "2022-12-12 18:27:30 [urllib3.connectionpool] DEBUG: http://127.0.0.1:9200 \"POST /lercio/_doc/ HTTP/1.1\" 201 164\n",
      "2022-12-12 18:27:30 [urllib3.connectionpool] DEBUG: Starting new HTTP connection (1): 127.0.0.1:9200\n",
      "2022-12-12 18:27:30 [urllib3.connectionpool] DEBUG: http://127.0.0.1:9200 \"POST /lercio/_doc/ HTTP/1.1\" 201 164\n"
     ]
    },
    {
     "name": "stdout",
     "output_type": "stream",
     "text": [
      " Sergio Marinelli\n",
      "{'title': 'Pizzaiolo raccoglie le firme per far abrogare la pizza wurstel e patatine', 'url': 'https://www.lercio.it/pizzaiolo-raccoglie-le-firme-per-far-abrogare-la-pizza-wurstel-e-patatine/', 'author': 'Sergio Marinelli', 'abstract': ' Sergio Marinelli'}\n",
      " Mattia F. Pappalardo\n",
      "{'title': 'Elezioni, leader di Forza Nuova reclama:  Le schede con scritto MERDE sono voti per noi ', 'url': 'https://www.lercio.it/elezioni-leader-di-forza-nuova-reclama-le-schede-con-scritto-merde-sono-voti-per-noi/', 'author': 'Mattia Pappalardo', 'abstract': ' Mattia F. Pappalardo'}\n",
      " ROMA – A seguito dell’accordo fra il Parlamento europeo e gli Stati nazionali, la direttiva sul salario minimo…\n",
      "{'title': 'Salario minimo. Confindustria apre solo sull aggettivo  minimo ', 'url': 'https://www.lercio.it/salario-minimo-confindustria-apre-solo-sullaggettivo-minimo/', 'author': 'lercio', 'abstract': ' ROMA – A seguito dell’accordo fra il Parlamento europeo e gli Stati nazionali, la direttiva sul salario minimo…'}\n"
     ]
    },
    {
     "name": "stderr",
     "output_type": "stream",
     "text": [
      "2022-12-12 18:27:30 [urllib3.connectionpool] DEBUG: Starting new HTTP connection (1): 127.0.0.1:9200\n",
      "2022-12-12 18:27:30 [urllib3.connectionpool] DEBUG: http://127.0.0.1:9200 \"POST /lercio/_doc/ HTTP/1.1\" 201 165\n",
      "2022-12-12 18:27:30 [urllib3.connectionpool] DEBUG: Starting new HTTP connection (1): 127.0.0.1:9200\n",
      "2022-12-12 18:27:30 [urllib3.connectionpool] DEBUG: http://127.0.0.1:9200 \"POST /lercio/_doc/ HTTP/1.1\" 201 165\n",
      "2022-12-12 18:27:30 [urllib3.connectionpool] DEBUG: Starting new HTTP connection (1): 127.0.0.1:9200\n"
     ]
    },
    {
     "name": "stdout",
     "output_type": "stream",
     "text": [
      " Mordor (Sede estiva di Confindustria) – “Non finiremo mai di elencare tutti i disastri che questa assurda mancia…\n",
      "{'title': 'Confindustria si difende:  È il reddito di cittadinanza la prima causa del capitalismo ', 'url': 'https://www.lercio.it/confindustria-si-difende-e-il-reddito-di-cittadinanza-la-prima-causa-del-capitalismo/', 'author': 'Davide Paolino', 'abstract': ' Mordor (Sede estiva di Confindustria) – “Non finiremo mai di elencare tutti i disastri che questa assurda mancia…'}\n",
      " KIEV (ve lo ricordate ancora dov’è, giusto?) – A distanza di quasi quattro mesi dall’inizio dell’invasione russa, le…\n",
      "{'title': 'Genio militare ucraino ricostruisce le strade a forma di nastro di Möbius e ferma l avanzata russa', 'url': 'https://www.lercio.it/genio-militare-ucraino-ricostruisce-le-strade-a-forma-di-nastro-di-mobius-e-ferma-lavanzata-russa/', 'author': 'Il Democritico', 'abstract': ' KIEV (ve lo ricordate ancora dov’è, giusto?) – A distanza di quasi quattro mesi dall’inizio dell’invasione russa, le…'}\n",
      " Fabio Corigliano\n",
      "{'title': 'Forza Italia contraria al referendum sulla separazione delle carriere tra politici e mafiosi', 'url': 'https://www.lercio.it/forza-italia-contraria-al-referendum-sulla-separazione-delle-carriere-tra-politici-e-mafiosi/', 'author': 'Fabio Corigliano', 'abstract': ' Fabio Corigliano'}\n"
     ]
    },
    {
     "name": "stderr",
     "output_type": "stream",
     "text": [
      "2022-12-12 18:27:30 [urllib3.connectionpool] DEBUG: http://127.0.0.1:9200 \"POST /lercio/_doc/ HTTP/1.1\" 201 165\n",
      "2022-12-12 18:27:30 [urllib3.connectionpool] DEBUG: Starting new HTTP connection (1): 127.0.0.1:9200\n",
      "2022-12-12 18:27:30 [urllib3.connectionpool] DEBUG: http://127.0.0.1:9200 \"POST /lercio/_doc/ HTTP/1.1\" 201 164\n",
      "2022-12-12 18:27:30 [scrapy.core.engine] DEBUG: Crawled (200) <GET https://www.lercio.it/category/politica/page/8/> (referer: https://www.lercio.it/category/politica/page/7/)\n"
     ]
    },
    {
     "name": "stdout",
     "output_type": "stream",
     "text": [
      " Davide Paolino\n",
      "{'title': 'Marta Fascina porta Berlusconi ad una fiera del vintage e viene battuto a 78 euro', 'url': 'https://www.lercio.it/marta-fascina-porta-berlusconi-ad-una-fiera-del-vintage-e-viene-battuto-a-78-euro/', 'author': 'Davide Paolino', 'abstract': ' Davide Paolino'}\n"
     ]
    },
    {
     "name": "stderr",
     "output_type": "stream",
     "text": [
      "2022-12-12 18:27:30 [urllib3.connectionpool] DEBUG: Starting new HTTP connection (1): 127.0.0.1:9200\n",
      "2022-12-12 18:27:30 [urllib3.connectionpool] DEBUG: http://127.0.0.1:9200 \"POST /lercio/_doc/ HTTP/1.1\" 201 164\n",
      "2022-12-12 18:27:30 [urllib3.connectionpool] DEBUG: Starting new HTTP connection (1): 127.0.0.1:9200\n",
      "2022-12-12 18:27:30 [urllib3.connectionpool] DEBUG: http://127.0.0.1:9200 \"POST /lercio/_doc/ HTTP/1.1\" 201 164\n",
      "2022-12-12 18:27:30 [urllib3.connectionpool] DEBUG: Starting new HTTP connection (1): 127.0.0.1:9200\n",
      "2022-12-12 18:27:30 [urllib3.connectionpool] DEBUG: http://127.0.0.1:9200 \"POST /lercio/_doc/ HTTP/1.1\" 201 164\n",
      "2022-12-12 18:27:30 [urllib3.connectionpool] DEBUG: Starting new HTTP connection (1): 127.0.0.1:9200\n"
     ]
    },
    {
     "name": "stdout",
     "output_type": "stream",
     "text": [
      " Davide Paolino & Federico Graziani\n",
      "{'title': ' Se arrivo 1° per vendite smetto con la politica . Svelato il mistero del successo dell ultimo libro di Renzi', 'url': 'https://www.lercio.it/se-arrivo-primo-in-classifica-smetto-con-la-politica-svelato-il-mistero-del-successo-dellultimo-libro-di-renzi/', 'author': 'lercio', 'abstract': ' Davide Paolino & Federico Graziani'}\n",
      " Piedeinduestaf (FE) –  “Solo i morti e gli stupidi non cambiano mai opinione” è una celebre frase del…\n",
      "{'title': 'Salvini contrario alla linea del Governo ma favorevole alle decisioni prese dall’Esecutivo', 'url': 'https://www.lercio.it/salvini-contrario-alla-linea-del-governo-ma-favorevole-alle-decisioni-prese-dallesecutivo/', 'author': 'Augusto Rasori', 'abstract': ' Piedeinduestaf (FE) –\\xa0 “Solo i morti e gli stupidi non cambiano mai opinione” è una celebre frase del…'}\n",
      " Aleandro Bartolini\n",
      "{'title': 'Anche l apriscatole dei Cinque Stelle lascia il movimento e fonda un nuovo partito', 'url': 'https://www.lercio.it/anche-lapriscatole-dei-cinque-stelle-lascia-il-movimento-e-fonda-un-nuovo-partito/', 'author': 'lercio', 'abstract': ' Aleandro Bartolini'}\n",
      " MOSCA – Ore di angoscia per il patriarca Kirill. Nel suo sermone di domenica nella Cattedrale di Cristo…\n",
      "{'title': 'Sanzioni agli oligarchi, Patriarca Kirill esorta i fedeli a pregare per il suo portafoglio', 'url': 'https://www.lercio.it/sanzioni-agli-oligarchi-patriarca-kirill-esorta-i-fedeli-a-pregare-per-il-suo-portafoglio/', 'author': 'Stefano Pisani', 'abstract': ' MOSCA – Ore di angoscia per il patriarca Kirill. Nel suo sermone di domenica nella Cattedrale di Cristo…'}\n"
     ]
    },
    {
     "name": "stderr",
     "output_type": "stream",
     "text": [
      "2022-12-12 18:27:30 [urllib3.connectionpool] DEBUG: http://127.0.0.1:9200 \"POST /lercio/_doc/ HTTP/1.1\" 201 165\n",
      "2022-12-12 18:27:30 [urllib3.connectionpool] DEBUG: Starting new HTTP connection (1): 127.0.0.1:9200\n",
      "2022-12-12 18:27:30 [urllib3.connectionpool] DEBUG: http://127.0.0.1:9200 \"POST /lercio/_doc/ HTTP/1.1\" 201 165\n",
      "2022-12-12 18:27:31 [urllib3.connectionpool] DEBUG: Starting new HTTP connection (1): 127.0.0.1:9200\n",
      "2022-12-12 18:27:31 [urllib3.connectionpool] DEBUG: http://127.0.0.1:9200 \"POST /lercio/_doc/ HTTP/1.1\" 201 164\n",
      "2022-12-12 18:27:31 [urllib3.connectionpool] DEBUG: Starting new HTTP connection (1): 127.0.0.1:9200\n",
      "2022-12-12 18:27:31 [urllib3.connectionpool] DEBUG: http://127.0.0.1:9200 \"POST /lercio/_doc/ HTTP/1.1\" 201 165\n",
      "2022-12-12 18:27:31 [urllib3.connectionpool] DEBUG: Starting new HTTP connection (1): 127.0.0.1:9200\n"
     ]
    },
    {
     "name": "stdout",
     "output_type": "stream",
     "text": [
      " Genderg (AP) – Dopo giorni di polemiche per le sue frasi da molti giudicate sessiste (“io oggi le…\n",
      "{'title': 'Elisabetta Franchi prova a rimediare:  Disposta ad assumere anche donne sotto i 12 anni ', 'url': 'https://www.lercio.it/elisabetta-franchi-prova-a-rimediare-disposta-ad-assumere-anche-donne-sotto-i-12-anni/', 'author': 'Il Democritico', 'abstract': ' Genderg (AP) – Dopo giorni di polemiche per le sue frasi da molti giudicate sessiste (“io oggi le…'}\n",
      " Pisa – Aspre polemiche quelle che si sono sollevate dopo la decisione dell’amministrazione di spendere circa 128 milioni…\n",
      "{'title': 'Pisa. Comune commissiona una copia di  riserva della  Torre da sostituire in caso di crollo', 'url': 'https://www.lercio.it/pisa-comune-commissiona-una-copia-di-riserva-della-torre-da-sostituire-in-caso-di-crollo/', 'author': 'Vittorio Lattanzi', 'abstract': ' Pisa – Aspre polemiche quelle che si sono sollevate dopo la decisione dell’amministrazione di spendere circa 128 milioni…'}\n",
      " Fabio Turano\n",
      "{'title': 'Doppi cognomi, in arrivo bonus citofoni', 'url': 'https://www.lercio.it/doppi-cognomi-in-arrivo-bonus-citofoni/', 'author': 'lercio', 'abstract': ' Fabio Turano'}\n",
      " BERLUSCO (NI) – La sua posizione politica è uno dei grandi misteri della nostra epoca, insieme a “C’è…\n",
      "{'title': 'Elio Vito:  Sono ancora in Forza Italia solo perché non so cambiare la mia bio su twitter ', 'url': 'https://www.lercio.it/elio-vito-sono-ancora-in-forza-italia-solo-perche-non-so-cambiare-la-mia-bio-su-twitter/', 'author': 'Augusto Rasori', 'abstract': ' BERLUSCO (NI) – La sua posizione politica è uno dei grandi misteri della nostra epoca, insieme a “C’è…'}\n"
     ]
    },
    {
     "name": "stderr",
     "output_type": "stream",
     "text": [
      "2022-12-12 18:27:31 [urllib3.connectionpool] DEBUG: http://127.0.0.1:9200 \"POST /lercio/_doc/ HTTP/1.1\" 201 165\n",
      "2022-12-12 18:27:31 [urllib3.connectionpool] DEBUG: Starting new HTTP connection (1): 127.0.0.1:9200\n",
      "2022-12-12 18:27:31 [urllib3.connectionpool] DEBUG: http://127.0.0.1:9200 \"POST /lercio/_doc/ HTTP/1.1\" 201 164\n",
      "2022-12-12 18:27:31 [urllib3.connectionpool] DEBUG: Starting new HTTP connection (1): 127.0.0.1:9200\n",
      "2022-12-12 18:27:31 [urllib3.connectionpool] DEBUG: http://127.0.0.1:9200 \"POST /lercio/_doc/ HTTP/1.1\" 201 165\n"
     ]
    },
    {
     "name": "stdout",
     "output_type": "stream",
     "text": [
      " Francesca Mogavero\n",
      "{'title': 'Putin denuncia l attacco della Gran Bretagna ma erano le cannonate per i 96 anni della regina', 'url': 'https://www.lercio.it/putin-denuncia-lattacco-della-gran-bretagna-ma-erano-le-cannonate-per-i-96-anni-della-regina/', 'author': 'lercio', 'abstract': ' Francesca Mogavero'}\n",
      " Stefano Pisani\n",
      "{'title': 'Liberazione. Quest anno, il 25 aprile si festeggia la fine della felicità del nonno di Orsini', 'url': 'https://www.lercio.it/liberazione-questanno-il-25-aprile-si-festeggia-la-fine-della-felicita-del-nonno-di-orsini/', 'author': 'Stefano Pisani', 'abstract': ' Stefano Pisani'}\n"
     ]
    },
    {
     "name": "stderr",
     "output_type": "stream",
     "text": [
      "2022-12-12 18:27:31 [scrapy.core.engine] DEBUG: Crawled (200) <GET https://www.lercio.it/category/politica/page/9/> (referer: https://www.lercio.it/category/politica/page/8/)\n",
      "2022-12-12 18:27:31 [urllib3.connectionpool] DEBUG: Starting new HTTP connection (1): 127.0.0.1:9200\n",
      "2022-12-12 18:27:31 [urllib3.connectionpool] DEBUG: http://127.0.0.1:9200 \"POST /lercio/_doc/ HTTP/1.1\" 201 164\n",
      "2022-12-12 18:27:31 [urllib3.connectionpool] DEBUG: Starting new HTTP connection (1): 127.0.0.1:9200\n",
      "2022-12-12 18:27:31 [urllib3.connectionpool] DEBUG: http://127.0.0.1:9200 \"POST /lercio/_doc/ HTTP/1.1\" 201 163\n",
      "2022-12-12 18:27:31 [urllib3.connectionpool] DEBUG: Starting new HTTP connection (1): 127.0.0.1:9200\n",
      "2022-12-12 18:27:31 [urllib3.connectionpool] DEBUG: http://127.0.0.1:9200 \"POST /lercio/_doc/ HTTP/1.1\" 201 163\n",
      "2022-12-12 18:27:31 [urllib3.connectionpool] DEBUG: Starting new HTTP connection (1): 127.0.0.1:9200\n"
     ]
    },
    {
     "name": "stdout",
     "output_type": "stream",
     "text": [
      " Andrea Canavesi\n",
      "{'title': 'Napoli, in vendita i primi accendini riempiti con gas dall Angola', 'url': 'https://www.lercio.it/napoli-in-vendita-i-primi-accendini-riempiti-con-gas-dallangola/', 'author': 'lercio', 'abstract': ' Andrea Canavesi'}\n",
      " Fuci (LE) Sta destando molti timori e perplessità l’attuale discussione sull’aumento della spesa militare in Italia. Soprattutto dopo…\n",
      "{'title': '2% del PIL per il riarmo. Operaio chiede un aumento e si ritrova un kalashnikov in busta paga', 'url': 'https://www.lercio.it/2-del-pil-per-il-riarmo-operaio-chiede-un-aumento-e-si-ritrova-un-kalashnikov-in-busta-paga/', 'author': 'Sergio Marinelli', 'abstract': ' Fuci (LE) Sta destando molti timori e perplessità l’attuale discussione sull’aumento della spesa militare in Italia. Soprattutto dopo…'}\n",
      " Iosonioevoinonsieteuncaz(ZO) – Grandi momenti di tensione si sono verificati nel corso della prima festa generale organizzata della Commissione…\n",
      "{'title': 'Commissione DuPre: professore fa un intervento sensato e viene cacciato in malo modo', 'url': 'https://www.lercio.it/commissione-dupre-professore-fa-un-intervento-sensato-e-viene-cacciato-in-malo-modo/', 'author': 'Augusto Rasori', 'abstract': ' Iosonioevoinonsieteuncaz(ZO) – Grandi momenti di tensione si sono verificati nel corso della prima festa generale organizzata della Commissione…'}\n",
      " Moscow (Mule) – Siamo qui ad assistere attoniti alla conferenza stampa di Dmitrij Peskov. E in qualche maniera…\n",
      "{'title': 'Dmitrij Peskov continua a negare l evidenza:  Non ho i baffi, me li hanno disegnati gli ucraini ', 'url': 'https://www.lercio.it/dmitrij-peskov-continua-a-negare-levidenza-non-ho-i-baffi-me-li-hanno-disegnati-gli-ucraini/', 'author': 'Federico Graziani', 'abstract': ' Moscow (Mule) – Siamo qui ad assistere attoniti alla conferenza stampa di Dmitrij Peskov. E in qualche maniera…'}\n"
     ]
    },
    {
     "name": "stderr",
     "output_type": "stream",
     "text": [
      "2022-12-12 18:27:31 [urllib3.connectionpool] DEBUG: http://127.0.0.1:9200 \"POST /lercio/_doc/ HTTP/1.1\" 201 164\n",
      "2022-12-12 18:27:31 [urllib3.connectionpool] DEBUG: Starting new HTTP connection (1): 127.0.0.1:9200\n",
      "2022-12-12 18:27:31 [urllib3.connectionpool] DEBUG: http://127.0.0.1:9200 \"POST /lercio/_doc/ HTTP/1.1\" 201 163\n",
      "2022-12-12 18:27:31 [urllib3.connectionpool] DEBUG: Starting new HTTP connection (1): 127.0.0.1:9200\n",
      "2022-12-12 18:27:31 [urllib3.connectionpool] DEBUG: http://127.0.0.1:9200 \"POST /lercio/_doc/ HTTP/1.1\" 201 164\n",
      "2022-12-12 18:27:31 [urllib3.connectionpool] DEBUG: Starting new HTTP connection (1): 127.0.0.1:9200\n",
      "2022-12-12 18:27:31 [urllib3.connectionpool] DEBUG: http://127.0.0.1:9200 \"POST /lercio/_doc/ HTTP/1.1\" 201 164\n",
      "2022-12-12 18:27:31 [urllib3.connectionpool] DEBUG: Starting new HTTP connection (1): 127.0.0.1:9200\n"
     ]
    },
    {
     "name": "stdout",
     "output_type": "stream",
     "text": [
      " Sergio Marinelli\n",
      "{'title': 'Biden invia troppe armi in Ucraina: a rischio migliaia di sparatorie nelle città statunitensi', 'url': 'https://www.lercio.it/biden-invia-troppe-armi-in-ucraina-a-rischio-migliaia-di-sparatorie-nelle-citta-statunitensi/', 'author': 'Sergio Marinelli', 'abstract': ' Sergio Marinelli'}\n",
      " [ROMA] Non ha sortito l’effetto sperato la levata di scudi in difesa di Carlo Freccero, l’autore e dirigente…\n",
      "{'title': 'Carlo Freccero afferma di aver visto muoversi un manichino in vetrina', 'url': 'https://www.lercio.it/carlo-freccero-afferma-di-aver-visto-muoversi-un-manichino-in-vetrina/', 'author': 'Mattia Pappalardo', 'abstract': ' [ROMA] Non ha sortito l’effetto sperato la levata di scudi in difesa di Carlo Freccero, l’autore e dirigente…'}\n",
      " Sergio Marinelli\n",
      "{'title': 'Draghi precisa:  Condizionatori solo nei bunker antiatomici ', 'url': 'https://www.lercio.it/draghi-precisa-condizionatori-solo-nei-bunker-antiatomici/', 'author': 'Sergio Marinelli', 'abstract': ' Sergio Marinelli'}\n",
      " Carburan (TE) – L’impennata del prezzo del carburante degli ultimi mesi sta creando gravi problemi a intere categorie,…\n",
      "{'title': 'Agenzia delle Entrate:  Avere l auto col pieno farà salire la fascia di reddito ISEE ', 'url': 'https://www.lercio.it/agenzia-delle-entrate-avere-lauto-col-pieno-fara-salire-la-fascia-di-reddito-isee/', 'author': 'Andrea Michielotto', 'abstract': ' Carburan (TE) – L’impennata del prezzo del carburante degli ultimi mesi sta creando gravi problemi a intere categorie,…'}\n"
     ]
    },
    {
     "name": "stderr",
     "output_type": "stream",
     "text": [
      "2022-12-12 18:27:32 [urllib3.connectionpool] DEBUG: http://127.0.0.1:9200 \"POST /lercio/_doc/ HTTP/1.1\" 201 164\n",
      "2022-12-12 18:27:32 [urllib3.connectionpool] DEBUG: Starting new HTTP connection (1): 127.0.0.1:9200\n",
      "2022-12-12 18:27:32 [urllib3.connectionpool] DEBUG: http://127.0.0.1:9200 \"POST /lercio/_doc/ HTTP/1.1\" 201 164\n",
      "2022-12-12 18:27:32 [urllib3.connectionpool] DEBUG: Starting new HTTP connection (1): 127.0.0.1:9200\n",
      "2022-12-12 18:27:32 [urllib3.connectionpool] DEBUG: http://127.0.0.1:9200 \"POST /lercio/_doc/ HTTP/1.1\" 201 164\n"
     ]
    },
    {
     "name": "stdout",
     "output_type": "stream",
     "text": [
      " CHIERICHETTI VENITE A ME (CITTÀ DEL VATICANO) – Da sempre attento alle istanze che possano turbare la serenità…\n",
      "{'title': 'Papa Francesco manda in Ucraina 300.000 Padre Nostro e 200.000 Ave Maria', 'url': 'https://www.lercio.it/papa-francesco-manda-in-ucraina-300-000-padre-nostro-e-200-000-ave-maria/', 'author': 'Claudio Favara', 'abstract': ' CHIERICHETTI VENITE A ME (CITTÀ DEL VATICANO) – Da sempre attento alle istanze che possano turbare la serenità…'}\n",
      " di Sergio Marinelli\n",
      "{'title': 'Confindustria rassicura sugli aumenti:  Gli stipendi degli operai rimarranno gli stessi”', 'url': 'https://www.lercio.it/confindustria-rassicura-sugli-aumenti-gli-stipendi-degli-operai-rimarranno-gli-stessi/', 'author': 'Sergio Marinelli', 'abstract': ' di Sergio Marinelli'}\n"
     ]
    },
    {
     "name": "stderr",
     "output_type": "stream",
     "text": [
      "2022-12-12 18:27:32 [scrapy.core.engine] DEBUG: Crawled (200) <GET https://www.lercio.it/category/politica/page/10/> (referer: https://www.lercio.it/category/politica/page/9/)\n",
      "2022-12-12 18:27:32 [urllib3.connectionpool] DEBUG: Starting new HTTP connection (1): 127.0.0.1:9200\n",
      "2022-12-12 18:27:32 [urllib3.connectionpool] DEBUG: http://127.0.0.1:9200 \"POST /lercio/_doc/ HTTP/1.1\" 201 164\n",
      "2022-12-12 18:27:32 [urllib3.connectionpool] DEBUG: Starting new HTTP connection (1): 127.0.0.1:9200\n",
      "2022-12-12 18:27:32 [urllib3.connectionpool] DEBUG: http://127.0.0.1:9200 \"POST /lercio/_doc/ HTTP/1.1\" 201 164\n",
      "2022-12-12 18:27:32 [urllib3.connectionpool] DEBUG: Starting new HTTP connection (1): 127.0.0.1:9200\n",
      "2022-12-12 18:27:32 [urllib3.connectionpool] DEBUG: http://127.0.0.1:9200 \"POST /lercio/_doc/ HTTP/1.1\" 201 163\n",
      "2022-12-12 18:27:32 [urllib3.connectionpool] DEBUG: Starting new HTTP connection (1): 127.0.0.1:9200\n"
     ]
    },
    {
     "name": "stdout",
     "output_type": "stream",
     "text": [
      " di Fabio Corigliano\n",
      "{'title': 'Riarmo. Draghi trova sintesi con i 5S: risparmieremo montando cannoni sui banchi a rotelle\\xa0', 'url': 'https://www.lercio.it/riarmo-draghi-trova-sintesi-con-i-5s-risparmieremo-montando-cannoni-sui-banchi-a-rotelle/', 'author': 'Fabio Corigliano', 'abstract': ' di Fabio Corigliano'}\n",
      " Fabio Corigliano\n",
      "{'title': 'Energia, Draghi:  Nuovi contratti per gas e petrolio solo con i regimi che non possono bombardarci ', 'url': 'https://www.lercio.it/energia-draghi-nuovi-contratti-per-gas-e-petrolio-solo-con-i-regimi-che-non-possono-bombardarci/', 'author': 'Fabio Corigliano', 'abstract': ' Fabio Corigliano'}\n",
      " Andrea Canavesi\n",
      "{'title': 'Proiettore delle diapositive guasto, salta congresso di Potere al Popolo', 'url': 'https://www.lercio.it/proiettore-delle-diapositive-guasto-salta-congresso-di-potere-al-popolo/', 'author': 'lercio', 'abstract': ' Andrea Canavesi'}\n",
      " Andrea Michielotto\n",
      "{'title': 'Gas russo, Putin apre ai pagamenti con i buoni pasto', 'url': 'https://www.lercio.it/gas-russo-putin-apre-ai-pagamenti-con-i-buoni-pasto/', 'author': 'Andrea Michielotto', 'abstract': ' Andrea Michielotto'}\n"
     ]
    },
    {
     "name": "stderr",
     "output_type": "stream",
     "text": [
      "2022-12-12 18:27:32 [urllib3.connectionpool] DEBUG: http://127.0.0.1:9200 \"POST /lercio/_doc/ HTTP/1.1\" 201 165\n",
      "2022-12-12 18:27:32 [urllib3.connectionpool] DEBUG: Starting new HTTP connection (1): 127.0.0.1:9200\n",
      "2022-12-12 18:27:32 [urllib3.connectionpool] DEBUG: http://127.0.0.1:9200 \"POST /lercio/_doc/ HTTP/1.1\" 201 164\n",
      "2022-12-12 18:27:32 [urllib3.connectionpool] DEBUG: Starting new HTTP connection (1): 127.0.0.1:9200\n",
      "2022-12-12 18:27:32 [urllib3.connectionpool] DEBUG: http://127.0.0.1:9200 \"POST /lercio/_doc/ HTTP/1.1\" 201 164\n",
      "2022-12-12 18:27:32 [urllib3.connectionpool] DEBUG: Starting new HTTP connection (1): 127.0.0.1:9200\n"
     ]
    },
    {
     "name": "stdout",
     "output_type": "stream",
     "text": [
      " Federico Graziani\n",
      "{'title': ' Sono ottime bombe , Italia invia all esercito ucraino autobus dell Atac', 'url': 'https://www.lercio.it/sono-ottime-bombe-italia-invia-allesercito-ucraino-autobus-dellatac/', 'author': 'Federico Graziani', 'abstract': ' Federico Graziani'}\n",
      " ROMA – È una mobilitazione senza precedenti quella che il popolo italiano sta portando avanti in questi ultimi…\n",
      "{'title': 'Milioni di italiani in piazza per la pace:  Guerra nucleare metterebbe a rischio il campionato ', 'url': 'https://www.lercio.it/milioni-di-italiani-in-piazza-per-la-pace-guerra-nucleare-metterebbe-a-rischio-il-campionato/', 'author': 'Gianni Zoccheddu', 'abstract': ' ROMA – È una mobilitazione senza precedenti quella che il popolo italiano sta portando avanti in questi ultimi…'}\n",
      " Gianni Zoccheddu\n",
      "{'title': 'Renzi:  Aumento del costo del petrolio favorirà il Rinascimento arabo ', 'url': 'https://www.lercio.it/renzi-aumento-del-costo-del-petrolio-favorira-il-rinascimento-arabo/', 'author': 'Gianni Zoccheddu', 'abstract': ' Gianni Zoccheddu'}\n"
     ]
    },
    {
     "name": "stderr",
     "output_type": "stream",
     "text": [
      "2022-12-12 18:27:32 [urllib3.connectionpool] DEBUG: http://127.0.0.1:9200 \"POST /lercio/_doc/ HTTP/1.1\" 201 164\n",
      "2022-12-12 18:27:32 [urllib3.connectionpool] DEBUG: Starting new HTTP connection (1): 127.0.0.1:9200\n",
      "2022-12-12 18:27:33 [urllib3.connectionpool] DEBUG: http://127.0.0.1:9200 \"POST /lercio/_doc/ HTTP/1.1\" 201 164\n",
      "2022-12-12 18:27:33 [urllib3.connectionpool] DEBUG: Starting new HTTP connection (1): 127.0.0.1:9200\n",
      "2022-12-12 18:27:33 [urllib3.connectionpool] DEBUG: http://127.0.0.1:9200 \"POST /lercio/_doc/ HTTP/1.1\" 201 164\n",
      "2022-12-12 18:27:33 [urllib3.connectionpool] DEBUG: Starting new HTTP connection (1): 127.0.0.1:9200\n"
     ]
    },
    {
     "name": "stdout",
     "output_type": "stream",
     "text": [
      " Gianni Zoccheddu\n",
      "{'title': 'Salvini ci ripensa sugli aiuti militari:  Sì all invio di armi alla Russia ', 'url': 'https://www.lercio.it/salvini-ci-ripensa-sugli-aiuti-militari-si-allinvio-di-armi-alla-russia/', 'author': 'Gianni Zoccheddu', 'abstract': ' Gianni Zoccheddu'}\n",
      " Mosca (nun fa’ la stupida quest’anno) – Sono giorni come tutti gli altri per il pianeta Terra, tra…\n",
      "{'title': 'Cremlino:  Non raderemo al suolo Kiev ma dovrà prendere il nome di Putinburgo ', 'url': 'https://www.lercio.it/cremlino-non-raderemo-al-suolo-kiev-ma-dovra-prendere-il-nome-di-putinburgo/', 'author': 'Augusto Rasori', 'abstract': ' Mosca (nun fa’ la stupida quest’anno) – Sono giorni come tutti gli altri per il pianeta Terra, tra…'}\n",
      " Si profila uno straordinario successo nella denazificazione dell’Ucraina da parte dei partigiani russi, grazie al lancio quotidiano dei…\n",
      "{'title': 'Ucraina, missile russo denazifica un intera scuola materna', 'url': 'https://www.lercio.it/ucraina-missile-russo-denazifica-unintera-scuola-materna/', 'author': 'Gianni Zoccheddu', 'abstract': ' Si profila uno straordinario successo nella denazificazione dell’Ucraina da parte dei partigiani russi, grazie al lancio quotidiano dei…'}\n"
     ]
    },
    {
     "name": "stderr",
     "output_type": "stream",
     "text": [
      "2022-12-12 18:27:33 [urllib3.connectionpool] DEBUG: http://127.0.0.1:9200 \"POST /lercio/_doc/ HTTP/1.1\" 201 165\n",
      "2022-12-12 18:27:33 [scrapy.core.engine] DEBUG: Crawled (200) <GET https://www.lercio.it/category/politica/page/11/> (referer: https://www.lercio.it/category/politica/page/10/)\n",
      "2022-12-12 18:27:33 [urllib3.connectionpool] DEBUG: Starting new HTTP connection (1): 127.0.0.1:9200\n",
      "2022-12-12 18:27:33 [urllib3.connectionpool] DEBUG: http://127.0.0.1:9200 \"POST /lercio/_doc/ HTTP/1.1\" 201 164\n",
      "2022-12-12 18:27:33 [urllib3.connectionpool] DEBUG: Starting new HTTP connection (1): 127.0.0.1:9200\n",
      "2022-12-12 18:27:33 [urllib3.connectionpool] DEBUG: http://127.0.0.1:9200 \"POST /lercio/_doc/ HTTP/1.1\" 201 163\n",
      "2022-12-12 18:27:33 [urllib3.connectionpool] DEBUG: Starting new HTTP connection (1): 127.0.0.1:9200\n",
      "2022-12-12 18:27:33 [urllib3.connectionpool] DEBUG: http://127.0.0.1:9200 \"POST /lercio/_doc/ HTTP/1.1\" 201 164\n"
     ]
    },
    {
     "name": "stdout",
     "output_type": "stream",
     "text": [
      " Londra, marzo 2022: ieri, il Primo Ministro Boris Johnson dalla sua residenza al Numero 10 di Downing Street,…\n",
      "{'title': 'Regno Unito, Boris Johnson a Putin:  Sbagliato bombardare altri Paesi, meglio colonizzarli ', 'url': 'https://www.lercio.it/regno-unito-boris-johnson-a-putin-sbagliato-bombardare-altri-paesi-meglio-colonizzarli/', 'author': 'lercio', 'abstract': ' Londra, marzo 2022: ieri, il Primo Ministro Boris Johnson dalla sua residenza al Numero 10 di Downing Street,…'}\n",
      " MosCowBoy – “È pieno di gente che insinua che io sarei pazzo. Ma io non sono pazzo. Lo…\n",
      "{'title': 'Putin respinge i dubbi sulla sua salute mentale e nomina Ministro degli Esteri il suo cavallo', 'url': 'https://www.lercio.it/putin-respinge-i-dubbi-sulla-sua-salute-mentale-e-nomina-ministro-degli-esteri-il-suo-cavallo/', 'author': 'Augusto Rasori', 'abstract': ' MosCowBoy – “È pieno di gente che insinua che io sarei pazzo. Ma io non sono pazzo. Lo…'}\n",
      " Roma – Il prolungarsi del conflitto tra Russia e Ucraina preoccupa il governo italiano. Falliti i tre round…\n",
      "{'title': 'Spettro conflitto mondiale: per precauzione Draghi proroga di un anno il Bonus Ristrutturazioni', 'url': 'https://www.lercio.it/spettro-conflitto-mondiale-per-precauzione-draghi-proroga-di-un-anno-il-bonus-ristrutturazioni/', 'author': 'Eddie Settembrini', 'abstract': ' Roma – Il prolungarsi del conflitto tra Russia e Ucraina preoccupa il governo italiano. Falliti i tre round…'}\n"
     ]
    },
    {
     "name": "stderr",
     "output_type": "stream",
     "text": [
      "2022-12-12 18:27:33 [urllib3.connectionpool] DEBUG: Starting new HTTP connection (1): 127.0.0.1:9200\n",
      "2022-12-12 18:27:33 [urllib3.connectionpool] DEBUG: http://127.0.0.1:9200 \"POST /lercio/_doc/ HTTP/1.1\" 201 163\n",
      "2022-12-12 18:27:33 [urllib3.connectionpool] DEBUG: Starting new HTTP connection (1): 127.0.0.1:9200\n",
      "2022-12-12 18:27:33 [urllib3.connectionpool] DEBUG: http://127.0.0.1:9200 \"POST /lercio/_doc/ HTTP/1.1\" 201 163\n",
      "2022-12-12 18:27:33 [urllib3.connectionpool] DEBUG: Starting new HTTP connection (1): 127.0.0.1:9200\n",
      "2022-12-12 18:27:33 [urllib3.connectionpool] DEBUG: http://127.0.0.1:9200 \"POST /lercio/_doc/ HTTP/1.1\" 201 162\n",
      "2022-12-12 18:27:33 [urllib3.connectionpool] DEBUG: Starting new HTTP connection (1): 127.0.0.1:9200\n"
     ]
    },
    {
     "name": "stdout",
     "output_type": "stream",
     "text": [
      " Un posto a caso nel Mondo (Russia, prima o poi) – Il Presidente di uno Stato, i quali…\n",
      "{'title': 'Putin:  Dopo l Ucraina, denazificheremo la Russia ', 'url': 'https://www.lercio.it/putin-dopo-lucraina-denazificheremo-la-russia/', 'author': 'Il Democritico', 'abstract': ' Un posto a caso nel Mondo (Russia, prima o poi) – Il Presidente di uno Stato, i quali…'}\n",
      " Mosca – Prosegue senza sosta il processo di pace in Ucraina, con il presidente russo Vladimir Putin che…\n",
      "{'title': 'Ucraina, Russia consegna nuova proposta di pace via missile balistico', 'url': 'https://www.lercio.it/ucraina-russia-consegna-nuova-proposta-di-pace-via-missile-balistico/', 'author': 'Gianni Zoccheddu', 'abstract': ' Mosca – Prosegue senza sosta il processo di pace in Ucraina, con il presidente russo Vladimir Putin che…'}\n",
      " Gianni Zoccheddu & Francesco Conte\n",
      "{'title': 'Ucraina, Putin propone nuovi negoziati da svolgersi a Kiev, in Russia', 'url': 'https://www.lercio.it/ucraina-putin-propone-nuovi-negoziati-da-svolgersi-a-kiev-in-russia/', 'author': 'lercio', 'abstract': ' Gianni Zoccheddu & Francesco Conte'}\n",
      " “Alyosha Karamazov?”“Niet”“Ivan Jakovlevič?”“Niet”“Pëtr Andréevič Grinëv?”“Niet” Mosca (CCCP, ehm, CSI, no, Россия) – Sono ore veramente concitate quelle vissute…\n",
      "{'title': 'Blocco SWIFT: Putin e Lavrov non ricordano più i nomi falsi con cui hanno aperto i conti all estero', 'url': 'https://www.lercio.it/blocco-swift-putin-e-lavrov-non-ricordano-piu-i-nomi-falsi-con-cui-hanno-aperto-i-conti-allestero/', 'author': 'Augusto Rasori', 'abstract': ' “Alyosha Karamazov?”“Niet”“Ivan Jakovlevič?”“Niet”“Pëtr Andréevič Grinëv?”“Niet” Mosca (CCCP, ehm, CSI, no, Россия) – Sono ore veramente concitate quelle vissute…'}\n"
     ]
    },
    {
     "name": "stderr",
     "output_type": "stream",
     "text": [
      "2022-12-12 18:27:33 [urllib3.connectionpool] DEBUG: http://127.0.0.1:9200 \"POST /lercio/_doc/ HTTP/1.1\" 201 164\n",
      "2022-12-12 18:27:33 [urllib3.connectionpool] DEBUG: Starting new HTTP connection (1): 127.0.0.1:9200\n",
      "2022-12-12 18:27:34 [urllib3.connectionpool] DEBUG: http://127.0.0.1:9200 \"POST /lercio/_doc/ HTTP/1.1\" 201 165\n",
      "2022-12-12 18:27:34 [urllib3.connectionpool] DEBUG: Starting new HTTP connection (1): 127.0.0.1:9200\n"
     ]
    },
    {
     "name": "stdout",
     "output_type": "stream",
     "text": [
      " Andrea Michielotto\n",
      "{'title': 'Salvini lancia la prima app per riconoscere un vero profugo', 'url': 'https://www.lercio.it/salvini-lancia-la-prima-app-per-riconoscere-un-vero-profugo/', 'author': 'Andrea Michielotto', 'abstract': ' Andrea Michielotto'}\n",
      " Sergio Marinelli\n",
      "{'title': ' È morto di guerra o con guerra? : in arrivo i nuovi negazionisti', 'url': 'https://www.lercio.it/e-morto-in-guerra-o-di-guerra-in-arrivo-i-nuovi-negazionisti/', 'author': 'Sergio Marinelli', 'abstract': ' Sergio Marinelli'}\n"
     ]
    },
    {
     "name": "stderr",
     "output_type": "stream",
     "text": [
      "2022-12-12 18:27:34 [urllib3.connectionpool] DEBUG: http://127.0.0.1:9200 \"POST /lercio/_doc/ HTTP/1.1\" 201 163\n",
      "2022-12-12 18:27:34 [urllib3.connectionpool] DEBUG: Starting new HTTP connection (1): 127.0.0.1:9200\n",
      "2022-12-12 18:27:34 [urllib3.connectionpool] DEBUG: http://127.0.0.1:9200 \"POST /lercio/_doc/ HTTP/1.1\" 201 164\n",
      "2022-12-12 18:27:34 [scrapy.core.engine] DEBUG: Crawled (200) <GET https://www.lercio.it/category/politica/page/12/> (referer: https://www.lercio.it/category/politica/page/11/)\n"
     ]
    },
    {
     "name": "stdout",
     "output_type": "stream",
     "text": [
      " Russia (Sia Russia-Russia, sia Russia come Crimea, Donbass, Abkhazia, Transnistria, Ossezia del Sud e a quanto pare anche…\n",
      "{'title': 'Putin dichiara:  A dispetto delle apparenze, ho tendenze bellicose ', 'url': 'https://www.lercio.it/putin-dichiara-a-dispetto-delle-apparenze-ho-tendenze-bellicose/', 'author': 'Andrea H. Sesta', 'abstract': ' Russia (Sia Russia-Russia, sia Russia come Crimea, Donbass, Abkhazia, Transnistria, Ossezia del Sud e a quanto pare anche…'}\n"
     ]
    },
    {
     "name": "stderr",
     "output_type": "stream",
     "text": [
      "2022-12-12 18:27:34 [urllib3.connectionpool] DEBUG: Starting new HTTP connection (1): 127.0.0.1:9200\n",
      "2022-12-12 18:27:34 [urllib3.connectionpool] DEBUG: http://127.0.0.1:9200 \"POST /lercio/_doc/ HTTP/1.1\" 201 162\n",
      "2022-12-12 18:27:34 [urllib3.connectionpool] DEBUG: Starting new HTTP connection (1): 127.0.0.1:9200\n",
      "2022-12-12 18:27:34 [urllib3.connectionpool] DEBUG: http://127.0.0.1:9200 \"POST /lercio/_doc/ HTTP/1.1\" 201 163\n",
      "2022-12-12 18:27:34 [urllib3.connectionpool] DEBUG: Starting new HTTP connection (1): 127.0.0.1:9200\n"
     ]
    },
    {
     "name": "stdout",
     "output_type": "stream",
     "text": [
      " Davide Paolino\n",
      "{'title': 'È ufficiale: sarà l Ucraina il nuovo lettone di Putin', 'url': 'https://www.lercio.it/e-ufficiale-sara-lucraina-il-nuovo-lettone-di-putin/', 'author': 'Davide Paolino', 'abstract': ' Davide Paolino'}\n",
      " BIELLA – L’associazione degli industriali non sembra voler mollare la presa sui temi della sicurezza sul lavoro, e…\n",
      "{'title': 'Formazione professionale, Confindustria propone l alternanza scuola-obitorio', 'url': 'https://www.lercio.it/formazione-professionale-confindustria-propone-lalternanza-scuola-obitorio/', 'author': 'Gianni Zoccheddu', 'abstract': ' BIELLA – L’associazione degli industriali non sembra voler mollare la presa sui temi della sicurezza sul lavoro, e…'}\n",
      " Roma (Bloody Roma)  – “Non posso credere a queste notizie oggi. Oh, non riesco a chiudere gli occhi…\n",
      "{'title': 'Botte agli studenti, Lamorgese spiega:  Tra i poliziotti si erano infiltrati dei poliziotti ', 'url': 'https://www.lercio.it/botte-agli-studenti-lamorgese-spiega-tra-i-poliziotti-si-erano-infiltrati-dei-poliziotti/', 'author': 'Augusto Rasori', 'abstract': ' Roma (Bloody Roma)\\xa0 – “Non posso credere a queste notizie oggi. Oh, non riesco a chiudere gli occhi…'}\n"
     ]
    },
    {
     "name": "stderr",
     "output_type": "stream",
     "text": [
      "2022-12-12 18:27:34 [urllib3.connectionpool] DEBUG: http://127.0.0.1:9200 \"POST /lercio/_doc/ HTTP/1.1\" 201 163\n",
      "2022-12-12 18:27:34 [urllib3.connectionpool] DEBUG: Starting new HTTP connection (1): 127.0.0.1:9200\n",
      "2022-12-12 18:27:34 [urllib3.connectionpool] DEBUG: http://127.0.0.1:9200 \"POST /lercio/_doc/ HTTP/1.1\" 201 162\n",
      "2022-12-12 18:27:34 [urllib3.connectionpool] DEBUG: Starting new HTTP connection (1): 127.0.0.1:9200\n",
      "2022-12-12 18:27:34 [urllib3.connectionpool] DEBUG: http://127.0.0.1:9200 \"POST /lercio/_doc/ HTTP/1.1\" 201 163\n",
      "2022-12-12 18:27:34 [urllib3.connectionpool] DEBUG: Starting new HTTP connection (1): 127.0.0.1:9200\n"
     ]
    },
    {
     "name": "stdout",
     "output_type": "stream",
     "text": [
      " Andrea H. Sesta\n",
      "{'title': 'Caro bollette: la Nato invia in Ucraina carrarmati fotovoltaici', 'url': 'https://www.lercio.it/caro-bollette-la-nato-invia-in-ucraina-carrarmati-fotovoltaici/', 'author': 'Andrea H. Sesta', 'abstract': ' Andrea H. Sesta'}\n",
      " Treviso – Non sono molti ma fanno rumore. Sono i membri del movimento no-vax Norimberga2 che auspicano, alla…\n",
      "{'title': 'Germania gela i no-vax: “Per assistere al  processo di Norimberga 2  servirà il Super Green Pass”', 'url': 'https://www.lercio.it/germania-gela-i-no-vax-per-assistere-al-processo-di-norimberga-2-servira-il-super-green-pass/', 'author': 'Eddie Settembrini', 'abstract': ' Treviso – Non sono molti ma fanno rumore. Sono i membri del movimento no-vax Norimberga2 che auspicano, alla…'}\n",
      " Twitter (FI) – Non accennano a placarsi le turbolenze istituzionali che hanno caratterizzato l’elezione del Presidente della Repubblica.…\n",
      "{'title': ' Ultima elezione del PdR spettacolo indecoroso , Renzi propone il Sultanato', 'url': 'https://www.lercio.it/ultima-elezione-del-pdr-spettacolo-indecoroso-renzi-propone-il-sultanato/', 'author': 'Il Democritico', 'abstract': ' Twitter (FI) – Non accennano a placarsi le turbolenze istituzionali che hanno caratterizzato l’elezione del Presidente della Repubblica.…'}\n"
     ]
    },
    {
     "name": "stderr",
     "output_type": "stream",
     "text": [
      "2022-12-12 18:27:35 [urllib3.connectionpool] DEBUG: http://127.0.0.1:9200 \"POST /lercio/_doc/ HTTP/1.1\" 201 163\n",
      "2022-12-12 18:27:35 [urllib3.connectionpool] DEBUG: Starting new HTTP connection (1): 127.0.0.1:9200\n",
      "2022-12-12 18:27:35 [urllib3.connectionpool] DEBUG: http://127.0.0.1:9200 \"POST /lercio/_doc/ HTTP/1.1\" 201 163\n",
      "2022-12-12 18:27:35 [urllib3.connectionpool] DEBUG: Starting new HTTP connection (1): 127.0.0.1:9200\n",
      "2022-12-12 18:27:35 [urllib3.connectionpool] DEBUG: http://127.0.0.1:9200 \"POST /lercio/_doc/ HTTP/1.1\" 201 163\n",
      "2022-12-12 18:27:35 [urllib3.connectionpool] DEBUG: Starting new HTTP connection (1): 127.0.0.1:9200\n",
      "2022-12-12 18:27:35 [urllib3.connectionpool] DEBUG: http://127.0.0.1:9200 \"POST /lercio/_doc/ HTTP/1.1\" 201 162\n",
      "2022-12-12 18:27:35 [urllib3.connectionpool] DEBUG: Starting new HTTP connection (1): 127.0.0.1:9200\n"
     ]
    },
    {
     "name": "stdout",
     "output_type": "stream",
     "text": [
      " ROMA – “Ha detto ‘Dio, Cristo’ in prima serata. La televisione pubblica, pagata con i soldi di tutti,…\n",
      "{'title': ' Ha detto  Dio, Cristo  , Codacons contro l intervento di Papa Francesco in tv da Fazio', 'url': 'https://www.lercio.it/ha-detto-dio-cristo-codacons-contro-lintervento-di-papa-francesco-in-tv-da-fazio/', 'author': 'Stefano Pisani', 'abstract': ' ROMA – “Ha detto ‘Dio, Cristo’ in prima serata. La televisione pubblica, pagata con i soldi di tutti,…'}\n",
      " Stefano Pisani\n",
      "{'title': 'Pechino 2022. Bonzo tibetano protesta contro la Cina dandosi fuoco con la torcia olimpica', 'url': 'https://www.lercio.it/pechino-2022-bonzo-tibetano-protesta-contro-cina-dandosi-fuoco-con-la-torcia-olimpica/', 'author': 'Stefano Pisani', 'abstract': ' Stefano Pisani'}\n",
      " Viminale – Superata la grande paura della caduta del Governo come conseguenza dell’elezione di Mario Draghi o di…\n",
      "{'title': 'Lotta alla malavita, Lamorgese:  Green Pass necessario anche per riscuotere il pizzo ', 'url': 'https://www.lercio.it/lotta-alla-malavita-lamorgese-green-pass-necessario-anche-per-riscuotere-il-pizzo/', 'author': 'Augusto Rasori', 'abstract': ' Viminale – Superata la grande paura della caduta del Governo come conseguenza dell’elezione di Mario Draghi o di…'}\n",
      " Andrea Bonechi\n",
      "{'title': 'Mattarella:  È davvero un piacere essere ascoltati quando uno parla ', 'url': 'https://www.lercio.it/mattarella-e-davvero-un-piacere-essere-ascoltati-quando-uno-parla/', 'author': 'Chiorbaciov', 'abstract': ' Andrea Bonechi'}\n"
     ]
    },
    {
     "name": "stderr",
     "output_type": "stream",
     "text": [
      "2022-12-12 18:27:35 [urllib3.connectionpool] DEBUG: http://127.0.0.1:9200 \"POST /lercio/_doc/ HTTP/1.1\" 201 164\n",
      "2022-12-12 18:27:35 [scrapy.core.engine] DEBUG: Crawled (200) <GET https://www.lercio.it/category/politica/page/13/> (referer: https://www.lercio.it/category/politica/page/12/)\n",
      "2022-12-12 18:27:35 [urllib3.connectionpool] DEBUG: Starting new HTTP connection (1): 127.0.0.1:9200\n",
      "2022-12-12 18:27:35 [urllib3.connectionpool] DEBUG: http://127.0.0.1:9200 \"POST /lercio/_doc/ HTTP/1.1\" 201 163\n",
      "2022-12-12 18:27:35 [urllib3.connectionpool] DEBUG: Starting new HTTP connection (1): 127.0.0.1:9200\n",
      "2022-12-12 18:27:35 [urllib3.connectionpool] DEBUG: http://127.0.0.1:9200 \"POST /lercio/_doc/ HTTP/1.1\" 201 163\n",
      "2022-12-12 18:27:35 [urllib3.connectionpool] DEBUG: Starting new HTTP connection (1): 127.0.0.1:9200\n",
      "2022-12-12 18:27:35 [urllib3.connectionpool] DEBUG: http://127.0.0.1:9200 \"POST /lercio/_doc/ HTTP/1.1\" 201 163\n",
      "2022-12-12 18:27:35 [urllib3.connectionpool] DEBUG: Starting new HTTP connection (1): 127.0.0.1:9200\n"
     ]
    },
    {
     "name": "stdout",
     "output_type": "stream",
     "text": [
      " Eddie Settembrini\n",
      "{'title': 'Quirinale, non c è accordo: il nuovo Presidente della Repubblica sarà progettato da Renzo Piano', 'url': 'https://www.lercio.it/quirinale-non-ce-accordo-il-nuovo-presidente-della-repubblica-sara-progettato-da-renzo-piano/', 'author': 'Eddie Settembrini', 'abstract': ' Eddie Settembrini'}\n",
      " Andrea Canavesi\n",
      "{'title': 'Alternanza scuola-lavoro: il ministro degli esteri Luigi Di Maio spiega come evitare entrambi', 'url': 'https://www.lercio.it/alternanza-scuola-lavoro-il-ministro-degli-esteri-luigi-di-maio-spiega-come-evitare-entrambi/', 'author': 'lercio', 'abstract': ' Andrea Canavesi'}\n",
      " Stefano Pisani\n",
      "{'title': 'Quirinale, creati mezzi speciali per i Grandi Elettori positivi: arrivano le autoambulanze blu', 'url': 'https://www.lercio.it/quirinale-creati-mezzi-speciali-per-i-grandi-elettori-positivi-arrivano-le-autoambulanze-blu/', 'author': 'Stefano Pisani', 'abstract': ' Stefano Pisani'}\n",
      " Federico Simoncini Ulivelli\n",
      "{'title': 'Quirinale, Mattarella posticipa le votazioni per non far rinviare il processo a Berlusconi', 'url': 'https://www.lercio.it/quirinale-mattarella-posticipa-le-votazioni-per-non-far-rinviare-il-processo-a-berlusconi/', 'author': 'lercio', 'abstract': ' Federico Simoncini Ulivelli'}\n"
     ]
    },
    {
     "name": "stderr",
     "output_type": "stream",
     "text": [
      "2022-12-12 18:27:35 [urllib3.connectionpool] DEBUG: http://127.0.0.1:9200 \"POST /lercio/_doc/ HTTP/1.1\" 201 163\n",
      "2022-12-12 18:27:35 [urllib3.connectionpool] DEBUG: Starting new HTTP connection (1): 127.0.0.1:9200\n",
      "2022-12-12 18:27:35 [urllib3.connectionpool] DEBUG: http://127.0.0.1:9200 \"POST /lercio/_doc/ HTTP/1.1\" 201 162\n",
      "2022-12-12 18:27:35 [urllib3.connectionpool] DEBUG: Starting new HTTP connection (1): 127.0.0.1:9200\n",
      "2022-12-12 18:27:35 [urllib3.connectionpool] DEBUG: http://127.0.0.1:9200 \"POST /lercio/_doc/ HTTP/1.1\" 201 161\n",
      "2022-12-12 18:27:35 [urllib3.connectionpool] DEBUG: Starting new HTTP connection (1): 127.0.0.1:9200\n",
      "2022-12-12 18:27:35 [urllib3.connectionpool] DEBUG: http://127.0.0.1:9200 \"POST /lercio/_doc/ HTTP/1.1\" 201 163\n",
      "2022-12-12 18:27:35 [urllib3.connectionpool] DEBUG: Starting new HTTP connection (1): 127.0.0.1:9200\n"
     ]
    },
    {
     "name": "stdout",
     "output_type": "stream",
     "text": [
      " Stefano Pisani\n",
      "{'title': 'Quirinale, il PD lancia Giancarlo Magalli:  Era in classe con Draghi ', 'url': 'https://www.lercio.it/quirinale-il-pd-lancia-giancarlo-magalli-era-in-classe-con-draghi/', 'author': 'Stefano Pisani', 'abstract': ' Stefano Pisani'}\n",
      " ROMICRON – Sembra giunta al culmine la corsa della variante Omicron in Italia, dopo aver surclassato la Delta…\n",
      "{'title': 'Quirinale, esperti concordi: entro 7 giorni Omicron potrebbe eleggere il Presidente della Repubblica', 'url': 'https://www.lercio.it/esperti-concordi-entro-7-giorni-omicron-potrebbe-eleggere-il-presidente-della-repubblica/', 'author': 'Gianni Zoccheddu', 'abstract': ' ROMICRON – Sembra giunta al culmine la corsa della variante Omicron in Italia, dopo aver surclassato la Delta…'}\n",
      " Luciano Picchi\n",
      "{'title': 'Pochi autisti, Governo ai ripari: “Gli under 12 col Super Green Pass potranno guidare lo scuolabus”', 'url': 'https://www.lercio.it/pochi-autisti-governo-ai-ripari-gli-under-12-col-super-green-pass-potranno-guidare-lo-scuolabus/', 'author': 'lercio', 'abstract': ' Luciano Picchi'}\n",
      " Roma, Uno dei sette colli – A poco più di una settimana dall’elezione del nuovo Presidente della Repubblica…\n",
      "{'title': 'Il centrodestra rassicura:  Troveremo uno più impresentabile di Berlusconi ', 'url': 'https://www.lercio.it/il-centrodestra-rassicura-troveremo-uno-piu-impresentabile-di-berlusconi/', 'author': 'Sergio Marinelli', 'abstract': ' Roma, Uno dei sette colli – A poco più di una settimana dall’elezione del nuovo Presidente della Repubblica…'}\n"
     ]
    },
    {
     "name": "stderr",
     "output_type": "stream",
     "text": [
      "2022-12-12 18:27:36 [urllib3.connectionpool] DEBUG: http://127.0.0.1:9200 \"POST /lercio/_doc/ HTTP/1.1\" 201 164\n",
      "2022-12-12 18:27:36 [urllib3.connectionpool] DEBUG: Starting new HTTP connection (1): 127.0.0.1:9200\n",
      "2022-12-12 18:27:36 [urllib3.connectionpool] DEBUG: http://127.0.0.1:9200 \"POST /lercio/_doc/ HTTP/1.1\" 201 163\n",
      "2022-12-12 18:27:36 [urllib3.connectionpool] DEBUG: Starting new HTTP connection (1): 127.0.0.1:9200\n",
      "2022-12-12 18:27:36 [urllib3.connectionpool] DEBUG: http://127.0.0.1:9200 \"POST /lercio/_doc/ HTTP/1.1\" 201 164\n"
     ]
    },
    {
     "name": "stdout",
     "output_type": "stream",
     "text": [
      " Roma (a Sud di Roma Nord) – Una mossa inaspettata, una presa di posizione senza precedenti nella storia…\n",
      "{'title': 'Quirinale, il PD prende posizione:  Il prossimo Presidente sia un italiano con almeno 50 anni ', 'url': 'https://www.lercio.it/quirinale-il-pd-prende-posizione-il-prossimo-presidente-sia-un-italiano-con-almeno-50-anni/', 'author': 'Andrea H. Sesta', 'abstract': ' Roma (a Sud di Roma Nord) – Una mossa inaspettata, una presa di posizione senza precedenti nella storia…'}\n",
      " Roma (Comune de-emme5essizzato) – Il 24 gennaio si avvicina e le Quirinarie sono imminenti. L’ormai quasi ex Presidente…\n",
      "{'title': 'Quirinale. Mattarella cancella sé stesso dall anagrafe per evitare la riconferma', 'url': 'https://www.lercio.it/quirinale-mattarella-cancella-se-stesso-dallanagrafe-per-evitare-la-riconferma/', 'author': 'Davide Paolino', 'abstract': ' Roma (Comune de-emme5essizzato) – Il 24 gennaio si avvicina e le Quirinarie sono imminenti. L’ormai quasi ex Presidente…'}\n"
     ]
    },
    {
     "name": "stderr",
     "output_type": "stream",
     "text": [
      "2022-12-12 18:27:36 [scrapy.core.engine] DEBUG: Crawled (200) <GET https://www.lercio.it/category/politica/page/14/> (referer: https://www.lercio.it/category/politica/page/13/)\n",
      "2022-12-12 18:27:36 [urllib3.connectionpool] DEBUG: Starting new HTTP connection (1): 127.0.0.1:9200\n",
      "2022-12-12 18:27:36 [urllib3.connectionpool] DEBUG: http://127.0.0.1:9200 \"POST /lercio/_doc/ HTTP/1.1\" 201 164\n",
      "2022-12-12 18:27:36 [urllib3.connectionpool] DEBUG: Starting new HTTP connection (1): 127.0.0.1:9200\n",
      "2022-12-12 18:27:36 [urllib3.connectionpool] DEBUG: http://127.0.0.1:9200 \"POST /lercio/_doc/ HTTP/1.1\" 201 164\n",
      "2022-12-12 18:27:36 [urllib3.connectionpool] DEBUG: Starting new HTTP connection (1): 127.0.0.1:9200\n",
      "2022-12-12 18:27:36 [urllib3.connectionpool] DEBUG: http://127.0.0.1:9200 \"POST /lercio/_doc/ HTTP/1.1\" 201 163\n",
      "2022-12-12 18:27:36 [urllib3.connectionpool] DEBUG: Starting new HTTP connection (1): 127.0.0.1:9200\n"
     ]
    },
    {
     "name": "stdout",
     "output_type": "stream",
     "text": [
      " Federico Graziani\n",
      "{'title': 'Cinquestelle minacciano Mattarella di impeachment se non accetta di fare un secondo mandato', 'url': 'https://www.lercio.it/cinquestelle-minacciano-mattarella-di-impeachment-se-non-accetta-di-fare-un-secondo-mandato/', 'author': 'Federico Graziani', 'abstract': ' Federico Graziani'}\n",
      " Milano (Padania) – Torna per la terza edizione “Vinci Salvini”, il gioco a premi più amato dal popolo…\n",
      "{'title': 'Salvini lancia nuovo concorso:  10.000 euro a chi trova relazione tra aumento bollette e migranti ', 'url': 'https://www.lercio.it/salvini-lancia-nuovo-concorso-10-000-euro-a-chi-trova-relazione-tra-aumento-bollette-e-migranti/', 'author': 'Gianni Zoccheddu', 'abstract': ' Milano (Padania) – Torna per la terza edizione “Vinci Salvini”, il gioco a premi più amato dal popolo…'}\n",
      " Aleandro Bartolini\n",
      "{'title': '“È benvoluto da tutti”, tampone negativo si candida alla Presidenza della Repubblica', 'url': 'https://www.lercio.it/e-benvoluto-da-tutti-tampone-negativo-si-candida-alla-presidenza-della-repubblica/', 'author': 'lercio', 'abstract': ' Aleandro Bartolini'}\n",
      " Gianni Zoccheddu\n",
      "{'title': 'Stretta di Natale, si potrà dire solo  Auguri a te e metà famiglia ', 'url': 'https://www.lercio.it/stretta-di-natale-si-potra-dire-solo-auguri-a-te-e-meta-famiglia/', 'author': 'Gianni Zoccheddu', 'abstract': ' Gianni Zoccheddu'}\n"
     ]
    },
    {
     "name": "stderr",
     "output_type": "stream",
     "text": [
      "2022-12-12 18:27:36 [urllib3.connectionpool] DEBUG: http://127.0.0.1:9200 \"POST /lercio/_doc/ HTTP/1.1\" 201 163\n",
      "2022-12-12 18:27:36 [urllib3.connectionpool] DEBUG: Starting new HTTP connection (1): 127.0.0.1:9200\n",
      "2022-12-12 18:27:36 [urllib3.connectionpool] DEBUG: http://127.0.0.1:9200 \"POST /lercio/_doc/ HTTP/1.1\" 201 164\n",
      "2022-12-12 18:27:36 [urllib3.connectionpool] DEBUG: Starting new HTTP connection (1): 127.0.0.1:9200\n",
      "2022-12-12 18:27:36 [urllib3.connectionpool] DEBUG: http://127.0.0.1:9200 \"POST /lercio/_doc/ HTTP/1.1\" 201 164\n",
      "2022-12-12 18:27:36 [urllib3.connectionpool] DEBUG: Starting new HTTP connection (1): 127.0.0.1:9200\n",
      "2022-12-12 18:27:36 [urllib3.connectionpool] DEBUG: http://127.0.0.1:9200 \"POST /lercio/_doc/ HTTP/1.1\" 201 164\n",
      "2022-12-12 18:27:36 [urllib3.connectionpool] DEBUG: Starting new HTTP connection (1): 127.0.0.1:9200\n"
     ]
    },
    {
     "name": "stdout",
     "output_type": "stream",
     "text": [
      " IETTATO (RE) – Fino a poche ore fa il massimo torneo calcistico del nostro Paese sembrava ormai indirizzato…\n",
      "{'title': 'Calcio, Salvini diventa tifoso dell Inter e riapre il campionato', 'url': 'https://www.lercio.it/calcio-salvini-diventa-tifoso-dellinter-e-riapre-il-campionato/', 'author': 'Augusto Rasori', 'abstract': ' IETTATO (RE) – Fino a poche ore fa il massimo torneo calcistico del nostro Paese sembrava ormai indirizzato…'}\n",
      " Micael Camozzi\n",
      "{'title': ' Cosa mangerà a Natale?  : Giletti pone finalmente una domanda scomoda a Salvini', 'url': 'https://www.lercio.it/cosa-mangera-a-natale-giletti-pone-finalmente-una-domanda-scomoda-a-salvini/', 'author': 'lercio', 'abstract': ' Micael Camozzi'}\n",
      " Andrea Canavesi\n",
      "{'title': 'Superbonus: Potere al Popolo riceve 50 euro dallo Stato per la costruzione di una nuova sede', 'url': 'https://www.lercio.it/superbonus-potere-al-popolo-riceve-50-euro-dallo-stato-per-la-costruzione-di-una-nuova-sede/', 'author': 'lercio', 'abstract': ' Andrea Canavesi'}\n",
      " Roma – Ad oggi sono circa un milione i ragazzi tra i 12 e i 19 anni che…\n",
      "{'title': '“Sticazzi, s annamo a fa  er vaccino?”. Governo prova a convincere i giovani affidando la campagna a Zerocalcare', 'url': 'https://www.lercio.it/sticazzi-sannamo-a-fa-er-vaccino-governo-prova-a-convincere-i-giovani-affidando-la-campagna-a-zerocalcare/', 'author': 'Eddie Settembrini', 'abstract': ' Roma – Ad oggi sono circa un milione i ragazzi tra i 12 e i 19 anni che…'}\n"
     ]
    },
    {
     "name": "stderr",
     "output_type": "stream",
     "text": [
      "2022-12-12 18:27:36 [urllib3.connectionpool] DEBUG: http://127.0.0.1:9200 \"POST /lercio/_doc/ HTTP/1.1\" 201 163\n",
      "2022-12-12 18:27:36 [urllib3.connectionpool] DEBUG: Starting new HTTP connection (1): 127.0.0.1:9200\n",
      "2022-12-12 18:27:36 [urllib3.connectionpool] DEBUG: http://127.0.0.1:9200 \"POST /lercio/_doc/ HTTP/1.1\" 201 164\n",
      "2022-12-12 18:27:37 [urllib3.connectionpool] DEBUG: Starting new HTTP connection (1): 127.0.0.1:9200\n",
      "2022-12-12 18:27:37 [urllib3.connectionpool] DEBUG: http://127.0.0.1:9200 \"POST /lercio/_doc/ HTTP/1.1\" 201 165\n"
     ]
    },
    {
     "name": "stdout",
     "output_type": "stream",
     "text": [
      " Claudio Andreoli\n",
      "{'title': 'Governo: “Monopattino obbligatorio se si indossa il casco”', 'url': 'https://www.lercio.it/governo-monopattino-obbligatorio-se-si-indossa-il-casco/', 'author': 'lercio', 'abstract': ' Claudio Andreoli'}\n",
      " JACKSON – Il suo idolo – neanche a dirlo – è Donald Trump, la sua fede in Cristo…\n",
      "{'title': 'USA, governatore del Mississippi declassa le bombe termonucleari ad armi sportive', 'url': 'https://www.lercio.it/usa-governatore-del-mississippi-declassa-le-bombe-termonucleari-ad-armi-sportive/', 'author': 'Gianni Zoccheddu', 'abstract': ' JACKSON – Il suo idolo – neanche a dirlo – è Donald Trump, la sua fede in Cristo…'}\n"
     ]
    },
    {
     "name": "stderr",
     "output_type": "stream",
     "text": [
      "2022-12-12 18:27:37 [scrapy.core.engine] DEBUG: Crawled (200) <GET https://www.lercio.it/category/politica/page/15/> (referer: https://www.lercio.it/category/politica/page/14/)\n",
      "2022-12-12 18:27:37 [urllib3.connectionpool] DEBUG: Starting new HTTP connection (1): 127.0.0.1:9200\n",
      "2022-12-12 18:27:37 [urllib3.connectionpool] DEBUG: http://127.0.0.1:9200 \"POST /lercio/_doc/ HTTP/1.1\" 201 165\n",
      "2022-12-12 18:27:37 [urllib3.connectionpool] DEBUG: Starting new HTTP connection (1): 127.0.0.1:9200\n",
      "2022-12-12 18:27:37 [urllib3.connectionpool] DEBUG: http://127.0.0.1:9200 \"POST /lercio/_doc/ HTTP/1.1\" 201 165\n",
      "2022-12-12 18:27:37 [urllib3.connectionpool] DEBUG: Starting new HTTP connection (1): 127.0.0.1:9200\n"
     ]
    },
    {
     "name": "stdout",
     "output_type": "stream",
     "text": [
      " Claudio Andreoli\n",
      "{'title': 'Salvini smentisce dichiarazione che non aveva detto ma solo pensato', 'url': 'https://www.lercio.it/salvini-smentisce-dichiarazione-che-non-aveva-detto-ma-solo-pensato/', 'author': 'lercio', 'abstract': ' Claudio Andreoli'}\n",
      " ROMA – Qualche giorno fa, Italia e Francia hanno firmato un patto per una maggiore cooperazione su diverse…\n",
      "{'title': 'Spunta norma nascosta dell accordo Roma-Parigi: l Italia non potrà più battere la Francia agli Europei', 'url': 'https://www.lercio.it/spunta-norma-nascosta-dellaccordo-roma-parigi-litalia-non-potra-piu-battere-la-francia-agli-europei/', 'author': 'Stefano Pisani', 'abstract': ' ROMA – Qualche giorno fa, Italia e Francia hanno firmato un patto per una maggiore cooperazione su diverse…'}\n",
      " Sergio Marinelli\n",
      "{'title': 'Meeting FdI. Giorgia Meloni prende le distanze da un fascista ma va a sbattere contro altri sei', 'url': 'https://www.lercio.it/meeting-fdi-giorgia-meloni-prende-le-distanze-da-un-fascista-ma-va-a-sbattere-contro-altri-sei/', 'author': 'Sergio Marinelli', 'abstract': ' Sergio Marinelli'}\n"
     ]
    },
    {
     "name": "stderr",
     "output_type": "stream",
     "text": [
      "2022-12-12 18:27:37 [urllib3.connectionpool] DEBUG: http://127.0.0.1:9200 \"POST /lercio/_doc/ HTTP/1.1\" 201 163\n",
      "2022-12-12 18:27:37 [urllib3.connectionpool] DEBUG: Starting new HTTP connection (1): 127.0.0.1:9200\n",
      "2022-12-12 18:27:37 [urllib3.connectionpool] DEBUG: http://127.0.0.1:9200 \"POST /lercio/_doc/ HTTP/1.1\" 201 163\n",
      "2022-12-12 18:27:37 [urllib3.connectionpool] DEBUG: Starting new HTTP connection (1): 127.0.0.1:9200\n",
      "2022-12-12 18:27:37 [urllib3.connectionpool] DEBUG: http://127.0.0.1:9200 \"POST /lercio/_doc/ HTTP/1.1\" 201 163\n",
      "2022-12-12 18:27:37 [urllib3.connectionpool] DEBUG: Starting new HTTP connection (1): 127.0.0.1:9200\n"
     ]
    },
    {
     "name": "stdout",
     "output_type": "stream",
     "text": [
      " Roma – Per ripartire dopo (o nonostante) la pandemia, nel nostro Paese si stanno moltiplicando gli sconti per…\n",
      "{'title': 'Troppi morti sul lavoro per le ristrutturazioni: Governo corre ai ripari e introduce il “Bonus bara”', 'url': 'https://www.lercio.it/troppi-morti-sul-lavoro-per-le-ristrutturazioni-governo-corre-ai-ripari-e-introduce-il-bonus-bara/', 'author': 'Eddie Settembrini', 'abstract': ' Roma – Per ripartire dopo (o nonostante) la pandemia, nel nostro Paese si stanno moltiplicando gli sconti per…'}\n",
      " Europa (o quel che ne resta) – “Oggi, la nostra grande madre Polonia ha orgogliosamente eliminato un potenziale…\n",
      "{'title': ' Siamo più nazisti noi!  No, noi!  Aumenta la tensione al confine tra Bielorussia e Polonia', 'url': 'https://www.lercio.it/siamo-piu-nazisti-noino-noi-aumenta-la-tensione-al-confine-tra-bielorussia-e-polonia/', 'author': 'Augusto Rasori', 'abstract': ' Europa (o quel che ne resta) – “Oggi, la nostra grande madre Polonia ha orgogliosamente eliminato un potenziale…'}\n",
      " ROMA – Dopo il successo della raccolta firme per l’eutanasia legale, la proposta di legge sarebbe dovuta arrivare…\n",
      "{'title': 'Eutanasia legale: si potrà urlare  La pizza napoletana fa schifo!  in piazza del Plebiscito a Napoli', 'url': 'https://www.lercio.it/eutanasia-legale-si-potra-urlare-la-pizza-napoletana-fa-schifo-in-piazza-del-plebiscito-a-napoli/', 'author': 'Fabio Corigliano', 'abstract': ' ROMA – Dopo il successo della raccolta firme per l’eutanasia legale, la proposta di legge sarebbe dovuta arrivare…'}\n"
     ]
    },
    {
     "name": "stderr",
     "output_type": "stream",
     "text": [
      "2022-12-12 18:27:37 [urllib3.connectionpool] DEBUG: http://127.0.0.1:9200 \"POST /lercio/_doc/ HTTP/1.1\" 201 163\n",
      "2022-12-12 18:27:37 [urllib3.connectionpool] DEBUG: Starting new HTTP connection (1): 127.0.0.1:9200\n",
      "2022-12-12 18:27:37 [urllib3.connectionpool] DEBUG: http://127.0.0.1:9200 \"POST /lercio/_doc/ HTTP/1.1\" 201 162\n",
      "2022-12-12 18:27:37 [urllib3.connectionpool] DEBUG: Starting new HTTP connection (1): 127.0.0.1:9200\n",
      "2022-12-12 18:27:38 [urllib3.connectionpool] DEBUG: http://127.0.0.1:9200 \"POST /lercio/_doc/ HTTP/1.1\" 201 164\n",
      "2022-12-12 18:27:38 [urllib3.connectionpool] DEBUG: Starting new HTTP connection (1): 127.0.0.1:9200\n"
     ]
    },
    {
     "name": "stdout",
     "output_type": "stream",
     "text": [
      " Claudio Andreoli\n",
      "{'title': 'Matteo Renzi d ora in poi risponderà solo alle proprie domande', 'url': 'https://www.lercio.it/matteo-renzi-dora-in-poi-rispondera-solo-alle-proprie-domande/', 'author': 'lercio', 'abstract': ' Claudio Andreoli'}\n",
      " Aleandro Bartolini\n",
      "{'title': 'I Maneskin canticchiano “Bandiera Rossa” per strada e il PCI vola al 52%', 'url': 'https://www.lercio.it/i-maneskin-canticchiano-bandiera-rossa-per-strada-e-il-pci-vola-al-52/', 'author': 'lercio', 'abstract': ' Aleandro Bartolini'}\n",
      " NAPOLI – Roberto Fiore sta male. I suoi “problemi cardiaci e pressori si sono aggravati in situazione detentiva,…\n",
      "{'title': 'Poggioreale. Roberto Fiore a rischio cardiaco:  Preoccupante formicolìo al braccio non teso ', 'url': 'https://www.lercio.it/poggioreale-roberto-fiore-a-rischio-cardiaco-preoccupante-formicolio-al-braccio-non-teso/', 'author': 'Stefano Pisani', 'abstract': ' NAPOLI – Roberto Fiore sta male. I suoi “problemi cardiaci e pressori si sono aggravati in situazione detentiva,…'}\n"
     ]
    },
    {
     "name": "stderr",
     "output_type": "stream",
     "text": [
      "2022-12-12 18:27:38 [urllib3.connectionpool] DEBUG: http://127.0.0.1:9200 \"POST /lercio/_doc/ HTTP/1.1\" 201 163\n",
      "2022-12-12 18:27:38 [urllib3.connectionpool] DEBUG: Starting new HTTP connection (1): 127.0.0.1:9200\n",
      "2022-12-12 18:27:38 [urllib3.connectionpool] DEBUG: http://127.0.0.1:9200 \"POST /lercio/_doc/ HTTP/1.1\" 201 163\n",
      "2022-12-12 18:27:38 [scrapy.core.engine] DEBUG: Crawled (200) <GET https://www.lercio.it/category/politica/page/16/> (referer: https://www.lercio.it/category/politica/page/15/)\n"
     ]
    },
    {
     "name": "stdout",
     "output_type": "stream",
     "text": [
      " Viminale (Dance Hall) – Brutta sorpresa oggi pomeriggio per Luciana Lamorgese: dopo un infuocato question time alla Camera…\n",
      "{'title': 'Viminale. Ministra Lamorgese rientra in ufficio ma lo trova occupato da un rave party', 'url': 'https://www.lercio.it/viminale-ministra-lamorgese-rientra-in-ufficio-ma-lo-trova-occupato-da-un-rave-party/', 'author': 'Andrea Michielotto', 'abstract': ' Viminale (Dance Hall) – Brutta sorpresa oggi pomeriggio per Luciana Lamorgese: dopo un infuocato question time alla Camera…'}\n"
     ]
    },
    {
     "name": "stderr",
     "output_type": "stream",
     "text": [
      "2022-12-12 18:27:38 [urllib3.connectionpool] DEBUG: Starting new HTTP connection (1): 127.0.0.1:9200\n",
      "2022-12-12 18:27:38 [urllib3.connectionpool] DEBUG: http://127.0.0.1:9200 \"POST /lercio/_doc/ HTTP/1.1\" 201 163\n",
      "2022-12-12 18:27:38 [urllib3.connectionpool] DEBUG: Starting new HTTP connection (1): 127.0.0.1:9200\n",
      "2022-12-12 18:27:38 [urllib3.connectionpool] DEBUG: http://127.0.0.1:9200 \"POST /lercio/_doc/ HTTP/1.1\" 201 164\n",
      "2022-12-12 18:27:38 [urllib3.connectionpool] DEBUG: Starting new HTTP connection (1): 127.0.0.1:9200\n",
      "2022-12-12 18:27:38 [urllib3.connectionpool] DEBUG: http://127.0.0.1:9200 \"POST /lercio/_doc/ HTTP/1.1\" 201 162\n",
      "2022-12-12 18:27:38 [urllib3.connectionpool] DEBUG: Starting new HTTP connection (1): 127.0.0.1:9200\n"
     ]
    },
    {
     "name": "stdout",
     "output_type": "stream",
     "text": [
      " Roma – Novità in arrivo per i tabaccai italiani. Nella bozza di riforma della giustizia in discussione in…\n",
      "{'title': 'Riforma giustizia. Nella licenza per tabaccai sarà incluso il porto d armi', 'url': 'https://www.lercio.it/riforma-giustizia-nella-licenza-per-tabaccai-sara-incluso-il-porto-darmi/', 'author': 'lercio', 'abstract': ' Roma – Novità in arrivo per i tabaccai italiani. Nella bozza di riforma della giustizia in discussione in…'}\n",
      " Antonio Milanese\n",
      "{'title': 'Soliti Ignoti: compare l indizio  Ha votato per Renzi  ma tutti negano', 'url': 'https://www.lercio.it/soliti-ignoti-compare-lindizio-ha-votato-per-renzi-ma-tutti-negano/', 'author': 'lercio', 'abstract': ' Antonio Milanese'}\n",
      " Stefano Pisani\n",
      "{'title': 'Toto Quirinale: spunta il nome dei Måneskin', 'url': 'https://www.lercio.it/toto-quirinale-spunta-il-nome-dei-maneskin/', 'author': 'Stefano Pisani', 'abstract': ' Stefano Pisani'}\n",
      " Fabio Corigliano\n",
      "{'title': 'Cerca foto di Pillon con Google Giappone e trova la sua faccia pixellata', 'url': 'https://www.lercio.it/cerca-foto-di-pillon-con-google-giappone-e-trova-la-sua-faccia-pixellata/', 'author': 'Fabio Corigliano', 'abstract': ' Fabio Corigliano'}\n"
     ]
    },
    {
     "name": "stderr",
     "output_type": "stream",
     "text": [
      "2022-12-12 18:27:38 [urllib3.connectionpool] DEBUG: http://127.0.0.1:9200 \"POST /lercio/_doc/ HTTP/1.1\" 201 162\n",
      "2022-12-12 18:27:38 [urllib3.connectionpool] DEBUG: Starting new HTTP connection (1): 127.0.0.1:9200\n",
      "2022-12-12 18:27:38 [urllib3.connectionpool] DEBUG: http://127.0.0.1:9200 \"POST /lercio/_doc/ HTTP/1.1\" 201 163\n",
      "2022-12-12 18:27:38 [urllib3.connectionpool] DEBUG: Starting new HTTP connection (1): 127.0.0.1:9200\n",
      "2022-12-12 18:27:38 [urllib3.connectionpool] DEBUG: http://127.0.0.1:9200 \"POST /lercio/_doc/ HTTP/1.1\" 201 163\n",
      "2022-12-12 18:27:38 [urllib3.connectionpool] DEBUG: Starting new HTTP connection (1): 127.0.0.1:9200\n",
      "2022-12-12 18:27:38 [urllib3.connectionpool] DEBUG: http://127.0.0.1:9200 \"POST /lercio/_doc/ HTTP/1.1\" 201 162\n",
      "2022-12-12 18:27:38 [urllib3.connectionpool] DEBUG: Starting new HTTP connection (1): 127.0.0.1:9200\n"
     ]
    },
    {
     "name": "stdout",
     "output_type": "stream",
     "text": [
      " Roma – “È una grande vittoria! Abbiamo impedito che a scuola montassero il pisellino sulle bambine e la…\n",
      "{'title': 'Pillon apre al DDL Zan:  Accordo possibile dopo che omosessuali e trans saranno tutti morti ', 'url': 'https://www.lercio.it/pillon-apre-al-ddl-zan-accordo-possibile-dopo-che-omosessuali-e-trans-saranno-tutti-morti/', 'author': 'Augusto Rasori', 'abstract': ' Roma – “È una grande vittoria! Abbiamo impedito che a scuola montassero il pisellino sulle bambine e la…'}\n",
      " Caldonazzo – “Se col DDL Zan siamo tornati al Medioevo, con questi rincari ingiustificati siamo tornati ai cubetti…\n",
      "{'title': 'Caro benzina, prezzi alle stelle: scendono in piazza anche i piromani', 'url': 'https://www.lercio.it/caro-benzina-prezzi-alle-stelle-scendono-in-piazza-anche-i-piromani/', 'author': 'Vittorio Lattanzi', 'abstract': ' Caldonazzo – “Se col DDL Zan siamo tornati al Medioevo, con questi rincari ingiustificati siamo tornati ai cubetti…'}\n",
      " NAPOLI , redazione di Fanpage – Ci hanno provato, lo hanno fatto seriamente; ma il risultato sono un…\n",
      "{'title': 'Fallita l inchiesta di Fanpage sul Comunismo: 100 ore di girato solo per fare la lista delle sigle', 'url': 'https://www.lercio.it/fallita-linchiesta-di-fanpage-sul-comunismo-100-ore-di-girato-solo-per-fare-la-lista-delle-sigle/', 'author': 'Federico Graziani', 'abstract': ' NAPOLI , redazione di Fanpage – Ci hanno provato, lo hanno fatto seriamente; ma il risultato sono un…'}\n",
      " Roma – Dopo l’importante affermazione elettorale di ieri, per il neo sindaco della Capitale è già arrivato il…\n",
      "{'title': ' Collaboriamo per il bene di Roma . Gualtieri incontra il portavoce dei cinghiali', 'url': 'https://www.lercio.it/collaboriamo-per-il-bene-di-roma-gualtieri-incontra-il-portavoce-dei-cinghiali/', 'author': 'Eddie Settembrini', 'abstract': ' Roma – Dopo l’importante affermazione elettorale di ieri, per il neo sindaco della Capitale è già arrivato il…'}\n"
     ]
    },
    {
     "name": "stderr",
     "output_type": "stream",
     "text": [
      "2022-12-12 18:27:38 [urllib3.connectionpool] DEBUG: http://127.0.0.1:9200 \"POST /lercio/_doc/ HTTP/1.1\" 201 162\n",
      "2022-12-12 18:27:38 [urllib3.connectionpool] DEBUG: Starting new HTTP connection (1): 127.0.0.1:9200\n",
      "2022-12-12 18:27:38 [urllib3.connectionpool] DEBUG: http://127.0.0.1:9200 \"POST /lercio/_doc/ HTTP/1.1\" 201 162\n",
      "2022-12-12 18:27:38 [urllib3.connectionpool] DEBUG: Starting new HTTP connection (1): 127.0.0.1:9200\n",
      "2022-12-12 18:27:39 [urllib3.connectionpool] DEBUG: http://127.0.0.1:9200 \"POST /lercio/_doc/ HTTP/1.1\" 201 163\n"
     ]
    },
    {
     "name": "stdout",
     "output_type": "stream",
     "text": [
      " Augusto Rasori\n",
      "{'title': 'CERN avvisa: “Il vuoto creato da Barillari e Cunial nella stessa stanza può inghiottire l’Universo”', 'url': 'https://www.lercio.it/cern-avvisa-il-vuoto-creato-da-barillari-e-cunial-nella-stessa-stanza-puo-inghiottire-luniverso/', 'author': 'Augusto Rasori', 'abstract': ' Augusto Rasori'}\n",
      " Roma (Damme ‘na mano a faje di’ de sì) – Enrico Michetti è un fiume in piena e…\n",
      "{'title': 'Michetti contesta gli arresti di Fiore e Castellino:  Così ho due elettori in meno! ', 'url': 'https://www.lercio.it/michetti-contesta-gli-arresti-di-fiore-e-castellino-cosi-ho-due-elettori-in-meno/', 'author': 'Augusto Rasori', 'abstract': ' Roma (Damme ‘na mano a faje di’ de sì) – Enrico Michetti è un fiume in piena e…'}\n"
     ]
    },
    {
     "name": "stderr",
     "output_type": "stream",
     "text": [
      "2022-12-12 18:27:39 [scrapy.core.engine] DEBUG: Crawled (200) <GET https://www.lercio.it/category/politica/page/17/> (referer: https://www.lercio.it/category/politica/page/16/)\n",
      "2022-12-12 18:27:39 [urllib3.connectionpool] DEBUG: Starting new HTTP connection (1): 127.0.0.1:9200\n",
      "2022-12-12 18:27:39 [urllib3.connectionpool] DEBUG: http://127.0.0.1:9200 \"POST /lercio/_doc/ HTTP/1.1\" 201 163\n",
      "2022-12-12 18:27:39 [urllib3.connectionpool] DEBUG: Starting new HTTP connection (1): 127.0.0.1:9200\n",
      "2022-12-12 18:27:39 [urllib3.connectionpool] DEBUG: http://127.0.0.1:9200 \"POST /lercio/_doc/ HTTP/1.1\" 201 164\n",
      "2022-12-12 18:27:39 [urllib3.connectionpool] DEBUG: Starting new HTTP connection (1): 127.0.0.1:9200\n",
      "2022-12-12 18:27:39 [urllib3.connectionpool] DEBUG: http://127.0.0.1:9200 \"POST /lercio/_doc/ HTTP/1.1\" 201 164\n",
      "2022-12-12 18:27:39 [urllib3.connectionpool] DEBUG: Starting new HTTP connection (1): 127.0.0.1:9200\n"
     ]
    },
    {
     "name": "stdout",
     "output_type": "stream",
     "text": [
      " Roma (INAIL) – Le soddisfazioni per il nostro paese nel 2021 sembrano davvero destinate a non arrestarsi.Dopo l’affermazione…\n",
      "{'title': 'Continua l’anno d’oro dell’Italia: prima anche nella classifica delle morti sul lavoro', 'url': 'https://www.lercio.it/continua-lanno-doro-dellitalia-prima-anche-nella-classifica-delle-morti-sul-lavoro/', 'author': 'Augusto Rasori', 'abstract': ' Roma (INAIL) – Le soddisfazioni per il nostro paese nel 2021 sembrano davvero destinate a non arrestarsi.Dopo l’affermazione…'}\n",
      " Claudio Favara\n",
      "{'title': 'Giorgia Meloni prende le distanze dalla destra estrema:  Mussolini ha fatto anche cose buonine ', 'url': 'https://www.lercio.it/giorgia-meloni-prende-le-distanze-dalla-destra-estrema-mussolini-ha-fatto-anche-cose-buonine/', 'author': 'Claudio Favara', 'abstract': ' Claudio Favara'}\n",
      " USA – Dopo la sentenza di un giudice che ha stoppato la nuova legge contro l’aborto, il Texas…\n",
      "{'title': 'Texas prepara nuova legge: sì all aborto, ma solo con armi da fuoco', 'url': 'https://www.lercio.it/texas-prepara-nuova-legge-si-allaborto-ma-solo-con-armi-da-fuoco/', 'author': 'lercio', 'abstract': ' USA – Dopo la sentenza di un giudice che ha stoppato la nuova legge contro l’aborto, il Texas…'}\n",
      " Non si sono ancora spenti gli echi dell’inchiesta giornalistica di FanPage su Fratelli d’Italia in cui si mostrano…\n",
      "{'title': 'Invocava politiche di sinistra: fuori onda inguaia politico del PD', 'url': 'https://www.lercio.it/invocava-politiche-di-sinistra-fuori-onda-inguaia-politico-del-pd/', 'author': 'Sergio Marinelli', 'abstract': ' Non si sono ancora spenti gli echi dell’inchiesta giornalistica di FanPage su Fratelli d’Italia in cui si mostrano…'}\n"
     ]
    },
    {
     "name": "stderr",
     "output_type": "stream",
     "text": [
      "2022-12-12 18:27:39 [urllib3.connectionpool] DEBUG: http://127.0.0.1:9200 \"POST /lercio/_doc/ HTTP/1.1\" 201 164\n",
      "2022-12-12 18:27:39 [urllib3.connectionpool] DEBUG: Starting new HTTP connection (1): 127.0.0.1:9200\n",
      "2022-12-12 18:27:39 [urllib3.connectionpool] DEBUG: http://127.0.0.1:9200 \"POST /lercio/_doc/ HTTP/1.1\" 201 165\n",
      "2022-12-12 18:27:39 [urllib3.connectionpool] DEBUG: Starting new HTTP connection (1): 127.0.0.1:9200\n",
      "2022-12-12 18:27:39 [urllib3.connectionpool] DEBUG: http://127.0.0.1:9200 \"POST /lercio/_doc/ HTTP/1.1\" 201 163\n",
      "2022-12-12 18:27:39 [urllib3.connectionpool] DEBUG: Starting new HTTP connection (1): 127.0.0.1:9200\n",
      "2022-12-12 18:27:39 [urllib3.connectionpool] DEBUG: http://127.0.0.1:9200 \"POST /lercio/_doc/ HTTP/1.1\" 201 163\n",
      "2022-12-12 18:27:39 [urllib3.connectionpool] DEBUG: Starting new HTTP connection (1): 127.0.0.1:9200\n"
     ]
    },
    {
     "name": "stdout",
     "output_type": "stream",
     "text": [
      " Roma (Comune Decasaleggizzato) – “Non sono solito fare complimenti a chi si occupa di politica, per fortuna io…\n",
      "{'title': 'Di Battista si congratula con la Raggi:  Ha rispettato il vincolo dei due mandati ', 'url': 'https://www.lercio.it/di-battista-si-congratula-con-la-raggi-ha-rispettato-il-vincolo-dei-due-mandati/', 'author': 'lercio', 'abstract': ' Roma (Comune Decasaleggizzato) – “Non sono solito fare complimenti a chi si occupa di politica, per fortuna io…'}\n",
      " Fabio Corigliano\n",
      "{'title': 'Draghi chiama per nome gli ultimi morti sul lavoro ma loro non resuscitano', 'url': 'https://www.lercio.it/draghi-chiama-per-nome-i-9-morti-sul-lavoro-nelle-scorse-24-ore-ma-loro-non-risorgono/', 'author': 'Fabio Corigliano', 'abstract': ' Fabio Corigliano'}\n",
      " Paola Franceschetti\n",
      "{'title': ' Senza Morisi non so proseguire . Salvini si blocca al secondo punto di un elenco', 'url': 'https://www.lercio.it/senza-morisi-non-so-proseguire-salvini-si-blocca-al-secondo-punto-di-un-elenco/', 'author': 'lercio', 'abstract': ' Paola Franceschetti'}\n",
      " ROMA – La posizione di Luca Morisi, ex spin doctor di Matteo Salvini che ha dato le sue…\n",
      "{'title': 'Morisi, posizione si aggrava: durante perquisizione trovata nuova campagna social della Lega', 'url': 'https://www.lercio.it/morisi-posizione-si-aggrava-durante-perquisizione-trovata-nuova-campagna-social-della-lega/', 'author': 'Stefano Pisani', 'abstract': ' ROMA – La posizione di Luca Morisi, ex spin doctor di Matteo Salvini che ha dato le sue…'}\n"
     ]
    },
    {
     "name": "stderr",
     "output_type": "stream",
     "text": [
      "2022-12-12 18:27:39 [urllib3.connectionpool] DEBUG: http://127.0.0.1:9200 \"POST /lercio/_doc/ HTTP/1.1\" 201 163\n",
      "2022-12-12 18:27:39 [urllib3.connectionpool] DEBUG: Starting new HTTP connection (1): 127.0.0.1:9200\n",
      "2022-12-12 18:27:39 [urllib3.connectionpool] DEBUG: http://127.0.0.1:9200 \"POST /lercio/_doc/ HTTP/1.1\" 201 163\n",
      "2022-12-12 18:27:39 [urllib3.connectionpool] DEBUG: Starting new HTTP connection (1): 127.0.0.1:9200\n",
      "2022-12-12 18:27:39 [urllib3.connectionpool] DEBUG: http://127.0.0.1:9200 \"POST /lercio/_doc/ HTTP/1.1\" 201 163\n"
     ]
    },
    {
     "name": "stdout",
     "output_type": "stream",
     "text": [
      " Vittorio Lattanzi\n",
      "{'title': 'Flop proteste no green pass, camionisti tentano di bloccare il traffico ma l A14 li anticipa', 'url': 'https://www.lercio.it/flop-proteste-no-green-pass-camionisti-tentano-di-bloccare-il-traffico-ma-la14-li-anticipa/', 'author': 'Vittorio Lattanzi', 'abstract': ' Vittorio Lattanzi'}\n",
      " I nuovi episodi di Narcos, la fortunatissima serie Netflix sui cartelli della droga, sono finalmente alle porte. In…\n",
      "{'title': 'Netflix annuncia l uscita di  Narcos 4 - Fragilità esistenziali irrisolte ', 'url': 'https://www.lercio.it/netflix-annuncia-luscita-di-narcos-4-fragilita-esistenziali-irrisolte/', 'author': 'Eddie Settembrini', 'abstract': ' I nuovi episodi di Narcos, la fortunatissima serie Netflix sui cartelli della droga, sono finalmente alle porte. In…'}\n"
     ]
    },
    {
     "name": "stderr",
     "output_type": "stream",
     "text": [
      "2022-12-12 18:27:39 [scrapy.core.engine] DEBUG: Crawled (200) <GET https://www.lercio.it/category/politica/page/18/> (referer: https://www.lercio.it/category/politica/page/17/)\n",
      "2022-12-12 18:27:40 [urllib3.connectionpool] DEBUG: Starting new HTTP connection (1): 127.0.0.1:9200\n",
      "2022-12-12 18:27:40 [urllib3.connectionpool] DEBUG: http://127.0.0.1:9200 \"POST /lercio/_doc/ HTTP/1.1\" 201 164\n",
      "2022-12-12 18:27:40 [urllib3.connectionpool] DEBUG: Starting new HTTP connection (1): 127.0.0.1:9200\n",
      "2022-12-12 18:27:40 [urllib3.connectionpool] DEBUG: http://127.0.0.1:9200 \"POST /lercio/_doc/ HTTP/1.1\" 201 163\n",
      "2022-12-12 18:27:40 [urllib3.connectionpool] DEBUG: Starting new HTTP connection (1): 127.0.0.1:9200\n"
     ]
    },
    {
     "name": "stdout",
     "output_type": "stream",
     "text": [
      " PADANIA – Si arricchisce di particolari di giorno in giorno la vicenda Morisi, ormai nota a tutti e…\n",
      "{'title': 'Morisi cade dalle scale e Salvini dà la colpa ai poliziotti', 'url': 'https://www.lercio.it/morisi-cade-dalle-scale-e-salvini-da-la-colpa-ai-poliziotti/', 'author': 'Sergio Marinelli', 'abstract': ' PADANIA – Si arricchisce di particolari di giorno in giorno la vicenda Morisi, ormai nota a tutti e…'}\n",
      " Roma – “Abbiamo fatto un casino”. Non usa mezzi termini Libero Spinelli, portavoce del comitato promotore del referendum…\n",
      "{'title': 'Errore nella raccolta firme: si farà referendum sull eutanasia per chi si fa le canne', 'url': 'https://www.lercio.it/errore-nella-raccolta-firme-si-fara-referendum-sulleutanasia-per-chi-si-fa-le-canne/', 'author': 'Eddie Settembrini', 'abstract': ' Roma – “Abbiamo fatto un casino”. Non usa mezzi termini Libero Spinelli, portavoce del comitato promotore del referendum…'}\n",
      " Augusto Rasori\n",
      "{'title': 'Maria Elisabetta Alberti Casellati scopre un terzo cognome che non ricordava di avere', 'url': 'https://www.lercio.it/senato-maria-elisabetta-alberti-casellati-scopre-un-terzo-cognome-che-non-ricordava-di-avere/', 'author': 'Augusto Rasori', 'abstract': ' Augusto Rasori'}\n"
     ]
    },
    {
     "name": "stderr",
     "output_type": "stream",
     "text": [
      "2022-12-12 18:27:40 [urllib3.connectionpool] DEBUG: http://127.0.0.1:9200 \"POST /lercio/_doc/ HTTP/1.1\" 201 165\n",
      "2022-12-12 18:27:40 [urllib3.connectionpool] DEBUG: Starting new HTTP connection (1): 127.0.0.1:9200\n",
      "2022-12-12 18:27:40 [urllib3.connectionpool] DEBUG: http://127.0.0.1:9200 \"POST /lercio/_doc/ HTTP/1.1\" 201 164\n",
      "2022-12-12 18:27:40 [urllib3.connectionpool] DEBUG: Starting new HTTP connection (1): 127.0.0.1:9200\n",
      "2022-12-12 18:27:40 [urllib3.connectionpool] DEBUG: http://127.0.0.1:9200 \"POST /lercio/_doc/ HTTP/1.1\" 201 164\n",
      "2022-12-12 18:27:40 [urllib3.connectionpool] DEBUG: Starting new HTTP connection (1): 127.0.0.1:9200\n"
     ]
    },
    {
     "name": "stdout",
     "output_type": "stream",
     "text": [
      " Vincenzo Zoda\n",
      "{'title': 'Milano: studente si laurea in medicina con una tesi dal titolo  I processi Berlusconi ', 'url': 'https://www.lercio.it/milano-studente-si-laurea-in-medicina-con-una-tesi-dal-titolo-i-processi-berlusconi/', 'author': 'lercio', 'abstract': ' Vincenzo Zoda'}\n",
      " Andrea Michielotto\n",
      "{'title': 'Dichiarazione di Salvini crea variante di una cazzata', 'url': 'https://www.lercio.it/dichiarazione-di-salvini-crea-variante-di-una-cazzata/', 'author': 'Andrea Michielotto', 'abstract': ' Andrea Michielotto'}\n",
      " Fabio Corigliano\n",
      "{'title': 'Convegno novax. Per riguadagnare credibilità il Senato organizzerà anche un raduno cosplay', 'url': 'https://www.lercio.it/convegno-novax-per-riguadagnare-credibilita-il-senato-organizzera-anche-un-raduno-cosplay/', 'author': 'Fabio Corigliano', 'abstract': ' Fabio Corigliano'}\n"
     ]
    },
    {
     "name": "stderr",
     "output_type": "stream",
     "text": [
      "2022-12-12 18:27:40 [urllib3.connectionpool] DEBUG: http://127.0.0.1:9200 \"POST /lercio/_doc/ HTTP/1.1\" 201 163\n",
      "2022-12-12 18:27:40 [urllib3.connectionpool] DEBUG: Starting new HTTP connection (1): 127.0.0.1:9200\n",
      "2022-12-12 18:27:40 [urllib3.connectionpool] DEBUG: http://127.0.0.1:9200 \"POST /lercio/_doc/ HTTP/1.1\" 201 163\n",
      "2022-12-12 18:27:40 [urllib3.connectionpool] DEBUG: Starting new HTTP connection (1): 127.0.0.1:9200\n",
      "2022-12-12 18:27:40 [urllib3.connectionpool] DEBUG: http://127.0.0.1:9200 \"POST /lercio/_doc/ HTTP/1.1\" 201 162\n",
      "2022-12-12 18:27:40 [urllib3.connectionpool] DEBUG: Starting new HTTP connection (1): 127.0.0.1:9200\n"
     ]
    },
    {
     "name": "stdout",
     "output_type": "stream",
     "text": [
      " È stato un pomeriggio di paura – per fortuna senza conseguenze – quello vissuto dal Generale Francesco Paolo…\n",
      "{'title': 'Gli appuntano un altra medaglia al petto, Figliuolo sprofonda 100 metri sottoterra', 'url': 'https://www.lercio.it/gli-appuntano-unaltra-medaglia-al-petto-figliuolo-sprofonda-100-metri-sottoterra/', 'author': 'Gianni Zoccheddu', 'abstract': ' È stato un pomeriggio di paura – per fortuna senza conseguenze – quello vissuto dal Generale Francesco Paolo…'}\n",
      " Davide Paolino\n",
      "{'title': 'Troppi complotti sventati da tuo zio: si scioglie il Nuovo Ordine Mondiale', 'url': 'https://www.lercio.it/troppi-complotti-sventati-da-tuo-zio-si-scioglie-il-nuovo-ordine-mondiale/', 'author': 'Davide Paolino', 'abstract': ' Davide Paolino'}\n",
      " ROMA – “Siamo favorevoli al rafforzamento e all’estensione del green pass per tutte le categorie di lavoratori nel…\n",
      "{'title': 'Salvini:  Sì a estensione green pass, ma solo se verrà abolito il green pass ', 'url': 'https://www.lercio.it/salvini-si-a-estensione-green-pass-ma-solo-se-verra-abolito-il-green-pass/', 'author': 'Gianni Zoccheddu', 'abstract': ' ROMA – “Siamo favorevoli al rafforzamento e all’estensione del green pass per tutte le categorie di lavoratori nel…'}\n"
     ]
    },
    {
     "name": "stderr",
     "output_type": "stream",
     "text": [
      "2022-12-12 18:27:40 [urllib3.connectionpool] DEBUG: http://127.0.0.1:9200 \"POST /lercio/_doc/ HTTP/1.1\" 201 164\n",
      "2022-12-12 18:27:40 [urllib3.connectionpool] DEBUG: Starting new HTTP connection (1): 127.0.0.1:9200\n",
      "2022-12-12 18:27:41 [urllib3.connectionpool] DEBUG: http://127.0.0.1:9200 \"POST /lercio/_doc/ HTTP/1.1\" 201 164\n"
     ]
    },
    {
     "name": "stdout",
     "output_type": "stream",
     "text": [
      " Andrea Bonechi e Augusto Rasori\n",
      "{'title': 'Poche sagre in giro per l Italia: Salvini perde 10 kg', 'url': 'https://www.lercio.it/poche-sagre-in-giro-per-litalia-salvini-perde-10-kg/', 'author': 'lercio', 'abstract': ' Andrea Bonechi e Augusto Rasori'}\n"
     ]
    },
    {
     "name": "stderr",
     "output_type": "stream",
     "text": [
      "2022-12-12 18:27:41 [scrapy.core.engine] DEBUG: Crawled (200) <GET https://www.lercio.it/category/politica/page/19/> (referer: https://www.lercio.it/category/politica/page/18/)\n",
      "2022-12-12 18:27:41 [urllib3.connectionpool] DEBUG: Starting new HTTP connection (1): 127.0.0.1:9200\n",
      "2022-12-12 18:27:41 [urllib3.connectionpool] DEBUG: http://127.0.0.1:9200 \"POST /lercio/_doc/ HTTP/1.1\" 201 163\n",
      "2022-12-12 18:27:41 [urllib3.connectionpool] DEBUG: Starting new HTTP connection (1): 127.0.0.1:9200\n",
      "2022-12-12 18:27:41 [urllib3.connectionpool] DEBUG: http://127.0.0.1:9200 \"POST /lercio/_doc/ HTTP/1.1\" 201 164\n",
      "2022-12-12 18:27:41 [urllib3.connectionpool] DEBUG: Starting new HTTP connection (1): 127.0.0.1:9200\n",
      "2022-12-12 18:27:41 [urllib3.connectionpool] DEBUG: http://127.0.0.1:9200 \"POST /lercio/_doc/ HTTP/1.1\" 201 163\n",
      "2022-12-12 18:27:41 [urllib3.connectionpool] DEBUG: Starting new HTTP connection (1): 127.0.0.1:9200\n"
     ]
    },
    {
     "name": "stdout",
     "output_type": "stream",
     "text": [
      " Scandicci (Fi) – “Maremma buhaiola, tutto mi sarei aspettato ma non questa roba qui, e certo che ne…\n",
      "{'title': 'Arriva in edicola  Costruisci l ego di Renzi in scala 1:1  in sole 1000 uscite', 'url': 'https://www.lercio.it/arriva-in-edicola-costruisci-lego-di-renzi-in-scala-11-in-sole-1000-uscite/', 'author': 'Davide Paolino', 'abstract': ' Scandicci (Fi) – “Maremma buhaiola, tutto mi sarei aspettato ma non questa roba qui, e certo che ne…'}\n",
      " Andrea Michielotto\n",
      "{'title': 'Fa disegnare immigrati sui piattelli, leghista vince titolo olimpico di tiro a volo', 'url': 'https://www.lercio.it/fa-disegnare-immigrati-sui-piattelli-leghista-vince-titolo-olimpico-di-tiro-a-volo/', 'author': 'Andrea Michielotto', 'abstract': ' Andrea Michielotto'}\n",
      "  Rick Lima\n",
      "{'title': 'DDL Zan, i senatori di Italia Viva avvertono il PD:  Non fidatevi dei senatori di Italia Viva ', 'url': 'https://www.lercio.it/ddl-zan-i-senatori-di-italia-viva-avvertono-il-pd-non-fidatevi-dei-senatori-di-italia-viva/', 'author': 'lercio', 'abstract': ' \\xa0Rick Lima'}\n",
      " Roma – “Voglio ringraziare il Signore nostro Dio e Salvatore per la sua infinita bontà. Egli ha disteso…\n",
      "{'title': 'Papa Francesco ringrazia Dio per il dono della terapia chirurgica contro la stenosi diverticolare', 'url': 'https://www.lercio.it/papa-francesco-ringrazia-dio-per-il-dono-della-terapia-chirurgica-contro-la-stenosi-diverticolare/', 'author': 'Gianni Zoccheddu', 'abstract': ' Roma – “Voglio ringraziare il Signore nostro Dio e Salvatore per la sua infinita bontà. Egli ha disteso…'}\n"
     ]
    },
    {
     "name": "stderr",
     "output_type": "stream",
     "text": [
      "2022-12-12 18:27:41 [urllib3.connectionpool] DEBUG: http://127.0.0.1:9200 \"POST /lercio/_doc/ HTTP/1.1\" 201 164\n",
      "2022-12-12 18:27:41 [urllib3.connectionpool] DEBUG: Starting new HTTP connection (1): 127.0.0.1:9200\n",
      "2022-12-12 18:27:41 [urllib3.connectionpool] DEBUG: http://127.0.0.1:9200 \"POST /lercio/_doc/ HTTP/1.1\" 201 164\n",
      "2022-12-12 18:27:41 [urllib3.connectionpool] DEBUG: Starting new HTTP connection (1): 127.0.0.1:9200\n",
      "2022-12-12 18:27:41 [urllib3.connectionpool] DEBUG: http://127.0.0.1:9200 \"POST /lercio/_doc/ HTTP/1.1\" 201 163\n",
      "2022-12-12 18:27:41 [urllib3.connectionpool] DEBUG: Starting new HTTP connection (1): 127.0.0.1:9200\n",
      "2022-12-12 18:27:41 [urllib3.connectionpool] DEBUG: http://127.0.0.1:9200 \"POST /lercio/_doc/ HTTP/1.1\" 201 162\n",
      "2022-12-12 18:27:41 [urllib3.connectionpool] DEBUG: Starting new HTTP connection (1): 127.0.0.1:9200\n"
     ]
    },
    {
     "name": "stdout",
     "output_type": "stream",
     "text": [
      " Cornovaglia (UK) – Finalmente una buona notizia – contenuta in uno dei documenti redatti nel corso del G7…\n",
      "{'title': 'Clima. Quest estate sarà la meno calda dei prossimi 50 anni', 'url': 'https://www.lercio.it/clima-questestate-sara-la-meno-calda-dei-prossimi-50-anni/', 'author': 'Il Democritico', 'abstract': ' Cornovaglia (UK) – Finalmente una buona notizia – contenuta in uno dei documenti redatti nel corso del G7…'}\n",
      " Washington, D.C. (BG) – C’è un po’ di preoccupazione e sgomento all’interno del Number One Observatory Circle, la…\n",
      "{'title': 'USA, Kamala Harris inizia a fare elenchi', 'url': 'https://www.lercio.it/usa-kamala-harris-inizia-a-fare-elenchi/', 'author': 'lercio', 'abstract': ' Washington, D.C. (BG) – C’è un po’ di preoccupazione e sgomento all’interno del Number One Observatory Circle, la…'}\n",
      " Milano – Un errore nel battere un indirizzo, e Giorgio Mastrota si è visto recapitare l’elenco completo degli…\n",
      "{'title': 'Elenco degli iscritti di Rousseau trasmesso per errore a Mastrota: venduti 58 milioni di materassi', 'url': 'https://www.lercio.it/elenco-degli-iscritti-di-rousseau-trasmesso-per-errore-a-mastrota-venduti-58-milioni-di-materassi/', 'author': 'lercio', 'abstract': ' Milano – Un errore nel battere un indirizzo, e Giorgio Mastrota si è visto recapitare l’elenco completo degli…'}\n",
      " MILANO (Ex Padania Libera) – Nessuno l’avrebbe mai minimamente sospettato ma il leader del Carroccio, Matteo Salvini, si…\n",
      "{'title': 'Salvini si dichiara sia a favore che contro e inventa il blocco dei licenziamenti quantistico', 'url': 'https://www.lercio.it/salvini-si-dichiara-sia-a-favore-che-contro-e-inventa-il-blocco-dei-licenziamenti-quantistico/', 'author': 'Federico Graziani', 'abstract': ' MILANO (Ex Padania Libera) – Nessuno l’avrebbe mai minimamente sospettato ma il leader del Carroccio, Matteo Salvini, si…'}\n"
     ]
    },
    {
     "name": "stderr",
     "output_type": "stream",
     "text": [
      "2022-12-12 18:27:41 [urllib3.connectionpool] DEBUG: http://127.0.0.1:9200 \"POST /lercio/_doc/ HTTP/1.1\" 201 163\n",
      "2022-12-12 18:27:41 [urllib3.connectionpool] DEBUG: Starting new HTTP connection (1): 127.0.0.1:9200\n",
      "2022-12-12 18:27:41 [urllib3.connectionpool] DEBUG: http://127.0.0.1:9200 \"POST /lercio/_doc/ HTTP/1.1\" 201 163\n",
      "2022-12-12 18:27:41 [urllib3.connectionpool] DEBUG: Starting new HTTP connection (1): 127.0.0.1:9200\n",
      "2022-12-12 18:27:41 [urllib3.connectionpool] DEBUG: http://127.0.0.1:9200 \"POST /lercio/_doc/ HTTP/1.1\" 201 163\n"
     ]
    },
    {
     "name": "stdout",
     "output_type": "stream",
     "text": [
      " ROMA – Secondo indiscrezioni provenienti dall’entourage di Matteo Salvini, il senatore starebbe già approfittando ampiamente dell’ultimo aggiornamento rilasciato…\n",
      "{'title': 'Salvini approfitta della velocità 2x di WhatsApp per mandare vocali con elenchi lunghi il doppio', 'url': 'https://www.lercio.it/salvini-approfitta-della-velocita-2x-di-whatsapp-per-mandare-vocali-con-elenchi-lunghi-il-doppio/', 'author': 'Stefano Pisani', 'abstract': ' ROMA – Secondo indiscrezioni provenienti dall’entourage di Matteo Salvini, il senatore starebbe già approfittando ampiamente dell’ultimo aggiornamento rilasciato…'}\n",
      " Roma – Si accende lo scontro nella maggioranza sul Decreto Semplificazioni. Da una parte PD e LeU (con…\n",
      "{'title': 'Governo, tiktoker Khaby Lame nominato Ministro della Semplificazione', 'url': 'https://www.lercio.it/governo-tiktoker-khaby-lame-nominato-ministro-della-semplificazione/', 'author': 'Eddie Settembrini', 'abstract': ' Roma – Si accende lo scontro nella maggioranza sul Decreto Semplificazioni. Da una parte PD e LeU (con…'}\n"
     ]
    },
    {
     "name": "stderr",
     "output_type": "stream",
     "text": [
      "2022-12-12 18:27:42 [scrapy.core.engine] DEBUG: Crawled (200) <GET https://www.lercio.it/category/politica/page/20/> (referer: https://www.lercio.it/category/politica/page/19/)\n",
      "2022-12-12 18:27:42 [urllib3.connectionpool] DEBUG: Starting new HTTP connection (1): 127.0.0.1:9200\n",
      "2022-12-12 18:27:42 [urllib3.connectionpool] DEBUG: http://127.0.0.1:9200 \"POST /lercio/_doc/ HTTP/1.1\" 201 162\n",
      "2022-12-12 18:27:42 [urllib3.connectionpool] DEBUG: Starting new HTTP connection (1): 127.0.0.1:9200\n",
      "2022-12-12 18:27:42 [urllib3.connectionpool] DEBUG: http://127.0.0.1:9200 \"POST /lercio/_doc/ HTTP/1.1\" 201 164\n",
      "2022-12-12 18:27:42 [urllib3.connectionpool] DEBUG: Starting new HTTP connection (1): 127.0.0.1:9200\n"
     ]
    },
    {
     "name": "stdout",
     "output_type": "stream",
     "text": [
      " Sergio Marinelli\n",
      "{'title': 'Pio e Amedeo fanno un nuovo monologo e ricevono i complimenti da Erdogan', 'url': 'https://www.lercio.it/pio-e-amedeo-fanno-un-nuovo-monologo-e-ricevono-i-complimenti-da-erdogan/', 'author': 'Sergio Marinelli', 'abstract': ' Sergio Marinelli'}\n",
      " Federico Simoncini Ulivelli\n",
      "{'title': 'Cartabia:  Tempi giustizia ridotti della metà se Renzi ritira tutte le sue querele ', 'url': 'https://www.lercio.it/cartabia-tempi-giustizia-ridotti-della-meta-se-renzi-ritira-tutte-le-sue-querele/', 'author': 'lercio', 'abstract': ' Federico Simoncini Ulivelli'}\n",
      " Sergio Marinelli\n",
      "{'title': 'Mozione di Fratelli d Italia annulla il coprifuoco attuale ma riattiva quello del  43', 'url': 'https://www.lercio.it/mozione-di-fratelli-ditalia-annulla-il-coprifuoco-attuale-ma-riattiva-quello-del-43/', 'author': 'Sergio Marinelli', 'abstract': ' Sergio Marinelli'}\n"
     ]
    },
    {
     "name": "stderr",
     "output_type": "stream",
     "text": [
      "2022-12-12 18:27:42 [urllib3.connectionpool] DEBUG: http://127.0.0.1:9200 \"POST /lercio/_doc/ HTTP/1.1\" 201 164\n",
      "2022-12-12 18:27:42 [urllib3.connectionpool] DEBUG: Starting new HTTP connection (1): 127.0.0.1:9200\n",
      "2022-12-12 18:27:42 [urllib3.connectionpool] DEBUG: http://127.0.0.1:9200 \"POST /lercio/_doc/ HTTP/1.1\" 201 164\n",
      "2022-12-12 18:27:42 [urllib3.connectionpool] DEBUG: Starting new HTTP connection (1): 127.0.0.1:9200\n",
      "2022-12-12 18:27:42 [urllib3.connectionpool] DEBUG: http://127.0.0.1:9200 \"POST /lercio/_doc/ HTTP/1.1\" 201 165\n",
      "2022-12-12 18:27:42 [urllib3.connectionpool] DEBUG: Starting new HTTP connection (1): 127.0.0.1:9200\n",
      "2022-12-12 18:27:42 [urllib3.connectionpool] DEBUG: http://127.0.0.1:9200 \"POST /lercio/_doc/ HTTP/1.1\" 201 165\n"
     ]
    },
    {
     "name": "stdout",
     "output_type": "stream",
     "text": [
      " Roma (Draghi S.P.A.)  – “Prima regola dell’imprenditore: niente e nessuno è più importante dell’imprenditore. Seconda regola dell’imprenditore: tutti…\n",
      "{'title': 'Morti sul lavoro. Confindustria attacca:  Non è una scusa accettabile per smettere di lavorare ', 'url': 'https://www.lercio.it/morti-sul-lavoro-confindustria-attacca-non-e-una-scusa-accettabile-per-smettere-di-lavorare/', 'author': 'Davide Paolino', 'abstract': ' Roma (Draghi S.P.A.) \\xa0– “Prima regola dell’imprenditore: niente e nessuno è più importante dell’imprenditore. Seconda regola dell’imprenditore: tutti…'}\n",
      " “Si tratta di una scoperta che potrebbe rivoluzionare l’approccio farmacologico nel campo dell’andrologia”. Non usa mezzi termini il…\n",
      "{'title': 'Medicina, scoperto legame tra gli sbarchi a Lampedusa e le erezioni di Salvini', 'url': 'https://www.lercio.it/medicina-scoperto-legame-tra-gli-sbarchi-a-lampedusa-e-le-erezioni-di-salvini/', 'author': 'Gianni Zoccheddu', 'abstract': ' “Si tratta di una scoperta che potrebbe rivoluzionare l’approccio farmacologico nel campo dell’andrologia”. Non usa mezzi termini il…'}\n",
      " ROMA – Qualche giorno fa, il numero due di Forza Italia Antonio Tajani è stato criticato per la…\n",
      "{'title': 'Tajani: “La famiglia senza figli non esiste”. Sua madre: “Anche avere figli può portare problemi”', 'url': 'https://www.lercio.it/tajani-la-famiglia-senza-figli-non-esiste-sua-madre-anche-avere-figli-puo-portare-problemi/', 'author': 'Stefano Pisani', 'abstract': ' ROMA – Qualche giorno fa, il numero due di Forza Italia Antonio Tajani è stato criticato per la…'}\n"
     ]
    },
    {
     "name": "stderr",
     "output_type": "stream",
     "text": [
      "2022-12-12 18:27:42 [urllib3.connectionpool] DEBUG: Starting new HTTP connection (1): 127.0.0.1:9200\n",
      "2022-12-12 18:27:42 [urllib3.connectionpool] DEBUG: http://127.0.0.1:9200 \"POST /lercio/_doc/ HTTP/1.1\" 201 164\n",
      "2022-12-12 18:27:42 [urllib3.connectionpool] DEBUG: Starting new HTTP connection (1): 127.0.0.1:9200\n",
      "2022-12-12 18:27:42 [urllib3.connectionpool] DEBUG: http://127.0.0.1:9200 \"POST /lercio/_doc/ HTTP/1.1\" 201 163\n",
      "2022-12-12 18:27:42 [urllib3.connectionpool] DEBUG: Starting new HTTP connection (1): 127.0.0.1:9200\n"
     ]
    },
    {
     "name": "stdout",
     "output_type": "stream",
     "text": [
      " Fucilazioneallaschie (NA) – Altro grosso passo in avanti per il governo di Mario Draghi verso la modernizzazione dell’Italia…\n",
      "{'title': 'Riforma della Giustizia, Draghi:  Dal prossimo anno basterà chiedere scusa ', 'url': 'https://www.lercio.it/riforma-della-giustizia-draghi-dal-prossimo-anno-bastera-chiedere-scusa/', 'author': 'lercio', 'abstract': ' Fucilazioneallaschie (NA) – Altro grosso passo in avanti per il governo di Mario Draghi verso la modernizzazione dell’Italia…'}\n",
      " Ospedale San Raffaele (MI) – “È l’ennesimo attacco criminoso da parte di Biagi, come si chiama quell’altro?… Santoro.…\n",
      "{'title': 'Udienza spostata da venerdì a giovedì: Berlusconi costretto ad anticipare il prossimo malore', 'url': 'https://www.lercio.it/udienza-spostata-da-venerdi-a-giovedi-berlusconi-costretto-ad-anticipare-il-prossimo-malore/', 'author': 'Augusto Rasori', 'abstract': ' Ospedale San Raffaele (MI) – “È l’ennesimo attacco criminoso da parte di Biagi, come si chiama quell’altro?… Santoro.…'}\n",
      " Luigi Rivolta\n",
      "{'title': '2 giugno.  Ci vuole il contraddittorio! , Emanuele Filiberto sale sul palco con Mattarella', 'url': 'https://www.lercio.it/ci-vuole-il-contraddittorio-emanuele-filiberto-salira-sul-palco-con-mattarella-il-2-giugno/', 'author': 'lercio', 'abstract': ' Luigi Rivolta'}\n"
     ]
    },
    {
     "name": "stderr",
     "output_type": "stream",
     "text": [
      "2022-12-12 18:27:42 [urllib3.connectionpool] DEBUG: http://127.0.0.1:9200 \"POST /lercio/_doc/ HTTP/1.1\" 201 163\n",
      "2022-12-12 18:27:42 [urllib3.connectionpool] DEBUG: Starting new HTTP connection (1): 127.0.0.1:9200\n",
      "2022-12-12 18:27:42 [urllib3.connectionpool] DEBUG: http://127.0.0.1:9200 \"POST /lercio/_doc/ HTTP/1.1\" 201 163\n",
      "2022-12-12 18:27:43 [scrapy.core.engine] DEBUG: Crawled (200) <GET https://www.lercio.it/category/politica/page/21/> (referer: https://www.lercio.it/category/politica/page/20/)\n"
     ]
    },
    {
     "name": "stdout",
     "output_type": "stream",
     "text": [
      " Eddie Settembrini\n",
      "{'title': 'Elettore del PD chiama Enrico Letta per ricordargli che è di sinistra e registra la telefonata', 'url': 'https://www.lercio.it/elettore-del-pd-chiama-enrico-letta-per-ricordargli-che-e-di-sinistra-e-registra-la-telefonata/', 'author': 'Eddie Settembrini', 'abstract': ' Eddie Settembrini'}\n"
     ]
    },
    {
     "name": "stderr",
     "output_type": "stream",
     "text": [
      "2022-12-12 18:27:43 [urllib3.connectionpool] DEBUG: Starting new HTTP connection (1): 127.0.0.1:9200\n",
      "2022-12-12 18:27:43 [urllib3.connectionpool] DEBUG: http://127.0.0.1:9200 \"POST /lercio/_doc/ HTTP/1.1\" 201 163\n",
      "2022-12-12 18:27:43 [urllib3.connectionpool] DEBUG: Starting new HTTP connection (1): 127.0.0.1:9200\n",
      "2022-12-12 18:27:43 [urllib3.connectionpool] DEBUG: http://127.0.0.1:9200 \"POST /lercio/_doc/ HTTP/1.1\" 201 163\n",
      "2022-12-12 18:27:43 [urllib3.connectionpool] DEBUG: Starting new HTTP connection (1): 127.0.0.1:9200\n",
      "2022-12-12 18:27:43 [urllib3.connectionpool] DEBUG: http://127.0.0.1:9200 \"POST /lercio/_doc/ HTTP/1.1\" 201 163\n",
      "2022-12-12 18:27:43 [urllib3.connectionpool] DEBUG: Starting new HTTP connection (1): 127.0.0.1:9200\n"
     ]
    },
    {
     "name": "stdout",
     "output_type": "stream",
     "text": [
      " Alessandro Cappai\n",
      "{'title': 'DDL Zan, senatore promette che voterà a favore anche se le canzoni di Fedez gli fanno schifo al cazzo', 'url': 'https://www.lercio.it/ddl-zan-senatore-promette-che-votera-a-favore-anche-se-le-canzoni-di-fedez-gli-fanno-schifo-al-cazzo/', 'author': 'Alessandro Cappai', 'abstract': ' Alessandro Cappai'}\n",
      " Napoli (Gialla) – La voglia di uscire – anche a costo di violare qualche regola – di gran…\n",
      "{'title': 'Campania zona gialla. La delusione dei napoletani:  Così avremo meno regole da non rispettare ', 'url': 'https://www.lercio.it/campania-zona-gialla-la-delusione-dei-napoletani-cosi-avremo-meno-regole-da-non-rispettare/', 'author': 'Sergio Marinelli', 'abstract': ' Napoli (Gialla) – La voglia di uscire – anche a costo di violare qualche regola – di gran…'}\n",
      " Tintarel (LE) – Fanno discutere le anticipazioni del nuovo decreto che il governo sta preparando in vista delle…\n",
      "{'title': 'Ministro Speranza avverte:  Multe per chi ha il viso abbronzato senza il segno della mascherina ', 'url': 'https://www.lercio.it/ministro-speranza-avverte-multe-per-chi-ha-il-viso-abbronzato-senza-il-segno-della-mascherina/', 'author': 'Andrea Michielotto', 'abstract': ' Tintarel (LE) – Fanno discutere le anticipazioni del nuovo decreto che il governo sta preparando in vista delle…'}\n",
      " Bibbona – Sono passati otto giorni dalla pubblicazione del video in cui Beppe Grillo sembra difendere, dopo il…\n",
      "{'title': 'Elettore M5S manda affanculo Grillo otto giorni dopo il video', 'url': 'https://www.lercio.it/elettore-m5s-manda-affanculo-grillo-otto-giorni-dopo-il-video/', 'author': 'Mattia Pappalardo', 'abstract': ' Bibbona – Sono passati otto giorni dalla pubblicazione del video in cui Beppe Grillo sembra difendere, dopo il…'}\n"
     ]
    },
    {
     "name": "stderr",
     "output_type": "stream",
     "text": [
      "2022-12-12 18:27:43 [urllib3.connectionpool] DEBUG: http://127.0.0.1:9200 \"POST /lercio/_doc/ HTTP/1.1\" 201 165\n",
      "2022-12-12 18:27:43 [urllib3.connectionpool] DEBUG: Starting new HTTP connection (1): 127.0.0.1:9200\n",
      "2022-12-12 18:27:43 [urllib3.connectionpool] DEBUG: http://127.0.0.1:9200 \"POST /lercio/_doc/ HTTP/1.1\" 201 164\n",
      "2022-12-12 18:27:43 [urllib3.connectionpool] DEBUG: Starting new HTTP connection (1): 127.0.0.1:9200\n",
      "2022-12-12 18:27:43 [urllib3.connectionpool] DEBUG: http://127.0.0.1:9200 \"POST /lercio/_doc/ HTTP/1.1\" 201 164\n",
      "2022-12-12 18:27:43 [urllib3.connectionpool] DEBUG: Starting new HTTP connection (1): 127.0.0.1:9200\n",
      "2022-12-12 18:27:43 [urllib3.connectionpool] DEBUG: http://127.0.0.1:9200 \"POST /lercio/_doc/ HTTP/1.1\" 201 165\n"
     ]
    },
    {
     "name": "stdout",
     "output_type": "stream",
     "text": [
      " Eddie Settembrini\n",
      "{'title': 'Draghi spiega il motivo delle riaperture del 26 aprile:  Io mi sono vaccinato ', 'url': 'https://www.lercio.it/draghi-spiega-il-motivo-delle-riaperture-del-26-aprile-io-mi-sono-vaccinato/', 'author': 'Eddie Settembrini', 'abstract': ' Eddie Settembrini'}\n",
      " Fabio Corigliano\n",
      "{'title': 'Certificato medico di Zangrillo per Berlusconi premiato come miglior romanzo fantasy del 2021', 'url': 'https://www.lercio.it/certificato-medico-di-zangrillo-per-berlusconi-premiato-come-miglior-romanzo-fantasy-del-2021/', 'author': 'Fabio Corigliano', 'abstract': ' Fabio Corigliano'}\n",
      " Milano – Prosegue a spron battuto la campagna di cazzate di Matteo Salvini. L’ultima, in ordine di tempo,…\n",
      "{'title': 'Matteo Salvini vicino all obiettivo delle 500mila cazzate al giorno', 'url': 'https://www.lercio.it/matteo-salvini-vicino-allobiettivo-delle-500mila-cazzate-al-giorno/', 'author': 'Eddie Settembrini', 'abstract': ' Milano – Prosegue a spron battuto la campagna di cazzate di Matteo Salvini. L’ultima, in ordine di tempo,…'}\n"
     ]
    },
    {
     "name": "stderr",
     "output_type": "stream",
     "text": [
      "2022-12-12 18:27:43 [urllib3.connectionpool] DEBUG: Starting new HTTP connection (1): 127.0.0.1:9200\n",
      "2022-12-12 18:27:43 [urllib3.connectionpool] DEBUG: http://127.0.0.1:9200 \"POST /lercio/_doc/ HTTP/1.1\" 201 164\n",
      "2022-12-12 18:27:43 [urllib3.connectionpool] DEBUG: Starting new HTTP connection (1): 127.0.0.1:9200\n",
      "2022-12-12 18:27:43 [urllib3.connectionpool] DEBUG: http://127.0.0.1:9200 \"POST /lercio/_doc/ HTTP/1.1\" 201 164\n",
      "2022-12-12 18:27:43 [urllib3.connectionpool] DEBUG: Starting new HTTP connection (1): 127.0.0.1:9200\n",
      "2022-12-12 18:27:43 [urllib3.connectionpool] DEBUG: http://127.0.0.1:9200 \"POST /lercio/_doc/ HTTP/1.1\" 201 164\n"
     ]
    },
    {
     "name": "stdout",
     "output_type": "stream",
     "text": [
      " Roma (Banca Centrale Europea) – “È andato tutto storto! Tutto molto ma molto storto. Avete presente quando dici:…\n",
      "{'title': ' Ma saranno cazzi miei? , non convince la nuova linea di comunicazione del Premier Draghi', 'url': 'https://www.lercio.it/ma-saranno-cazzi-miei-non-convince-la-nuova-linea-di-comunicazione-del-premier-draghi/', 'author': 'Davide Paolino', 'abstract': ' Roma (Banca Centrale Europea) – “È andato tutto storto! Tutto molto ma molto storto. Avete presente quando dici:…'}\n",
      " IL CAIRO – A distanza di una settimana, arrivano le motivazioni del prolungamento di altri 45 giorni della…\n",
      "{'title': 'Egitto. Altro rinvio per Patrick Zaki, la motivazione della Corte:  Respira ancora ', 'url': 'https://www.lercio.it/egitto-altri-45-giorni-di-cella-per-zaki-arriva-la-motivazione-della-corte-respira-ancora/', 'author': 'Stefano Pisani', 'abstract': ' IL CAIRO – A distanza di una settimana, arrivano le motivazioni del prolungamento di altri 45 giorni della…'}\n",
      " Vacci (NO) – Ogni mattina il generale Figliuolo si sveglia, lava la faccia e rifà il letto, come…\n",
      "{'title': 'Figliuolo presenta la zona gialla premium:  Accessibile solo per i redditi sopra i 500.000 euro ', 'url': 'https://www.lercio.it/figliuolo-presenta-la-zona-gialla-premium-accessibile-solo-per-i-redditi-sopra-i-500-000-euro/', 'author': 'Andrea H. Sesta', 'abstract': ' Vacci (NO) – Ogni mattina il generale Figliuolo si sveglia, lava la faccia e rifà il letto, come…'}\n"
     ]
    },
    {
     "name": "stderr",
     "output_type": "stream",
     "text": [
      "2022-12-12 18:27:43 [scrapy.core.engine] DEBUG: Crawled (200) <GET https://www.lercio.it/category/politica/page/22/> (referer: https://www.lercio.it/category/politica/page/21/)\n",
      "2022-12-12 18:27:44 [urllib3.connectionpool] DEBUG: Starting new HTTP connection (1): 127.0.0.1:9200\n",
      "2022-12-12 18:27:44 [urllib3.connectionpool] DEBUG: http://127.0.0.1:9200 \"POST /lercio/_doc/ HTTP/1.1\" 201 162\n",
      "2022-12-12 18:27:44 [urllib3.connectionpool] DEBUG: Starting new HTTP connection (1): 127.0.0.1:9200\n",
      "2022-12-12 18:27:44 [urllib3.connectionpool] DEBUG: http://127.0.0.1:9200 \"POST /lercio/_doc/ HTTP/1.1\" 201 164\n",
      "2022-12-12 18:27:44 [urllib3.connectionpool] DEBUG: Starting new HTTP connection (1): 127.0.0.1:9200\n",
      "2022-12-12 18:27:44 [urllib3.connectionpool] DEBUG: http://127.0.0.1:9200 \"POST /lercio/_doc/ HTTP/1.1\" 201 162\n",
      "2022-12-12 18:27:44 [urllib3.connectionpool] DEBUG: Starting new HTTP connection (1): 127.0.0.1:9200\n"
     ]
    },
    {
     "name": "stdout",
     "output_type": "stream",
     "text": [
      " ARANCIN* – “Il numero dei positivi al covid-19 è aumentato in modo evidente da quando abbiamo iniziato a…\n",
      "{'title': 'Sicilia, governatore Musumeci:  Positivi aumentati sensibilmente da quando abbiamo iniziato a contarli ', 'url': 'https://www.lercio.it/sicilia-governatore-musumeci-positivi-aumentati-sensibilmente-da-quando-abbiamo-iniziato-a-contarli/', 'author': 'Alfonso Biondi', 'abstract': ' ARANCIN* – “Il numero dei positivi al covid-19 è aumentato in modo evidente da quando abbiamo iniziato a…'}\n",
      " Arco (RE) – “Cos’ho in meno rispetto ai 7 miliardi che popolano questo pianeta? Non ho forse occhi?…\n",
      "{'title': 'Utente twitter scopre che Capezzone non l’ha ancora bloccato e si chiede dove stia sbagliando', 'url': 'https://www.lercio.it/utente-twitter-scopre-che-capezzone-non-lha-ancora-bloccato-e-si-chiede-dove-stia-sbagliando/', 'author': 'Augusto Rasori', 'abstract': ' Arco (RE) – “Cos’ho in meno rispetto ai 7 miliardi che popolano questo pianeta? Non ho forse occhi?…'}\n",
      " Milano (La città che non dorme mai, non chiedeteci come faccia a restare sveglia tutta la notte, non…\n",
      "{'title': 'Caos vaccini Lombardia, Fontana chiede le dimissioni degli over 80', 'url': 'https://www.lercio.it/caos-vaccini-lombardia-fontana-chiede-le-dimissioni-degli-over-80/', 'author': 'Augusto Rasori', 'abstract': ' Milano (La città che non dorme mai, non chiedeteci come faccia a restare sveglia tutta la notte, non…'}\n",
      " Rignano sull’Arno (FI) – Per mesi un gruppo di ricercatori dell’Università di Firenze ha cercato di capire il…\n",
      "{'title': 'Scoperto come fa Renzi a dormire la notte', 'url': 'https://www.lercio.it/scoperto-come-fa-renzi-a-dormire-la-notte/', 'author': 'Vittorio Lattanzi', 'abstract': ' Rignano sull’Arno (FI) – Per mesi un gruppo di ricercatori dell’Università di Firenze ha cercato di capire il…'}\n"
     ]
    },
    {
     "name": "stderr",
     "output_type": "stream",
     "text": [
      "2022-12-12 18:27:44 [urllib3.connectionpool] DEBUG: http://127.0.0.1:9200 \"POST /lercio/_doc/ HTTP/1.1\" 201 163\n",
      "2022-12-12 18:27:44 [urllib3.connectionpool] DEBUG: Starting new HTTP connection (1): 127.0.0.1:9200\n",
      "2022-12-12 18:27:44 [urllib3.connectionpool] DEBUG: http://127.0.0.1:9200 \"POST /lercio/_doc/ HTTP/1.1\" 201 164\n",
      "2022-12-12 18:27:44 [urllib3.connectionpool] DEBUG: Starting new HTTP connection (1): 127.0.0.1:9200\n",
      "2022-12-12 18:27:44 [urllib3.connectionpool] DEBUG: http://127.0.0.1:9200 \"POST /lercio/_doc/ HTTP/1.1\" 201 164\n",
      "2022-12-12 18:27:44 [urllib3.connectionpool] DEBUG: Starting new HTTP connection (1): 127.0.0.1:9200\n"
     ]
    },
    {
     "name": "stdout",
     "output_type": "stream",
     "text": [
      " Lombardia. Vaccinazioni ferme. Fontana chiama Bertolaso:  Era sul braccio o sul culo? \n",
      "{'title': 'Lombardia. Vaccinazioni ferme. Fontana chiama Bertolaso:  Era sul braccio o sul culo? ', 'url': 'https://www.lercio.it/lombardia-vaccinazioni-ferme-fontana-chiama-bertolaso-era-sul-braccio-o-sul-culo/', 'author': 'lercio', 'abstract': ' Lombardia. Vaccinazioni ferme. Fontana chiama Bertolaso:  Era sul braccio o sul culo? '}\n",
      " Fabio Corigliano\n",
      "{'title': ' Maschi che partoriscono sono contro natura , Pillon chiede ritiro dei cavallucci marini dagli oceani', 'url': 'https://www.lercio.it/maschi-che-partoriscono-sono-contro-natura-pillon-chiede-ritiro-dei-cavallucci-marini-dagli-oceani/', 'author': 'Fabio Corigliano', 'abstract': ' Fabio Corigliano'}\n",
      " Stefano Pisani\n",
      "{'title': ' Sta facendo salire troppo i consensi , Direzione PD mette Letta in stop cautelativo', 'url': 'https://www.lercio.it/sta-facendo-salire-i-consensi-direzione-pd-mette-letta-in-stop-cautelativo/', 'author': 'Stefano Pisani', 'abstract': ' Stefano Pisani'}\n"
     ]
    },
    {
     "name": "stderr",
     "output_type": "stream",
     "text": [
      "2022-12-12 18:27:44 [urllib3.connectionpool] DEBUG: http://127.0.0.1:9200 \"POST /lercio/_doc/ HTTP/1.1\" 201 165\n",
      "2022-12-12 18:27:44 [urllib3.connectionpool] DEBUG: Starting new HTTP connection (1): 127.0.0.1:9200\n",
      "2022-12-12 18:27:44 [urllib3.connectionpool] DEBUG: http://127.0.0.1:9200 \"POST /lercio/_doc/ HTTP/1.1\" 201 165\n",
      "2022-12-12 18:27:44 [urllib3.connectionpool] DEBUG: Starting new HTTP connection (1): 127.0.0.1:9200\n",
      "2022-12-12 18:27:44 [urllib3.connectionpool] DEBUG: http://127.0.0.1:9200 \"POST /lercio/_doc/ HTTP/1.1\" 201 163\n"
     ]
    },
    {
     "name": "stdout",
     "output_type": "stream",
     "text": [
      " Stefano Pisani\n",
      "{'title': 'Giornata Vittime Covid. Renzi:  Se potessero parlare direbbero che ho fatto bene a far cadere Conte ', 'url': 'https://www.lercio.it/giornata-vittime-covid-renzi-se-potessero-parlare-direbbero-che-ho-fatto-bene-a-far-cadere-conte/', 'author': 'Stefano Pisani', 'abstract': ' Stefano Pisani'}\n",
      " Terrazza del Pincio [ROMA] – Non si hanno ancora notizie certe sulle cause che hanno fatto scoppiare nel…\n",
      "{'title': 'Roma. Rissa al Pincio fra una gang di cinghiali e una di gabbiani', 'url': 'https://www.lercio.it/roma-rissa-al-pincio-fra-una-gang-di-cinghiali-e-una-di-gabbiani/', 'author': 'Fabio Corigliano', 'abstract': ' Terrazza del Pincio [ROMA] – Non si hanno ancora notizie certe sulle cause che hanno fatto scoppiare nel…'}\n",
      " Cagliari (Burundi) – Respinge al mittente le numerose polemiche riguardo alla gestione della pandemia, il presidente della Regione…\n",
      "{'title': 'Covid. Ritardi in Sardegna, governatore Solinas assicura:  Fra poco vaccineremo qualcuno ', 'url': 'https://www.lercio.it/covid-ritardi-in-sardegna-governatore-solinas-assicura-fra-poco-vaccineremo-qualcuno/', 'author': 'Gianni Zoccheddu', 'abstract': ' Cagliari (Burundi) – Respinge al mittente le numerose polemiche riguardo alla gestione della pandemia, il presidente della Regione…'}\n"
     ]
    },
    {
     "name": "stderr",
     "output_type": "stream",
     "text": [
      "2022-12-12 18:27:44 [urllib3.connectionpool] DEBUG: Starting new HTTP connection (1): 127.0.0.1:9200\n",
      "2022-12-12 18:27:44 [urllib3.connectionpool] DEBUG: http://127.0.0.1:9200 \"POST /lercio/_doc/ HTTP/1.1\" 201 163\n",
      "2022-12-12 18:27:45 [scrapy.core.engine] DEBUG: Crawled (200) <GET https://www.lercio.it/category/politica/page/23/> (referer: https://www.lercio.it/category/politica/page/22/)\n",
      "2022-12-12 18:27:45 [urllib3.connectionpool] DEBUG: Starting new HTTP connection (1): 127.0.0.1:9200\n",
      "2022-12-12 18:27:45 [urllib3.connectionpool] DEBUG: http://127.0.0.1:9200 \"POST /lercio/_doc/ HTTP/1.1\" 201 164\n",
      "2022-12-12 18:27:45 [urllib3.connectionpool] DEBUG: Starting new HTTP connection (1): 127.0.0.1:9200\n",
      "2022-12-12 18:27:45 [urllib3.connectionpool] DEBUG: http://127.0.0.1:9200 \"POST /lercio/_doc/ HTTP/1.1\" 201 163\n",
      "2022-12-12 18:27:45 [urllib3.connectionpool] DEBUG: Starting new HTTP connection (1): 127.0.0.1:9200\n"
     ]
    },
    {
     "name": "stdout",
     "output_type": "stream",
     "text": [
      " Sergio Marinelli\n",
      "{'title': 'Regione Lazio si fa prendere la mano e inizia a vaccinare i cinghiali anziani', 'url': 'https://www.lercio.it/regione-lazio-si-fa-prendere-la-mano-e-inizia-a-vaccinare-i-cinghiali-anziani/', 'author': 'Sergio Marinelli', 'abstract': ' Sergio Marinelli'}\n",
      " Francesco Conte\n",
      "{'title': 'Matteo Renzi si complimenta con Matteo Renzi per l intervista a Matteo Renzi', 'url': 'https://www.lercio.it/matteo-renzi-si-complimenta-con-matteo-renzi-per-lintervista-a-matteo-renzi/', 'author': 'Il Democritico', 'abstract': ' Francesco Conte'}\n",
      " Vaccini. Tensione con l Australia: recapitata a Mario Draghi una busta con un boomerang\n",
      "{'title': 'Vaccini. Tensione con l Australia: recapitata a Mario Draghi una busta con un boomerang', 'url': 'https://www.lercio.it/vaccini-tensione-con-laustralia-recapitata-a-mario-draghi-una-busta-con-un-boomerang/', 'author': 'Stefano Pisani', 'abstract': ' Vaccini. Tensione con l Australia: recapitata a Mario Draghi una busta con un boomerang'}\n"
     ]
    },
    {
     "name": "stderr",
     "output_type": "stream",
     "text": [
      "2022-12-12 18:27:45 [urllib3.connectionpool] DEBUG: http://127.0.0.1:9200 \"POST /lercio/_doc/ HTTP/1.1\" 201 163\n",
      "2022-12-12 18:27:45 [urllib3.connectionpool] DEBUG: Starting new HTTP connection (1): 127.0.0.1:9200\n",
      "2022-12-12 18:27:45 [urllib3.connectionpool] DEBUG: http://127.0.0.1:9200 \"POST /lercio/_doc/ HTTP/1.1\" 201 165\n",
      "2022-12-12 18:27:45 [urllib3.connectionpool] DEBUG: Starting new HTTP connection (1): 127.0.0.1:9200\n",
      "2022-12-12 18:27:45 [urllib3.connectionpool] DEBUG: http://127.0.0.1:9200 \"POST /lercio/_doc/ HTTP/1.1\" 201 164\n",
      "2022-12-12 18:27:45 [urllib3.connectionpool] DEBUG: Starting new HTTP connection (1): 127.0.0.1:9200\n",
      "2022-12-12 18:27:45 [urllib3.connectionpool] DEBUG: http://127.0.0.1:9200 \"POST /lercio/_doc/ HTTP/1.1\" 201 164\n",
      "2022-12-12 18:27:45 [urllib3.connectionpool] DEBUG: Starting new HTTP connection (1): 127.0.0.1:9200\n"
     ]
    },
    {
     "name": "stdout",
     "output_type": "stream",
     "text": [
      " Milano – Ha tentato la fuga in tram verso le sei del mattino, dalla bottiglia di orzata dove…\n",
      "{'title': 'Lombardia, Fontana ruba ambulanza per fuggire dopo la rapina a un orfanotrofio ma ha una spiegazione', 'url': 'https://www.lercio.it/lombardia-fontana-ruba-ambulanza-per-fuggire-dopo-la-rapina-a-un-orfanotrofio-ma-ha-una-spiegazione/', 'author': 'Augusto Rasori', 'abstract': ' Milano – Ha tentato la fuga in tram verso le sei del mattino, dalla bottiglia di orzata dove…'}\n",
      " Sergio Marinelli\n",
      "{'title': 'Achille Lauro sempre più ambiguo:  Simpatizzo per Calenda ', 'url': 'https://www.lercio.it/achille-lauro-sempre-piu-ambiguo-simpatizzo-per-calenda/', 'author': 'Sergio Marinelli', 'abstract': ' Sergio Marinelli'}\n",
      " Augusto Rasori\n",
      "{'title': 'Invia busta con proiettili a ognuna delle case di Grillo e finisce sul lastrico', 'url': 'https://www.lercio.it/invia-busta-con-proiettili-a-ognuna-delle-case-di-grillo-e-finisce-sul-lastrico/', 'author': 'Augusto Rasori', 'abstract': ' Augusto Rasori'}\n",
      " Patrizio Smiraglia\n",
      "{'title': 'PD respinge le dimissioni di Zingaretti:  Qui non decidi tu ', 'url': 'https://www.lercio.it/pd-respinge-le-dimissioni-di-zingaretti-qui-non-decidi-tu/', 'author': 'Patrizio', 'abstract': ' Patrizio Smiraglia'}\n"
     ]
    },
    {
     "name": "stderr",
     "output_type": "stream",
     "text": [
      "2022-12-12 18:27:45 [urllib3.connectionpool] DEBUG: http://127.0.0.1:9200 \"POST /lercio/_doc/ HTTP/1.1\" 201 164\n",
      "2022-12-12 18:27:45 [urllib3.connectionpool] DEBUG: Starting new HTTP connection (1): 127.0.0.1:9200\n",
      "2022-12-12 18:27:45 [urllib3.connectionpool] DEBUG: http://127.0.0.1:9200 \"POST /lercio/_doc/ HTTP/1.1\" 201 164\n",
      "2022-12-12 18:27:45 [urllib3.connectionpool] DEBUG: Starting new HTTP connection (1): 127.0.0.1:9200\n",
      "2022-12-12 18:27:45 [urllib3.connectionpool] DEBUG: http://127.0.0.1:9200 \"POST /lercio/_doc/ HTTP/1.1\" 201 164\n",
      "2022-12-12 18:27:45 [urllib3.connectionpool] DEBUG: Starting new HTTP connection (1): 127.0.0.1:9200\n",
      "2022-12-12 18:27:45 [urllib3.connectionpool] DEBUG: http://127.0.0.1:9200 \"POST /lercio/_doc/ HTTP/1.1\" 201 163\n"
     ]
    },
    {
     "name": "stdout",
     "output_type": "stream",
     "text": [
      " SOS (Molise) – Il virus Sars-Cov-2 sta finalmente battendo in ritirata, purtroppo solo per lasciare spazio al suo…\n",
      "{'title': 'Sanità al collasso, i cittadini molisani:  Si stava meglio quando non si esisteva ', 'url': 'https://www.lercio.it/sanita-al-collasso-i-cittadini-molisani-si-stava-meglio-quando-non-si-esisteva/', 'author': 'Patrizio', 'abstract': ' SOS (Molise) – Il virus Sars-Cov-2 sta finalmente battendo in ritirata, purtroppo solo per lasciare spazio al suo…'}\n",
      " Sergio Marinelli\n",
      "{'title': 'Spegne la TV ma continua a vedere Rocco Casalino che presenta il suo libro', 'url': 'https://www.lercio.it/spegne-la-tv-ma-continua-a-vedere-rocco-casalino-che-presenta-il-suo-libro/', 'author': 'Sergio Marinelli', 'abstract': ' Sergio Marinelli'}\n",
      " Paolo Andrenacci\n",
      "{'title': 'Speranza:  Oggi si decide su cosa ci faremo trovare impreparati a Settembre ', 'url': 'https://www.lercio.it/speranza-oggi-si-decide-su-cosa-ci-faremo-trovare-impreparati-a-settembre/', 'author': 'lercio', 'abstract': ' Paolo Andrenacci'}\n"
     ]
    },
    {
     "name": "stderr",
     "output_type": "stream",
     "text": [
      "2022-12-12 18:27:45 [scrapy.core.engine] DEBUG: Crawled (200) <GET https://www.lercio.it/category/politica/page/24/> (referer: https://www.lercio.it/category/politica/page/23/)\n",
      "2022-12-12 18:27:46 [urllib3.connectionpool] DEBUG: Starting new HTTP connection (1): 127.0.0.1:9200\n",
      "2022-12-12 18:27:46 [urllib3.connectionpool] DEBUG: http://127.0.0.1:9200 \"POST /lercio/_doc/ HTTP/1.1\" 201 163\n",
      "2022-12-12 18:27:46 [urllib3.connectionpool] DEBUG: Starting new HTTP connection (1): 127.0.0.1:9200\n"
     ]
    },
    {
     "name": "stdout",
     "output_type": "stream",
     "text": [
      " Stefano Pisani\n",
      "{'title': 'Ministero della Disabilità alla Lega, primo provvedimento: “Respingere tutti i clandestini disabili”', 'url': 'https://www.lercio.it/ministero-della-disabilita-alla-lega-primo-provvedimento-respingere-tutti-i-clandestini-disabili/', 'author': 'Stefano Pisani', 'abstract': ' Stefano Pisani'}\n",
      " Augusto Rasori\n",
      "{'title': 'Apertura ristoranti, Bonaccini spiega perché appoggia Salvini: “È il nostro maggior cliente”', 'url': 'https://www.lercio.it/apertura-ristoranti-bonaccini-spiega-perche-appoggia-salvini-e-il-nostro-maggior-cliente/', 'author': 'Augusto Rasori', 'abstract': ' Augusto Rasori'}\n"
     ]
    },
    {
     "name": "stderr",
     "output_type": "stream",
     "text": [
      "2022-12-12 18:27:46 [urllib3.connectionpool] DEBUG: http://127.0.0.1:9200 \"POST /lercio/_doc/ HTTP/1.1\" 201 164\n",
      "2022-12-12 18:27:46 [urllib3.connectionpool] DEBUG: Starting new HTTP connection (1): 127.0.0.1:9200\n",
      "2022-12-12 18:27:46 [urllib3.connectionpool] DEBUG: http://127.0.0.1:9200 \"POST /lercio/_doc/ HTTP/1.1\" 201 163\n",
      "2022-12-12 18:27:46 [urllib3.connectionpool] DEBUG: Starting new HTTP connection (1): 127.0.0.1:9200\n",
      "2022-12-12 18:27:46 [urllib3.connectionpool] DEBUG: http://127.0.0.1:9200 \"POST /lercio/_doc/ HTTP/1.1\" 201 166\n",
      "2022-12-12 18:27:46 [urllib3.connectionpool] DEBUG: Starting new HTTP connection (1): 127.0.0.1:9200\n"
     ]
    },
    {
     "name": "stdout",
     "output_type": "stream",
     "text": [
      " Roma (279 km da Giuseppe Conte) – Sono ore delicate nella sede del Fatto Quotidiano. Il direttore Marco…\n",
      "{'title': 'Travaglio non si arrende:  Possiamo almeno provare un governo Conte 2 e mezzo? ', 'url': 'https://www.lercio.it/travaglio-non-si-arrende-possiamo-almeno-provare-un-governo-conte-25/', 'author': 'Augusto Rasori', 'abstract': ' Roma (279 km da Giuseppe Conte) – Sono ore delicate nella sede del Fatto Quotidiano. Il direttore Marco…'}\n",
      " Roma – Sono tanti gli incarichi ricoperti da Domenico Arcuri, manager, funzionario pubblico e già amministratore delegato di…\n",
      "{'title': 'Sarà affidata a Domenico Arcuri la gestione di tutti gli incarichi di Domenico Arcuri', 'url': 'https://www.lercio.it/sara-affidata-a-domenico-arcuri-la-gestione-di-tutti-gli-incarichi-di-domenico-arcuri/', 'author': 'Eddie Settembrini', 'abstract': ' Roma – Sono tanti gli incarichi ricoperti da Domenico Arcuri, manager, funzionario pubblico e già amministratore delegato di…'}\n",
      " di Mattia Pappalardo\n",
      "{'title': 'Salvini si fa prendere la mano e chiede 10 anni di carcere per il caso Diciotti', 'url': 'https://www.lercio.it/salvini-si-fa-prendere-la-mano-e-si-condanna-a-10-anni-di-carcere-per-il-caso-diciotti/', 'author': 'Mattia Pappalardo', 'abstract': ' di Mattia Pappalardo'}\n"
     ]
    },
    {
     "name": "stderr",
     "output_type": "stream",
     "text": [
      "2022-12-12 18:27:46 [urllib3.connectionpool] DEBUG: http://127.0.0.1:9200 \"POST /lercio/_doc/ HTTP/1.1\" 201 164\n",
      "2022-12-12 18:27:46 [urllib3.connectionpool] DEBUG: Starting new HTTP connection (1): 127.0.0.1:9200\n",
      "2022-12-12 18:27:46 [urllib3.connectionpool] DEBUG: http://127.0.0.1:9200 \"POST /lercio/_doc/ HTTP/1.1\" 201 166\n",
      "2022-12-12 18:27:46 [urllib3.connectionpool] DEBUG: Starting new HTTP connection (1): 127.0.0.1:9200\n",
      "2022-12-12 18:27:46 [urllib3.connectionpool] DEBUG: http://127.0.0.1:9200 \"POST /lercio/_doc/ HTTP/1.1\" 201 165\n",
      "2022-12-12 18:27:46 [urllib3.connectionpool] DEBUG: Starting new HTTP connection (1): 127.0.0.1:9200\n"
     ]
    },
    {
     "name": "stdout",
     "output_type": "stream",
     "text": [
      " Roma – Non sembra voler rinunciare al suo ruolo di “cane da guardia del potere” il quotidiano la…\n",
      "{'title': 'Inchiesta shock di Repubblica:  Perché anche i gattini adorano Mario Draghi? ', 'url': 'https://www.lercio.it/inchiesta-shock-di-repubblica-perche-anche-i-gattini-adorano-mario-draghi/', 'author': 'Gianni Zoccheddu', 'abstract': ' Roma – Non sembra voler rinunciare al suo ruolo di “cane da guardia del potere” il quotidiano la…'}\n",
      " Stefano Pisani\n",
      "{'title': 'Nuovo tweet della Lorenzin:  Mi scuso con tutti per l errore commesso da (metti il tuo nome e poi sei licenziato) ', 'url': 'https://www.lercio.it/nuovo-tweet-della-lorenzin-mi-scuso-con-tutti-per-lerrore-commesso-da-metti-il-tuo-nome-e-poi-sei-licenziato/', 'author': 'Stefano Pisani', 'abstract': ' Stefano Pisani'}\n",
      " Fabio Corigliano\n",
      "{'title': ' Avremo una donna come segretario del PD . Zingaretti annuncia la sua vaginoplastica', 'url': 'https://www.lercio.it/avremo-una-donna-come-segretario-del-pd-zingaretti-annuncia-la-sua-vaginoplastica/', 'author': 'Fabio Corigliano', 'abstract': ' Fabio Corigliano'}\n"
     ]
    },
    {
     "name": "stderr",
     "output_type": "stream",
     "text": [
      "2022-12-12 18:27:46 [urllib3.connectionpool] DEBUG: http://127.0.0.1:9200 \"POST /lercio/_doc/ HTTP/1.1\" 201 164\n",
      "2022-12-12 18:27:46 [urllib3.connectionpool] DEBUG: Starting new HTTP connection (1): 127.0.0.1:9200\n",
      "2022-12-12 18:27:46 [urllib3.connectionpool] DEBUG: http://127.0.0.1:9200 \"POST /lercio/_doc/ HTTP/1.1\" 201 164\n",
      "2022-12-12 18:27:46 [urllib3.connectionpool] DEBUG: Starting new HTTP connection (1): 127.0.0.1:9200\n",
      "2022-12-12 18:27:47 [urllib3.connectionpool] DEBUG: http://127.0.0.1:9200 \"POST /lercio/_doc/ HTTP/1.1\" 201 165\n"
     ]
    },
    {
     "name": "stdout",
     "output_type": "stream",
     "text": [
      " Roma (Che non è in Toscana!) – “Sì, lo so, dobbiamo spendere i soldi europei, ma dovevo un…\n",
      "{'title': 'Prima disposizione del governo Draghi: tassate al 95% le conferenze a pagamento degli ex premier', 'url': 'https://www.lercio.it/prima-disposizione-del-governo-draghi-tassate-al-95-le-conferenze-a-pagamento-degli-ex-premier/', 'author': 'Davide Paolino', 'abstract': ' Roma (Che non è in Toscana!) – “Sì, lo so, dobbiamo spendere i soldi europei, ma dovevo un…'}\n",
      " di Francesco Conte\n",
      "{'title': 'Renzi su FB:  Draghi ha deluso le aspettative . Poi rettifica:  Era un post programmato per ottobre ', 'url': 'https://www.lercio.it/renzi-su-fb-draghi-ha-deluso-le-aspettative-poi-rettifica-era-un-post-programmato-per-giugno/', 'author': 'Il Democritico', 'abstract': ' di Francesco Conte'}\n"
     ]
    },
    {
     "name": "stderr",
     "output_type": "stream",
     "text": [
      "2022-12-12 18:27:47 [scrapy.core.engine] DEBUG: Crawled (200) <GET https://www.lercio.it/category/politica/page/25/> (referer: https://www.lercio.it/category/politica/page/24/)\n",
      "2022-12-12 18:27:47 [urllib3.connectionpool] DEBUG: Starting new HTTP connection (1): 127.0.0.1:9200\n",
      "2022-12-12 18:27:47 [urllib3.connectionpool] DEBUG: http://127.0.0.1:9200 \"POST /lercio/_doc/ HTTP/1.1\" 201 164\n",
      "2022-12-12 18:27:47 [urllib3.connectionpool] DEBUG: Starting new HTTP connection (1): 127.0.0.1:9200\n",
      "2022-12-12 18:27:47 [urllib3.connectionpool] DEBUG: http://127.0.0.1:9200 \"POST /lercio/_doc/ HTTP/1.1\" 201 163\n",
      "2022-12-12 18:27:47 [urllib3.connectionpool] DEBUG: Starting new HTTP connection (1): 127.0.0.1:9200\n",
      "2022-12-12 18:27:47 [urllib3.connectionpool] DEBUG: http://127.0.0.1:9200 \"POST /lercio/_doc/ HTTP/1.1\" 201 163\n",
      "2022-12-12 18:27:47 [urllib3.connectionpool] DEBUG: Starting new HTTP connection (1): 127.0.0.1:9200\n"
     ]
    },
    {
     "name": "stdout",
     "output_type": "stream",
     "text": [
      " ROMA (MARCIA SU) – “Non posso permettere che raggiunga il record di maggioranza di Benito Mussolini, non ne…\n",
      "{'title': 'Fiducia. Meloni conferma il no a Draghi:  Non è degno di avere maggioranza totale come Mussolini ', 'url': 'https://www.lercio.it/fiducia-meloni-conferma-il-no-a-draghi-non-e-degno-di-avere-maggioranza-totale-come-mussolini/', 'author': 'Stefano Pisani', 'abstract': ' ROMA (MARCIA SU) – “Non posso permettere che raggiunga il record di maggioranza di Benito Mussolini, non ne…'}\n",
      " Roma – L’Italia rinuncia alla sua quota di Recovery Fund. È questa la notizia shock che è trapelata…\n",
      "{'title': 'Draghi rinuncia al Recovery Fund: “Ci bastano i soldi che non paghiamo più a Casalino”', 'url': 'https://www.lercio.it/draghi-rinuncia-al-recovery-fund-ci-bastano-i-soldi-che-non-paghiamo-piu-a-casalino/', 'author': 'Eddie Settembrini', 'abstract': ' Roma – L’Italia rinuncia alla sua quota di Recovery Fund. È questa la notizia shock che è trapelata…'}\n",
      " Alfonso Biondi\n",
      "{'title': 'M5S:  Mai col M5S ', 'url': 'https://www.lercio.it/m5s-mai-col-m5s/', 'author': 'Alfonso Biondi', 'abstract': ' Alfonso Biondi'}\n",
      " Andrea Michielotto\n",
      "{'title': 'Di Maio determinato: “Voglio fare meglio del mio predecessore”', 'url': 'https://www.lercio.it/di-maio-determinato-voglio-fare-meglio-del-mio-predecessore/', 'author': 'Andrea Michielotto', 'abstract': ' Andrea Michielotto'}\n"
     ]
    },
    {
     "name": "stderr",
     "output_type": "stream",
     "text": [
      "2022-12-12 18:27:47 [urllib3.connectionpool] DEBUG: http://127.0.0.1:9200 \"POST /lercio/_doc/ HTTP/1.1\" 201 164\n",
      "2022-12-12 18:27:47 [urllib3.connectionpool] DEBUG: Starting new HTTP connection (1): 127.0.0.1:9200\n",
      "2022-12-12 18:27:47 [urllib3.connectionpool] DEBUG: http://127.0.0.1:9200 \"POST /lercio/_doc/ HTTP/1.1\" 201 165\n",
      "2022-12-12 18:27:47 [urllib3.connectionpool] DEBUG: Starting new HTTP connection (1): 127.0.0.1:9200\n",
      "2022-12-12 18:27:47 [urllib3.connectionpool] DEBUG: http://127.0.0.1:9200 \"POST /lercio/_doc/ HTTP/1.1\" 201 164\n",
      "2022-12-12 18:27:47 [urllib3.connectionpool] DEBUG: Starting new HTTP connection (1): 127.0.0.1:9200\n",
      "2022-12-12 18:27:47 [urllib3.connectionpool] DEBUG: http://127.0.0.1:9200 \"POST /lercio/_doc/ HTTP/1.1\" 201 164\n"
     ]
    },
    {
     "name": "stdout",
     "output_type": "stream",
     "text": [
      " Stefano Pisani\n",
      "{'title': 'Covid. Positivo Casini: messi in quarantena 28 partiti', 'url': 'https://www.lercio.it/covid-positivo-casini-messi-in-quarantena-28-partiti/', 'author': 'Stefano Pisani', 'abstract': ' Stefano Pisani'}\n",
      " Roma (Casaleggio S.p.A.) – C’erano proprio tutti, da Luca Cordero di Montezemolo a Giancarlo Magalli, dal Pupazzo Gnappo…\n",
      "{'title': 'Organizzata allo Stadio Olimpico la rimpatriata dei compagni di classe di Mario Draghi', 'url': 'https://www.lercio.it/organizzata-allo-stadio-olimpico-la-rimpatriata-dei-compagni-di-classe-di-mario-draghi/', 'author': 'Davide Paolino', 'abstract': ' Roma (Casaleggio S.p.A.) – C’erano proprio tutti, da Luca Cordero di Montezemolo a Giancarlo Magalli, dal Pupazzo Gnappo…'}\n",
      " ROMA – La sacralità della vita, la pace in terra per gli uomini di buona volontà e la…\n",
      "{'title': 'Governo, Draghi al lavoro sul testo del suo primo Angelus domenicale', 'url': 'https://www.lercio.it/governo-draghi-al-lavoro-sul-testo-del-suo-primo-angelus-domenicale/', 'author': 'Gianni Zoccheddu', 'abstract': ' ROMA – La sacralità della vita, la pace in terra per gli uomini di buona volontà e la…'}\n",
      " Sergio Marinelli\n",
      "{'title': 'Roma. Fa aerobica in streaming per strada e non si accorge che dietro c è la conferenza di Conte', 'url': 'https://www.lercio.it/roma-fa-aerobica-in-streaming-per-strada-e-non-si-accorge-che-dietro-ce-la-conferenza-di-conte/', 'author': 'Sergio Marinelli', 'abstract': ' Sergio Marinelli'}\n"
     ]
    },
    {
     "name": "stderr",
     "output_type": "stream",
     "text": [
      "2022-12-12 18:27:47 [urllib3.connectionpool] DEBUG: Starting new HTTP connection (1): 127.0.0.1:9200\n",
      "2022-12-12 18:27:47 [urllib3.connectionpool] DEBUG: http://127.0.0.1:9200 \"POST /lercio/_doc/ HTTP/1.1\" 201 165\n",
      "2022-12-12 18:27:47 [urllib3.connectionpool] DEBUG: Starting new HTTP connection (1): 127.0.0.1:9200\n",
      "2022-12-12 18:27:47 [urllib3.connectionpool] DEBUG: http://127.0.0.1:9200 \"POST /lercio/_doc/ HTTP/1.1\" 201 164\n",
      "2022-12-12 18:27:47 [urllib3.connectionpool] DEBUG: Starting new HTTP connection (1): 127.0.0.1:9200\n",
      "2022-12-12 18:27:47 [urllib3.connectionpool] DEBUG: http://127.0.0.1:9200 \"POST /lercio/_doc/ HTTP/1.1\" 201 163\n"
     ]
    },
    {
     "name": "stdout",
     "output_type": "stream",
     "text": [
      " Conte aggiorna il curriculum:  Facilitato arrivo governo di alto profilo \n",
      "{'title': 'Conte aggiorna il curriculum:  Facilitato arrivo governo di alto profilo ', 'url': 'https://www.lercio.it/conte-aggiorna-il-curriculum-facilitato-arrivo-governo-di-alto-profilo/', 'author': 'Augusto Rasori', 'abstract': ' Conte aggiorna il curriculum:  Facilitato arrivo governo di alto profilo '}\n",
      " Rome (Georgia) – Un grave incidente ha turbato gli spettatori presenti nel circo Madama Palace a Rome, cittadina…\n",
      "{'title': 'Trapezista toglie la mano lasciando cadere il compagno e inventa la “presa Renzi”', 'url': 'https://www.lercio.it/trapezista-toglie-la-mano-lasciando-cadere-il-compagno-e-inventa-la-presa-renzi/', 'author': 'Andrea Michielotto', 'abstract': ' Rome (Georgia) – Un grave incidente ha turbato gli spettatori presenti nel circo Madama Palace a Rome, cittadina…'}\n"
     ]
    },
    {
     "name": "stderr",
     "output_type": "stream",
     "text": [
      "2022-12-12 18:27:47 [scrapy.core.engine] DEBUG: Crawled (200) <GET https://www.lercio.it/category/politica/page/26/> (referer: https://www.lercio.it/category/politica/page/25/)\n",
      "2022-12-12 18:27:48 [urllib3.connectionpool] DEBUG: Starting new HTTP connection (1): 127.0.0.1:9200\n",
      "2022-12-12 18:27:48 [urllib3.connectionpool] DEBUG: http://127.0.0.1:9200 \"POST /lercio/_doc/ HTTP/1.1\" 201 163\n",
      "2022-12-12 18:27:48 [urllib3.connectionpool] DEBUG: Starting new HTTP connection (1): 127.0.0.1:9200\n",
      "2022-12-12 18:27:48 [urllib3.connectionpool] DEBUG: http://127.0.0.1:9200 \"POST /lercio/_doc/ HTTP/1.1\" 201 164\n",
      "2022-12-12 18:27:48 [urllib3.connectionpool] DEBUG: Starting new HTTP connection (1): 127.0.0.1:9200\n",
      "2022-12-12 18:27:48 [urllib3.connectionpool] DEBUG: http://127.0.0.1:9200 \"POST /lercio/_doc/ HTTP/1.1\" 201 164\n",
      "2022-12-12 18:27:48 [urllib3.connectionpool] DEBUG: Starting new HTTP connection (1): 127.0.0.1:9200\n"
     ]
    },
    {
     "name": "stdout",
     "output_type": "stream",
     "text": [
      " Andrea Bonechi\n",
      "{'title': 'Pensioni, già pronto il piano Draghi  Quota 170 ', 'url': 'https://www.lercio.it/pensioni-gia-pronto-il-piano-draghi-quota-170/', 'author': 'Chiorbaciov', 'abstract': ' Andrea Bonechi'}\n",
      " Eddie Settembrini\n",
      "{'title': 'Le prime parole di Mario Draghi: “Mi impegno a salvare l uscita del libro di Casalino”', 'url': 'https://www.lercio.it/le-prime-parole-di-mario-draghi-mi-impegno-a-salvare-luscita-del-libro-di-casalino/', 'author': 'Eddie Settembrini', 'abstract': ' Eddie Settembrini'}\n",
      " Alfonso Biondi\n",
      "{'title': 'Toninelli:  Sì a governo Draghi a patto che il Presidente del Consiglio sia Conte ', 'url': 'https://www.lercio.it/toninelli-si-a-governo-draghi-a-patto-che-il-presidente-del-consiglio-sia-conte/', 'author': 'Alfonso Biondi', 'abstract': ' Alfonso Biondi'}\n",
      " Marco Pilia\n",
      "{'title': 'Crisanti non ha dubbi:  Dovremo convivere con Renzi per almeno altri due anni ', 'url': 'https://www.lercio.it/crisanti-non-ha-dubbi-dovremo-convivere-con-renzi-per-almeno-altri-due-anni/', 'author': 'lercio', 'abstract': ' Marco Pilia'}\n"
     ]
    },
    {
     "name": "stderr",
     "output_type": "stream",
     "text": [
      "2022-12-12 18:27:48 [urllib3.connectionpool] DEBUG: http://127.0.0.1:9200 \"POST /lercio/_doc/ HTTP/1.1\" 201 163\n",
      "2022-12-12 18:27:48 [urllib3.connectionpool] DEBUG: Starting new HTTP connection (1): 127.0.0.1:9200\n",
      "2022-12-12 18:27:48 [urllib3.connectionpool] DEBUG: http://127.0.0.1:9200 \"POST /lercio/_doc/ HTTP/1.1\" 201 163\n",
      "2022-12-12 18:27:48 [urllib3.connectionpool] DEBUG: Starting new HTTP connection (1): 127.0.0.1:9200\n",
      "2022-12-12 18:27:48 [urllib3.connectionpool] DEBUG: http://127.0.0.1:9200 \"POST /lercio/_doc/ HTTP/1.1\" 201 164\n",
      "2022-12-12 18:27:48 [urllib3.connectionpool] DEBUG: Starting new HTTP connection (1): 127.0.0.1:9200\n",
      "2022-12-12 18:27:48 [urllib3.connectionpool] DEBUG: http://127.0.0.1:9200 \"POST /lercio/_doc/ HTTP/1.1\" 201 165\n",
      "2022-12-12 18:27:48 [urllib3.connectionpool] DEBUG: Starting new HTTP connection (1): 127.0.0.1:9200\n"
     ]
    },
    {
     "name": "stdout",
     "output_type": "stream",
     "text": [
      " Pontassie (VE) – Si chiama “Tutte le mie sfide (su TikTok)” il nuovo libro-confessione di Matteo Renzi appena…\n",
      "{'title': 'Renzi:  Ho fatto cadere il governo per una challenge su TikTok ', 'url': 'https://www.lercio.it/renzi-ho-fatto-cadere-il-governo-per-una-challenge-su-tiktok/', 'author': 'Il Democritico', 'abstract': ' Pontassie (VE) – Si chiama “Tutte le mie sfide (su TikTok)” il nuovo libro-confessione di Matteo Renzi appena…'}\n",
      " UE su ritardo forniture vaccino, AstraZeneca:  Quale vaccino? \n",
      "{'title': 'Ira UE su ritardo forniture vaccino, AstraZeneca:  Quale vaccino? ', 'url': 'https://www.lercio.it/ira-ue-su-ritardo-forniture-vaccino-astrazeneca-quale-vaccino/', 'author': 'Alfonso Biondi', 'abstract': ' UE su ritardo forniture vaccino, AstraZeneca:  Quale vaccino? '}\n",
      " Palazzo Madama  – “Vi prego concedetemi di presentarmi. Sono un uomo ricco e raffinato. Sono stato in giro…\n",
      "{'title': 'Crisi di Governo, senatore non ricorda più se sta lasciando Forza Italia o ci sta entrando', 'url': 'https://www.lercio.it/crisi-di-governo-senatore-non-ricorda-piu-se-sta-lasciando-forza-italia-o-ci-sta-entrando/', 'author': 'Augusto Rasori', 'abstract': ' Palazzo Madama\\xa0 – “Vi prego concedetemi di presentarmi. Sono un uomo ricco e raffinato. Sono stato in giro…'}\n",
      " Augusto Rasori\n",
      "{'title': 'Riad, Renzi complimentato per il suo arabo ma stava parlando in inglese', 'url': 'https://www.lercio.it/riad-renzi-complimentato-per-il-suo-arabo-ma-stava-parlando-in-inglese/', 'author': 'Augusto Rasori', 'abstract': ' Augusto Rasori'}\n"
     ]
    },
    {
     "name": "stderr",
     "output_type": "stream",
     "text": [
      "2022-12-12 18:27:48 [urllib3.connectionpool] DEBUG: http://127.0.0.1:9200 \"POST /lercio/_doc/ HTTP/1.1\" 201 165\n",
      "2022-12-12 18:27:48 [urllib3.connectionpool] DEBUG: Starting new HTTP connection (1): 127.0.0.1:9200\n",
      "2022-12-12 18:27:48 [urllib3.connectionpool] DEBUG: http://127.0.0.1:9200 \"POST /lercio/_doc/ HTTP/1.1\" 201 165\n",
      "2022-12-12 18:27:48 [urllib3.connectionpool] DEBUG: Starting new HTTP connection (1): 127.0.0.1:9200\n",
      "2022-12-12 18:27:48 [urllib3.connectionpool] DEBUG: http://127.0.0.1:9200 \"POST /lercio/_doc/ HTTP/1.1\" 201 165\n"
     ]
    },
    {
     "name": "stdout",
     "output_type": "stream",
     "text": [
      " Stefano Pisani – Francesco Conte\n",
      "{'title': 'Chiesa apre all eutanasia ma solo mediante crocifissione', 'url': 'https://www.lercio.it/chiesa-apre-alleutanasia-ma-solo-mediante-crocifissione/', 'author': 'lercio', 'abstract': ' Stefano Pisani – Francesco Conte'}\n",
      " Piano vaccini, slitta di 15 giorni nuova figura di merda di Fontana\n",
      "{'title': 'Piano vaccini, slitta di 15 giorni nuova figura di merda di Fontana', 'url': 'https://www.lercio.it/piano-vaccini-slitta-di-15-giorni-nuova-figura-di-merda-di-fontana/', 'author': 'Mattia Pappalardo', 'abstract': ' Piano vaccini, slitta di 15 giorni nuova figura di merda di Fontana'}\n"
     ]
    },
    {
     "name": "stderr",
     "output_type": "stream",
     "text": [
      "2022-12-12 18:27:48 [scrapy.core.engine] DEBUG: Crawled (200) <GET https://www.lercio.it/category/politica/page/27/> (referer: https://www.lercio.it/category/politica/page/26/)\n",
      "2022-12-12 18:27:48 [urllib3.connectionpool] DEBUG: Starting new HTTP connection (1): 127.0.0.1:9200\n",
      "2022-12-12 18:27:49 [urllib3.connectionpool] DEBUG: http://127.0.0.1:9200 \"POST /lercio/_doc/ HTTP/1.1\" 201 164\n",
      "2022-12-12 18:27:49 [urllib3.connectionpool] DEBUG: Starting new HTTP connection (1): 127.0.0.1:9200\n",
      "2022-12-12 18:27:49 [urllib3.connectionpool] DEBUG: http://127.0.0.1:9200 \"POST /lercio/_doc/ HTTP/1.1\" 201 163\n",
      "2022-12-12 18:27:49 [urllib3.connectionpool] DEBUG: Starting new HTTP connection (1): 127.0.0.1:9200\n"
     ]
    },
    {
     "name": "stdout",
     "output_type": "stream",
     "text": [
      " ROMA – Il Presidente del Consiglio Giuseppe Conte, che sta guidando l’esecutivo attraverso questa improvvisa crisi di Governo,…\n",
      "{'title': 'Conte sale al Quirinale e si dimette Mattarella', 'url': 'https://www.lercio.it/conte-sale-al-quirinale-e-si-dimette-mattarella/', 'author': 'Stefano Pisani', 'abstract': ' ROMA – Il Presidente del Consiglio Giuseppe Conte, che sta guidando l’esecutivo attraverso questa improvvisa crisi di Governo,…'}\n",
      " Mal (VA) – Ha del clamoroso la scoperta che potrebbe dare una svolta all’intera lotta alla pandemia Covid…\n",
      "{'title': 'Vaccino anti-Covid, omeopata ricava 60 milioni di dosi da una sola fiala', 'url': 'https://www.lercio.it/vaccino-anti-covid-omeopata-ricava-60-milioni-di-dosi-da-una-sola-fiala/', 'author': 'Augusto Rasori', 'abstract': ' Mal (VA) – Ha del clamoroso la scoperta che potrebbe dare una svolta all’intera lotta alla pandemia Covid…'}\n",
      " Sergio Marinelli\n",
      "{'title': 'Operatore telefonico scopre che sta parlando con Renzi e ritira l offerta', 'url': 'https://www.lercio.it/operatore-telefonico-scopre-che-sta-parlando-con-renzi-e-ritira-lofferta/', 'author': 'Sergio Marinelli', 'abstract': ' Sergio Marinelli'}\n"
     ]
    },
    {
     "name": "stderr",
     "output_type": "stream",
     "text": [
      "2022-12-12 18:27:49 [urllib3.connectionpool] DEBUG: http://127.0.0.1:9200 \"POST /lercio/_doc/ HTTP/1.1\" 201 163\n",
      "2022-12-12 18:27:49 [urllib3.connectionpool] DEBUG: Starting new HTTP connection (1): 127.0.0.1:9200\n",
      "2022-12-12 18:27:49 [urllib3.connectionpool] DEBUG: http://127.0.0.1:9200 \"POST /lercio/_doc/ HTTP/1.1\" 201 164\n",
      "2022-12-12 18:27:49 [urllib3.connectionpool] DEBUG: Starting new HTTP connection (1): 127.0.0.1:9200\n"
     ]
    },
    {
     "name": "stdout",
     "output_type": "stream",
     "text": [
      " Gianni Zoccheddu\n",
      "{'title': 'Russia, Alexey Navalny trattenuto in carcere per resistenza all omicidio', 'url': 'https://www.lercio.it/russia-alexey-navalny-trattenuto-in-carcere-per-resistenza-allomicidio/', 'author': 'Gianni Zoccheddu', 'abstract': ' Gianni Zoccheddu'}\n",
      " Augusto Rasori\n",
      "{'title': 'Camera, intervento breve di Sgarbi: “Non volevo dare tempo agli uscieri di portarmi fuori a forza”', 'url': 'https://www.lercio.it/camera-intervento-breve-di-sgarbi-non-volevo-dare-tempo-agli-uscieri-di-portarmi-fuori-a-forza/', 'author': 'Augusto Rasori', 'abstract': ' Augusto Rasori'}\n"
     ]
    },
    {
     "name": "stderr",
     "output_type": "stream",
     "text": [
      "2022-12-12 18:27:49 [urllib3.connectionpool] DEBUG: http://127.0.0.1:9200 \"POST /lercio/_doc/ HTTP/1.1\" 201 165\n",
      "2022-12-12 18:27:49 [urllib3.connectionpool] DEBUG: Starting new HTTP connection (1): 127.0.0.1:9200\n",
      "2022-12-12 18:27:49 [urllib3.connectionpool] DEBUG: http://127.0.0.1:9200 \"POST /lercio/_doc/ HTTP/1.1\" 201 164\n",
      "2022-12-12 18:27:49 [urllib3.connectionpool] DEBUG: Starting new HTTP connection (1): 127.0.0.1:9200\n",
      "2022-12-12 18:27:49 [urllib3.connectionpool] DEBUG: http://127.0.0.1:9200 \"POST /lercio/_doc/ HTTP/1.1\" 201 165\n",
      "2022-12-12 18:27:49 [urllib3.connectionpool] DEBUG: Starting new HTTP connection (1): 127.0.0.1:9200\n"
     ]
    },
    {
     "name": "stdout",
     "output_type": "stream",
     "text": [
      " Davide Paolino\n",
      "{'title': 'Lombardia. Gallera critico dopo la proposta della Moratti:  Potevo pensarci io... ', 'url': 'https://www.lercio.it/lombardia-gallera-critico-dopo-la-proposta-della-moratti-potevo-pensarci-io/', 'author': 'Davide Paolino', 'abstract': ' Davide Paolino'}\n",
      " Fabio Corigliano\n",
      "{'title': 'Biden apre un armadio della Casa Bianca e trova 16 Melania Trump ancora imballate', 'url': 'https://www.lercio.it/biden-apre-un-armadio-della-casa-bianca-e-trova-16-melania-trump-ancora-imballate/', 'author': 'Fabio Corigliano', 'abstract': ' Fabio Corigliano'}\n",
      " Roma – Non sembra aver fine la solitudine che sta inesorabilmente circondando Matteo Renzi dopo la sua decisione…\n",
      "{'title': 'Renzi lancia un boomerang, ma quello si rifiuta di tornare indietro', 'url': 'https://www.lercio.it/renzi-lancia-un-boomerang-ma-quello-si-rifiuta-di-tornare-indietro/', 'author': 'Gianni Zoccheddu', 'abstract': ' Roma – Non sembra aver fine la solitudine che sta inesorabilmente circondando Matteo Renzi dopo la sua decisione…'}\n"
     ]
    },
    {
     "name": "stderr",
     "output_type": "stream",
     "text": [
      "2022-12-12 18:27:49 [urllib3.connectionpool] DEBUG: http://127.0.0.1:9200 \"POST /lercio/_doc/ HTTP/1.1\" 201 165\n",
      "2022-12-12 18:27:49 [urllib3.connectionpool] DEBUG: Starting new HTTP connection (1): 127.0.0.1:9200\n",
      "2022-12-12 18:27:49 [urllib3.connectionpool] DEBUG: http://127.0.0.1:9200 \"POST /lercio/_doc/ HTTP/1.1\" 201 165\n",
      "2022-12-12 18:27:49 [urllib3.connectionpool] DEBUG: Starting new HTTP connection (1): 127.0.0.1:9200\n",
      "2022-12-12 18:27:49 [urllib3.connectionpool] DEBUG: http://127.0.0.1:9200 \"POST /lercio/_doc/ HTTP/1.1\" 201 165\n"
     ]
    },
    {
     "name": "stdout",
     "output_type": "stream",
     "text": [
      " Sergio Marinelli\n",
      "{'title': 'Calenda rilancia:  Qualcuno mi ha offerto anche un nuovo contratto di luce e gas ', 'url': 'https://www.lercio.it/calenda-rilancia-qualcuno-mi-ha-offerto-anche-un-nuovo-contratto-di-luce-e-gas/', 'author': 'Sergio Marinelli', 'abstract': ' Sergio Marinelli'}\n",
      " PROVAAPRENDER (MI) – “Silvio Berlusconi, da vero padre della patria, si è offerto di testare di persona questo…\n",
      "{'title': 'Salute: medico di Berlusconi scopre un vaccino contro le udienze', 'url': 'https://www.lercio.it/salute-medico-di-berlusconi-scopre-un-vaccino-contro-le-udienze/', 'author': 'Patrizio', 'abstract': ' PROVAAPRENDER (MI) – “Silvio Berlusconi, da vero padre della patria, si è offerto di testare di persona questo…'}\n"
     ]
    },
    {
     "name": "stderr",
     "output_type": "stream",
     "text": [
      "2022-12-12 18:27:50 [scrapy.core.engine] DEBUG: Crawled (200) <GET https://www.lercio.it/category/politica/page/28/> (referer: https://www.lercio.it/category/politica/page/27/)\n",
      "2022-12-12 18:27:50 [urllib3.connectionpool] DEBUG: Starting new HTTP connection (1): 127.0.0.1:9200\n",
      "2022-12-12 18:27:50 [urllib3.connectionpool] DEBUG: http://127.0.0.1:9200 \"POST /lercio/_doc/ HTTP/1.1\" 201 163\n",
      "2022-12-12 18:27:50 [urllib3.connectionpool] DEBUG: Starting new HTTP connection (1): 127.0.0.1:9200\n",
      "2022-12-12 18:27:50 [urllib3.connectionpool] DEBUG: http://127.0.0.1:9200 \"POST /lercio/_doc/ HTTP/1.1\" 201 164\n",
      "2022-12-12 18:27:50 [urllib3.connectionpool] DEBUG: Starting new HTTP connection (1): 127.0.0.1:9200\n"
     ]
    },
    {
     "name": "stdout",
     "output_type": "stream",
     "text": [
      " Andrea Michielotto\n",
      "{'title': 'Esperti avvertono: “Se cade il governo, l Italia rischia di fare la fine dell Italia”', 'url': 'https://www.lercio.it/esperti-avvertono-se-cade-il-governo-litalia-rischia-di-fare-la-fine-dellitalia/', 'author': 'Andrea Michielotto', 'abstract': ' Andrea Michielotto'}\n",
      " Andrea Canavesi\n",
      "{'title': 'Facebook riapre la pagina di Donald Trump ma le assegna la spunta marrone', 'url': 'https://www.lercio.it/facebook-riapre-la-pagina-di-donald-trump-ma-le-assegna-la-spunta-marrone/', 'author': 'lercio', 'abstract': ' Andrea Canavesi'}\n",
      " ROMA – In queste ore convulse per la politica italiana trapelano dettagli sul prossimo Dpcm che dovrebbe fornire…\n",
      "{'title': 'Nuovo Dpcm. Impianti sciistici potranno riaprire solo per neve da asporto', 'url': 'https://www.lercio.it/nuovo-dpcm-impianti-sciistici-potranno-riaprire-solo-per-neve-da-asporto/', 'author': 'Stefano Pisani', 'abstract': ' ROMA – In queste ore convulse per la politica italiana trapelano dettagli sul prossimo Dpcm che dovrebbe fornire…'}\n"
     ]
    },
    {
     "name": "stderr",
     "output_type": "stream",
     "text": [
      "2022-12-12 18:27:50 [urllib3.connectionpool] DEBUG: http://127.0.0.1:9200 \"POST /lercio/_doc/ HTTP/1.1\" 201 164\n",
      "2022-12-12 18:27:50 [urllib3.connectionpool] DEBUG: Starting new HTTP connection (1): 127.0.0.1:9200\n",
      "2022-12-12 18:27:50 [urllib3.connectionpool] DEBUG: http://127.0.0.1:9200 \"POST /lercio/_doc/ HTTP/1.1\" 201 164\n",
      "2022-12-12 18:27:50 [urllib3.connectionpool] DEBUG: Starting new HTTP connection (1): 127.0.0.1:9200\n",
      "2022-12-12 18:27:50 [urllib3.connectionpool] DEBUG: http://127.0.0.1:9200 \"POST /lercio/_doc/ HTTP/1.1\" 201 163\n",
      "2022-12-12 18:27:50 [urllib3.connectionpool] DEBUG: Starting new HTTP connection (1): 127.0.0.1:9200\n",
      "2022-12-12 18:27:50 [urllib3.connectionpool] DEBUG: http://127.0.0.1:9200 \"POST /lercio/_doc/ HTTP/1.1\" 201 164\n",
      "2022-12-12 18:27:50 [urllib3.connectionpool] DEBUG: Starting new HTTP connection (1): 127.0.0.1:9200\n"
     ]
    },
    {
     "name": "stdout",
     "output_type": "stream",
     "text": [
      " Roma (Casaleggio S.P.A.) – “First reaction: shock”, ammette Domenico Farinacei, promotore del comitato ‘Probabili votanti di Matteo Renzi’,…\n",
      "{'title': 'Renziani scendono in piazza per chiedere a Renzi cosa cazzo vuole', 'url': 'https://www.lercio.it/renziani-scendono-in-piazza-per-chiedere-a-renzi-cosa-cazzo-vuole/', 'author': 'Davide Paolino', 'abstract': ' Roma (Casaleggio S.P.A.) – “First reaction: shock”, ammette Domenico Farinacei, promotore del comitato ‘Probabili votanti di Matteo Renzi’,…'}\n",
      " Patrizio Smiraglia\n",
      "{'title': 'Troppi insulti sui social, Renzi chiede ai suoi elettori di assaltare il Parlamento solo per farsi chiudere gli account', 'url': 'https://www.lercio.it/troppi-insulti-sui-social-renzi-chiede-ai-suoi-elettori-di-assaltare-il-parlamento-solo-per-farsi-chiudere-gli-account/', 'author': 'Patrizio', 'abstract': ' Patrizio Smiraglia'}\n",
      " Italia (Agonizzante) – Stanchi di chiedervi ogni giorno da che parte stia Renzi? Esausti di domandare a vostra…\n",
      "{'title': 'In edicola il calendario lunare per capire i giorni in cui Renzi è al governo o è all’opposizione', 'url': 'https://www.lercio.it/in-edicola-il-calendario-lunare-per-capire-i-giorni-in-cui-renzi-e-al-governo-o-e-allopposizione/', 'author': 'Augusto Rasori', 'abstract': ' Italia (Agonizzante) – Stanchi di chiedervi ogni giorno da che parte stia Renzi? Esausti di domandare a vostra…'}\n",
      " di Andrea Bonechi\n",
      "{'title': 'Ritardi nelle vaccinazioni, a rischio la candidatura di Gallera al Nobel per la Medicina', 'url': 'https://www.lercio.it/ritardi-nelle-vaccinazioni-a-rischio-la-candidatura-di-gallera-al-nobel-per-la-medicina/', 'author': 'Chiorbaciov', 'abstract': ' di Andrea Bonechi'}\n"
     ]
    },
    {
     "name": "stderr",
     "output_type": "stream",
     "text": [
      "2022-12-12 18:27:50 [urllib3.connectionpool] DEBUG: http://127.0.0.1:9200 \"POST /lercio/_doc/ HTTP/1.1\" 201 165\n",
      "2022-12-12 18:27:50 [urllib3.connectionpool] DEBUG: Starting new HTTP connection (1): 127.0.0.1:9200\n",
      "2022-12-12 18:27:50 [urllib3.connectionpool] DEBUG: http://127.0.0.1:9200 \"POST /lercio/_doc/ HTTP/1.1\" 201 165\n",
      "2022-12-12 18:27:50 [urllib3.connectionpool] DEBUG: Starting new HTTP connection (1): 127.0.0.1:9200\n",
      "2022-12-12 18:27:50 [urllib3.connectionpool] DEBUG: http://127.0.0.1:9200 \"POST /lercio/_doc/ HTTP/1.1\" 201 165\n",
      "2022-12-12 18:27:50 [urllib3.connectionpool] DEBUG: Starting new HTTP connection (1): 127.0.0.1:9200\n"
     ]
    },
    {
     "name": "stdout",
     "output_type": "stream",
     "text": [
      " Washington – È un Donald Trump insolitamente istituzionale quello che si è presentato ieri agli americani con un…\n",
      "{'title': 'Usa, Trump condanna i rivoltosi:  Risparmiate i proiettili per l insediamento di Biden ', 'url': 'https://www.lercio.it/usa-trump-condanna-i-rivoltosi-risparmiate-i-proiettili-per-linsediamento-di-biden/', 'author': 'Gianni Zoccheddu', 'abstract': ' Washington – È un Donald Trump insolitamente istituzionale quello che si è presentato ieri agli americani con un…'}\n",
      " Andrea Canavesi\n",
      "{'title': 'Scoperto un sostenitore di Virginia Raggi che abita a Roma', 'url': 'https://www.lercio.it/scoperto-un-sostenitore-di-virginia-raggi-che-abita-a-roma/', 'author': 'lercio', 'abstract': ' Andrea Canavesi'}\n",
      " Augusto Rasori\n",
      "{'title': 'Berlusconi chiede il calendario delle sue udienze per programmare le prossime indisposizioni', 'url': 'https://www.lercio.it/berlusconi-chiede-il-calendario-delle-sue-udienze-per-programmare-le-prossime-indisposizioni/', 'author': 'Augusto Rasori', 'abstract': ' Augusto Rasori'}\n"
     ]
    },
    {
     "name": "stderr",
     "output_type": "stream",
     "text": [
      "2022-12-12 18:27:50 [urllib3.connectionpool] DEBUG: http://127.0.0.1:9200 \"POST /lercio/_doc/ HTTP/1.1\" 201 165\n",
      "2022-12-12 18:27:50 [scrapy.core.engine] DEBUG: Crawled (200) <GET https://www.lercio.it/category/politica/page/29/> (referer: https://www.lercio.it/category/politica/page/28/)\n",
      "2022-12-12 18:27:51 [urllib3.connectionpool] DEBUG: Starting new HTTP connection (1): 127.0.0.1:9200\n",
      "2022-12-12 18:27:51 [urllib3.connectionpool] DEBUG: http://127.0.0.1:9200 \"POST /lercio/_doc/ HTTP/1.1\" 201 163\n",
      "2022-12-12 18:27:51 [urllib3.connectionpool] DEBUG: Starting new HTTP connection (1): 127.0.0.1:9200\n",
      "2022-12-12 18:27:51 [urllib3.connectionpool] DEBUG: http://127.0.0.1:9200 \"POST /lercio/_doc/ HTTP/1.1\" 201 163\n",
      "2022-12-12 18:27:51 [urllib3.connectionpool] DEBUG: Starting new HTTP connection (1): 127.0.0.1:9200\n",
      "2022-12-12 18:27:51 [urllib3.connectionpool] DEBUG: http://127.0.0.1:9200 \"POST /lercio/_doc/ HTTP/1.1\" 201 164\n",
      "2022-12-12 18:27:51 [urllib3.connectionpool] DEBUG: Starting new HTTP connection (1): 127.0.0.1:9200\n"
     ]
    },
    {
     "name": "stdout",
     "output_type": "stream",
     "text": [
      " Roma (DPCM) – Si stanno finalmente districando i nodi che da settimane rendevano inintelligibile il comportamento da seguire…\n",
      "{'title': 'Governo:  Natale solo con gli affetti più cari , Salvini a pranzo con il suo commercialista', 'url': 'https://www.lercio.it/conte-natale-solo-con-gli-affetti-piu-cari-salvini-a-pranzo-con-il-suo-commercialista/', 'author': 'Augusto Rasori', 'abstract': ' Roma (DPCM) – Si stanno finalmente districando i nodi che da settimane rendevano inintelligibile il comportamento da seguire…'}\n",
      " Patrizio Smiraglia / Stefano Pisani\n",
      "{'title': 'DPCM di Natale, Conte chiarisce:  Trenini di Capodanno un posto sì e uno no ', 'url': 'https://www.lercio.it/dpcm-di-natale-conte-chiarisce-trenini-di-capodanno-un-posto-si-e-uno-no/', 'author': 'lercio', 'abstract': ' Patrizio Smiraglia / Stefano Pisani'}\n",
      " Andrea Bonechi\n",
      "{'title': 'Governo, gli esperti temono una seconda ondata di renzismo', 'url': 'https://www.lercio.it/governo-gli-esperti-temono-una-seconda-ondata-di-renzismo/', 'author': 'Chiorbaciov', 'abstract': ' Andrea Bonechi'}\n",
      " Località sconosciuta tra Molise e Basilicata – “Oh, pure io c’avrei piacere d’annà da mamma a  magnà però…\n",
      "{'title': 'Natale, hacker vìola il sito del Governo e pubblica un decreto perfettamente comprensibile', 'url': 'https://www.lercio.it/natale-hacker-viola-il-sito-del-governo-e-pubblica-un-decreto-perfettamente-comprensibile/', 'author': 'Augusto Rasori', 'abstract': ' Località sconosciuta tra Molise e Basilicata – “Oh, pure io c’avrei piacere d’annà da mamma a\\xa0 magnà però…'}\n"
     ]
    },
    {
     "name": "stderr",
     "output_type": "stream",
     "text": [
      "2022-12-12 18:27:51 [urllib3.connectionpool] DEBUG: http://127.0.0.1:9200 \"POST /lercio/_doc/ HTTP/1.1\" 201 165\n",
      "2022-12-12 18:27:51 [urllib3.connectionpool] DEBUG: Starting new HTTP connection (1): 127.0.0.1:9200\n",
      "2022-12-12 18:27:51 [urllib3.connectionpool] DEBUG: http://127.0.0.1:9200 \"POST /lercio/_doc/ HTTP/1.1\" 201 165\n",
      "2022-12-12 18:27:51 [urllib3.connectionpool] DEBUG: Starting new HTTP connection (1): 127.0.0.1:9200\n",
      "2022-12-12 18:27:51 [urllib3.connectionpool] DEBUG: http://127.0.0.1:9200 \"POST /lercio/_doc/ HTTP/1.1\" 201 165\n",
      "2022-12-12 18:27:51 [urllib3.connectionpool] DEBUG: Starting new HTTP connection (1): 127.0.0.1:9200\n",
      "2022-12-12 18:27:51 [urllib3.connectionpool] DEBUG: http://127.0.0.1:9200 \"POST /lercio/_doc/ HTTP/1.1\" 201 165\n"
     ]
    },
    {
     "name": "stdout",
     "output_type": "stream",
     "text": [
      " ROMA – Con l’imminente arrivo del vaccino è sempre più spasmodica l’attesa di un piano di gestione, da…\n",
      "{'title': 'Vaccino, governo lancia il Click-day:  Bonus di 1000 anticorpi ai primi che si prenotano ', 'url': 'https://www.lercio.it/vaccino-governo-lancia-il-click-day-bonus-di-1000-anticorpi-ai-primi-che-si-prenotano/', 'author': 'Vittorio Lattanzi', 'abstract': ' ROMA – Con l’imminente arrivo del vaccino è sempre più spasmodica l’attesa di un piano di gestione, da…'}\n",
      " Sergio Marinelli\n",
      "{'title': ' Aveva dei sentimenti . Espulso dirigente di Confindustria', 'url': 'https://www.lercio.it/aveva-dei-sentimenti-espulso-dirigente-di-confindustria/', 'author': 'Sergio Marinelli', 'abstract': ' Sergio Marinelli'}\n",
      " Roma – Il ministro della Salute Roberto Speranza ha annunciato oggi che il governo utilizzerà i giocatori di…\n",
      "{'title': 'Piano vaccinazioni, governo assume 10.000 campioni di freccette', 'url': 'https://www.lercio.it/piano-vaccinazioni-governo-assume-campioni-di-freccette/', 'author': 'lercio', 'abstract': ' Roma – Il ministro della Salute Roberto Speranza ha annunciato oggi che il governo utilizzerà i giocatori di…'}\n",
      " Mita Primavera\n",
      "{'title': 'L OMS si congratula con il Coronavirus per come ha affrontato l Italia', 'url': 'https://www.lercio.it/loms-si-congratula-con-il-coronavirus-per-come-ha-affrontato-litalia/', 'author': 'lercio', 'abstract': ' Mita Primavera'}\n"
     ]
    },
    {
     "name": "stderr",
     "output_type": "stream",
     "text": [
      "2022-12-12 18:27:51 [urllib3.connectionpool] DEBUG: Starting new HTTP connection (1): 127.0.0.1:9200\n",
      "2022-12-12 18:27:51 [urllib3.connectionpool] DEBUG: http://127.0.0.1:9200 \"POST /lercio/_doc/ HTTP/1.1\" 201 165\n",
      "2022-12-12 18:27:51 [urllib3.connectionpool] DEBUG: Starting new HTTP connection (1): 127.0.0.1:9200\n",
      "2022-12-12 18:27:51 [urllib3.connectionpool] DEBUG: http://127.0.0.1:9200 \"POST /lercio/_doc/ HTTP/1.1\" 201 166\n",
      "2022-12-12 18:27:51 [urllib3.connectionpool] DEBUG: Starting new HTTP connection (1): 127.0.0.1:9200\n",
      "2022-12-12 18:27:51 [urllib3.connectionpool] DEBUG: http://127.0.0.1:9200 \"POST /lercio/_doc/ HTTP/1.1\" 201 165\n",
      "2022-12-12 18:27:51 [scrapy.core.engine] INFO: Closing spider (finished)\n",
      "2022-12-12 18:27:51 [scrapy.statscollectors] INFO: Dumping Scrapy stats:\n",
      "{'downloader/request_bytes': 8551,\n",
      " 'downloader/request_count': 29,\n",
      " 'downloader/request_method_count/GET': 29,\n",
      " 'downloader/response_bytes': 1902038,\n",
      " 'downloader/response_count': 29,\n",
      " 'downloader/response_status_count/200': 29,\n",
      " 'elapsed_time_seconds': 28.590808,\n",
      " 'finish_reason': 'finished',\n",
      " 'finish_time': datetime.datetime(2022, 12, 12, 17, 27, 51, 766231),\n",
      " 'httpcompression/response_bytes': 8158540,\n",
      " 'httpcompression/response_count': 29,\n",
      " 'log_count/DEBUG': 608,\n",
      " 'log_count/INFO': 10,\n",
      " 'memusage/max': 84307968,\n",
      " 'memusage/startup': 84307968,\n",
      " 'request_depth_max': 28,\n",
      " 'response_received_count': 29,\n",
      " 'scheduler/dequeued': 29,\n",
      " 'scheduler/dequeued/memory': 29,\n",
      " 'scheduler/enqueued': 29,\n",
      " 'scheduler/enqueued/memory': 29,\n",
      " 'start_time': datetime.datetime(2022, 12, 12, 17, 27, 23, 175423)}\n",
      "2022-12-12 18:27:51 [scrapy.core.engine] INFO: Spider closed (finished)\n"
     ]
    },
    {
     "name": "stdout",
     "output_type": "stream",
     "text": [
      " Andrea Bonechi\n",
      "{'title': 'Rimpasto di Governo, Renzi:  Come nuovo Premier avrei giusto in mente un nome ', 'url': 'https://www.lercio.it/rimpasto-di-governo-renzi-come-nuovo-premier-avrei-giusto-in-mente-un-nome/', 'author': 'Chiorbaciov', 'abstract': ' Andrea Bonechi'}\n",
      " Augusto Rasori\n",
      "{'title': 'Camera, focolaio di Covid passa al Gruppo Misto', 'url': 'https://www.lercio.it/camera-focolaio-di-covid-passa-al-gruppo-misto/', 'author': 'Augusto Rasori', 'abstract': ' Augusto Rasori'}\n"
     ]
    }
   ],
   "source": [
    "import scrapy\n",
    "from scrapy.selector import Selector\n",
    "from scrapy.crawler import CrawlerProcess\n",
    "\n",
    "class LercioScraper(scrapy.Spider):\n",
    "    name = \"LercioPoliticalStories\"\n",
    "    start_urls = [\n",
    "        'https://www.lercio.it/category/politica/',\n",
    "    ]\n",
    "    def parse(self, response):\n",
    "        next_page = response.css('a.next')[0].attrib['href']\n",
    "        next_page_num = int(next_page.split('/')[-2])\n",
    "        if next_page is not None and next_page_num <30:\n",
    "           # print(next_page_num)\n",
    "            yield scrapy.Request(next_page, callback=self.parse, dont_filter=True)\n",
    "            \n",
    "        \n",
    "        #Select the news containers\n",
    "        newses = response.css('.articleTextBox').getall()\n",
    "        for container in enumerate(newses):\n",
    "            #print(container[1])\n",
    "            #Get Title, Date, and Abstract\n",
    "            news = Selector(text=container[1]).xpath('//div/a')\n",
    "            #print(news)\n",
    "            n_link = news[-1].attrib['href']\n",
    "            #print(n_link)\n",
    "            \n",
    "            title = Selector(text=Selector(text=container[1]).css('.articleTitle')[0].get()).xpath('//text()').get().replace(\"\\\"\",\" \").replace(\"'\",\" \")\n",
    "            #print(title)\n",
    "            autore = Selector(text=Selector(text=container[1]).css('.EQarticleAuthor')[0].get()).xpath('//text()')[1].get().replace(\"\\\"\",\" \").replace(\"'\",\" \")\n",
    "            #print(autore)\n",
    "            abstract = Selector(text=Selector(text=container[1]).css('.articleText').get()).xpath('//text()')[0].get().replace(\"\\\"\",\" \").replace(\"'\",\" \")\n",
    "            print(abstract)\n",
    "            \n",
    "            #Create json to send\n",
    "            document = \"{\\\"title\\\":\\\"\"+title+\"\\\", \\\"url\\\":\\\"\"+n_link+\"\\\",\\\"author\\\":\\\"\"+autore+\"\\\",\\\"abstract\\\":\\\"\"+abstract+\"\\\" }\"\n",
    "            JSON_DATA = json.loads(document)\n",
    "            print(JSON_DATA)\n",
    "            response = requests.post(url = RINS_URL, json = JSON_DATA)\n",
    "            response  = response.text \n",
    "\n",
    "            #Convert to JSON\n",
    "            y = json.loads(response)\n",
    "            # pretty printing data\n",
    "            pretty_data = json.dumps(y, indent=4)\n",
    "            #print(pretty_data)\n",
    "           \n",
    "process = CrawlerProcess()\n",
    "process.crawl(LercioScraper)\n",
    "process.start()"
   ]
  },
  {
   "cell_type": "code",
   "execution_count": 21,
   "metadata": {},
   "outputs": [],
   "source": [
    "#Let's do a search\n",
    "#Request URL\n",
    "R_URL = URL+\"lercio/_search\""
   ]
  },
  {
   "cell_type": "code",
   "execution_count": 28,
   "metadata": {},
   "outputs": [],
   "source": [
    "#PAYLOAD\n",
    "R_data =\"{\\\"query\\\": { \\\"match\\\" : { \\\"title\\\" : {\\\"query\\\" : \\\"Salvini benzina\\\",\\\"operator\\\" : \\\"and\\\"}}} }\"\n",
    "JSON_DATA = y = json.loads(R_data)"
   ]
  },
  {
   "cell_type": "code",
   "execution_count": 30,
   "metadata": {},
   "outputs": [
    {
     "name": "stderr",
     "output_type": "stream",
     "text": [
      "2022-12-12 18:29:22 [urllib3.connectionpool] DEBUG: Starting new HTTP connection (1): 127.0.0.1:9200\n",
      "2022-12-12 18:29:22 [urllib3.connectionpool] DEBUG: http://127.0.0.1:9200 \"POST /lercio/_search HTTP/1.1\" 200 445\n"
     ]
    },
    {
     "name": "stdout",
     "output_type": "stream",
     "text": [
      "{\n",
      "    \"took\": 1,\n",
      "    \"timed_out\": false,\n",
      "    \"_shards\": {\n",
      "        \"total\": 1,\n",
      "        \"successful\": 1,\n",
      "        \"skipped\": 0,\n",
      "        \"failed\": 0\n",
      "    },\n",
      "    \"hits\": {\n",
      "        \"total\": {\n",
      "            \"value\": 1,\n",
      "            \"relation\": \"eq\"\n",
      "        },\n",
      "        \"max_score\": 6.6290607,\n",
      "        \"hits\": [\n",
      "            {\n",
      "                \"_index\": \"lercio\",\n",
      "                \"_type\": \"_doc\",\n",
      "                \"_id\": \"7RlgB4UBBgQuFi8ViLtc\",\n",
      "                \"_score\": 6.6290607,\n",
      "                \"_source\": {\n",
      "                    \"title\": \"Salvini:  Appena finisco di togliere le accise sulla benzina inizio a occuparmi del ponte sullo Stretto \",\n",
      "                    \"url\": \"https://www.lercio.it/salvini-appena-finisco-di-togliere-le-accise-sulla-benzina-inizio-a-occuparmi-del-ponte-sullo-stretto/\",\n",
      "                    \"author\": \"Augusto Rasori\",\n",
      "                    \"abstract\": \" Leggere la lista dei ministri si \\u00e8 rivelato rassicurante, dato che chi aveva pessime aspettative non \\u00e8 rimasto\\u2026\"\n",
      "                }\n",
      "            }\n",
      "        ]\n",
      "    }\n",
      "}\n"
     ]
    }
   ],
   "source": [
    "response = requests.post(url = R_URL, json = JSON_DATA)\n",
    "response  = response.text \n",
    "\n",
    "#Convert to JSON\n",
    "y = json.loads(response)\n",
    "# pretty printing data\n",
    "pretty_data = json.dumps(y, indent=4)\n",
    "print(pretty_data)"
   ]
  },
  {
   "cell_type": "code",
   "execution_count": null,
   "metadata": {},
   "outputs": [],
   "source": []
  }
 ],
 "metadata": {
  "kernelspec": {
   "display_name": "Python 3",
   "language": "python",
   "name": "python3"
  },
  "language_info": {
   "codemirror_mode": {
    "name": "ipython",
    "version": 3
   },
   "file_extension": ".py",
   "mimetype": "text/x-python",
   "name": "python",
   "nbconvert_exporter": "python",
   "pygments_lexer": "ipython3",
   "version": "3.6.13"
  },
  "toc": {
   "base_numbering": 1,
   "nav_menu": {},
   "number_sections": true,
   "sideBar": true,
   "skip_h1_title": false,
   "title_cell": "Table of Contents",
   "title_sidebar": "Contents",
   "toc_cell": false,
   "toc_position": {},
   "toc_section_display": true,
   "toc_window_display": true
  }
 },
 "nbformat": 4,
 "nbformat_minor": 2
}
