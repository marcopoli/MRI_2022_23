{
  "cells": [
    {
      "cell_type": "markdown",
      "source": [
        "# Installation with pip\n",
        "Every dependency needed by the framework will be downloaded and installed automatically"
      ],
      "metadata": {
        "collapsed": false,
        "id": "sa5QKvLKT64G"
      }
    },
    {
      "cell_type": "code",
      "execution_count": 1,
      "metadata": {
        "colab": {
          "base_uri": "https://localhost:8080/",
          "height": 1000
        },
        "id": "_z0TVVHmQ2sU",
        "outputId": "f9ce26bc-43cd-4c7b-daf4-766d5515aec0"
      },
      "outputs": [
        {
          "output_type": "stream",
          "name": "stdout",
          "text": [
            "Looking in indexes: https://pypi.org/simple, https://us-python.pkg.dev/colab-wheels/public/simple/\n",
            "Collecting clayrs\n",
            "  Downloading clayrs-0.3.1.tar.gz (222 kB)\n",
            "\u001b[K     |████████████████████████████████| 222 kB 5.1 MB/s \n",
            "\u001b[?25h  Installing build dependencies ... \u001b[?25l\u001b[?25hdone\n",
            "  Getting requirements to build wheel ... \u001b[?25l\u001b[?25hdone\n",
            "    Preparing wheel metadata ... \u001b[?25l\u001b[?25hdone\n",
            "Collecting mysql-connector-python~=8.0.20\n",
            "  Downloading mysql_connector_python-8.0.31-cp37-cp37m-manylinux1_x86_64.whl (23.5 MB)\n",
            "\u001b[K     |████████████████████████████████| 23.5 MB 1.7 MB/s \n",
            "\u001b[?25hCollecting wn~=0.0.23\n",
            "  Downloading wn-0.0.23.tar.gz (31.6 MB)\n",
            "\u001b[K     |████████████████████████████████| 31.6 MB 1.3 MB/s \n",
            "\u001b[?25hCollecting SPARQLWrapper~=1.8.5\n",
            "  Downloading SPARQLWrapper-1.8.5-py3-none-any.whl (26 kB)\n",
            "Requirement already satisfied: scipy~=1.7.3 in /usr/local/lib/python3.7/dist-packages (from clayrs) (1.7.3)\n",
            "Collecting distex~=0.7.1\n",
            "  Downloading distex-0.7.2-py3-none-any.whl (19 kB)\n",
            "Collecting mysql~=0.0.3\n",
            "  Downloading mysql-0.0.3-py3-none-any.whl (1.2 kB)\n",
            "Collecting pywsd~=1.2.4\n",
            "  Downloading pywsd-1.2.5-py3-none-any.whl (26.9 MB)\n",
            "\u001b[K     |████████████████████████████████| 26.9 MB 2.5 MB/s \n",
            "\u001b[?25hCollecting whoosh~=2.7.4\n",
            "  Downloading Whoosh-2.7.4-py2.py3-none-any.whl (468 kB)\n",
            "\u001b[K     |████████████████████████████████| 468 kB 51.9 MB/s \n",
            "\u001b[?25hCollecting gensim~=4.1.2\n",
            "  Downloading gensim-4.1.2-cp37-cp37m-manylinux_2_12_x86_64.manylinux2010_x86_64.whl (24.1 MB)\n",
            "\u001b[K     |████████████████████████████████| 24.1 MB 1.3 MB/s \n",
            "\u001b[?25hCollecting tqdm~=4.62.2\n",
            "  Downloading tqdm-4.62.3-py2.py3-none-any.whl (76 kB)\n",
            "\u001b[K     |████████████████████████████████| 76 kB 4.1 MB/s \n",
            "\u001b[?25hCollecting sentence-transformers~=1.2.0\n",
            "  Downloading sentence-transformers-1.2.1.tar.gz (80 kB)\n",
            "\u001b[K     |████████████████████████████████| 80 kB 9.0 MB/s \n",
            "\u001b[?25hCollecting babelpy~=1.0.1\n",
            "  Downloading BabelPy-1.0.1.tar.gz (8.0 kB)\n",
            "Requirement already satisfied: nltk~=3.5 in /usr/local/lib/python3.7/dist-packages (from clayrs) (3.7)\n",
            "Collecting PyYAML~=5.3.1\n",
            "  Downloading PyYAML-5.3.1.tar.gz (269 kB)\n",
            "\u001b[K     |████████████████████████████████| 269 kB 52.0 MB/s \n",
            "\u001b[?25hCollecting transformers~=4.15.0\n",
            "  Downloading transformers-4.15.0-py3-none-any.whl (3.4 MB)\n",
            "\u001b[K     |████████████████████████████████| 3.4 MB 35.4 MB/s \n",
            "\u001b[?25hCollecting pandas~=1.2.4\n",
            "  Downloading pandas-1.2.5-cp37-cp37m-manylinux_2_5_x86_64.manylinux1_x86_64.whl (9.9 MB)\n",
            "\u001b[K     |████████████████████████████████| 9.9 MB 36.1 MB/s \n",
            "\u001b[?25hCollecting nest-asyncio~=1.5.5\n",
            "  Downloading nest_asyncio-1.5.6-py3-none-any.whl (5.2 kB)\n",
            "Collecting pyaml~=21.10.1\n",
            "  Downloading pyaml-21.10.1-py2.py3-none-any.whl (24 kB)\n",
            "Requirement already satisfied: networkx~=2.6.3 in /usr/local/lib/python3.7/dist-packages (from clayrs) (2.6.3)\n",
            "Requirement already satisfied: numpy~=1.21.6 in /usr/local/lib/python3.7/dist-packages (from clayrs) (1.21.6)\n",
            "Collecting ekphrasis~=0.5.4\n",
            "  Downloading ekphrasis-0.5.4-py3-none-any.whl (83 kB)\n",
            "\u001b[K     |████████████████████████████████| 83 kB 2.3 MB/s \n",
            "\u001b[?25hRequirement already satisfied: textblob~=0.15.3 in /usr/local/lib/python3.7/dist-packages (from clayrs) (0.15.3)\n",
            "Collecting spacy~=3.2.1\n",
            "  Downloading spacy-3.2.4-cp37-cp37m-manylinux_2_17_x86_64.manylinux2014_x86_64.whl (6.0 MB)\n",
            "\u001b[K     |████████████████████████████████| 6.0 MB 57.7 MB/s \n",
            "\u001b[?25hRequirement already satisfied: matplotlib~=3.2.2 in /usr/local/lib/python3.7/dist-packages (from clayrs) (3.2.2)\n",
            "Collecting colorama~=0.4.4\n",
            "  Downloading colorama-0.4.6-py2.py3-none-any.whl (25 kB)\n",
            "Collecting torch~=1.11.0\n",
            "  Downloading torch-1.11.0-cp37-cp37m-manylinux1_x86_64.whl (750.6 MB)\n",
            "\u001b[K     |████████████████████████████████| 750.6 MB 10 kB/s \n",
            "\u001b[?25hRequirement already satisfied: scikit-learn==1.0.2 in /usr/local/lib/python3.7/dist-packages (from clayrs) (1.0.2)\n",
            "Requirement already satisfied: threadpoolctl>=2.0.0 in /usr/local/lib/python3.7/dist-packages (from scikit-learn==1.0.2->clayrs) (3.1.0)\n",
            "Requirement already satisfied: joblib>=0.11 in /usr/local/lib/python3.7/dist-packages (from scikit-learn==1.0.2->clayrs) (1.2.0)\n",
            "Requirement already satisfied: dill in /usr/local/lib/python3.7/dist-packages (from distex~=0.7.1->clayrs) (0.3.6)\n",
            "Requirement already satisfied: cloudpickle in /usr/local/lib/python3.7/dist-packages (from distex~=0.7.1->clayrs) (1.5.0)\n",
            "Collecting eventkit\n",
            "  Downloading eventkit-1.0.0-py3-none-any.whl (31 kB)\n",
            "Collecting ujson\n",
            "  Downloading ujson-5.5.0-cp37-cp37m-manylinux_2_17_x86_64.manylinux2014_x86_64.whl (45 kB)\n",
            "\u001b[K     |████████████████████████████████| 45 kB 3.6 MB/s \n",
            "\u001b[?25hRequirement already satisfied: termcolor in /usr/local/lib/python3.7/dist-packages (from ekphrasis~=0.5.4->clayrs) (2.1.0)\n",
            "Collecting ftfy\n",
            "  Downloading ftfy-6.1.1-py3-none-any.whl (53 kB)\n",
            "\u001b[K     |████████████████████████████████| 53 kB 1.8 MB/s \n",
            "\u001b[?25hRequirement already satisfied: smart-open>=1.8.1 in /usr/local/lib/python3.7/dist-packages (from gensim~=4.1.2->clayrs) (5.2.1)\n",
            "Requirement already satisfied: kiwisolver>=1.0.1 in /usr/local/lib/python3.7/dist-packages (from matplotlib~=3.2.2->clayrs) (1.4.4)\n",
            "Requirement already satisfied: python-dateutil>=2.1 in /usr/local/lib/python3.7/dist-packages (from matplotlib~=3.2.2->clayrs) (2.8.2)\n",
            "Requirement already satisfied: cycler>=0.10 in /usr/local/lib/python3.7/dist-packages (from matplotlib~=3.2.2->clayrs) (0.11.0)\n",
            "Requirement already satisfied: pyparsing!=2.0.4,!=2.1.2,!=2.1.6,>=2.0.1 in /usr/local/lib/python3.7/dist-packages (from matplotlib~=3.2.2->clayrs) (3.0.9)\n",
            "Requirement already satisfied: typing-extensions in /usr/local/lib/python3.7/dist-packages (from kiwisolver>=1.0.1->matplotlib~=3.2.2->clayrs) (4.1.1)\n",
            "Collecting mysqlclient\n",
            "  Downloading mysqlclient-2.1.1.tar.gz (88 kB)\n",
            "\u001b[K     |████████████████████████████████| 88 kB 7.4 MB/s \n",
            "\u001b[?25hRequirement already satisfied: protobuf<=3.20.1,>=3.11.0 in /usr/local/lib/python3.7/dist-packages (from mysql-connector-python~=8.0.20->clayrs) (3.19.6)\n",
            "Requirement already satisfied: click in /usr/local/lib/python3.7/dist-packages (from nltk~=3.5->clayrs) (7.1.2)\n",
            "Requirement already satisfied: regex>=2021.8.3 in /usr/local/lib/python3.7/dist-packages (from nltk~=3.5->clayrs) (2022.6.2)\n",
            "Requirement already satisfied: pytz>=2017.3 in /usr/local/lib/python3.7/dist-packages (from pandas~=1.2.4->clayrs) (2022.6)\n",
            "Requirement already satisfied: six>=1.5 in /usr/local/lib/python3.7/dist-packages (from python-dateutil>=2.1->matplotlib~=3.2.2->clayrs) (1.15.0)\n",
            "Requirement already satisfied: torchvision in /usr/local/lib/python3.7/dist-packages (from sentence-transformers~=1.2.0->clayrs) (0.13.1+cu113)\n",
            "Collecting sentencepiece\n",
            "  Downloading sentencepiece-0.1.97-cp37-cp37m-manylinux_2_17_x86_64.manylinux2014_x86_64.whl (1.3 MB)\n",
            "\u001b[K     |████████████████████████████████| 1.3 MB 53.6 MB/s \n",
            "\u001b[?25hRequirement already satisfied: setuptools in /usr/local/lib/python3.7/dist-packages (from spacy~=3.2.1->clayrs) (57.4.0)\n",
            "Requirement already satisfied: murmurhash<1.1.0,>=0.28.0 in /usr/local/lib/python3.7/dist-packages (from spacy~=3.2.1->clayrs) (1.0.9)\n",
            "Requirement already satisfied: spacy-loggers<2.0.0,>=1.0.0 in /usr/local/lib/python3.7/dist-packages (from spacy~=3.2.1->clayrs) (1.0.3)\n",
            "Collecting pydantic!=1.8,!=1.8.1,<1.9.0,>=1.7.4\n",
            "  Downloading pydantic-1.8.2-cp37-cp37m-manylinux2014_x86_64.whl (10.1 MB)\n",
            "\u001b[K     |████████████████████████████████| 10.1 MB 40.8 MB/s \n",
            "\u001b[?25hRequirement already satisfied: srsly<3.0.0,>=2.4.1 in /usr/local/lib/python3.7/dist-packages (from spacy~=3.2.1->clayrs) (2.4.5)\n",
            "Requirement already satisfied: jinja2 in /usr/local/lib/python3.7/dist-packages (from spacy~=3.2.1->clayrs) (2.11.3)\n",
            "Requirement already satisfied: wasabi<1.1.0,>=0.8.1 in /usr/local/lib/python3.7/dist-packages (from spacy~=3.2.1->clayrs) (0.10.1)\n",
            "Collecting typer<0.5.0,>=0.3.0\n",
            "  Downloading typer-0.4.2-py3-none-any.whl (27 kB)\n",
            "Requirement already satisfied: pathy>=0.3.5 in /usr/local/lib/python3.7/dist-packages (from spacy~=3.2.1->clayrs) (0.8.1)\n",
            "Requirement already satisfied: cymem<2.1.0,>=2.0.2 in /usr/local/lib/python3.7/dist-packages (from spacy~=3.2.1->clayrs) (2.0.7)\n",
            "Requirement already satisfied: catalogue<2.1.0,>=2.0.6 in /usr/local/lib/python3.7/dist-packages (from spacy~=3.2.1->clayrs) (2.0.8)\n",
            "Requirement already satisfied: spacy-legacy<3.1.0,>=3.0.8 in /usr/local/lib/python3.7/dist-packages (from spacy~=3.2.1->clayrs) (3.0.10)\n",
            "Requirement already satisfied: langcodes<4.0.0,>=3.2.0 in /usr/local/lib/python3.7/dist-packages (from spacy~=3.2.1->clayrs) (3.3.0)\n",
            "Requirement already satisfied: packaging>=20.0 in /usr/local/lib/python3.7/dist-packages (from spacy~=3.2.1->clayrs) (21.3)\n",
            "Collecting thinc<8.1.0,>=8.0.12\n",
            "  Downloading thinc-8.0.17-cp37-cp37m-manylinux_2_17_x86_64.manylinux2014_x86_64.whl (660 kB)\n",
            "\u001b[K     |████████████████████████████████| 660 kB 54.1 MB/s \n",
            "\u001b[?25hCollecting typing-extensions\n",
            "  Downloading typing_extensions-3.10.0.2-py3-none-any.whl (26 kB)\n",
            "Requirement already satisfied: blis<0.8.0,>=0.4.0 in /usr/local/lib/python3.7/dist-packages (from spacy~=3.2.1->clayrs) (0.7.9)\n",
            "Requirement already satisfied: preshed<3.1.0,>=3.0.2 in /usr/local/lib/python3.7/dist-packages (from spacy~=3.2.1->clayrs) (3.0.8)\n",
            "Requirement already satisfied: requests<3.0.0,>=2.13.0 in /usr/local/lib/python3.7/dist-packages (from spacy~=3.2.1->clayrs) (2.23.0)\n",
            "Requirement already satisfied: zipp>=0.5 in /usr/local/lib/python3.7/dist-packages (from catalogue<2.1.0,>=2.0.6->spacy~=3.2.1->clayrs) (3.10.0)\n",
            "Requirement already satisfied: chardet<4,>=3.0.2 in /usr/local/lib/python3.7/dist-packages (from requests<3.0.0,>=2.13.0->spacy~=3.2.1->clayrs) (3.0.4)\n",
            "Requirement already satisfied: urllib3!=1.25.0,!=1.25.1,<1.26,>=1.21.1 in /usr/local/lib/python3.7/dist-packages (from requests<3.0.0,>=2.13.0->spacy~=3.2.1->clayrs) (1.24.3)\n",
            "Requirement already satisfied: certifi>=2017.4.17 in /usr/local/lib/python3.7/dist-packages (from requests<3.0.0,>=2.13.0->spacy~=3.2.1->clayrs) (2022.9.24)\n",
            "Requirement already satisfied: idna<3,>=2.5 in /usr/local/lib/python3.7/dist-packages (from requests<3.0.0,>=2.13.0->spacy~=3.2.1->clayrs) (2.10)\n",
            "Collecting rdflib>=4.0\n",
            "  Downloading rdflib-6.2.0-py3-none-any.whl (500 kB)\n",
            "\u001b[K     |████████████████████████████████| 500 kB 40.2 MB/s \n",
            "\u001b[?25hCollecting isodate\n",
            "  Downloading isodate-0.6.1-py2.py3-none-any.whl (41 kB)\n",
            "\u001b[K     |████████████████████████████████| 41 kB 591 kB/s \n",
            "\u001b[?25hRequirement already satisfied: importlib-metadata in /usr/local/lib/python3.7/dist-packages (from rdflib>=4.0->SPARQLWrapper~=1.8.5->clayrs) (4.13.0)\n",
            "Collecting huggingface-hub<1.0,>=0.1.0\n",
            "  Downloading huggingface_hub-0.11.0-py3-none-any.whl (182 kB)\n",
            "\u001b[K     |████████████████████████████████| 182 kB 69.1 MB/s \n",
            "\u001b[?25hCollecting tokenizers<0.11,>=0.10.1\n",
            "  Downloading tokenizers-0.10.3-cp37-cp37m-manylinux_2_5_x86_64.manylinux1_x86_64.manylinux_2_12_x86_64.manylinux2010_x86_64.whl (3.3 MB)\n",
            "\u001b[K     |████████████████████████████████| 3.3 MB 49.6 MB/s \n",
            "\u001b[?25hCollecting sacremoses\n",
            "  Downloading sacremoses-0.0.53.tar.gz (880 kB)\n",
            "\u001b[K     |████████████████████████████████| 880 kB 58.0 MB/s \n",
            "\u001b[?25hRequirement already satisfied: filelock in /usr/local/lib/python3.7/dist-packages (from transformers~=4.15.0->clayrs) (3.8.0)\n",
            "Requirement already satisfied: wcwidth>=0.2.5 in /usr/local/lib/python3.7/dist-packages (from ftfy->ekphrasis~=0.5.4->clayrs) (0.2.5)\n",
            "Requirement already satisfied: MarkupSafe>=0.23 in /usr/local/lib/python3.7/dist-packages (from jinja2->spacy~=3.2.1->clayrs) (2.0.1)\n",
            "Collecting torchvision\n",
            "  Downloading torchvision-0.14.0-cp37-cp37m-manylinux1_x86_64.whl (24.3 MB)\n",
            "\u001b[K     |████████████████████████████████| 24.3 MB 1.4 MB/s \n",
            "\u001b[?25h  Downloading torchvision-0.13.1-cp37-cp37m-manylinux1_x86_64.whl (19.1 MB)\n",
            "\u001b[K     |████████████████████████████████| 19.1 MB 782 kB/s \n",
            "\u001b[?25h  Downloading torchvision-0.13.0-cp37-cp37m-manylinux1_x86_64.whl (19.1 MB)\n",
            "\u001b[K     |████████████████████████████████| 19.1 MB 366 kB/s \n",
            "\u001b[?25hRequirement already satisfied: pillow!=8.3.*,>=5.3.0 in /usr/local/lib/python3.7/dist-packages (from torchvision->sentence-transformers~=1.2.0->clayrs) (7.1.2)\n",
            "  Downloading torchvision-0.12.0-cp37-cp37m-manylinux1_x86_64.whl (21.0 MB)\n",
            "\u001b[K     |████████████████████████████████| 21.0 MB 1.3 MB/s \n",
            "\u001b[?25hBuilding wheels for collected packages: clayrs, babelpy, wn, PyYAML, sentence-transformers, mysqlclient, sacremoses\n",
            "  Building wheel for clayrs (PEP 517) ... \u001b[?25l\u001b[?25hdone\n",
            "  Created wheel for clayrs: filename=clayrs-0.3.1-py3-none-any.whl size=314514 sha256=afaf89b2825c6663f3aa2be5e260c4eeb4a35f10586b74961434bfb9ce8fd1a6\n",
            "  Stored in directory: /root/.cache/pip/wheels/17/92/19/da634f9dc2cfa088b077e1ff12f4909ebf1e3cb4553c3ca4d7\n",
            "  Building wheel for babelpy (setup.py) ... \u001b[?25l\u001b[?25hdone\n",
            "  Created wheel for babelpy: filename=BabelPy-1.0.1-py3-none-any.whl size=9723 sha256=5f644589b5ca819feaaa6664152cf08f1700cc06bebf769b84f1f6cafcd1d160\n",
            "  Stored in directory: /root/.cache/pip/wheels/e4/28/f6/693a53d3dc6bf14eed8a13fdfba08737edc3bc03a5133e4a14\n",
            "  Building wheel for wn (setup.py) ... \u001b[?25l\u001b[?25hdone\n",
            "  Created wheel for wn: filename=wn-0.0.23-py3-none-any.whl size=31792926 sha256=a80f5c8bb2533286bd8455472290f277795344c32250b88e918e542df443ce45\n",
            "  Stored in directory: /root/.cache/pip/wheels/ec/47/17/409766c99dd470f34c512000b90b83f34747c2c975769654d7\n",
            "  Building wheel for PyYAML (setup.py) ... \u001b[?25l\u001b[?25hdone\n",
            "  Created wheel for PyYAML: filename=PyYAML-5.3.1-cp37-cp37m-linux_x86_64.whl size=44636 sha256=eed2f9b042ca8cf14f994fd61585d81f5e8d8850143c872679c21d4a31c29b86\n",
            "  Stored in directory: /root/.cache/pip/wheels/5e/03/1e/e1e954795d6f35dfc7b637fe2277bff021303bd9570ecea653\n",
            "  Building wheel for sentence-transformers (setup.py) ... \u001b[?25l\u001b[?25hdone\n",
            "  Created wheel for sentence-transformers: filename=sentence_transformers-1.2.1-py3-none-any.whl size=123300 sha256=db762c6d59832f043ed125aa978d20ff70fc0110d94e32110931e3394d06ee7b\n",
            "  Stored in directory: /root/.cache/pip/wheels/53/f2/3a/b9159c4e43a6a4aa2751421ff5dfe69231fbcc91f7efbc4d2f\n",
            "  Building wheel for mysqlclient (setup.py) ... \u001b[?25l\u001b[?25hdone\n",
            "  Created wheel for mysqlclient: filename=mysqlclient-2.1.1-cp37-cp37m-linux_x86_64.whl size=99994 sha256=d2b0c63af518f68fb6b4d847b972c448f5b96170b7f98f2e62b6e0abcd692383\n",
            "  Stored in directory: /root/.cache/pip/wheels/95/2d/67/2cb3f82e435fc8e055cb2761a15a0812bf086068f6fb835462\n",
            "  Building wheel for sacremoses (setup.py) ... \u001b[?25l\u001b[?25hdone\n",
            "  Created wheel for sacremoses: filename=sacremoses-0.0.53-py3-none-any.whl size=895260 sha256=ac9edd54ca9ffeb92258d8def4aae6eaed50cba4991622569d3827fe9f295a99\n",
            "  Stored in directory: /root/.cache/pip/wheels/87/39/dd/a83eeef36d0bf98e7a4d1933a4ad2d660295a40613079bafc9\n",
            "Successfully built clayrs babelpy wn PyYAML sentence-transformers mysqlclient sacremoses\n",
            "Installing collected packages: typing-extensions, tqdm, PyYAML, typer, torch, tokenizers, sacremoses, pydantic, isodate, huggingface-hub, wn, ujson, transformers, torchvision, thinc, sentencepiece, rdflib, pandas, mysqlclient, ftfy, eventkit, colorama, whoosh, SPARQLWrapper, spacy, sentence-transformers, pywsd, pyaml, nest-asyncio, mysql-connector-python, mysql, gensim, ekphrasis, distex, babelpy, clayrs\n",
            "  Attempting uninstall: typing-extensions\n",
            "    Found existing installation: typing-extensions 4.1.1\n",
            "    Uninstalling typing-extensions-4.1.1:\n",
            "      Successfully uninstalled typing-extensions-4.1.1\n",
            "  Attempting uninstall: tqdm\n",
            "    Found existing installation: tqdm 4.64.1\n",
            "    Uninstalling tqdm-4.64.1:\n",
            "      Successfully uninstalled tqdm-4.64.1\n",
            "  Attempting uninstall: PyYAML\n",
            "    Found existing installation: PyYAML 6.0\n",
            "    Uninstalling PyYAML-6.0:\n",
            "      Successfully uninstalled PyYAML-6.0\n",
            "  Attempting uninstall: typer\n",
            "    Found existing installation: typer 0.7.0\n",
            "    Uninstalling typer-0.7.0:\n",
            "      Successfully uninstalled typer-0.7.0\n",
            "  Attempting uninstall: torch\n",
            "    Found existing installation: torch 1.12.1+cu113\n",
            "    Uninstalling torch-1.12.1+cu113:\n",
            "      Successfully uninstalled torch-1.12.1+cu113\n",
            "  Attempting uninstall: pydantic\n",
            "    Found existing installation: pydantic 1.10.2\n",
            "    Uninstalling pydantic-1.10.2:\n",
            "      Successfully uninstalled pydantic-1.10.2\n",
            "  Attempting uninstall: torchvision\n",
            "    Found existing installation: torchvision 0.13.1+cu113\n",
            "    Uninstalling torchvision-0.13.1+cu113:\n",
            "      Successfully uninstalled torchvision-0.13.1+cu113\n",
            "  Attempting uninstall: thinc\n",
            "    Found existing installation: thinc 8.1.5\n",
            "    Uninstalling thinc-8.1.5:\n",
            "      Successfully uninstalled thinc-8.1.5\n",
            "  Attempting uninstall: pandas\n",
            "    Found existing installation: pandas 1.3.5\n",
            "    Uninstalling pandas-1.3.5:\n",
            "      Successfully uninstalled pandas-1.3.5\n",
            "  Attempting uninstall: spacy\n",
            "    Found existing installation: spacy 3.4.3\n",
            "    Uninstalling spacy-3.4.3:\n",
            "      Successfully uninstalled spacy-3.4.3\n",
            "  Attempting uninstall: gensim\n",
            "    Found existing installation: gensim 3.6.0\n",
            "    Uninstalling gensim-3.6.0:\n",
            "      Successfully uninstalled gensim-3.6.0\n",
            "\u001b[31mERROR: pip's dependency resolver does not currently take into account all the packages that are installed. This behaviour is the source of the following dependency conflicts.\n",
            "torchtext 0.13.1 requires torch==1.12.1, but you have torch 1.11.0 which is incompatible.\n",
            "torchaudio 0.12.1+cu113 requires torch==1.12.1, but you have torch 1.11.0 which is incompatible.\n",
            "en-core-web-sm 3.4.1 requires spacy<3.5.0,>=3.4.0, but you have spacy 3.2.4 which is incompatible.\u001b[0m\n",
            "Successfully installed PyYAML-5.3.1 SPARQLWrapper-1.8.5 babelpy-1.0.1 clayrs-0.3.1 colorama-0.4.6 distex-0.7.2 ekphrasis-0.5.4 eventkit-1.0.0 ftfy-6.1.1 gensim-4.1.2 huggingface-hub-0.11.0 isodate-0.6.1 mysql-0.0.3 mysql-connector-python-8.0.31 mysqlclient-2.1.1 nest-asyncio-1.5.6 pandas-1.2.5 pyaml-21.10.1 pydantic-1.8.2 pywsd-1.2.5 rdflib-6.2.0 sacremoses-0.0.53 sentence-transformers-1.2.1 sentencepiece-0.1.97 spacy-3.2.4 thinc-8.0.17 tokenizers-0.10.3 torch-1.11.0 torchvision-0.12.0 tqdm-4.62.3 transformers-4.15.0 typer-0.4.2 typing-extensions-3.10.0.2 ujson-5.5.0 whoosh-2.7.4 wn-0.0.23\n"
          ]
        },
        {
          "output_type": "display_data",
          "data": {
            "application/vnd.colab-display-data+json": {
              "pip_warning": {
                "packages": [
                  "typing_extensions"
                ]
              }
            }
          },
          "metadata": {}
        }
      ],
      "source": [
        "!pip install clayrs"
      ]
    },
    {
      "cell_type": "markdown",
      "metadata": {
        "id": "G1MOZctwVyW5"
      },
      "source": [
        "# **! RESTART RUNTIME !**"
      ]
    },
    {
      "cell_type": "markdown",
      "metadata": {
        "id": "VTZB50Y3rN-8"
      },
      "source": [
        "# Correct order log and prints for IPython\n",
        "This is necessary only for IPython environments (Colab, Jupyter, etc.), since they mess up the order of  ```print``` and ```logging```\n",
        "\n",
        "```python\n",
        "# EXAMPLE of the issue\n",
        "import logging\n",
        "print(\"Should go first\")\n",
        "logging.warning(\"Should go second\")\n",
        "\n",
        "WARNING:root:Should go second\n",
        "Should go first\n",
        "```"
      ]
    },
    {
      "cell_type": "code",
      "execution_count": 1,
      "metadata": {
        "id": "GOTUezxnqzn7"
      },
      "outputs": [],
      "source": [
        "import functools\n",
        "print = functools.partial(print, flush=True)"
      ]
    },
    {
      "cell_type": "markdown",
      "metadata": {
        "id": "uVKotTbvf_rC"
      },
      "source": [
        "# Import and datasets download\n",
        "\n",
        "The framework is made of three modules:\n",
        "> 1.   Content Analyzer\n",
        "> 2.   Recommender System\n",
        "> 3.   Evaluation\n",
        "\n",
        "We import every module as a library and use classes and methods by using the dot notation:"
      ]
    },
    {
      "cell_type": "code",
      "execution_count": 2,
      "metadata": {
        "id": "SctkIBio9dhe"
      },
      "outputs": [],
      "source": [
        "from clayrs import content_analyzer as ca\n",
        "from clayrs import recsys as rs\n",
        "from clayrs import evaluation as eva\n",
        "\n",
        "# Usage:\n",
        "# ...\n",
        "# ca.Ratings()\n",
        "# rs.ContentBasedRS()\n",
        "# eva.EvalModel()\n",
        "# ..."
      ]
    },
    {
      "cell_type": "markdown",
      "metadata": {
        "id": "zYjcSfTtCXEw"
      },
      "source": [
        "We use **Movielens 100k** as dataset, with items info expanded thanks to imdb\n",
        "\n",
        "***POSSIBLE TO DO***: custom class with several built-in toy datasets?"
      ]
    },
    {
      "cell_type": "code",
      "execution_count": 3,
      "metadata": {
        "colab": {
          "base_uri": "https://localhost:8080/"
        },
        "id": "HwEnaPj4pvCS",
        "outputId": "4713f49e-4db8-4840-fb00-976466d85497"
      },
      "outputs": [
        {
          "output_type": "stream",
          "name": "stdout",
          "text": [
            "Downloaded items_info.json!\n",
            "Downloaded users_info.csv!\n",
            "Downloaded ratings.csv!\n"
          ]
        }
      ],
      "source": [
        "import requests\n",
        "\n",
        "def dl_file(url, output):\n",
        "    r = requests.get(url, allow_redirects=True)\n",
        "    with open(output, \"wb\") as handler:\n",
        "        handler.write(r.content)\n",
        "\n",
        "    print(f\"Downloaded {output}!\")\n",
        "\n",
        "# Dataset: Movielens-100k\n",
        "\n",
        "# download items_info\n",
        "url_items_info = \"https://raw.githubusercontent.com/swapUniba/clayrs/master/datasets/ml-100k/items_info.json\"\n",
        "dl_file(url_items_info, \"items_info.json\")\n",
        "\n",
        "# download users_info\n",
        "url_users_info = \"https://raw.githubusercontent.com/swapUniba/clayrs/master/datasets/ml-100k/users_info.csv\"\n",
        "dl_file(url_users_info, \"users_info.csv\")\n",
        "\n",
        "# download ratings\n",
        "url_ratings = \"https://raw.githubusercontent.com/swapUniba/clayrs/master/datasets/ml-100k/ratings.csv\"\n",
        "dl_file(url_ratings, \"ratings.csv\")"
      ]
    },
    {
      "cell_type": "markdown",
      "metadata": {
        "id": "EBOImtHzxTlQ"
      },
      "source": [
        "### Check items file\n",
        "In this example, the file containing items info is a JSON where every entry corresponds to a movie.\n",
        "\n",
        "For every movie there are various information, such as *genres, directors, cast, etc.*"
      ]
    },
    {
      "cell_type": "code",
      "execution_count": 4,
      "metadata": {
        "colab": {
          "base_uri": "https://localhost:8080/"
        },
        "id": "eAMUA6B6wSje",
        "outputId": "e953ae71-de4c-4145-b2ef-d7ecc49efa6a"
      },
      "outputs": [
        {
          "output_type": "stream",
          "name": "stdout",
          "text": [
            "[\n",
            "    {\n",
            "        \"movielens_id\": \"1\",\n",
            "        \"imdb_id\": \"0114709\",\n",
            "        \"title\": \"Toy Story\",\n",
            "        \"plot\": \"A cowboy doll is profoundly threatened and jealous when a new spaceman figure supplants him as top toy in a boy's room.\",\n",
            "        \"genres\": \"Animation, Adventure, Comedy, Family, Fantasy\",\n",
            "        \"year\": \"1995\",\n",
            "        \"rating\": \"8.3\",\n",
            "        \"directors\": \"John Lasseter\",\n",
            "        \"cast\": \"Tom Hanks, Tim Allen, Don Rickles, Jim Varney, Wallace Shawn, John Ratzenberger, Annie Potts, John Morris, Erik von Detten, Laurie Metcalf, R. Lee Ermey, Sarah Rayne, Penn Jillette, Jack Angel, Spencer Aste, Greg Berg, Lisa Bradley, Kendall Cunningham, Debi Derryberry, Cody Dorkin, Bill Farmer, Craig Good, Gregory Grudt, Danielle Judovits, Sam Lasseter, Brittany Levenbrown, Sherry Lynn, Scott McAfee, Mickie McGowan, Ryan O'Donohue, Jeff Pidgeon, Patrick Pinney, Phil Proctor, Jan Rabson, Joe Ranft, Andrew Stanton, Shane Sweet, Wayne Allwine, Tony Anselmo, Jonathan Benair, Anthony Burch, John Lasseter, Billy West\",\n",
            "        \"dbpedia_uri\": \"http://dbpedia.org/resource/Toy_Story\",\n",
            "        \"dbpedia_label\": \"Toy Story\"\n",
            "    },\n",
            "    {\n",
            "        \"movielens_id\": \"2\",\n",
            "        \"imdb_id\": \"0113189\",\n",
            "        \"title\": \"GoldenEye\",\n",
            "        \"plot\": \"Years after a friend and fellow 00 agent is killed on a joint mission, a secret space based weapons program known as \\\"_GoldenEye_ (qv)\\\" is stolen. James Bond sets out to stop a Russian crime syndicate from using the weapon.\",\n",
            "        \"genres\": \"Action, Adventure, Thriller\",\n",
            "        \"year\": \"1995\",\n",
            "        \"rating\": \"7.2\",\n",
            "        \"directors\": \"Martin Campbell\",\n",
            "        \"cast\": \"Pierce Brosnan, Sean Bean, Izabella Scorupco, Famke Janssen, Joe Don Baker, Judi Dench, Robbie Coltrane, Tchéky Karyo, Gottfried John, Alan Cumming, Desmond Llewelyn, Samantha Bond, Michael Kitchen, Serena Gordon, Simon Kunz, Pavel Douglas, Olivier Lajous, Billy J. Mitchell, Constantine Gregory, Minnie Driver, Michelle Arthur, Ravil Isyanov, Vladimir Milanovich, Trevor Byfield, Peter Majer, Paul Bannon, Simone Bechtel, Martin Campbell, Mark Chapman, Kenneth Coombs, Simon Crane, Terrance Denville, Ian Durrant, Max Faulkner, Juliet Forester, Stefan Kopiecki, Jo Anna Lee, Derek Lyons, Wayne Michaels, Bhasker Patel, Paul Sacks, Michael G. Wilson\",\n",
            "        \"dbpedia_uri\": \"http://dbpedia.org/resource/GoldenEye\",\n"
          ]
        }
      ],
      "source": [
        "with open(\"items_info.json\", \"r\") as f:\n",
        "  # 25 lines but in these 25 lines there are only 2 entries:\n",
        "  # 'Toy Story', and 'Golden Eye'\n",
        "  for _ in range(25):\n",
        "    print(f.readline(), end='')\n"
      ]
    },
    {
      "cell_type": "markdown",
      "metadata": {
        "id": "NrGycV8NxkwF"
      },
      "source": [
        "### Check users file\n",
        "In this example, the file containing users info is a CSV file where the first column is the *user id*, while the other columns are side information for that user (*gender, occupation, zip code*)"
      ]
    },
    {
      "cell_type": "code",
      "execution_count": 5,
      "metadata": {
        "colab": {
          "base_uri": "https://localhost:8080/"
        },
        "id": "vUKLNAnMxEnh",
        "outputId": "df5eb44b-e89c-4c05-813c-651a25a0de0f"
      },
      "outputs": [
        {
          "output_type": "stream",
          "name": "stdout",
          "text": [
            "user_id,age,gender,occupation,zip_code\n",
            "1,24,M,technician,85711\n",
            "2,53,F,other,94043\n"
          ]
        }
      ],
      "source": [
        "with open(\"users_info.csv\", \"r\") as f:\n",
        "\n",
        "  # print the header and the first 2 entries\n",
        "  for _ in range(3):\n",
        "    print(f.readline(), end='')"
      ]
    },
    {
      "cell_type": "markdown",
      "metadata": {
        "id": "dteEOqLxkDGR"
      },
      "source": [
        "<a name=\"cell-id\"></a>\n",
        "### Check ratings\n",
        "In this example, the file containing the interactions between the users and the movies is a CSV, where every interaction is a rating in the **[1, 5]** Likert scale"
      ]
    },
    {
      "cell_type": "code",
      "execution_count": 6,
      "metadata": {
        "colab": {
          "base_uri": "https://localhost:8080/",
          "height": 424
        },
        "id": "Q3FvQsaIkbtz",
        "outputId": "5ade1fea-87c4-4efb-fa00-f011ca3bfb90"
      },
      "outputs": [
        {
          "output_type": "execute_result",
          "data": {
            "text/plain": [
              "       user_id  item_id  rating  timestamp\n",
              "0          196      242       3  881250949\n",
              "1          186      302       3  891717742\n",
              "2           22      377       1  878887116\n",
              "3          244       51       2  880606923\n",
              "4          166      346       1  886397596\n",
              "...        ...      ...     ...        ...\n",
              "99995      880      476       3  880175444\n",
              "99996      716      204       5  879795543\n",
              "99997      276     1090       1  874795795\n",
              "99998       13      225       2  882399156\n",
              "99999       12      203       3  879959583\n",
              "\n",
              "[100000 rows x 4 columns]"
            ],
            "text/html": [
              "\n",
              "  <div id=\"df-42b10136-4b39-46a9-b092-20e0e5b0b205\">\n",
              "    <div class=\"colab-df-container\">\n",
              "      <div>\n",
              "<style scoped>\n",
              "    .dataframe tbody tr th:only-of-type {\n",
              "        vertical-align: middle;\n",
              "    }\n",
              "\n",
              "    .dataframe tbody tr th {\n",
              "        vertical-align: top;\n",
              "    }\n",
              "\n",
              "    .dataframe thead th {\n",
              "        text-align: right;\n",
              "    }\n",
              "</style>\n",
              "<table border=\"1\" class=\"dataframe\">\n",
              "  <thead>\n",
              "    <tr style=\"text-align: right;\">\n",
              "      <th></th>\n",
              "      <th>user_id</th>\n",
              "      <th>item_id</th>\n",
              "      <th>rating</th>\n",
              "      <th>timestamp</th>\n",
              "    </tr>\n",
              "  </thead>\n",
              "  <tbody>\n",
              "    <tr>\n",
              "      <th>0</th>\n",
              "      <td>196</td>\n",
              "      <td>242</td>\n",
              "      <td>3</td>\n",
              "      <td>881250949</td>\n",
              "    </tr>\n",
              "    <tr>\n",
              "      <th>1</th>\n",
              "      <td>186</td>\n",
              "      <td>302</td>\n",
              "      <td>3</td>\n",
              "      <td>891717742</td>\n",
              "    </tr>\n",
              "    <tr>\n",
              "      <th>2</th>\n",
              "      <td>22</td>\n",
              "      <td>377</td>\n",
              "      <td>1</td>\n",
              "      <td>878887116</td>\n",
              "    </tr>\n",
              "    <tr>\n",
              "      <th>3</th>\n",
              "      <td>244</td>\n",
              "      <td>51</td>\n",
              "      <td>2</td>\n",
              "      <td>880606923</td>\n",
              "    </tr>\n",
              "    <tr>\n",
              "      <th>4</th>\n",
              "      <td>166</td>\n",
              "      <td>346</td>\n",
              "      <td>1</td>\n",
              "      <td>886397596</td>\n",
              "    </tr>\n",
              "    <tr>\n",
              "      <th>...</th>\n",
              "      <td>...</td>\n",
              "      <td>...</td>\n",
              "      <td>...</td>\n",
              "      <td>...</td>\n",
              "    </tr>\n",
              "    <tr>\n",
              "      <th>99995</th>\n",
              "      <td>880</td>\n",
              "      <td>476</td>\n",
              "      <td>3</td>\n",
              "      <td>880175444</td>\n",
              "    </tr>\n",
              "    <tr>\n",
              "      <th>99996</th>\n",
              "      <td>716</td>\n",
              "      <td>204</td>\n",
              "      <td>5</td>\n",
              "      <td>879795543</td>\n",
              "    </tr>\n",
              "    <tr>\n",
              "      <th>99997</th>\n",
              "      <td>276</td>\n",
              "      <td>1090</td>\n",
              "      <td>1</td>\n",
              "      <td>874795795</td>\n",
              "    </tr>\n",
              "    <tr>\n",
              "      <th>99998</th>\n",
              "      <td>13</td>\n",
              "      <td>225</td>\n",
              "      <td>2</td>\n",
              "      <td>882399156</td>\n",
              "    </tr>\n",
              "    <tr>\n",
              "      <th>99999</th>\n",
              "      <td>12</td>\n",
              "      <td>203</td>\n",
              "      <td>3</td>\n",
              "      <td>879959583</td>\n",
              "    </tr>\n",
              "  </tbody>\n",
              "</table>\n",
              "<p>100000 rows × 4 columns</p>\n",
              "</div>\n",
              "      <button class=\"colab-df-convert\" onclick=\"convertToInteractive('df-42b10136-4b39-46a9-b092-20e0e5b0b205')\"\n",
              "              title=\"Convert this dataframe to an interactive table.\"\n",
              "              style=\"display:none;\">\n",
              "        \n",
              "  <svg xmlns=\"http://www.w3.org/2000/svg\" height=\"24px\"viewBox=\"0 0 24 24\"\n",
              "       width=\"24px\">\n",
              "    <path d=\"M0 0h24v24H0V0z\" fill=\"none\"/>\n",
              "    <path d=\"M18.56 5.44l.94 2.06.94-2.06 2.06-.94-2.06-.94-.94-2.06-.94 2.06-2.06.94zm-11 1L8.5 8.5l.94-2.06 2.06-.94-2.06-.94L8.5 2.5l-.94 2.06-2.06.94zm10 10l.94 2.06.94-2.06 2.06-.94-2.06-.94-.94-2.06-.94 2.06-2.06.94z\"/><path d=\"M17.41 7.96l-1.37-1.37c-.4-.4-.92-.59-1.43-.59-.52 0-1.04.2-1.43.59L10.3 9.45l-7.72 7.72c-.78.78-.78 2.05 0 2.83L4 21.41c.39.39.9.59 1.41.59.51 0 1.02-.2 1.41-.59l7.78-7.78 2.81-2.81c.8-.78.8-2.07 0-2.86zM5.41 20L4 18.59l7.72-7.72 1.47 1.35L5.41 20z\"/>\n",
              "  </svg>\n",
              "      </button>\n",
              "      \n",
              "  <style>\n",
              "    .colab-df-container {\n",
              "      display:flex;\n",
              "      flex-wrap:wrap;\n",
              "      gap: 12px;\n",
              "    }\n",
              "\n",
              "    .colab-df-convert {\n",
              "      background-color: #E8F0FE;\n",
              "      border: none;\n",
              "      border-radius: 50%;\n",
              "      cursor: pointer;\n",
              "      display: none;\n",
              "      fill: #1967D2;\n",
              "      height: 32px;\n",
              "      padding: 0 0 0 0;\n",
              "      width: 32px;\n",
              "    }\n",
              "\n",
              "    .colab-df-convert:hover {\n",
              "      background-color: #E2EBFA;\n",
              "      box-shadow: 0px 1px 2px rgba(60, 64, 67, 0.3), 0px 1px 3px 1px rgba(60, 64, 67, 0.15);\n",
              "      fill: #174EA6;\n",
              "    }\n",
              "\n",
              "    [theme=dark] .colab-df-convert {\n",
              "      background-color: #3B4455;\n",
              "      fill: #D2E3FC;\n",
              "    }\n",
              "\n",
              "    [theme=dark] .colab-df-convert:hover {\n",
              "      background-color: #434B5C;\n",
              "      box-shadow: 0px 1px 3px 1px rgba(0, 0, 0, 0.15);\n",
              "      filter: drop-shadow(0px 1px 2px rgba(0, 0, 0, 0.3));\n",
              "      fill: #FFFFFF;\n",
              "    }\n",
              "  </style>\n",
              "\n",
              "      <script>\n",
              "        const buttonEl =\n",
              "          document.querySelector('#df-42b10136-4b39-46a9-b092-20e0e5b0b205 button.colab-df-convert');\n",
              "        buttonEl.style.display =\n",
              "          google.colab.kernel.accessAllowed ? 'block' : 'none';\n",
              "\n",
              "        async function convertToInteractive(key) {\n",
              "          const element = document.querySelector('#df-42b10136-4b39-46a9-b092-20e0e5b0b205');\n",
              "          const dataTable =\n",
              "            await google.colab.kernel.invokeFunction('convertToInteractive',\n",
              "                                                     [key], {});\n",
              "          if (!dataTable) return;\n",
              "\n",
              "          const docLinkHtml = 'Like what you see? Visit the ' +\n",
              "            '<a target=\"_blank\" href=https://colab.research.google.com/notebooks/data_table.ipynb>data table notebook</a>'\n",
              "            + ' to learn more about interactive tables.';\n",
              "          element.innerHTML = '';\n",
              "          dataTable['output_type'] = 'display_data';\n",
              "          await google.colab.output.renderOutput(dataTable, element);\n",
              "          const docLink = document.createElement('div');\n",
              "          docLink.innerHTML = docLinkHtml;\n",
              "          element.appendChild(docLink);\n",
              "        }\n",
              "      </script>\n",
              "    </div>\n",
              "  </div>\n",
              "  "
            ]
          },
          "metadata": {},
          "execution_count": 6
        }
      ],
      "source": [
        "import pandas as pd\n",
        "\n",
        "pd.read_csv('ratings.csv')"
      ]
    },
    {
      "cell_type": "markdown",
      "metadata": {
        "id": "ilGpvNnPgHay"
      },
      "source": [
        "# Content Analyzer: representation of Items\n",
        "In order to define the *item representation*, the following parameters should be defined:\n",
        "*   ***source***: the path of the file containing items info\n",
        "*   ***id***: the field that uniquely identifies an item\n",
        "*   ***output_directory***: the path where serialized representations are saved\n",
        "\n"
      ]
    },
    {
      "cell_type": "code",
      "execution_count": 7,
      "metadata": {
        "id": "gORk6J3wqJGB"
      },
      "outputs": [],
      "source": [
        "# Configuration of item representation \n",
        "movies_ca_config = ca.ItemAnalyzerConfig(\n",
        "    source=ca.JSONFile('items_info.json'),\n",
        "    id='movielens_id',\n",
        "    output_directory='movies_codified/',\n",
        ")"
      ]
    },
    {
      "cell_type": "markdown",
      "metadata": {
        "id": "YfnkSpfTjuDq"
      },
      "source": [
        "<a name=\"ca_id\"></a>\n",
        "Each item can be represented using a set of fields.\n",
        "Every field can be **represented** using several techniques, such as *'tfidf'*, *'entity linking'*, *'embeddings'*, etc.\n",
        "\n",
        "It is possible to process the content of each field using a **Natural Language Processing (NLP) pipeline**.  \n",
        "It is also possible to assign a **custom id** for each generated representation, in order to allow a simpler reference in the recommendation phase. Both NLP pipeline and custom id are optional parameters.\n",
        "\n",
        "> In the following example, we process: \n",
        "1. the *'plot'* field by performing **lemmatization** and **stopwords removal**, and we represent it using **tfidf**;"
      ]
    },
    {
      "cell_type": "code",
      "execution_count": 8,
      "metadata": {
        "colab": {
          "base_uri": "https://localhost:8080/"
        },
        "id": "YA8GfrkrqJ4S",
        "outputId": "bd3c2799-19b7-4c04-87d0-7ffde498f2eb"
      },
      "outputs": [
        {
          "output_type": "stream",
          "name": "stderr",
          "text": [
            "[nltk_data] Downloading package stopwords to /root/nltk_data...\n",
            "[nltk_data]   Unzipping corpora/stopwords.zip.\n",
            "[nltk_data] Downloading package punkt to /root/nltk_data...\n",
            "[nltk_data]   Unzipping tokenizers/punkt.zip.\n",
            "[nltk_data] Downloading package averaged_perceptron_tagger to\n",
            "[nltk_data]     /root/nltk_data...\n",
            "[nltk_data]   Unzipping taggers/averaged_perceptron_tagger.zip.\n",
            "[nltk_data] Downloading package wordnet to /root/nltk_data...\n",
            "[nltk_data] Downloading package maxent_ne_chunker to\n",
            "[nltk_data]     /root/nltk_data...\n",
            "[nltk_data]   Unzipping chunkers/maxent_ne_chunker.zip.\n",
            "[nltk_data] Downloading package words to /root/nltk_data...\n",
            "[nltk_data]   Unzipping corpora/words.zip.\n",
            "[nltk_data] Downloading package omw-1.4 to /root/nltk_data...\n"
          ]
        }
      ],
      "source": [
        "movies_ca_config.add_single_config(\n",
        "    'plot',\n",
        "    ca.FieldConfig(ca.SkLearnTfIdf(),\n",
        "                   preprocessing=ca.NLTK(stopwords_removal=True, lemmatization=True),\n",
        "                   id='tfidf')  # Custom id\n",
        ")"
      ]
    },
    {
      "cell_type": "markdown",
      "metadata": {
        "id": "0e24qhQVkXIc"
      },
      "source": [
        "At the end of the configuration step, we provide the configuration to the *'Content Analyzer'* and call the `fit()` method:\n",
        "\n",
        "*   The Content Analyzer will **represent** and **serialize** every item.\n",
        "\n"
      ]
    },
    {
      "cell_type": "code",
      "execution_count": 9,
      "metadata": {
        "colab": {
          "base_uri": "https://localhost:8080/"
        },
        "id": "yXU-Vuw2twuN",
        "outputId": "91549edc-1e7f-441e-d0b6-22e026d64915"
      },
      "outputs": [
        {
          "output_type": "stream",
          "name": "stderr",
          "text": [
            "\u001b[39mINFO\u001b[0m - ***********   Processing field: plot   ***********\n",
            "\u001b[39mINFO\u001b[0m - Computing tf-idf with SkLearnTfIdf\n",
            "Serializing contents:  100%|██████████| 1682/1682 [00:17<00:00]\n"
          ]
        }
      ],
      "source": [
        "ca.ContentAnalyzer(config=movies_ca_config).fit()"
      ]
    },
    {
      "cell_type": "markdown",
      "metadata": {
        "id": "Xi3cZPkST64O"
      },
      "source": [
        "Let's load one of the processed items to see the output of the Content Analyzer!"
      ]
    },
    {
      "cell_type": "code",
      "execution_count": 10,
      "metadata": {
        "colab": {
          "base_uri": "https://localhost:8080/"
        },
        "id": "DLeibzeAT64O",
        "outputId": "d8220faa-c60c-49c2-d858-e67ac749cdca"
      },
      "outputs": [
        {
          "output_type": "stream",
          "name": "stdout",
          "text": [
            "Content: 1\n",
            "\n",
            "Exogenous representations:\n",
            "\n",
            "No representation found for the Content!\n",
            "\n",
            "\n",
            "Field: plot \n",
            "                                                            representation\n",
            "internal_id external_id                                                   \n",
            "0           tfidf          (0, 1024)\\t0.1719365702112526\\n  (0, 1729)\\t...\n",
            "\n",
            "##############################\n"
          ]
        }
      ],
      "source": [
        "from clayrs.utils import load_content_instance\n",
        "\n",
        "item = load_content_instance(\"movies_codified\", \"1\")\n",
        "\n",
        "print(item)"
      ]
    },
    {
      "cell_type": "markdown",
      "metadata": {
        "id": "eDFb1AnRT64O"
      },
      "source": [
        "As we can see we have **no** exogenous representation (as expected) and **one** representation for the `plot` field!\n",
        "\n",
        "* The tfidf is saved as a *scipy sparse matrix*, where each secondary index corresponds to a word in the dictionary of the corpus!\n",
        "\n",
        "Let's see more closely the representation for *content 1*:"
      ]
    },
    {
      "cell_type": "code",
      "execution_count": 11,
      "metadata": {
        "colab": {
          "base_uri": "https://localhost:8080/"
        },
        "id": "KnBi4jUJT64P",
        "outputId": "134b2afe-b06a-4aff-ff8f-bf3abe42620a"
      },
      "outputs": [
        {
          "output_type": "execute_result",
          "data": {
            "text/plain": [
              "  (0, 1024)\t0.1719365702112526\n",
              "  (0, 1729)\t0.31336848582007987\n",
              "  (0, 2160)\t0.3010691777558571\n",
              "  (0, 2721)\t0.25782007590969463\n",
              "  (0, 3752)\t0.2915290932564375\n",
              "  (0, 4769)\t0.1484604944785959\n",
              "  (0, 5439)\t0.31336848582007987\n",
              "  (0, 5932)\t0.2618948840931845\n",
              "  (0, 6417)\t0.3307033869191101\n",
              "  (0, 6655)\t0.3307033869191101\n",
              "  (0, 6853)\t0.25410006749357394\n",
              "  (0, 6909)\t0.2445599829941543\n",
              "  (0, 6941)\t0.31336848582007987"
            ]
          },
          "metadata": {},
          "execution_count": 11
        }
      ],
      "source": [
        "item.get_field_representation(\"plot\", \"tfidf\")"
      ]
    },
    {
      "cell_type": "markdown",
      "metadata": {
        "id": "H_3ff69ZhFj7"
      },
      "source": [
        "# [Optional] Content Analyzer: representation of Users\n",
        "In order to define the *'user representation'*, we could use the same process performed for *'item representation'*. In this case we don't want to represent in a complex way users, so this step is completely optional\n",
        "\n",
        "In this example, the ID for users is the column `user_id`."
      ]
    },
    {
      "cell_type": "code",
      "execution_count": 12,
      "metadata": {
        "colab": {
          "base_uri": "https://localhost:8080/"
        },
        "id": "HhwOj4s-uzOk",
        "outputId": "6bd2ccdd-335f-4256-8371-b896d949386b"
      },
      "outputs": [
        {
          "output_type": "stream",
          "name": "stderr",
          "text": [
            "Serializing contents:  100%|██████████| 943/943 [00:06<00:00]\n"
          ]
        }
      ],
      "source": [
        "#Configuration of user representation\n",
        "users_ca_config = ca.UserAnalyzerConfig(\n",
        "    ca.CSVFile('users_info.csv'),\n",
        "    id='user_id',\n",
        "    output_directory='users_codified/',\n",
        ")\n",
        "\n",
        "# Since no complex representation for users is needed, the fit() method is called immediately\n",
        "ca.ContentAnalyzer(config=users_ca_config).fit()"
      ]
    },
    {
      "cell_type": "markdown",
      "metadata": {
        "id": "ZO6oifAKT64P"
      },
      "source": [
        "Again, let's load one of the serialized users and let's check that it doesn't hold any complex representation:"
      ]
    },
    {
      "cell_type": "code",
      "execution_count": 13,
      "metadata": {
        "colab": {
          "base_uri": "https://localhost:8080/"
        },
        "id": "HxynXDFlT64Q",
        "outputId": "f4b53302-a837-471f-f0f7-4ce8bf47053a"
      },
      "outputs": [
        {
          "output_type": "stream",
          "name": "stdout",
          "text": [
            "Content: 1\n",
            "\n",
            "Exogenous representations:\n",
            "\n",
            "No representation found for the Content!\n",
            "\n",
            "Field representations:\n",
            "\n",
            "No representation found for the Content fields!\n",
            "##############################\n"
          ]
        }
      ],
      "source": [
        "user = load_content_instance(\"users_codified\", \"1\")\n",
        "\n",
        "print(user)"
      ]
    },
    {
      "cell_type": "markdown",
      "metadata": {
        "id": "dr0qljcRhpW6"
      },
      "source": [
        "# Recommender System: centroid vector algorithm"
      ]
    },
    {
      "cell_type": "markdown",
      "metadata": {
        "id": "Ms6kU0TEr_ps"
      },
      "source": [
        "The Recommender System module needs information about users, items and ratings. \n",
        "\n",
        "The **Ratings** class allows you to import rating from a source file (or also from an existent dataframe) into a custom object.   **If** the source file contains users (U), items (I) and ratings (R) in this order, no additional parameters are needed, **otherwise**  the mapping must be explictly specified using:\n",
        "\n",
        "*   **'user_id'** column,\n",
        "*   **'item_id'** column,\n",
        "*   **'score'** column\n",
        "\n",
        "\n",
        "\n"
      ]
    },
    {
      "cell_type": "code",
      "execution_count": 14,
      "metadata": {
        "colab": {
          "base_uri": "https://localhost:8080/"
        },
        "id": "XjxZ9yTnvVW-",
        "outputId": "7f2b2e89-76eb-4ca0-cea5-df72de2e33d4"
      },
      "outputs": [
        {
          "output_type": "stream",
          "name": "stderr",
          "text": [
            "Importing ratings:  100%|██████████| 100000/100000 [00:00<00:00]\n"
          ]
        },
        {
          "output_type": "stream",
          "name": "stdout",
          "text": [
            "      user_id item_id  score\n",
            "0         196     242    3.0\n",
            "1         196     393    4.0\n",
            "2         196     381    4.0\n",
            "3         196     251    3.0\n",
            "4         196     655    5.0\n",
            "...       ...     ...    ...\n",
            "99995     941     919    5.0\n",
            "99996     941     273    3.0\n",
            "99997     941       1    5.0\n",
            "99998     941     294    4.0\n",
            "99999     941    1007    4.0\n",
            "\n",
            "[100000 rows x 3 columns]\n"
          ]
        }
      ],
      "source": [
        "ratings = ca.Ratings(ca.CSVFile('ratings.csv'))\n",
        "\n",
        "print(ratings)"
      ]
    },
    {
      "cell_type": "code",
      "execution_count": null,
      "metadata": {
        "id": "1SfXQx4y01u7"
      },
      "outputs": [],
      "source": [
        "# (mapping by index) EQUIVALENT:\n",
        "#\n",
        "# ratings = ca.Ratings(\n",
        "#     ca.CSVFile('ratings.csv'),\n",
        "#     user_id_column=0,\n",
        "#     item_id_column=1,\n",
        "#     score_column=2\n",
        "# )\n",
        "#\n",
        "# print(ratings)"
      ]
    },
    {
      "cell_type": "code",
      "execution_count": null,
      "metadata": {
        "id": "Ww9kKa3608pK"
      },
      "outputs": [],
      "source": [
        "# (mapping by column name) EQUIVALENT:\n",
        "\n",
        "# ratings = ca.Ratings(\n",
        "#     ca.CSVFile('ratings.csv'),\n",
        "#     user_id_column='user_id',\n",
        "#     item_id_column='item_id',\n",
        "#     score_column='rating'\n",
        "# )\n",
        "#\n",
        "# print(ratings)"
      ]
    },
    {
      "cell_type": "markdown",
      "metadata": {
        "id": "O9dYu-H9uUa5"
      },
      "source": [
        "The Recommender System also needs an algorithm for ranking or predicting items to users. In the following example we use the **CentroidVector** algorithm:\n",
        "\n",
        "*   It computes the centroid vector of the features of items *liked by the user*\n",
        "*   It computes the similarity between the centroid vector and unrated items\n",
        "\n",
        "The items liked by a user are those having a rating higher or equal than a specific **threshold**. If the threshold is not specified, the average score of all items liked by the user is used.\n",
        "\n",
        "The Recommender System leverages the representations defined by the Content Analyzer. In the current example, we use the representation of the field 'plot'. More representations could be adopted for a single field.\n",
        "\n",
        "\n",
        "```python\n",
        "# Example with multiple representations for a single field\n",
        "{\n",
        "  'plot': ['tfidf', 'word_embedding'],\n",
        "  'genre': 'doc_embedding',\n",
        "  ...\n",
        "}\n",
        "```\n",
        "\n",
        "Representations can be referenced using the **external id** (if specified, see [here](#ca_id)) or the **internal id**:\n",
        "\n",
        "\n",
        "```\n",
        "For the field 'plot':\n",
        "First representation created -> internal_id = 0\n",
        "Second representation created -> internal_id = 1\n",
        "...\n",
        "Nth representation created -> internal_id = n-1\n",
        "```"
      ]
    },
    {
      "cell_type": "code",
      "execution_count": 15,
      "metadata": {
        "id": "GbblAapgmOL6"
      },
      "outputs": [],
      "source": [
        "centroid_vec = rs.CentroidVector(\n",
        "    {'plot': 'tfidf'},  # EQUIVALENT TO {'plot': 0}\n",
        "    similarity=rs.CosineSimilarity()\n",
        ")\n",
        "\n",
        "# no threshold parameter specified, the average rating given by\n",
        "# the user wil be used"
      ]
    },
    {
      "cell_type": "markdown",
      "metadata": {
        "id": "_mhMRMZPrBfD"
      },
      "source": [
        "Before we can instantiate the recommender system, we should perform the splitting of the dataset: let's perform a **KFold with 2 splits**\n",
        "\n",
        "*   The output of the partition module are two lists. One containing the **two** train set (in this case), the other containing the **two** test set (in this case)\n",
        "\n",
        "\n",
        "\n"
      ]
    },
    {
      "cell_type": "code",
      "execution_count": 16,
      "metadata": {
        "colab": {
          "base_uri": "https://localhost:8080/"
        },
        "id": "pEvDpxl7r-Wt",
        "outputId": "db9f2e6c-b1f8-416a-b531-d9e56d222830"
      },
      "outputs": [
        {
          "output_type": "stream",
          "name": "stderr",
          "text": [
            "Performing KFoldPartitioning:  100%|██████████| 943/943 [00:00<00:00]\n"
          ]
        }
      ],
      "source": [
        "train_list, test_list = rs.KFoldPartitioning(n_splits=2, random_state=42).split_all(ratings)"
      ]
    },
    {
      "cell_type": "markdown",
      "metadata": {
        "id": "CIQtO-Ah1Ty8"
      },
      "source": [
        "The Recommender System needs the following parameters: the recommendation  algorithm, the train set, and the path of the items serialized by the Content Analyzer:\n",
        "\n",
        "*   At the moment let's use the first train set\n",
        "\n"
      ]
    },
    {
      "cell_type": "code",
      "execution_count": 17,
      "metadata": {
        "id": "2z88KA1D1Xni"
      },
      "outputs": [],
      "source": [
        "first_train = train_list[0]\n",
        "\n",
        "cbrs = rs.ContentBasedRS(centroid_vec, first_train, 'movies_codified/')"
      ]
    },
    {
      "cell_type": "markdown",
      "metadata": {
        "id": "3UdiSzE61lIb"
      },
      "source": [
        "Now the ***cbrs*** must be fit before we can compute the rank:\n",
        "\n",
        "*   We could do this in two separate steps, by first calling the `fit(..)` method and then the `rank(...)` method \n",
        "\n",
        "*   Or by calling directly the `fit_rank(...)` method, which performs both in one step\n",
        "\n",
        "We use the second approach and we compute the **top-3** items for the *user 8*, *user 2* and *user 1*.\n",
        "\n",
        "*   The first splitted test set is used\n",
        "\n"
      ]
    },
    {
      "cell_type": "code",
      "execution_count": 18,
      "metadata": {
        "colab": {
          "base_uri": "https://localhost:8080/"
        },
        "id": "Z2IiN_MZ1wGi",
        "outputId": "73848ae5-486b-45fd-f19b-4949422b43c2"
      },
      "outputs": [
        {
          "output_type": "stream",
          "name": "stderr",
          "text": [
            "\u001b[39mINFO\u001b[0m - Don't worry if it looks stuck at first\n",
            "\u001b[39mINFO\u001b[0m - First iterations will stabilize the estimated remaining time\n",
            "Computing fit_rank for user 8:  100%|██████████| 3/3 [00:00<00:00]\n"
          ]
        }
      ],
      "source": [
        "first_test = test_list[0]\n",
        "\n",
        "rank = cbrs.fit_rank(first_test, user_id_list=['8', '2', '1'], n_recs=3)"
      ]
    },
    {
      "cell_type": "markdown",
      "metadata": {
        "id": "1KsKTGUYxIgX"
      },
      "source": [
        "Let's print the rank just computed"
      ]
    },
    {
      "cell_type": "code",
      "execution_count": 19,
      "metadata": {
        "colab": {
          "base_uri": "https://localhost:8080/"
        },
        "id": "MOsRQ6vNxGJh",
        "outputId": "8cafc20c-efd9-413a-dc91-75f1d9dea5a5"
      },
      "outputs": [
        {
          "output_type": "stream",
          "name": "stdout",
          "text": [
            "  user_id item_id     score\n",
            "0       2     297  0.218399\n",
            "1       2     305  0.069739\n",
            "2       2     285  0.068666\n",
            "3       1      24  0.154034\n",
            "4       1      74  0.129982\n",
            "5       1     246  0.124737\n",
            "6       8     174  0.114191\n",
            "7       8     229  0.110301\n",
            "8       8      89  0.082602\n"
          ]
        }
      ],
      "source": [
        "print(rank)"
      ]
    },
    {
      "cell_type": "markdown",
      "metadata": {
        "id": "C0IIUsiyxVn_"
      },
      "source": [
        "Let's now compute the **top-10** rank for all users of our train set, and let's use both the two train set and two test set obtained thanks to the KFold technique\n",
        "\n",
        "*   We will save the two computed rank in a list, and we will evaluate them in the next step\n",
        "\n",
        "In order to compute a rank for all users, you simply do not specify the *user_id_list* parameter"
      ]
    },
    {
      "cell_type": "code",
      "execution_count": 20,
      "metadata": {
        "colab": {
          "base_uri": "https://localhost:8080/"
        },
        "id": "MNMg4LInxU19",
        "outputId": "7bf05582-4809-4c6e-f30f-523fde334c22"
      },
      "outputs": [
        {
          "output_type": "stream",
          "name": "stderr",
          "text": [
            "\u001b[39mINFO\u001b[0m - Don't worry if it looks stuck at first\n",
            "\u001b[39mINFO\u001b[0m - First iterations will stabilize the estimated remaining time\n",
            "Computing fit_rank for user 361:  100%|██████████| 943/943 [00:38<00:00]\n",
            "\u001b[39mINFO\u001b[0m - Don't worry if it looks stuck at first\n",
            "\u001b[39mINFO\u001b[0m - First iterations will stabilize the estimated remaining time\n",
            "Computing fit_rank for user 361:  100%|██████████| 943/943 [00:35<00:00]\n"
          ]
        }
      ],
      "source": [
        "result_list = []\n",
        "\n",
        "for train_set, test_set in zip(train_list, test_list):\n",
        "  \n",
        "  cbrs = rs.ContentBasedRS(centroid_vec, train_set, 'movies_codified/')\n",
        "  rank_to_append = cbrs.fit_rank(test_set, num_cpus=1)  # by default n_recs=10\n",
        "\n",
        "  result_list.append(rank_to_append)"
      ]
    },
    {
      "cell_type": "markdown",
      "metadata": {
        "id": "wBeOgvjY2ECV"
      },
      "source": [
        "# Evaluation module\n",
        "\n",
        "Recommendations can be evaluated using several metrics. In the following example, we use:\n",
        "\n",
        "*   ***Precision***\n",
        "*   ***Recall***\n",
        "*   ***F1 - computed using macro average***\n",
        "*   ***F1 - computed using micro average***"
      ]
    },
    {
      "cell_type": "markdown",
      "metadata": {
        "id": "sDYYVUWM2hZi"
      },
      "source": [
        "The Evaluation module needs the following parameters:\n",
        "\n",
        "*   A list of computed rank/predictions (in case multiple splits must be evaluated)\n",
        "*   A list of truths (in case multiple splits must be evaluated)\n",
        "*   List of metrics to compute\n",
        "\n",
        "Obviously the list of computed rank/predictions and list of truths must have the same length, and the rank/prediction in position $i$ will be compared with the truth at position $i$"
      ]
    },
    {
      "cell_type": "code",
      "execution_count": 21,
      "metadata": {
        "id": "81yNWR0p2baT"
      },
      "outputs": [],
      "source": [
        "em = eva.EvalModel(\n",
        "    result_list,\n",
        "    test_list,\n",
        "    metric_list=[\n",
        "        eva.Precision(),  # by default sys_average='macro'\n",
        "        eva.Recall(),     # by default sys_average='macro'\n",
        "        eva.FMeasure(sys_average='macro'),\n",
        "        eva.FMeasure(sys_average='micro')\n",
        "    ]\n",
        ")"
      ]
    },
    {
      "cell_type": "markdown",
      "metadata": {
        "id": "XoFTI1T83TVV"
      },
      "source": [
        "The fit() method returns two pandas DataFrame: the first one contains the metrics aggregated for the system, while the second contains the metrics computed for each user (where possible)"
      ]
    },
    {
      "cell_type": "code",
      "execution_count": 22,
      "metadata": {
        "colab": {
          "base_uri": "https://localhost:8080/"
        },
        "id": "o9QXMFl02iDK",
        "outputId": "cdbb2445-e508-486c-83e7-f3f7ec3e62e9"
      },
      "outputs": [
        {
          "output_type": "stream",
          "name": "stderr",
          "text": [
            "\u001b[39mINFO\u001b[0m - Performing evaluation on metrics chosen\n",
            "Performing F1 - micro:  100%|██████████| 4/4 [00:01<00:00]\n"
          ]
        }
      ],
      "source": [
        "sys_result, users_result =  em.fit()"
      ]
    },
    {
      "cell_type": "markdown",
      "metadata": {
        "id": "Fq8kTXb11SvG"
      },
      "source": [
        "For the DataFrame which contains system results, the results are also grouped by splits"
      ]
    },
    {
      "cell_type": "code",
      "execution_count": 23,
      "metadata": {
        "colab": {
          "base_uri": "https://localhost:8080/",
          "height": 175
        },
        "id": "yIpALBnr4Azi",
        "outputId": "2febfe24-1515-44fe-9707-78e779b8096c"
      },
      "outputs": [
        {
          "output_type": "execute_result",
          "data": {
            "text/plain": [
              "             Precision - macro  Recall - macro  F1 - macro  F1 - micro\n",
              "user_id                                                               \n",
              "sys - fold1           0.571580        0.397323    0.405683    0.294817\n",
              "sys - fold2           0.579003        0.403352    0.409103    0.298295\n",
              "sys - mean            0.575292        0.400337    0.407393    0.296556"
            ],
            "text/html": [
              "\n",
              "  <div id=\"df-5d999b8c-f3b9-44f9-8d0f-dec691057add\">\n",
              "    <div class=\"colab-df-container\">\n",
              "      <div>\n",
              "<style scoped>\n",
              "    .dataframe tbody tr th:only-of-type {\n",
              "        vertical-align: middle;\n",
              "    }\n",
              "\n",
              "    .dataframe tbody tr th {\n",
              "        vertical-align: top;\n",
              "    }\n",
              "\n",
              "    .dataframe thead th {\n",
              "        text-align: right;\n",
              "    }\n",
              "</style>\n",
              "<table border=\"1\" class=\"dataframe\">\n",
              "  <thead>\n",
              "    <tr style=\"text-align: right;\">\n",
              "      <th></th>\n",
              "      <th>Precision - macro</th>\n",
              "      <th>Recall - macro</th>\n",
              "      <th>F1 - macro</th>\n",
              "      <th>F1 - micro</th>\n",
              "    </tr>\n",
              "    <tr>\n",
              "      <th>user_id</th>\n",
              "      <th></th>\n",
              "      <th></th>\n",
              "      <th></th>\n",
              "      <th></th>\n",
              "    </tr>\n",
              "  </thead>\n",
              "  <tbody>\n",
              "    <tr>\n",
              "      <th>sys - fold1</th>\n",
              "      <td>0.571580</td>\n",
              "      <td>0.397323</td>\n",
              "      <td>0.405683</td>\n",
              "      <td>0.294817</td>\n",
              "    </tr>\n",
              "    <tr>\n",
              "      <th>sys - fold2</th>\n",
              "      <td>0.579003</td>\n",
              "      <td>0.403352</td>\n",
              "      <td>0.409103</td>\n",
              "      <td>0.298295</td>\n",
              "    </tr>\n",
              "    <tr>\n",
              "      <th>sys - mean</th>\n",
              "      <td>0.575292</td>\n",
              "      <td>0.400337</td>\n",
              "      <td>0.407393</td>\n",
              "      <td>0.296556</td>\n",
              "    </tr>\n",
              "  </tbody>\n",
              "</table>\n",
              "</div>\n",
              "      <button class=\"colab-df-convert\" onclick=\"convertToInteractive('df-5d999b8c-f3b9-44f9-8d0f-dec691057add')\"\n",
              "              title=\"Convert this dataframe to an interactive table.\"\n",
              "              style=\"display:none;\">\n",
              "        \n",
              "  <svg xmlns=\"http://www.w3.org/2000/svg\" height=\"24px\"viewBox=\"0 0 24 24\"\n",
              "       width=\"24px\">\n",
              "    <path d=\"M0 0h24v24H0V0z\" fill=\"none\"/>\n",
              "    <path d=\"M18.56 5.44l.94 2.06.94-2.06 2.06-.94-2.06-.94-.94-2.06-.94 2.06-2.06.94zm-11 1L8.5 8.5l.94-2.06 2.06-.94-2.06-.94L8.5 2.5l-.94 2.06-2.06.94zm10 10l.94 2.06.94-2.06 2.06-.94-2.06-.94-.94-2.06-.94 2.06-2.06.94z\"/><path d=\"M17.41 7.96l-1.37-1.37c-.4-.4-.92-.59-1.43-.59-.52 0-1.04.2-1.43.59L10.3 9.45l-7.72 7.72c-.78.78-.78 2.05 0 2.83L4 21.41c.39.39.9.59 1.41.59.51 0 1.02-.2 1.41-.59l7.78-7.78 2.81-2.81c.8-.78.8-2.07 0-2.86zM5.41 20L4 18.59l7.72-7.72 1.47 1.35L5.41 20z\"/>\n",
              "  </svg>\n",
              "      </button>\n",
              "      \n",
              "  <style>\n",
              "    .colab-df-container {\n",
              "      display:flex;\n",
              "      flex-wrap:wrap;\n",
              "      gap: 12px;\n",
              "    }\n",
              "\n",
              "    .colab-df-convert {\n",
              "      background-color: #E8F0FE;\n",
              "      border: none;\n",
              "      border-radius: 50%;\n",
              "      cursor: pointer;\n",
              "      display: none;\n",
              "      fill: #1967D2;\n",
              "      height: 32px;\n",
              "      padding: 0 0 0 0;\n",
              "      width: 32px;\n",
              "    }\n",
              "\n",
              "    .colab-df-convert:hover {\n",
              "      background-color: #E2EBFA;\n",
              "      box-shadow: 0px 1px 2px rgba(60, 64, 67, 0.3), 0px 1px 3px 1px rgba(60, 64, 67, 0.15);\n",
              "      fill: #174EA6;\n",
              "    }\n",
              "\n",
              "    [theme=dark] .colab-df-convert {\n",
              "      background-color: #3B4455;\n",
              "      fill: #D2E3FC;\n",
              "    }\n",
              "\n",
              "    [theme=dark] .colab-df-convert:hover {\n",
              "      background-color: #434B5C;\n",
              "      box-shadow: 0px 1px 3px 1px rgba(0, 0, 0, 0.15);\n",
              "      filter: drop-shadow(0px 1px 2px rgba(0, 0, 0, 0.3));\n",
              "      fill: #FFFFFF;\n",
              "    }\n",
              "  </style>\n",
              "\n",
              "      <script>\n",
              "        const buttonEl =\n",
              "          document.querySelector('#df-5d999b8c-f3b9-44f9-8d0f-dec691057add button.colab-df-convert');\n",
              "        buttonEl.style.display =\n",
              "          google.colab.kernel.accessAllowed ? 'block' : 'none';\n",
              "\n",
              "        async function convertToInteractive(key) {\n",
              "          const element = document.querySelector('#df-5d999b8c-f3b9-44f9-8d0f-dec691057add');\n",
              "          const dataTable =\n",
              "            await google.colab.kernel.invokeFunction('convertToInteractive',\n",
              "                                                     [key], {});\n",
              "          if (!dataTable) return;\n",
              "\n",
              "          const docLinkHtml = 'Like what you see? Visit the ' +\n",
              "            '<a target=\"_blank\" href=https://colab.research.google.com/notebooks/data_table.ipynb>data table notebook</a>'\n",
              "            + ' to learn more about interactive tables.';\n",
              "          element.innerHTML = '';\n",
              "          dataTable['output_type'] = 'display_data';\n",
              "          await google.colab.output.renderOutput(dataTable, element);\n",
              "          const docLink = document.createElement('div');\n",
              "          docLink.innerHTML = docLinkHtml;\n",
              "          element.appendChild(docLink);\n",
              "        }\n",
              "      </script>\n",
              "    </div>\n",
              "  </div>\n",
              "  "
            ]
          },
          "metadata": {},
          "execution_count": 23
        }
      ],
      "source": [
        "sys_result"
      ]
    },
    {
      "cell_type": "code",
      "execution_count": 24,
      "metadata": {
        "colab": {
          "base_uri": "https://localhost:8080/",
          "height": 455
        },
        "id": "R_-unvKt4BzC",
        "outputId": "23c28441-b884-4f58-f92a-e46f21436ea1"
      },
      "outputs": [
        {
          "output_type": "execute_result",
          "data": {
            "text/plain": [
              "         Precision - macro  Recall - macro  F1 - macro  F1 - micro\n",
              "user_id                                                           \n",
              "1                     0.65        0.079645    0.141902    0.141902\n",
              "10                    0.30        0.108225    0.157539    0.157539\n",
              "100                   0.50        0.285714    0.360215    0.360215\n",
              "101                   0.50        0.361111    0.415584    0.415584\n",
              "102                   0.45        0.074631    0.128019    0.128019\n",
              "...                    ...             ...         ...         ...\n",
              "95                    0.55        0.075758    0.133091    0.133091\n",
              "96                    0.70        0.502564    0.584348    0.584348\n",
              "97                    0.70        0.324561    0.442191    0.442191\n",
              "98                    0.55        0.845238    0.665441    0.665441\n",
              "99                    0.60        0.152933    0.243638    0.243638\n",
              "\n",
              "[943 rows x 4 columns]"
            ],
            "text/html": [
              "\n",
              "  <div id=\"df-36a0cd9e-a054-4a5f-96bf-37402570eecb\">\n",
              "    <div class=\"colab-df-container\">\n",
              "      <div>\n",
              "<style scoped>\n",
              "    .dataframe tbody tr th:only-of-type {\n",
              "        vertical-align: middle;\n",
              "    }\n",
              "\n",
              "    .dataframe tbody tr th {\n",
              "        vertical-align: top;\n",
              "    }\n",
              "\n",
              "    .dataframe thead th {\n",
              "        text-align: right;\n",
              "    }\n",
              "</style>\n",
              "<table border=\"1\" class=\"dataframe\">\n",
              "  <thead>\n",
              "    <tr style=\"text-align: right;\">\n",
              "      <th></th>\n",
              "      <th>Precision - macro</th>\n",
              "      <th>Recall - macro</th>\n",
              "      <th>F1 - macro</th>\n",
              "      <th>F1 - micro</th>\n",
              "    </tr>\n",
              "    <tr>\n",
              "      <th>user_id</th>\n",
              "      <th></th>\n",
              "      <th></th>\n",
              "      <th></th>\n",
              "      <th></th>\n",
              "    </tr>\n",
              "  </thead>\n",
              "  <tbody>\n",
              "    <tr>\n",
              "      <th>1</th>\n",
              "      <td>0.65</td>\n",
              "      <td>0.079645</td>\n",
              "      <td>0.141902</td>\n",
              "      <td>0.141902</td>\n",
              "    </tr>\n",
              "    <tr>\n",
              "      <th>10</th>\n",
              "      <td>0.30</td>\n",
              "      <td>0.108225</td>\n",
              "      <td>0.157539</td>\n",
              "      <td>0.157539</td>\n",
              "    </tr>\n",
              "    <tr>\n",
              "      <th>100</th>\n",
              "      <td>0.50</td>\n",
              "      <td>0.285714</td>\n",
              "      <td>0.360215</td>\n",
              "      <td>0.360215</td>\n",
              "    </tr>\n",
              "    <tr>\n",
              "      <th>101</th>\n",
              "      <td>0.50</td>\n",
              "      <td>0.361111</td>\n",
              "      <td>0.415584</td>\n",
              "      <td>0.415584</td>\n",
              "    </tr>\n",
              "    <tr>\n",
              "      <th>102</th>\n",
              "      <td>0.45</td>\n",
              "      <td>0.074631</td>\n",
              "      <td>0.128019</td>\n",
              "      <td>0.128019</td>\n",
              "    </tr>\n",
              "    <tr>\n",
              "      <th>...</th>\n",
              "      <td>...</td>\n",
              "      <td>...</td>\n",
              "      <td>...</td>\n",
              "      <td>...</td>\n",
              "    </tr>\n",
              "    <tr>\n",
              "      <th>95</th>\n",
              "      <td>0.55</td>\n",
              "      <td>0.075758</td>\n",
              "      <td>0.133091</td>\n",
              "      <td>0.133091</td>\n",
              "    </tr>\n",
              "    <tr>\n",
              "      <th>96</th>\n",
              "      <td>0.70</td>\n",
              "      <td>0.502564</td>\n",
              "      <td>0.584348</td>\n",
              "      <td>0.584348</td>\n",
              "    </tr>\n",
              "    <tr>\n",
              "      <th>97</th>\n",
              "      <td>0.70</td>\n",
              "      <td>0.324561</td>\n",
              "      <td>0.442191</td>\n",
              "      <td>0.442191</td>\n",
              "    </tr>\n",
              "    <tr>\n",
              "      <th>98</th>\n",
              "      <td>0.55</td>\n",
              "      <td>0.845238</td>\n",
              "      <td>0.665441</td>\n",
              "      <td>0.665441</td>\n",
              "    </tr>\n",
              "    <tr>\n",
              "      <th>99</th>\n",
              "      <td>0.60</td>\n",
              "      <td>0.152933</td>\n",
              "      <td>0.243638</td>\n",
              "      <td>0.243638</td>\n",
              "    </tr>\n",
              "  </tbody>\n",
              "</table>\n",
              "<p>943 rows × 4 columns</p>\n",
              "</div>\n",
              "      <button class=\"colab-df-convert\" onclick=\"convertToInteractive('df-36a0cd9e-a054-4a5f-96bf-37402570eecb')\"\n",
              "              title=\"Convert this dataframe to an interactive table.\"\n",
              "              style=\"display:none;\">\n",
              "        \n",
              "  <svg xmlns=\"http://www.w3.org/2000/svg\" height=\"24px\"viewBox=\"0 0 24 24\"\n",
              "       width=\"24px\">\n",
              "    <path d=\"M0 0h24v24H0V0z\" fill=\"none\"/>\n",
              "    <path d=\"M18.56 5.44l.94 2.06.94-2.06 2.06-.94-2.06-.94-.94-2.06-.94 2.06-2.06.94zm-11 1L8.5 8.5l.94-2.06 2.06-.94-2.06-.94L8.5 2.5l-.94 2.06-2.06.94zm10 10l.94 2.06.94-2.06 2.06-.94-2.06-.94-.94-2.06-.94 2.06-2.06.94z\"/><path d=\"M17.41 7.96l-1.37-1.37c-.4-.4-.92-.59-1.43-.59-.52 0-1.04.2-1.43.59L10.3 9.45l-7.72 7.72c-.78.78-.78 2.05 0 2.83L4 21.41c.39.39.9.59 1.41.59.51 0 1.02-.2 1.41-.59l7.78-7.78 2.81-2.81c.8-.78.8-2.07 0-2.86zM5.41 20L4 18.59l7.72-7.72 1.47 1.35L5.41 20z\"/>\n",
              "  </svg>\n",
              "      </button>\n",
              "      \n",
              "  <style>\n",
              "    .colab-df-container {\n",
              "      display:flex;\n",
              "      flex-wrap:wrap;\n",
              "      gap: 12px;\n",
              "    }\n",
              "\n",
              "    .colab-df-convert {\n",
              "      background-color: #E8F0FE;\n",
              "      border: none;\n",
              "      border-radius: 50%;\n",
              "      cursor: pointer;\n",
              "      display: none;\n",
              "      fill: #1967D2;\n",
              "      height: 32px;\n",
              "      padding: 0 0 0 0;\n",
              "      width: 32px;\n",
              "    }\n",
              "\n",
              "    .colab-df-convert:hover {\n",
              "      background-color: #E2EBFA;\n",
              "      box-shadow: 0px 1px 2px rgba(60, 64, 67, 0.3), 0px 1px 3px 1px rgba(60, 64, 67, 0.15);\n",
              "      fill: #174EA6;\n",
              "    }\n",
              "\n",
              "    [theme=dark] .colab-df-convert {\n",
              "      background-color: #3B4455;\n",
              "      fill: #D2E3FC;\n",
              "    }\n",
              "\n",
              "    [theme=dark] .colab-df-convert:hover {\n",
              "      background-color: #434B5C;\n",
              "      box-shadow: 0px 1px 3px 1px rgba(0, 0, 0, 0.15);\n",
              "      filter: drop-shadow(0px 1px 2px rgba(0, 0, 0, 0.3));\n",
              "      fill: #FFFFFF;\n",
              "    }\n",
              "  </style>\n",
              "\n",
              "      <script>\n",
              "        const buttonEl =\n",
              "          document.querySelector('#df-36a0cd9e-a054-4a5f-96bf-37402570eecb button.colab-df-convert');\n",
              "        buttonEl.style.display =\n",
              "          google.colab.kernel.accessAllowed ? 'block' : 'none';\n",
              "\n",
              "        async function convertToInteractive(key) {\n",
              "          const element = document.querySelector('#df-36a0cd9e-a054-4a5f-96bf-37402570eecb');\n",
              "          const dataTable =\n",
              "            await google.colab.kernel.invokeFunction('convertToInteractive',\n",
              "                                                     [key], {});\n",
              "          if (!dataTable) return;\n",
              "\n",
              "          const docLinkHtml = 'Like what you see? Visit the ' +\n",
              "            '<a target=\"_blank\" href=https://colab.research.google.com/notebooks/data_table.ipynb>data table notebook</a>'\n",
              "            + ' to learn more about interactive tables.';\n",
              "          element.innerHTML = '';\n",
              "          dataTable['output_type'] = 'display_data';\n",
              "          await google.colab.output.renderOutput(dataTable, element);\n",
              "          const docLink = document.createElement('div');\n",
              "          docLink.innerHTML = docLinkHtml;\n",
              "          element.appendChild(docLink);\n",
              "        }\n",
              "      </script>\n",
              "    </div>\n",
              "  </div>\n",
              "  "
            ]
          },
          "metadata": {},
          "execution_count": 24
        }
      ],
      "source": [
        "users_result"
      ]
    },
    {
      "cell_type": "markdown",
      "source": [
        "# Your turn!"
      ],
      "metadata": {
        "collapsed": false,
        "id": "CZdASr-PT64U"
      }
    },
    {
      "cell_type": "markdown",
      "source": [
        "## Different partitioning technique and eval metrics\n",
        "\n",
        "1. Try to apply the `Bootstrap` partitioning technique instead of the `KFold` as seen in the example and compute the top-10 recommendation for each user\n",
        "2. Evaluate the recs generated with `Precision@1`, `MAP`, `Catalog coverage`"
      ],
      "metadata": {
        "collapsed": false,
        "id": "27THl2vFT64U"
      }
    },
    {
      "cell_type": "markdown",
      "source": [
        "### Answer to 1"
      ],
      "metadata": {
        "collapsed": false,
        "id": "_tRt36gvT64U"
      }
    },
    {
      "cell_type": "code",
      "execution_count": 25,
      "outputs": [
        {
          "output_type": "stream",
          "name": "stderr",
          "text": [
            "Performing BootstrapPartitioning:  100%|██████████| 943/943 [00:14<00:00]\n",
            "\u001b[39mINFO\u001b[0m - Don't worry if it looks stuck at first\n",
            "\u001b[39mINFO\u001b[0m - First iterations will stabilize the estimated remaining time\n",
            "Computing fit_rank for user 361:  100%|██████████| 943/943 [00:41<00:00]\n"
          ]
        }
      ],
      "source": [
        "# split\n",
        "[train_ho], [test_ho] = rs.BootstrapPartitioning(random_state=42).split_all(ratings)\n",
        "\n",
        "# compute rec\n",
        "cbrs = rs.ContentBasedRS(centroid_vec, train_ho, \"movies_codified\")\n",
        "result_rank = cbrs.fit_rank(test_ho)"
      ],
      "metadata": {
        "colab": {
          "base_uri": "https://localhost:8080/"
        },
        "id": "lqcwn3f-T64U",
        "outputId": "d3a3fa43-a39f-46c4-b996-994a73c74684"
      }
    },
    {
      "cell_type": "markdown",
      "source": [
        "### Answer to 2"
      ],
      "metadata": {
        "collapsed": false,
        "id": "rLpSAlurT64U"
      }
    },
    {
      "cell_type": "code",
      "execution_count": 26,
      "outputs": [
        {
          "output_type": "stream",
          "name": "stderr",
          "text": [
            "\u001b[39mINFO\u001b[0m - Performing evaluation on metrics chosen\n",
            "Performing CatalogCoverage (PredictionCov):  100%|██████████| 3/3 [00:00<00:00]\n"
          ]
        }
      ],
      "source": [
        "catalog = set(ratings.item_id_column)\n",
        "\n",
        "em = eva.EvalModel(\n",
        "    [result_rank],\n",
        "    [test_ho],\n",
        "    metric_list=[\n",
        "        eva.PrecisionAtK(k=1),\n",
        "        eva.MAP(),\n",
        "        eva.CatalogCoverage(catalog)\n",
        "    ]\n",
        ")\n",
        "\n",
        "sys_res, users_res = em.fit()"
      ],
      "metadata": {
        "colab": {
          "base_uri": "https://localhost:8080/"
        },
        "id": "f_YqthqGT64V",
        "outputId": "cc6bfc29-769b-4ac3-a69b-e978de81ed6a"
      }
    },
    {
      "cell_type": "code",
      "execution_count": 27,
      "outputs": [
        {
          "output_type": "execute_result",
          "data": {
            "text/plain": [
              "             Precision@1 - macro       MAP  CatalogCoverage (PredictionCov)\n",
              "user_id                                                                    \n",
              "sys - fold1             0.580064  0.356941                            60.64\n",
              "sys - mean              0.580064  0.356941                            60.64"
            ],
            "text/html": [
              "\n",
              "  <div id=\"df-6c0b0e6b-c9ee-4dbc-a9af-17b927bd99f4\">\n",
              "    <div class=\"colab-df-container\">\n",
              "      <div>\n",
              "<style scoped>\n",
              "    .dataframe tbody tr th:only-of-type {\n",
              "        vertical-align: middle;\n",
              "    }\n",
              "\n",
              "    .dataframe tbody tr th {\n",
              "        vertical-align: top;\n",
              "    }\n",
              "\n",
              "    .dataframe thead th {\n",
              "        text-align: right;\n",
              "    }\n",
              "</style>\n",
              "<table border=\"1\" class=\"dataframe\">\n",
              "  <thead>\n",
              "    <tr style=\"text-align: right;\">\n",
              "      <th></th>\n",
              "      <th>Precision@1 - macro</th>\n",
              "      <th>MAP</th>\n",
              "      <th>CatalogCoverage (PredictionCov)</th>\n",
              "    </tr>\n",
              "    <tr>\n",
              "      <th>user_id</th>\n",
              "      <th></th>\n",
              "      <th></th>\n",
              "      <th></th>\n",
              "    </tr>\n",
              "  </thead>\n",
              "  <tbody>\n",
              "    <tr>\n",
              "      <th>sys - fold1</th>\n",
              "      <td>0.580064</td>\n",
              "      <td>0.356941</td>\n",
              "      <td>60.64</td>\n",
              "    </tr>\n",
              "    <tr>\n",
              "      <th>sys - mean</th>\n",
              "      <td>0.580064</td>\n",
              "      <td>0.356941</td>\n",
              "      <td>60.64</td>\n",
              "    </tr>\n",
              "  </tbody>\n",
              "</table>\n",
              "</div>\n",
              "      <button class=\"colab-df-convert\" onclick=\"convertToInteractive('df-6c0b0e6b-c9ee-4dbc-a9af-17b927bd99f4')\"\n",
              "              title=\"Convert this dataframe to an interactive table.\"\n",
              "              style=\"display:none;\">\n",
              "        \n",
              "  <svg xmlns=\"http://www.w3.org/2000/svg\" height=\"24px\"viewBox=\"0 0 24 24\"\n",
              "       width=\"24px\">\n",
              "    <path d=\"M0 0h24v24H0V0z\" fill=\"none\"/>\n",
              "    <path d=\"M18.56 5.44l.94 2.06.94-2.06 2.06-.94-2.06-.94-.94-2.06-.94 2.06-2.06.94zm-11 1L8.5 8.5l.94-2.06 2.06-.94-2.06-.94L8.5 2.5l-.94 2.06-2.06.94zm10 10l.94 2.06.94-2.06 2.06-.94-2.06-.94-.94-2.06-.94 2.06-2.06.94z\"/><path d=\"M17.41 7.96l-1.37-1.37c-.4-.4-.92-.59-1.43-.59-.52 0-1.04.2-1.43.59L10.3 9.45l-7.72 7.72c-.78.78-.78 2.05 0 2.83L4 21.41c.39.39.9.59 1.41.59.51 0 1.02-.2 1.41-.59l7.78-7.78 2.81-2.81c.8-.78.8-2.07 0-2.86zM5.41 20L4 18.59l7.72-7.72 1.47 1.35L5.41 20z\"/>\n",
              "  </svg>\n",
              "      </button>\n",
              "      \n",
              "  <style>\n",
              "    .colab-df-container {\n",
              "      display:flex;\n",
              "      flex-wrap:wrap;\n",
              "      gap: 12px;\n",
              "    }\n",
              "\n",
              "    .colab-df-convert {\n",
              "      background-color: #E8F0FE;\n",
              "      border: none;\n",
              "      border-radius: 50%;\n",
              "      cursor: pointer;\n",
              "      display: none;\n",
              "      fill: #1967D2;\n",
              "      height: 32px;\n",
              "      padding: 0 0 0 0;\n",
              "      width: 32px;\n",
              "    }\n",
              "\n",
              "    .colab-df-convert:hover {\n",
              "      background-color: #E2EBFA;\n",
              "      box-shadow: 0px 1px 2px rgba(60, 64, 67, 0.3), 0px 1px 3px 1px rgba(60, 64, 67, 0.15);\n",
              "      fill: #174EA6;\n",
              "    }\n",
              "\n",
              "    [theme=dark] .colab-df-convert {\n",
              "      background-color: #3B4455;\n",
              "      fill: #D2E3FC;\n",
              "    }\n",
              "\n",
              "    [theme=dark] .colab-df-convert:hover {\n",
              "      background-color: #434B5C;\n",
              "      box-shadow: 0px 1px 3px 1px rgba(0, 0, 0, 0.15);\n",
              "      filter: drop-shadow(0px 1px 2px rgba(0, 0, 0, 0.3));\n",
              "      fill: #FFFFFF;\n",
              "    }\n",
              "  </style>\n",
              "\n",
              "      <script>\n",
              "        const buttonEl =\n",
              "          document.querySelector('#df-6c0b0e6b-c9ee-4dbc-a9af-17b927bd99f4 button.colab-df-convert');\n",
              "        buttonEl.style.display =\n",
              "          google.colab.kernel.accessAllowed ? 'block' : 'none';\n",
              "\n",
              "        async function convertToInteractive(key) {\n",
              "          const element = document.querySelector('#df-6c0b0e6b-c9ee-4dbc-a9af-17b927bd99f4');\n",
              "          const dataTable =\n",
              "            await google.colab.kernel.invokeFunction('convertToInteractive',\n",
              "                                                     [key], {});\n",
              "          if (!dataTable) return;\n",
              "\n",
              "          const docLinkHtml = 'Like what you see? Visit the ' +\n",
              "            '<a target=\"_blank\" href=https://colab.research.google.com/notebooks/data_table.ipynb>data table notebook</a>'\n",
              "            + ' to learn more about interactive tables.';\n",
              "          element.innerHTML = '';\n",
              "          dataTable['output_type'] = 'display_data';\n",
              "          await google.colab.output.renderOutput(dataTable, element);\n",
              "          const docLink = document.createElement('div');\n",
              "          docLink.innerHTML = docLinkHtml;\n",
              "          element.appendChild(docLink);\n",
              "        }\n",
              "      </script>\n",
              "    </div>\n",
              "  </div>\n",
              "  "
            ]
          },
          "metadata": {},
          "execution_count": 27
        }
      ],
      "source": [
        "sys_res"
      ],
      "metadata": {
        "colab": {
          "base_uri": "https://localhost:8080/",
          "height": 143
        },
        "id": "_1DHZSrGT64V",
        "outputId": "c5b099a0-b41b-436c-993e-0dca6d025838"
      }
    },
    {
      "cell_type": "code",
      "execution_count": 28,
      "outputs": [
        {
          "output_type": "execute_result",
          "data": {
            "text/plain": [
              "         Precision@1 - macro        AP\n",
              "user_id                               \n",
              "1                        0.0  0.023280\n",
              "10                       1.0  0.168166\n",
              "100                      1.0  0.198333\n",
              "101                      1.0  0.268750\n",
              "102                      1.0  0.135488\n",
              "...                      ...       ...\n",
              "95                       1.0  0.093428\n",
              "96                       1.0  0.557778\n",
              "97                       0.0  0.316071\n",
              "98                       1.0  0.672619\n",
              "99                       1.0  0.156874\n",
              "\n",
              "[943 rows x 2 columns]"
            ],
            "text/html": [
              "\n",
              "  <div id=\"df-6a7fe5ff-93f0-4731-b543-c1cc379a0596\">\n",
              "    <div class=\"colab-df-container\">\n",
              "      <div>\n",
              "<style scoped>\n",
              "    .dataframe tbody tr th:only-of-type {\n",
              "        vertical-align: middle;\n",
              "    }\n",
              "\n",
              "    .dataframe tbody tr th {\n",
              "        vertical-align: top;\n",
              "    }\n",
              "\n",
              "    .dataframe thead th {\n",
              "        text-align: right;\n",
              "    }\n",
              "</style>\n",
              "<table border=\"1\" class=\"dataframe\">\n",
              "  <thead>\n",
              "    <tr style=\"text-align: right;\">\n",
              "      <th></th>\n",
              "      <th>Precision@1 - macro</th>\n",
              "      <th>AP</th>\n",
              "    </tr>\n",
              "    <tr>\n",
              "      <th>user_id</th>\n",
              "      <th></th>\n",
              "      <th></th>\n",
              "    </tr>\n",
              "  </thead>\n",
              "  <tbody>\n",
              "    <tr>\n",
              "      <th>1</th>\n",
              "      <td>0.0</td>\n",
              "      <td>0.023280</td>\n",
              "    </tr>\n",
              "    <tr>\n",
              "      <th>10</th>\n",
              "      <td>1.0</td>\n",
              "      <td>0.168166</td>\n",
              "    </tr>\n",
              "    <tr>\n",
              "      <th>100</th>\n",
              "      <td>1.0</td>\n",
              "      <td>0.198333</td>\n",
              "    </tr>\n",
              "    <tr>\n",
              "      <th>101</th>\n",
              "      <td>1.0</td>\n",
              "      <td>0.268750</td>\n",
              "    </tr>\n",
              "    <tr>\n",
              "      <th>102</th>\n",
              "      <td>1.0</td>\n",
              "      <td>0.135488</td>\n",
              "    </tr>\n",
              "    <tr>\n",
              "      <th>...</th>\n",
              "      <td>...</td>\n",
              "      <td>...</td>\n",
              "    </tr>\n",
              "    <tr>\n",
              "      <th>95</th>\n",
              "      <td>1.0</td>\n",
              "      <td>0.093428</td>\n",
              "    </tr>\n",
              "    <tr>\n",
              "      <th>96</th>\n",
              "      <td>1.0</td>\n",
              "      <td>0.557778</td>\n",
              "    </tr>\n",
              "    <tr>\n",
              "      <th>97</th>\n",
              "      <td>0.0</td>\n",
              "      <td>0.316071</td>\n",
              "    </tr>\n",
              "    <tr>\n",
              "      <th>98</th>\n",
              "      <td>1.0</td>\n",
              "      <td>0.672619</td>\n",
              "    </tr>\n",
              "    <tr>\n",
              "      <th>99</th>\n",
              "      <td>1.0</td>\n",
              "      <td>0.156874</td>\n",
              "    </tr>\n",
              "  </tbody>\n",
              "</table>\n",
              "<p>943 rows × 2 columns</p>\n",
              "</div>\n",
              "      <button class=\"colab-df-convert\" onclick=\"convertToInteractive('df-6a7fe5ff-93f0-4731-b543-c1cc379a0596')\"\n",
              "              title=\"Convert this dataframe to an interactive table.\"\n",
              "              style=\"display:none;\">\n",
              "        \n",
              "  <svg xmlns=\"http://www.w3.org/2000/svg\" height=\"24px\"viewBox=\"0 0 24 24\"\n",
              "       width=\"24px\">\n",
              "    <path d=\"M0 0h24v24H0V0z\" fill=\"none\"/>\n",
              "    <path d=\"M18.56 5.44l.94 2.06.94-2.06 2.06-.94-2.06-.94-.94-2.06-.94 2.06-2.06.94zm-11 1L8.5 8.5l.94-2.06 2.06-.94-2.06-.94L8.5 2.5l-.94 2.06-2.06.94zm10 10l.94 2.06.94-2.06 2.06-.94-2.06-.94-.94-2.06-.94 2.06-2.06.94z\"/><path d=\"M17.41 7.96l-1.37-1.37c-.4-.4-.92-.59-1.43-.59-.52 0-1.04.2-1.43.59L10.3 9.45l-7.72 7.72c-.78.78-.78 2.05 0 2.83L4 21.41c.39.39.9.59 1.41.59.51 0 1.02-.2 1.41-.59l7.78-7.78 2.81-2.81c.8-.78.8-2.07 0-2.86zM5.41 20L4 18.59l7.72-7.72 1.47 1.35L5.41 20z\"/>\n",
              "  </svg>\n",
              "      </button>\n",
              "      \n",
              "  <style>\n",
              "    .colab-df-container {\n",
              "      display:flex;\n",
              "      flex-wrap:wrap;\n",
              "      gap: 12px;\n",
              "    }\n",
              "\n",
              "    .colab-df-convert {\n",
              "      background-color: #E8F0FE;\n",
              "      border: none;\n",
              "      border-radius: 50%;\n",
              "      cursor: pointer;\n",
              "      display: none;\n",
              "      fill: #1967D2;\n",
              "      height: 32px;\n",
              "      padding: 0 0 0 0;\n",
              "      width: 32px;\n",
              "    }\n",
              "\n",
              "    .colab-df-convert:hover {\n",
              "      background-color: #E2EBFA;\n",
              "      box-shadow: 0px 1px 2px rgba(60, 64, 67, 0.3), 0px 1px 3px 1px rgba(60, 64, 67, 0.15);\n",
              "      fill: #174EA6;\n",
              "    }\n",
              "\n",
              "    [theme=dark] .colab-df-convert {\n",
              "      background-color: #3B4455;\n",
              "      fill: #D2E3FC;\n",
              "    }\n",
              "\n",
              "    [theme=dark] .colab-df-convert:hover {\n",
              "      background-color: #434B5C;\n",
              "      box-shadow: 0px 1px 3px 1px rgba(0, 0, 0, 0.15);\n",
              "      filter: drop-shadow(0px 1px 2px rgba(0, 0, 0, 0.3));\n",
              "      fill: #FFFFFF;\n",
              "    }\n",
              "  </style>\n",
              "\n",
              "      <script>\n",
              "        const buttonEl =\n",
              "          document.querySelector('#df-6a7fe5ff-93f0-4731-b543-c1cc379a0596 button.colab-df-convert');\n",
              "        buttonEl.style.display =\n",
              "          google.colab.kernel.accessAllowed ? 'block' : 'none';\n",
              "\n",
              "        async function convertToInteractive(key) {\n",
              "          const element = document.querySelector('#df-6a7fe5ff-93f0-4731-b543-c1cc379a0596');\n",
              "          const dataTable =\n",
              "            await google.colab.kernel.invokeFunction('convertToInteractive',\n",
              "                                                     [key], {});\n",
              "          if (!dataTable) return;\n",
              "\n",
              "          const docLinkHtml = 'Like what you see? Visit the ' +\n",
              "            '<a target=\"_blank\" href=https://colab.research.google.com/notebooks/data_table.ipynb>data table notebook</a>'\n",
              "            + ' to learn more about interactive tables.';\n",
              "          element.innerHTML = '';\n",
              "          dataTable['output_type'] = 'display_data';\n",
              "          await google.colab.output.renderOutput(dataTable, element);\n",
              "          const docLink = document.createElement('div');\n",
              "          docLink.innerHTML = docLinkHtml;\n",
              "          element.appendChild(docLink);\n",
              "        }\n",
              "      </script>\n",
              "    </div>\n",
              "  </div>\n",
              "  "
            ]
          },
          "metadata": {},
          "execution_count": 28
        }
      ],
      "source": [
        "users_res"
      ],
      "metadata": {
        "colab": {
          "base_uri": "https://localhost:8080/",
          "height": 455
        },
        "id": "D1TjiiPCT64V",
        "outputId": "6c14b2c6-0742-4021-8fc8-7b73d78660cb"
      }
    },
    {
      "cell_type": "markdown",
      "source": [
        "## Different recommendation algorithm\n",
        "\n",
        "Try to apply a **classifier** as recommendation algorithm and find one that let you surpass the `0.6` precision wall\n",
        "\n",
        "* Again, use the `Bootstrap` partitioning technique and evaluate the produced recommendations with the metrics used in the [previous point](#scrollTo=27THl2vFT64U) (`Precision@1`, `MAP`, `Catalog Coverage`)"
      ],
      "metadata": {
        "collapsed": false,
        "id": "3QXMG9w9T64V"
      }
    },
    {
      "cell_type": "markdown",
      "source": [
        "### Answer"
      ],
      "metadata": {
        "collapsed": false,
        "id": "Vo3XF5ArT64V"
      }
    },
    {
      "cell_type": "code",
      "source": [
        "# alg definition\n",
        "classifier_alg = rs.ClassifierRecommender(\n",
        "    {'plot': 'tfidf'},\n",
        "    classifier=rs.SkRandomForest(n_estimators=200, random_state=42)\n",
        ")"
      ],
      "metadata": {
        "id": "9j0nLIDPbC6s"
      },
      "execution_count": 35,
      "outputs": []
    },
    {
      "cell_type": "code",
      "source": [
        "# compute rec\n",
        "cbrs = rs.ContentBasedRS(classifier_alg, train_ho, 'movies_codified/')\n",
        "result_rank = cbrs.fit_rank(test_ho)"
      ],
      "metadata": {
        "colab": {
          "base_uri": "https://localhost:8080/"
        },
        "id": "ZXW85U80bFVQ",
        "outputId": "f2f88fbc-0e85-4ea8-8042-7b550b9129e9"
      },
      "execution_count": 36,
      "outputs": [
        {
          "output_type": "stream",
          "name": "stderr",
          "text": [
            "\u001b[39mINFO\u001b[0m - Don't worry if it looks stuck at first\n",
            "\u001b[39mINFO\u001b[0m - First iterations will stabilize the estimated remaining time\n",
            "Computing fit_rank for user 361:  100%|██████████| 943/943 [07:23<00:00]\n"
          ]
        }
      ]
    },
    {
      "cell_type": "code",
      "execution_count": 37,
      "outputs": [
        {
          "output_type": "stream",
          "name": "stderr",
          "text": [
            "\u001b[39mINFO\u001b[0m - Performing evaluation on metrics chosen\n",
            "Performing CatalogCoverage (PredictionCov):  100%|██████████| 3/3 [00:00<00:00]\n"
          ]
        }
      ],
      "source": [
        "# evaluate\n",
        "em = eva.EvalModel(\n",
        "    [result_rank],\n",
        "    [test_ho],\n",
        "    metric_list=[\n",
        "        eva.PrecisionAtK(k=1),\n",
        "        eva.MAP(),\n",
        "        eva.CatalogCoverage(catalog)\n",
        "    ]\n",
        ")\n",
        "\n",
        "sys_res, _ = em.fit()"
      ],
      "metadata": {
        "colab": {
          "base_uri": "https://localhost:8080/"
        },
        "id": "pADraOWST64V",
        "outputId": "54eceb9d-e39f-4460-f8d3-232c03e9972e"
      }
    },
    {
      "cell_type": "code",
      "execution_count": 38,
      "outputs": [
        {
          "output_type": "execute_result",
          "data": {
            "text/plain": [
              "             Precision@1 - macro       MAP  CatalogCoverage (PredictionCov)\n",
              "user_id                                                                    \n",
              "sys - fold1               0.6193  0.357838                            66.94\n",
              "sys - mean                0.6193  0.357838                            66.94"
            ],
            "text/html": [
              "\n",
              "  <div id=\"df-bf71f158-8601-4464-9a92-ef24c324ff06\">\n",
              "    <div class=\"colab-df-container\">\n",
              "      <div>\n",
              "<style scoped>\n",
              "    .dataframe tbody tr th:only-of-type {\n",
              "        vertical-align: middle;\n",
              "    }\n",
              "\n",
              "    .dataframe tbody tr th {\n",
              "        vertical-align: top;\n",
              "    }\n",
              "\n",
              "    .dataframe thead th {\n",
              "        text-align: right;\n",
              "    }\n",
              "</style>\n",
              "<table border=\"1\" class=\"dataframe\">\n",
              "  <thead>\n",
              "    <tr style=\"text-align: right;\">\n",
              "      <th></th>\n",
              "      <th>Precision@1 - macro</th>\n",
              "      <th>MAP</th>\n",
              "      <th>CatalogCoverage (PredictionCov)</th>\n",
              "    </tr>\n",
              "    <tr>\n",
              "      <th>user_id</th>\n",
              "      <th></th>\n",
              "      <th></th>\n",
              "      <th></th>\n",
              "    </tr>\n",
              "  </thead>\n",
              "  <tbody>\n",
              "    <tr>\n",
              "      <th>sys - fold1</th>\n",
              "      <td>0.6193</td>\n",
              "      <td>0.357838</td>\n",
              "      <td>66.94</td>\n",
              "    </tr>\n",
              "    <tr>\n",
              "      <th>sys - mean</th>\n",
              "      <td>0.6193</td>\n",
              "      <td>0.357838</td>\n",
              "      <td>66.94</td>\n",
              "    </tr>\n",
              "  </tbody>\n",
              "</table>\n",
              "</div>\n",
              "      <button class=\"colab-df-convert\" onclick=\"convertToInteractive('df-bf71f158-8601-4464-9a92-ef24c324ff06')\"\n",
              "              title=\"Convert this dataframe to an interactive table.\"\n",
              "              style=\"display:none;\">\n",
              "        \n",
              "  <svg xmlns=\"http://www.w3.org/2000/svg\" height=\"24px\"viewBox=\"0 0 24 24\"\n",
              "       width=\"24px\">\n",
              "    <path d=\"M0 0h24v24H0V0z\" fill=\"none\"/>\n",
              "    <path d=\"M18.56 5.44l.94 2.06.94-2.06 2.06-.94-2.06-.94-.94-2.06-.94 2.06-2.06.94zm-11 1L8.5 8.5l.94-2.06 2.06-.94-2.06-.94L8.5 2.5l-.94 2.06-2.06.94zm10 10l.94 2.06.94-2.06 2.06-.94-2.06-.94-.94-2.06-.94 2.06-2.06.94z\"/><path d=\"M17.41 7.96l-1.37-1.37c-.4-.4-.92-.59-1.43-.59-.52 0-1.04.2-1.43.59L10.3 9.45l-7.72 7.72c-.78.78-.78 2.05 0 2.83L4 21.41c.39.39.9.59 1.41.59.51 0 1.02-.2 1.41-.59l7.78-7.78 2.81-2.81c.8-.78.8-2.07 0-2.86zM5.41 20L4 18.59l7.72-7.72 1.47 1.35L5.41 20z\"/>\n",
              "  </svg>\n",
              "      </button>\n",
              "      \n",
              "  <style>\n",
              "    .colab-df-container {\n",
              "      display:flex;\n",
              "      flex-wrap:wrap;\n",
              "      gap: 12px;\n",
              "    }\n",
              "\n",
              "    .colab-df-convert {\n",
              "      background-color: #E8F0FE;\n",
              "      border: none;\n",
              "      border-radius: 50%;\n",
              "      cursor: pointer;\n",
              "      display: none;\n",
              "      fill: #1967D2;\n",
              "      height: 32px;\n",
              "      padding: 0 0 0 0;\n",
              "      width: 32px;\n",
              "    }\n",
              "\n",
              "    .colab-df-convert:hover {\n",
              "      background-color: #E2EBFA;\n",
              "      box-shadow: 0px 1px 2px rgba(60, 64, 67, 0.3), 0px 1px 3px 1px rgba(60, 64, 67, 0.15);\n",
              "      fill: #174EA6;\n",
              "    }\n",
              "\n",
              "    [theme=dark] .colab-df-convert {\n",
              "      background-color: #3B4455;\n",
              "      fill: #D2E3FC;\n",
              "    }\n",
              "\n",
              "    [theme=dark] .colab-df-convert:hover {\n",
              "      background-color: #434B5C;\n",
              "      box-shadow: 0px 1px 3px 1px rgba(0, 0, 0, 0.15);\n",
              "      filter: drop-shadow(0px 1px 2px rgba(0, 0, 0, 0.3));\n",
              "      fill: #FFFFFF;\n",
              "    }\n",
              "  </style>\n",
              "\n",
              "      <script>\n",
              "        const buttonEl =\n",
              "          document.querySelector('#df-bf71f158-8601-4464-9a92-ef24c324ff06 button.colab-df-convert');\n",
              "        buttonEl.style.display =\n",
              "          google.colab.kernel.accessAllowed ? 'block' : 'none';\n",
              "\n",
              "        async function convertToInteractive(key) {\n",
              "          const element = document.querySelector('#df-bf71f158-8601-4464-9a92-ef24c324ff06');\n",
              "          const dataTable =\n",
              "            await google.colab.kernel.invokeFunction('convertToInteractive',\n",
              "                                                     [key], {});\n",
              "          if (!dataTable) return;\n",
              "\n",
              "          const docLinkHtml = 'Like what you see? Visit the ' +\n",
              "            '<a target=\"_blank\" href=https://colab.research.google.com/notebooks/data_table.ipynb>data table notebook</a>'\n",
              "            + ' to learn more about interactive tables.';\n",
              "          element.innerHTML = '';\n",
              "          dataTable['output_type'] = 'display_data';\n",
              "          await google.colab.output.renderOutput(dataTable, element);\n",
              "          const docLink = document.createElement('div');\n",
              "          docLink.innerHTML = docLinkHtml;\n",
              "          element.appendChild(docLink);\n",
              "        }\n",
              "      </script>\n",
              "    </div>\n",
              "  </div>\n",
              "  "
            ]
          },
          "metadata": {},
          "execution_count": 38
        }
      ],
      "source": [
        "sys_res"
      ],
      "metadata": {
        "colab": {
          "base_uri": "https://localhost:8080/",
          "height": 143
        },
        "id": "w3btdi-zT64W",
        "outputId": "4bf5e660-e318-49b0-ae49-1f179ab9a55e"
      }
    },
    {
      "cell_type": "markdown",
      "source": [
        "## Different representation of contents\n",
        "\n",
        "1. Represent the *plot* field of each item by training the `Word2Vec` model on the whole corpus, after it has been preprocessed by **removing stopwords**, **punctuation** and after applying **lemmatization**\n",
        "2. Represent the *genres* field by using the pre-trained model **glove-wiki-gigaword-100** provided by the *Gensim* library. **Remove punctuation** as preprocessing operation\n",
        "3. Compute recommendations using both the representation for the *plot* field and the representation for the *genres* field with the **best classifier** you found in the [previous point](#scrollTo=3QXMG9w9T64V) and evaluate them on the usual metrics (`Precision@1`, `MAP`, `Catalog coverage`)"
      ],
      "metadata": {
        "collapsed": false,
        "id": "D3FStHUAT64W"
      }
    },
    {
      "cell_type": "markdown",
      "source": [
        "### Answer to 1 and 2"
      ],
      "metadata": {
        "collapsed": false,
        "id": "AUOxmaMUT64W"
      }
    },
    {
      "cell_type": "code",
      "execution_count": 39,
      "outputs": [
        {
          "output_type": "stream",
          "name": "stderr",
          "text": [
            "\u001b[39mINFO\u001b[0m - ***********   Processing field: plot   ***********\n",
            "\u001b[33mWARNING\u001b[0m - The model None wasn't found, so it will be created and trained now\n",
            "\u001b[33mWARNING\u001b[0m - The model will be trained on the plot field and the data will be processed with [NLTK(strip_multiple_whitespace=True, remove_punctuation=True, stopwords_removal=True, url_tagging=False, lemmatization=True, stemming=False, pos_tag=False, lang=english)]\n",
            "Preprocessing plot for all contents:  100%|██████████| 1682/1682 [00:14<00:00]\n",
            "\u001b[39mINFO\u001b[0m - Fitting model with extracted corpus...\n",
            "Processing and producing contents with GensimWord2Vec:  100%|██████████| 1682/1682 [00:15<00:00]\n",
            "\u001b[39mINFO\u001b[0m - **********   Processing field: genres   **********\n",
            "\u001b[39mINFO\u001b[0m - Downloading/Loading Gensim glove-wiki-gigaword-100\n"
          ]
        },
        {
          "output_type": "stream",
          "name": "stdout",
          "text": [
            "[==================================================] 100.0% 128.1/128.1MB downloaded\n"
          ]
        },
        {
          "output_type": "stream",
          "name": "stderr",
          "text": [
            "Processing and producing contents with Gensim glove-wiki-gigaword-100:  100%|██████████| 1682/1682 [00:05<00:00]\n",
            "Serializing contents:  100%|██████████| 1682/1682 [00:30<00:00]\n"
          ]
        }
      ],
      "source": [
        "items_merge_repr = ca.ItemAnalyzerConfig(\n",
        "    source=ca.JSONFile(\"items_info.json\"),\n",
        "    id='movielens_id',\n",
        "    output_directory='movies_codified_bert/',\n",
        ")\n",
        "\n",
        "items_merge_repr.add_single_config(\n",
        "    \"plot\",\n",
        "\n",
        "    ca.FieldConfig(\n",
        "        ca.WordEmbeddingTechnique(ca.GensimWord2Vec(vector_size=200)),\n",
        "        preprocessing=ca.NLTK(stopwords_removal=True, remove_punctuation=True, lemmatization=True)\n",
        "    )\n",
        ")\n",
        "\n",
        "items_merge_repr.add_single_config(\n",
        "    \"genres\",\n",
        "\n",
        "    ca.FieldConfig(\n",
        "        ca.WordEmbeddingTechnique(ca.Gensim(\"glove-wiki-gigaword-100\")),\n",
        "        preprocessing=ca.NLTK(remove_punctuation=True)\n",
        "    )\n",
        ")\n",
        "\n",
        "ca.ContentAnalyzer(items_merge_repr).fit()"
      ],
      "metadata": {
        "colab": {
          "base_uri": "https://localhost:8080/"
        },
        "id": "vzbjwD87T64W",
        "outputId": "238d4001-0d1e-4a19-ec65-2a84af8e6eae"
      }
    },
    {
      "cell_type": "markdown",
      "source": [
        "### Answer to 2"
      ],
      "metadata": {
        "collapsed": false,
        "id": "alooPJXkT64W"
      }
    },
    {
      "cell_type": "code",
      "source": [
        "# compute rec\n",
        "centroid_vec = rs.ClassifierRecommender({'plot': 0, 'genres': 0},\n",
        "                                        classifier=rs.SkRandomForest(n_estimators=200, random_state=42))\n",
        "\n",
        "cbrs = rs.ContentBasedRS(centroid_vec, train_ho, 'movies_codified_bert/')\n",
        "result_rank = cbrs.fit_rank(test_ho)"
      ],
      "metadata": {
        "colab": {
          "base_uri": "https://localhost:8080/"
        },
        "id": "30nYrpcYf1U-",
        "outputId": "adf02747-60bb-4c84-a23a-55998e5f04f8"
      },
      "execution_count": 40,
      "outputs": [
        {
          "output_type": "stream",
          "name": "stderr",
          "text": [
            "\u001b[39mINFO\u001b[0m - Don't worry if it looks stuck at first\n",
            "\u001b[39mINFO\u001b[0m - First iterations will stabilize the estimated remaining time\n",
            "Computing fit_rank for user 361:  100%|██████████| 943/943 [07:08<00:00]\n"
          ]
        }
      ]
    },
    {
      "cell_type": "code",
      "execution_count": 41,
      "outputs": [
        {
          "output_type": "stream",
          "name": "stderr",
          "text": [
            "\u001b[39mINFO\u001b[0m - Performing evaluation on metrics chosen\n",
            "Performing CatalogCoverage (PredictionCov):  100%|██████████| 3/3 [00:00<00:00]\n"
          ]
        }
      ],
      "source": [
        "# evaluate\n",
        "em = eva.EvalModel(\n",
        "    [result_rank],\n",
        "    [test_ho],\n",
        "    metric_list=[\n",
        "        eva.PrecisionAtK(k=1),\n",
        "        eva.MAP(),\n",
        "        eva.CatalogCoverage(catalog)\n",
        "    ]\n",
        ")\n",
        "\n",
        "sys_res, _ = em.fit()"
      ],
      "metadata": {
        "colab": {
          "base_uri": "https://localhost:8080/"
        },
        "id": "w9rmOk0YT64W",
        "outputId": "407fade2-2d2a-4d46-cf55-1d91a2aff458"
      }
    },
    {
      "cell_type": "code",
      "execution_count": 42,
      "outputs": [
        {
          "output_type": "execute_result",
          "data": {
            "text/plain": [
              "             Precision@1 - macro       MAP  CatalogCoverage (PredictionCov)\n",
              "user_id                                                                    \n",
              "sys - fold1              0.64263  0.378594                            66.23\n",
              "sys - mean               0.64263  0.378594                            66.23"
            ],
            "text/html": [
              "\n",
              "  <div id=\"df-6f11437f-2d02-4b96-a503-6abbd1180c60\">\n",
              "    <div class=\"colab-df-container\">\n",
              "      <div>\n",
              "<style scoped>\n",
              "    .dataframe tbody tr th:only-of-type {\n",
              "        vertical-align: middle;\n",
              "    }\n",
              "\n",
              "    .dataframe tbody tr th {\n",
              "        vertical-align: top;\n",
              "    }\n",
              "\n",
              "    .dataframe thead th {\n",
              "        text-align: right;\n",
              "    }\n",
              "</style>\n",
              "<table border=\"1\" class=\"dataframe\">\n",
              "  <thead>\n",
              "    <tr style=\"text-align: right;\">\n",
              "      <th></th>\n",
              "      <th>Precision@1 - macro</th>\n",
              "      <th>MAP</th>\n",
              "      <th>CatalogCoverage (PredictionCov)</th>\n",
              "    </tr>\n",
              "    <tr>\n",
              "      <th>user_id</th>\n",
              "      <th></th>\n",
              "      <th></th>\n",
              "      <th></th>\n",
              "    </tr>\n",
              "  </thead>\n",
              "  <tbody>\n",
              "    <tr>\n",
              "      <th>sys - fold1</th>\n",
              "      <td>0.64263</td>\n",
              "      <td>0.378594</td>\n",
              "      <td>66.23</td>\n",
              "    </tr>\n",
              "    <tr>\n",
              "      <th>sys - mean</th>\n",
              "      <td>0.64263</td>\n",
              "      <td>0.378594</td>\n",
              "      <td>66.23</td>\n",
              "    </tr>\n",
              "  </tbody>\n",
              "</table>\n",
              "</div>\n",
              "      <button class=\"colab-df-convert\" onclick=\"convertToInteractive('df-6f11437f-2d02-4b96-a503-6abbd1180c60')\"\n",
              "              title=\"Convert this dataframe to an interactive table.\"\n",
              "              style=\"display:none;\">\n",
              "        \n",
              "  <svg xmlns=\"http://www.w3.org/2000/svg\" height=\"24px\"viewBox=\"0 0 24 24\"\n",
              "       width=\"24px\">\n",
              "    <path d=\"M0 0h24v24H0V0z\" fill=\"none\"/>\n",
              "    <path d=\"M18.56 5.44l.94 2.06.94-2.06 2.06-.94-2.06-.94-.94-2.06-.94 2.06-2.06.94zm-11 1L8.5 8.5l.94-2.06 2.06-.94-2.06-.94L8.5 2.5l-.94 2.06-2.06.94zm10 10l.94 2.06.94-2.06 2.06-.94-2.06-.94-.94-2.06-.94 2.06-2.06.94z\"/><path d=\"M17.41 7.96l-1.37-1.37c-.4-.4-.92-.59-1.43-.59-.52 0-1.04.2-1.43.59L10.3 9.45l-7.72 7.72c-.78.78-.78 2.05 0 2.83L4 21.41c.39.39.9.59 1.41.59.51 0 1.02-.2 1.41-.59l7.78-7.78 2.81-2.81c.8-.78.8-2.07 0-2.86zM5.41 20L4 18.59l7.72-7.72 1.47 1.35L5.41 20z\"/>\n",
              "  </svg>\n",
              "      </button>\n",
              "      \n",
              "  <style>\n",
              "    .colab-df-container {\n",
              "      display:flex;\n",
              "      flex-wrap:wrap;\n",
              "      gap: 12px;\n",
              "    }\n",
              "\n",
              "    .colab-df-convert {\n",
              "      background-color: #E8F0FE;\n",
              "      border: none;\n",
              "      border-radius: 50%;\n",
              "      cursor: pointer;\n",
              "      display: none;\n",
              "      fill: #1967D2;\n",
              "      height: 32px;\n",
              "      padding: 0 0 0 0;\n",
              "      width: 32px;\n",
              "    }\n",
              "\n",
              "    .colab-df-convert:hover {\n",
              "      background-color: #E2EBFA;\n",
              "      box-shadow: 0px 1px 2px rgba(60, 64, 67, 0.3), 0px 1px 3px 1px rgba(60, 64, 67, 0.15);\n",
              "      fill: #174EA6;\n",
              "    }\n",
              "\n",
              "    [theme=dark] .colab-df-convert {\n",
              "      background-color: #3B4455;\n",
              "      fill: #D2E3FC;\n",
              "    }\n",
              "\n",
              "    [theme=dark] .colab-df-convert:hover {\n",
              "      background-color: #434B5C;\n",
              "      box-shadow: 0px 1px 3px 1px rgba(0, 0, 0, 0.15);\n",
              "      filter: drop-shadow(0px 1px 2px rgba(0, 0, 0, 0.3));\n",
              "      fill: #FFFFFF;\n",
              "    }\n",
              "  </style>\n",
              "\n",
              "      <script>\n",
              "        const buttonEl =\n",
              "          document.querySelector('#df-6f11437f-2d02-4b96-a503-6abbd1180c60 button.colab-df-convert');\n",
              "        buttonEl.style.display =\n",
              "          google.colab.kernel.accessAllowed ? 'block' : 'none';\n",
              "\n",
              "        async function convertToInteractive(key) {\n",
              "          const element = document.querySelector('#df-6f11437f-2d02-4b96-a503-6abbd1180c60');\n",
              "          const dataTable =\n",
              "            await google.colab.kernel.invokeFunction('convertToInteractive',\n",
              "                                                     [key], {});\n",
              "          if (!dataTable) return;\n",
              "\n",
              "          const docLinkHtml = 'Like what you see? Visit the ' +\n",
              "            '<a target=\"_blank\" href=https://colab.research.google.com/notebooks/data_table.ipynb>data table notebook</a>'\n",
              "            + ' to learn more about interactive tables.';\n",
              "          element.innerHTML = '';\n",
              "          dataTable['output_type'] = 'display_data';\n",
              "          await google.colab.output.renderOutput(dataTable, element);\n",
              "          const docLink = document.createElement('div');\n",
              "          docLink.innerHTML = docLinkHtml;\n",
              "          element.appendChild(docLink);\n",
              "        }\n",
              "      </script>\n",
              "    </div>\n",
              "  </div>\n",
              "  "
            ]
          },
          "metadata": {},
          "execution_count": 42
        }
      ],
      "source": [
        "sys_res"
      ],
      "metadata": {
        "colab": {
          "base_uri": "https://localhost:8080/",
          "height": 143
        },
        "id": "mZGMThFPT64X",
        "outputId": "fad0d1bf-126a-4241-f6c7-d77b8631ab38"
      }
    }
  ],
  "metadata": {
    "colab": {
      "provenance": []
    },
    "kernelspec": {
      "display_name": "Python 3 (ipykernel)",
      "language": "python",
      "name": "python3"
    },
    "language_info": {
      "codemirror_mode": {
        "name": "ipython",
        "version": 3
      },
      "file_extension": ".py",
      "mimetype": "text/x-python",
      "name": "python",
      "nbconvert_exporter": "python",
      "pygments_lexer": "ipython3",
      "version": "3.9.7"
    }
  },
  "nbformat": 4,
  "nbformat_minor": 0
}